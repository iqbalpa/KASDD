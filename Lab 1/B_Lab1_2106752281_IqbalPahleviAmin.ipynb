{
  "nbformat": 4,
  "nbformat_minor": 0,
  "metadata": {
    "colab": {
      "provenance": []
    },
    "kernelspec": {
      "display_name": "Python 3",
      "name": "python3"
    },
    "language_info": {
      "name": "python"
    },
    "accelerator": "GPU",
    "gpuClass": "standard"
  },
  "cells": [
    {
      "cell_type": "markdown",
      "metadata": {
        "id": "R39aUrRNqzhJ"
      },
      "source": [
        "<center>\n",
        "<img src=\"https://drive.google.com/uc?id=1f1gGVI-rxcHjA90WEGNvvtSXF1pAxQwg\" alt=\"Fasilkom UI\" width=\"300\"/>\n",
        "\n",
        "CSGE603130 • Kecerdasan Artifisial dan Sains Data Dasar\n",
        "\n",
        "Semester Genap 2022/2023\n",
        "\n",
        "Fakultas Ilmu Komputer, Universitas Indonesia\n",
        "\n",
        "##**Lab 1: *Introduction to Data Science Tools***\n",
        "\n",
        "###**Tenggat Waktu: 18 Februari 2023, 23.55 WIB**\n",
        "</center>\n",
        "\n",
        "### **Ketentuan:**\n",
        "\n",
        "1. Dokumen template lab dengan format .ipynb dan dataset (jika dibutuhkan) telah disediakan di SCeLe\n",
        "2. Jalankan kode pada dokumen .ipynb dan perhatikan dengan saksama apa yang potongan kode tersebut lakukan beserta dengan keluarannya. Jawablah **pertanyaan** yang disisipkan pada potongan program yang diberikan.\n",
        "3. Dokumen Jupyter Notebook yang telah dilengkapi dengan jawaban dikumpulkan dengan format penamaan **Kelas_LabX_NPM_Nama.ipynb** . Contoh: F_Lab1_1806205773_Abdurrafi Arief.ipynb\n",
        "4. Kumpulkan dokumen tersebut pada submisi yang telah disediakan di SCeLe sesuai dengan kelas masing-masing sebelum **Tenggat Waktu: 18 Februari 2023, 23.55 WIB**. Keterlambatan pengumpulan akan dikenakan pinalti.\n",
        "5. Lab ini dirancang sebagai **tugas mandiri**. Plagiarisme tidak diperkenankan dalam bentuk apapun. Adapun kolaborasi berupa diskusi (tanpa menyalin maupun mengambil jawaban orang lain) dan literasi masih diperbolehkan dengan mencantumkan kolaborator dan sumber.\n",
        "\n"
      ]
    },
    {
      "cell_type": "markdown",
      "metadata": {
        "id": "JnRUE1Ul62_R"
      },
      "source": [
        "## **Pernyataan Integritas**\n",
        "\n",
        "Wajib diisi. Tanpa pernyataan integritas submisi akan dikenakan pinalti."
      ]
    },
    {
      "cell_type": "code",
      "metadata": {
        "id": "9tnfWWpN7vjq"
      },
      "source": [
        "# Isi dengan data diri Anda\n",
        "NAMA = \"IQBAL PAHLEVI AMIN\"\n",
        "KELAS = \"B\"\n",
        "NPM = \"2106752281\"\n",
        "\n",
        "# Isi dengan NPM teman yang berdiskusi dengan Anda  \n",
        "KOLABORATOR = ['2106750742', '2106752224']\n",
        "\n",
        "# Isi dengan sumber referensi yang Anda gunakan dalam mengerjakan\n",
        "REFERENSI = ['scikit-learn.org', 'geeksforgeeks', 'pandas.pydata.org']"
      ],
      "execution_count": null,
      "outputs": []
    },
    {
      "cell_type": "code",
      "metadata": {
        "colab": {
          "base_uri": "https://localhost:8080/"
        },
        "id": "KVEdteyu3hot",
        "outputId": "c0702a07-a269-4f73-f5b7-13dbbeeae030"
      },
      "source": [
        "PERNYATAAN_INTEGRITAS = \"Saya, %s dari kelas %s dengan NPM %s, menyatakan bahwa seluruh jawaban pada pekerjaan ini murni saya kerjakan sendiri.\\n\\\n",
        "Saya tidak mencontek jawaban, memberikan jawaban, maupun menyalin dari sumber manapun.\\n \\\n",
        "\\n\\\n",
        "Jika saya melanggar pernyataan tersebut, saya siap menerima konsekuensi apapun yang diberikan.\\n   \\\n",
        "(%s)\" % (NAMA, KELAS, NPM, NAMA)\n",
        "\n",
        "print(PERNYATAAN_INTEGRITAS)"
      ],
      "execution_count": null,
      "outputs": [
        {
          "output_type": "stream",
          "name": "stdout",
          "text": [
            "Saya, IQBAL PAHLEVI AMIN dari kelas B dengan NPM 2106752281, menyatakan bahwa seluruh jawaban pada pekerjaan ini murni saya kerjakan sendiri.\n",
            "Saya tidak mencontek jawaban, memberikan jawaban, maupun menyalin dari sumber manapun.\n",
            " \n",
            "Jika saya melanggar pernyataan tersebut, saya siap menerima konsekuensi apapun yang diberikan.\n",
            "   (IQBAL PAHLEVI AMIN)\n"
          ]
        }
      ]
    },
    {
      "cell_type": "markdown",
      "metadata": {
        "id": "vXSK6OQe4dgR"
      },
      "source": [
        "# **Python Refresher**\n",
        "\n",
        "Pada tutorial mata kuliah ini, kita akan menggunakan bahasa pemrograman Python. Jika kamu butuh penyegaran kembali mengenai Python, kamu dapat mengunjungi channel Youtube pada link berikut: **https://bit.ly/pymooc-id**. \n",
        "Selamat belajar!"
      ]
    },
    {
      "cell_type": "markdown",
      "metadata": {
        "id": "fHFQ_WqkNqvO"
      },
      "source": [
        "# **A. Pengenalan Berkas IPYNB**"
      ]
    },
    {
      "cell_type": "markdown",
      "metadata": {
        "id": "FJ1JCZXRNqvP"
      },
      "source": [
        "IPYNB adalah singkatan dari \"IPython Notebook\". IPYNB merupakan sebuah format berkas yang digunakan oleh aplikasi web IPython untuk membuat dan berbagi dokumen interaktif yang mengandung kode, teks, gambar, dan visualisasi lainnya. IPython Notebook memungkinkan Anda menjalankan kode secara interaktif, memvisualisasikan data, dan membuat catatan dan dokumentasi yang terkait dengan kode Anda. Berkas IPYNB dapat disimpan dan dibagikan sehingga mudah bagi orang lain untuk mengakses dan melihat kode dan analisis Anda. Berkas IPYNB memiliki ekstensi .ipynb.\n",
        "\n",
        "Berkas IPYNB adalah dokumen yang digunakan pada [__Jupyter Notebook__](https://jupyter.org/install) yang berisi _environment_ interaktif untuk pemrograman menggunakan bahasa __Python__ (juga Julia dan R). Satu berkas IPYNB terdiri atas satu atau lebih ___cell___ yang dapat digunakan untuk menjalankan kode secara interaktif maupun menulis catatan dalam sintaks ___markdown___. Selain Jupyter Notebook, berkas IPYNB dapat dibuka dan dibuat menggunakan aplikasi daring seperti [__Google Colab__](https://colab.research.google.com/) atau [__Kaggle__](https://www.kaggle.com/notebooks).\n",
        "\n",
        "Kode ditulis dalam sebuah _cell_. Setiap _cell_ dapat dieksekusi dengan kombinasi _shortcut_ __shift + enter__ ataupun tombol ___run___ pada tiap _cell_. Setiap _cell_ dapat dieksekusi secara mandiri dan tidak perlu dijalankan berurutan, kecuali jika ada variabel global yang diinisiasi pada _cell_ yang belum dijalankan. _Cell_ kode Python yang dieksekusi akan menjalankan kode secara _interpreted_ dan menampilkan _output_ (jika ada) di bawah _cell_."
      ]
    },
    {
      "cell_type": "code",
      "metadata": {
        "colab": {
          "base_uri": "https://localhost:8080/",
          "height": 53
        },
        "id": "xmj-iZwVNqvQ",
        "outputId": "e166da12-8ebc-4f65-8c17-e38cb2393c7b"
      },
      "source": [
        "# Ini adalah contoh cell untuk kode Python.\n",
        "\n",
        "var = \"Hello, world!\"\n",
        "print(var)\n",
        "var"
      ],
      "execution_count": null,
      "outputs": [
        {
          "output_type": "stream",
          "name": "stdout",
          "text": [
            "Hello, world!\n"
          ]
        },
        {
          "output_type": "execute_result",
          "data": {
            "text/plain": [
              "'Hello, world!'"
            ],
            "application/vnd.google.colaboratory.intrinsic+json": {
              "type": "string"
            }
          },
          "metadata": {},
          "execution_count": 116
        }
      ]
    },
    {
      "cell_type": "markdown",
      "metadata": {
        "id": "LwJhqoT6NqvS"
      },
      "source": [
        "### Ini adalah contoh _cell_ untuk teks _markdown_.\n",
        "\n",
        "_Markdown_ adalah _markup language_ yang digunakan untuk membuat teks berformat menggunakan _text editor_ biasa. Dengan _markdown_, kita dapat membuat berbagai gaya teks, seperti _heading_, _hyperlink_, tabel, _list_, dan masih banyak lagi. Contoh berbagai sintaks _markdown_ dapat dilihat pada [panduan dari Markdownguide.org](https://www.markdownguide.org/cheat-sheet/) dan [wiki oleh Adam Pritchard](https://github.com/adam-p/markdown-here/wiki/Markdown-Here-Cheatsheet)."
      ]
    },
    {
      "cell_type": "markdown",
      "metadata": {
        "id": "oRS1qBnWNqvT"
      },
      "source": [
        "## Instalasi _library_ pada Jupyter Notebook"
      ]
    },
    {
      "cell_type": "markdown",
      "metadata": {
        "id": "OUTy9yGXNqvT"
      },
      "source": [
        "Jupyter Notebook secara bawaan menyediakan _kernel_ Python, namun terkadang kita membutuhkan _library_ eksternal yang tidak termasuk dalam bawaan Python. Instalasi _library_ dapat dilakukan dengan perintah <code>__pip install _nama-package___</code>. Contoh kita ingin menggunakan _library_ __Pandas__, maka kita dapat melakukan instalasi seperti di bawah ini."
      ]
    },
    {
      "cell_type": "code",
      "metadata": {
        "colab": {
          "base_uri": "https://localhost:8080/"
        },
        "id": "qq5Gt7vfNqvT",
        "outputId": "b77af29a-e1a5-40c7-8bda-4b551d1192f6"
      },
      "source": [
        "!pip install pandas"
      ],
      "execution_count": null,
      "outputs": [
        {
          "output_type": "stream",
          "name": "stdout",
          "text": [
            "Looking in indexes: https://pypi.org/simple, https://us-python.pkg.dev/colab-wheels/public/simple/\n",
            "Requirement already satisfied: pandas in /usr/local/lib/python3.8/dist-packages (1.3.5)\n",
            "Requirement already satisfied: python-dateutil>=2.7.3 in /usr/local/lib/python3.8/dist-packages (from pandas) (2.8.2)\n",
            "Requirement already satisfied: numpy>=1.17.3 in /usr/local/lib/python3.8/dist-packages (from pandas) (1.21.6)\n",
            "Requirement already satisfied: pytz>=2017.3 in /usr/local/lib/python3.8/dist-packages (from pandas) (2022.7.1)\n",
            "Requirement already satisfied: six>=1.5 in /usr/local/lib/python3.8/dist-packages (from python-dateutil>=2.7.3->pandas) (1.15.0)\n"
          ]
        }
      ]
    },
    {
      "cell_type": "markdown",
      "metadata": {
        "id": "0ySn34iv7IpK"
      },
      "source": [
        "_Kernel_ yang digunakan pada Jupyter Notebook, seperti pada _kernel_ biasa, dapat menerima perintah sistem. Selain perintah __pip__, berbagai perintah lain, seperti __git__ atau __apt__, juga dapat dijalankan jika _kernel_-nya mendukung. Silakan eksplorasi mandiri lebih lanjut pemanfaatannya, baik pada  perangkat lokal (seperti Jupyter Notebook) ataupun pada perangkat _cloud_ (seperti Google Colab)."
      ]
    },
    {
      "cell_type": "markdown",
      "metadata": {
        "id": "H6diV1LENqvU"
      },
      "source": [
        "# **B. Pengenalan Pandas**"
      ]
    },
    {
      "cell_type": "markdown",
      "metadata": {
        "id": "BhkYN7lVNqvU"
      },
      "source": [
        "[__Pandas__](https://pandas.pydata.org/docs/) adalah _library_ untuk bahasa Python yang menyediakan struktur data dan fungsi-fungsi yang mempermudah pemrosesan dan analisis data. **Struktur data utama dalam Pandas** adalah ***Series*** dan ***DataFrame***. Series adalah sebuah array satu dimensi yang memiliki label, sementara DataFrame adalah tabel yang memiliki baris dan kolom yang memiliki label.\n",
        "\n",
        "Dengan Pandas, kita dapat melakukan tugas seperti:\n",
        "\n",
        "1. Mengolah dan mengubah data seperti menambah atau menghapus kolom, menambahkan atau menghapus baris\n",
        "2. Menggabungkan dan menggabungkan data dari sumber yang berbeda\n",
        "3. Menghapus dan mengisi data yang hilang\n",
        "4. Menggrupkan dan memanipulasi data berdasarkan kriteria tertentu\n",
        "5. Melakukan statistik deskriptif seperti menghitung rata-rata, standar deviasi, dan lainnya\n",
        "\n",
        "Pandas memiliki integrasi dengan berbagai sumber data seperti SQL, Excel, CSV, dan lainnya, sehingga mudah untuk memuat data dan memanfaatkannya untuk melakukan analisis.\n",
        "\n",
        "Secara umum, Pandas adalah library yang sangat berguna bagi siapa saja yang bekerja dengan data dan membutuhkan alat untuk memanipulasi, memanalisis, dan memvisualisasikan data dengan mudah dan efisien."
      ]
    },
    {
      "cell_type": "code",
      "metadata": {
        "id": "JRTxbTF3NqvU"
      },
      "source": [
        "# import library\n",
        "import pandas as pd"
      ],
      "execution_count": null,
      "outputs": []
    },
    {
      "cell_type": "markdown",
      "source": [
        "## **Objek *Series***"
      ],
      "metadata": {
        "id": "bPrRK-m29Apb"
      }
    },
    {
      "cell_type": "markdown",
      "source": [
        "*Series* adalah struktur data 1-dimensi pada *library* Pandas. Series memiliki *index* yang memungkinkan kita untuk melakukan *indexing* dan *slicing data*, seperti *array*. Series dapat menyimpan berbagai jenis data seperti integer, *string*, *float*, dan lain-lain.\n",
        "\n",
        "Untuk informasi lebih detail mengenai Struktur Data *Series* pada Pandas, dapat dilihat pada [link berikut](https://pandas.pydata.org/docs/reference/series.html)"
      ],
      "metadata": {
        "id": "CzRbrNke9F07"
      }
    },
    {
      "cell_type": "markdown",
      "source": [
        "Salah satu cara yang umum digunakan dalam membuat objek *Series* adalah sebagai berikut,\n",
        "\n",
        "```python\n",
        ">>> pd.Series(data)\n",
        "```\n",
        "\n",
        "Dimana argumen ``data`` merupakan data yang akan disimpan di dalam *Series* dan dapat berupa numpy *array*, *dictionary*, atau *list*.\n",
        "\n",
        "Untuk informasi yang lebih detail, dapat dilihat pada [link berikut](https://pandas.pydata.org/docs/reference/api/pandas.Series.html)"
      ],
      "metadata": {
        "id": "iBXYTgFZKNuJ"
      }
    },
    {
      "cell_type": "code",
      "source": [
        "#Membuat objek Series dari list \n",
        "series = pd.Series([0.25, 0.5, 0.75, 1.0])\n",
        "series"
      ],
      "metadata": {
        "colab": {
          "base_uri": "https://localhost:8080/"
        },
        "id": "9u3GKFZ49svZ",
        "outputId": "0b4e3a40-de77-4e9e-d2c2-b8fde74b9114"
      },
      "execution_count": null,
      "outputs": [
        {
          "output_type": "execute_result",
          "data": {
            "text/plain": [
              "0    0.25\n",
              "1    0.50\n",
              "2    0.75\n",
              "3    1.00\n",
              "dtype: float64"
            ]
          },
          "metadata": {},
          "execution_count": 119
        }
      ]
    },
    {
      "cell_type": "markdown",
      "source": [
        "Seperti yang dapat dilihat, Series memiliki dua atribut, yaitu nilai dan indeks. Kedua hal tersebut dapat kita akses dengan atribut ``values`` dan ``index``."
      ],
      "metadata": {
        "id": "ZI2EGuDC-Iao"
      }
    },
    {
      "cell_type": "code",
      "source": [
        "series.values"
      ],
      "metadata": {
        "colab": {
          "base_uri": "https://localhost:8080/"
        },
        "id": "xhDLF5qp-jO-",
        "outputId": "3fb8242d-b2a8-482d-8cbf-661bddb68a0f"
      },
      "execution_count": null,
      "outputs": [
        {
          "output_type": "execute_result",
          "data": {
            "text/plain": [
              "array([0.25, 0.5 , 0.75, 1.  ])"
            ]
          },
          "metadata": {},
          "execution_count": 120
        }
      ]
    },
    {
      "cell_type": "code",
      "source": [
        "series.index"
      ],
      "metadata": {
        "colab": {
          "base_uri": "https://localhost:8080/"
        },
        "id": "dRwQWQSf-kSg",
        "outputId": "05498be2-929f-4cd5-c0d6-174744249dbc"
      },
      "execution_count": null,
      "outputs": [
        {
          "output_type": "execute_result",
          "data": {
            "text/plain": [
              "RangeIndex(start=0, stop=4, step=1)"
            ]
          },
          "metadata": {},
          "execution_count": 121
        }
      ]
    },
    {
      "cell_type": "markdown",
      "source": [
        "Sama seperti list Python, kita dapat melakukan *indexing* maupun *slicing data* pada *Series*."
      ],
      "metadata": {
        "id": "-Mk_BZf9-pw9"
      }
    },
    {
      "cell_type": "code",
      "source": [
        "series[1]"
      ],
      "metadata": {
        "colab": {
          "base_uri": "https://localhost:8080/"
        },
        "id": "5jwy_Pm9-1ot",
        "outputId": "79e35f8f-03b9-4c37-b553-7989ad35b0bd"
      },
      "execution_count": null,
      "outputs": [
        {
          "output_type": "execute_result",
          "data": {
            "text/plain": [
              "0.5"
            ]
          },
          "metadata": {},
          "execution_count": 122
        }
      ]
    },
    {
      "cell_type": "code",
      "source": [
        "series[1:3]"
      ],
      "metadata": {
        "colab": {
          "base_uri": "https://localhost:8080/"
        },
        "id": "IdEwt5rf-3fG",
        "outputId": "4cf200ed-0b04-46a0-a7aa-65e385bd2f64"
      },
      "execution_count": null,
      "outputs": [
        {
          "output_type": "execute_result",
          "data": {
            "text/plain": [
              "1    0.50\n",
              "2    0.75\n",
              "dtype: float64"
            ]
          },
          "metadata": {},
          "execution_count": 123
        }
      ]
    },
    {
      "cell_type": "markdown",
      "metadata": {
        "id": "TzHytk03NqvV"
      },
      "source": [
        "## **Objek *DataFrame***"
      ]
    },
    {
      "cell_type": "markdown",
      "metadata": {
        "id": "HdT5krrhNqvV"
      },
      "source": [
        "*DataFrame* adalah salah satu struktur data utama dalam *library* Pandas pada Python. Struktur ini mirip dengan tabel atau *spreadsheet* yang memiliki baris dan kolom. Setiap kolom memiliki nama dan tipe data yang berbeda-beda, seperti integer, *string*, atau *float*. Setiap baris memiliki indeks unik yang digunakan untuk mengidentifikasi baris secara unik.\n",
        "\n",
        "*DataFrame* memungkinkan kita untuk menyimpan dan memanipulasi data yang berbeda-beda dan memiliki fitur-fitur seperti:\n",
        "1. Memuat data dari berbagai sumber seperti file CSV, Excel, SQL, dan lainnya.\n",
        "2. Menambah atau menghapus kolom dan baris.\n",
        "3. Mengurutkan dan memfilter data berdasarkan kriteria tertentu.\n",
        "4. Melakukan operasi matematika pada kolom.\n",
        "5. Menggabungkan data dari sumber yang berbeda.\n",
        "6. Menghapus dan mengisi data yang hilang.\n",
        "7. Melakukan statistik deskriptif seperti menghitung rata-rata, standar deviasi, dan lainnya.\n",
        "\n",
        "*DataFrame* membuat tugas-tugas seperti pembersihan data, pengolahan data, dan analisis data menjadi lebih mudah dan efisien dibandingkan dengan menggunakan struktur data lain seperti *list* atau *dictionary*. Oleh karena itu, *DataFrame* sangat berguna bagi siapa saja yang bekerja dengan data dan membutuhkan alat untuk memanipulasi, memanalisis, dan memvisualisasikan data.\n",
        "\n",
        "Untuk informasi lebih detail mengenai Struktur Data *DataFrame* pada Pandas, dapat dilihat pada [link berikut](https://pandas.pydata.org/docs/reference/frame.html)"
      ]
    },
    {
      "cell_type": "markdown",
      "source": [
        "### **Membuat Objek *DataFrame***"
      ],
      "metadata": {
        "id": "Gj72WO4cFgDL"
      }
    },
    {
      "cell_type": "markdown",
      "source": [
        "#### **Cara Umum Pertama**"
      ],
      "metadata": {
        "id": "2yA90RJQIECa"
      }
    },
    {
      "cell_type": "markdown",
      "source": [
        "Salah satu cara yang umum digunakan dalam membuat objek *DataFrame* adalah sebagai berikut,\n",
        "\n",
        "```python\n",
        ">>> pd.DataFrame(data)\n",
        "```\n",
        "\n",
        "Dimana argumen ``data`` merupakan data yang akan disimpan di dalam *DataFrame* dan dapat berupa objek *Series*, *list of dictionary*, *dictionary of Series objects* atau NumPy *array*.\n",
        "\n",
        "Untuk informasi lebih detail, dapat dilihat pada [link berikut](https://pandas.pydata.org/docs/reference/api/pandas.DataFrame.html)"
      ],
      "metadata": {
        "id": "vg-LxdIhEiIe"
      }
    },
    {
      "cell_type": "markdown",
      "metadata": {
        "id": "bmeFCA2R88fD"
      },
      "source": [
        "##### **Dari Sebuah Objek *Series***\n"
      ]
    },
    {
      "cell_type": "code",
      "source": [
        "country = pd.Series(['Indonesia', 'Korea Selatan', 'Jepang'])\n",
        "country"
      ],
      "metadata": {
        "colab": {
          "base_uri": "https://localhost:8080/"
        },
        "id": "PU6ev1wMHhA1",
        "outputId": "c32d84ea-20fa-4a9f-b241-bfd8c1b5d206"
      },
      "execution_count": null,
      "outputs": [
        {
          "output_type": "execute_result",
          "data": {
            "text/plain": [
              "0        Indonesia\n",
              "1    Korea Selatan\n",
              "2           Jepang\n",
              "dtype: object"
            ]
          },
          "metadata": {},
          "execution_count": 124
        }
      ]
    },
    {
      "cell_type": "code",
      "execution_count": null,
      "metadata": {
        "id": "wQs8XwiD88fD",
        "outputId": "6618f77c-7184-46fc-ea73-1e5b7e4fe6af",
        "colab": {
          "base_uri": "https://localhost:8080/",
          "height": 143
        }
      },
      "outputs": [
        {
          "output_type": "execute_result",
          "data": {
            "text/plain": [
              "         Country\n",
              "0      Indonesia\n",
              "1  Korea Selatan\n",
              "2         Jepang"
            ],
            "text/html": [
              "\n",
              "  <div id=\"df-d064801d-feef-40cb-94f7-083c79293b0f\">\n",
              "    <div class=\"colab-df-container\">\n",
              "      <div>\n",
              "<style scoped>\n",
              "    .dataframe tbody tr th:only-of-type {\n",
              "        vertical-align: middle;\n",
              "    }\n",
              "\n",
              "    .dataframe tbody tr th {\n",
              "        vertical-align: top;\n",
              "    }\n",
              "\n",
              "    .dataframe thead th {\n",
              "        text-align: right;\n",
              "    }\n",
              "</style>\n",
              "<table border=\"1\" class=\"dataframe\">\n",
              "  <thead>\n",
              "    <tr style=\"text-align: right;\">\n",
              "      <th></th>\n",
              "      <th>Country</th>\n",
              "    </tr>\n",
              "  </thead>\n",
              "  <tbody>\n",
              "    <tr>\n",
              "      <th>0</th>\n",
              "      <td>Indonesia</td>\n",
              "    </tr>\n",
              "    <tr>\n",
              "      <th>1</th>\n",
              "      <td>Korea Selatan</td>\n",
              "    </tr>\n",
              "    <tr>\n",
              "      <th>2</th>\n",
              "      <td>Jepang</td>\n",
              "    </tr>\n",
              "  </tbody>\n",
              "</table>\n",
              "</div>\n",
              "      <button class=\"colab-df-convert\" onclick=\"convertToInteractive('df-d064801d-feef-40cb-94f7-083c79293b0f')\"\n",
              "              title=\"Convert this dataframe to an interactive table.\"\n",
              "              style=\"display:none;\">\n",
              "        \n",
              "  <svg xmlns=\"http://www.w3.org/2000/svg\" height=\"24px\"viewBox=\"0 0 24 24\"\n",
              "       width=\"24px\">\n",
              "    <path d=\"M0 0h24v24H0V0z\" fill=\"none\"/>\n",
              "    <path d=\"M18.56 5.44l.94 2.06.94-2.06 2.06-.94-2.06-.94-.94-2.06-.94 2.06-2.06.94zm-11 1L8.5 8.5l.94-2.06 2.06-.94-2.06-.94L8.5 2.5l-.94 2.06-2.06.94zm10 10l.94 2.06.94-2.06 2.06-.94-2.06-.94-.94-2.06-.94 2.06-2.06.94z\"/><path d=\"M17.41 7.96l-1.37-1.37c-.4-.4-.92-.59-1.43-.59-.52 0-1.04.2-1.43.59L10.3 9.45l-7.72 7.72c-.78.78-.78 2.05 0 2.83L4 21.41c.39.39.9.59 1.41.59.51 0 1.02-.2 1.41-.59l7.78-7.78 2.81-2.81c.8-.78.8-2.07 0-2.86zM5.41 20L4 18.59l7.72-7.72 1.47 1.35L5.41 20z\"/>\n",
              "  </svg>\n",
              "      </button>\n",
              "      \n",
              "  <style>\n",
              "    .colab-df-container {\n",
              "      display:flex;\n",
              "      flex-wrap:wrap;\n",
              "      gap: 12px;\n",
              "    }\n",
              "\n",
              "    .colab-df-convert {\n",
              "      background-color: #E8F0FE;\n",
              "      border: none;\n",
              "      border-radius: 50%;\n",
              "      cursor: pointer;\n",
              "      display: none;\n",
              "      fill: #1967D2;\n",
              "      height: 32px;\n",
              "      padding: 0 0 0 0;\n",
              "      width: 32px;\n",
              "    }\n",
              "\n",
              "    .colab-df-convert:hover {\n",
              "      background-color: #E2EBFA;\n",
              "      box-shadow: 0px 1px 2px rgba(60, 64, 67, 0.3), 0px 1px 3px 1px rgba(60, 64, 67, 0.15);\n",
              "      fill: #174EA6;\n",
              "    }\n",
              "\n",
              "    [theme=dark] .colab-df-convert {\n",
              "      background-color: #3B4455;\n",
              "      fill: #D2E3FC;\n",
              "    }\n",
              "\n",
              "    [theme=dark] .colab-df-convert:hover {\n",
              "      background-color: #434B5C;\n",
              "      box-shadow: 0px 1px 3px 1px rgba(0, 0, 0, 0.15);\n",
              "      filter: drop-shadow(0px 1px 2px rgba(0, 0, 0, 0.3));\n",
              "      fill: #FFFFFF;\n",
              "    }\n",
              "  </style>\n",
              "\n",
              "      <script>\n",
              "        const buttonEl =\n",
              "          document.querySelector('#df-d064801d-feef-40cb-94f7-083c79293b0f button.colab-df-convert');\n",
              "        buttonEl.style.display =\n",
              "          google.colab.kernel.accessAllowed ? 'block' : 'none';\n",
              "\n",
              "        async function convertToInteractive(key) {\n",
              "          const element = document.querySelector('#df-d064801d-feef-40cb-94f7-083c79293b0f');\n",
              "          const dataTable =\n",
              "            await google.colab.kernel.invokeFunction('convertToInteractive',\n",
              "                                                     [key], {});\n",
              "          if (!dataTable) return;\n",
              "\n",
              "          const docLinkHtml = 'Like what you see? Visit the ' +\n",
              "            '<a target=\"_blank\" href=https://colab.research.google.com/notebooks/data_table.ipynb>data table notebook</a>'\n",
              "            + ' to learn more about interactive tables.';\n",
              "          element.innerHTML = '';\n",
              "          dataTable['output_type'] = 'display_data';\n",
              "          await google.colab.output.renderOutput(dataTable, element);\n",
              "          const docLink = document.createElement('div');\n",
              "          docLink.innerHTML = docLinkHtml;\n",
              "          element.appendChild(docLink);\n",
              "        }\n",
              "      </script>\n",
              "    </div>\n",
              "  </div>\n",
              "  "
            ]
          },
          "metadata": {},
          "execution_count": 125
        }
      ],
      "source": [
        "pd.DataFrame(country, columns=['Country'])"
      ]
    },
    {
      "cell_type": "markdown",
      "metadata": {
        "id": "jT_bb__l88fD"
      },
      "source": [
        "##### **Dari Sebuah *list of dictionary***"
      ]
    },
    {
      "cell_type": "code",
      "execution_count": null,
      "metadata": {
        "id": "8kWWlchD88fD",
        "outputId": "bec070e6-0442-4528-86cf-7c3ef40b72a4",
        "colab": {
          "base_uri": "https://localhost:8080/",
          "height": 143
        }
      },
      "outputs": [
        {
          "output_type": "execute_result",
          "data": {
            "text/plain": [
              "   a  b\n",
              "0  0  0\n",
              "1  1  2\n",
              "2  2  4"
            ],
            "text/html": [
              "\n",
              "  <div id=\"df-24cf21ce-9b3e-485e-9371-edde0972ccc2\">\n",
              "    <div class=\"colab-df-container\">\n",
              "      <div>\n",
              "<style scoped>\n",
              "    .dataframe tbody tr th:only-of-type {\n",
              "        vertical-align: middle;\n",
              "    }\n",
              "\n",
              "    .dataframe tbody tr th {\n",
              "        vertical-align: top;\n",
              "    }\n",
              "\n",
              "    .dataframe thead th {\n",
              "        text-align: right;\n",
              "    }\n",
              "</style>\n",
              "<table border=\"1\" class=\"dataframe\">\n",
              "  <thead>\n",
              "    <tr style=\"text-align: right;\">\n",
              "      <th></th>\n",
              "      <th>a</th>\n",
              "      <th>b</th>\n",
              "    </tr>\n",
              "  </thead>\n",
              "  <tbody>\n",
              "    <tr>\n",
              "      <th>0</th>\n",
              "      <td>0</td>\n",
              "      <td>0</td>\n",
              "    </tr>\n",
              "    <tr>\n",
              "      <th>1</th>\n",
              "      <td>1</td>\n",
              "      <td>2</td>\n",
              "    </tr>\n",
              "    <tr>\n",
              "      <th>2</th>\n",
              "      <td>2</td>\n",
              "      <td>4</td>\n",
              "    </tr>\n",
              "  </tbody>\n",
              "</table>\n",
              "</div>\n",
              "      <button class=\"colab-df-convert\" onclick=\"convertToInteractive('df-24cf21ce-9b3e-485e-9371-edde0972ccc2')\"\n",
              "              title=\"Convert this dataframe to an interactive table.\"\n",
              "              style=\"display:none;\">\n",
              "        \n",
              "  <svg xmlns=\"http://www.w3.org/2000/svg\" height=\"24px\"viewBox=\"0 0 24 24\"\n",
              "       width=\"24px\">\n",
              "    <path d=\"M0 0h24v24H0V0z\" fill=\"none\"/>\n",
              "    <path d=\"M18.56 5.44l.94 2.06.94-2.06 2.06-.94-2.06-.94-.94-2.06-.94 2.06-2.06.94zm-11 1L8.5 8.5l.94-2.06 2.06-.94-2.06-.94L8.5 2.5l-.94 2.06-2.06.94zm10 10l.94 2.06.94-2.06 2.06-.94-2.06-.94-.94-2.06-.94 2.06-2.06.94z\"/><path d=\"M17.41 7.96l-1.37-1.37c-.4-.4-.92-.59-1.43-.59-.52 0-1.04.2-1.43.59L10.3 9.45l-7.72 7.72c-.78.78-.78 2.05 0 2.83L4 21.41c.39.39.9.59 1.41.59.51 0 1.02-.2 1.41-.59l7.78-7.78 2.81-2.81c.8-.78.8-2.07 0-2.86zM5.41 20L4 18.59l7.72-7.72 1.47 1.35L5.41 20z\"/>\n",
              "  </svg>\n",
              "      </button>\n",
              "      \n",
              "  <style>\n",
              "    .colab-df-container {\n",
              "      display:flex;\n",
              "      flex-wrap:wrap;\n",
              "      gap: 12px;\n",
              "    }\n",
              "\n",
              "    .colab-df-convert {\n",
              "      background-color: #E8F0FE;\n",
              "      border: none;\n",
              "      border-radius: 50%;\n",
              "      cursor: pointer;\n",
              "      display: none;\n",
              "      fill: #1967D2;\n",
              "      height: 32px;\n",
              "      padding: 0 0 0 0;\n",
              "      width: 32px;\n",
              "    }\n",
              "\n",
              "    .colab-df-convert:hover {\n",
              "      background-color: #E2EBFA;\n",
              "      box-shadow: 0px 1px 2px rgba(60, 64, 67, 0.3), 0px 1px 3px 1px rgba(60, 64, 67, 0.15);\n",
              "      fill: #174EA6;\n",
              "    }\n",
              "\n",
              "    [theme=dark] .colab-df-convert {\n",
              "      background-color: #3B4455;\n",
              "      fill: #D2E3FC;\n",
              "    }\n",
              "\n",
              "    [theme=dark] .colab-df-convert:hover {\n",
              "      background-color: #434B5C;\n",
              "      box-shadow: 0px 1px 3px 1px rgba(0, 0, 0, 0.15);\n",
              "      filter: drop-shadow(0px 1px 2px rgba(0, 0, 0, 0.3));\n",
              "      fill: #FFFFFF;\n",
              "    }\n",
              "  </style>\n",
              "\n",
              "      <script>\n",
              "        const buttonEl =\n",
              "          document.querySelector('#df-24cf21ce-9b3e-485e-9371-edde0972ccc2 button.colab-df-convert');\n",
              "        buttonEl.style.display =\n",
              "          google.colab.kernel.accessAllowed ? 'block' : 'none';\n",
              "\n",
              "        async function convertToInteractive(key) {\n",
              "          const element = document.querySelector('#df-24cf21ce-9b3e-485e-9371-edde0972ccc2');\n",
              "          const dataTable =\n",
              "            await google.colab.kernel.invokeFunction('convertToInteractive',\n",
              "                                                     [key], {});\n",
              "          if (!dataTable) return;\n",
              "\n",
              "          const docLinkHtml = 'Like what you see? Visit the ' +\n",
              "            '<a target=\"_blank\" href=https://colab.research.google.com/notebooks/data_table.ipynb>data table notebook</a>'\n",
              "            + ' to learn more about interactive tables.';\n",
              "          element.innerHTML = '';\n",
              "          dataTable['output_type'] = 'display_data';\n",
              "          await google.colab.output.renderOutput(dataTable, element);\n",
              "          const docLink = document.createElement('div');\n",
              "          docLink.innerHTML = docLinkHtml;\n",
              "          element.appendChild(docLink);\n",
              "        }\n",
              "      </script>\n",
              "    </div>\n",
              "  </div>\n",
              "  "
            ]
          },
          "metadata": {},
          "execution_count": 126
        }
      ],
      "source": [
        "data = [{'a': i, 'b': 2 * i}\n",
        "        for i in range(3)]\n",
        "pd.DataFrame(data)"
      ]
    },
    {
      "cell_type": "markdown",
      "metadata": {
        "id": "fjdvODUU88fE"
      },
      "source": [
        "##### **Dari Sebuah *dictionary of Series objects***"
      ]
    },
    {
      "cell_type": "code",
      "source": [
        "country = pd.Series(['Indonesia', 'Korea Selatan', 'Jepang'])\n",
        "country"
      ],
      "metadata": {
        "colab": {
          "base_uri": "https://localhost:8080/"
        },
        "id": "5vBxzrYIHkkD",
        "outputId": "286549f5-6b3f-4bd8-8948-88c4137ef540"
      },
      "execution_count": null,
      "outputs": [
        {
          "output_type": "execute_result",
          "data": {
            "text/plain": [
              "0        Indonesia\n",
              "1    Korea Selatan\n",
              "2           Jepang\n",
              "dtype: object"
            ]
          },
          "metadata": {},
          "execution_count": 127
        }
      ]
    },
    {
      "cell_type": "code",
      "source": [
        "capital = pd.Series(['Jakarta', 'Seoul', 'Tokyo'])\n",
        "capital"
      ],
      "metadata": {
        "colab": {
          "base_uri": "https://localhost:8080/"
        },
        "id": "ZEIkWv1RHk_j",
        "outputId": "125be641-2e13-4277-d228-1d12553af9cf"
      },
      "execution_count": null,
      "outputs": [
        {
          "output_type": "execute_result",
          "data": {
            "text/plain": [
              "0    Jakarta\n",
              "1      Seoul\n",
              "2      Tokyo\n",
              "dtype: object"
            ]
          },
          "metadata": {},
          "execution_count": 128
        }
      ]
    },
    {
      "cell_type": "code",
      "execution_count": null,
      "metadata": {
        "id": "YMDymjKg88fE",
        "outputId": "a9b15469-1e7b-4954-c7e5-b86e9f146e1a",
        "colab": {
          "base_uri": "https://localhost:8080/",
          "height": 143
        }
      },
      "outputs": [
        {
          "output_type": "execute_result",
          "data": {
            "text/plain": [
              "         Country  Capital\n",
              "0      Indonesia  Jakarta\n",
              "1  Korea Selatan    Seoul\n",
              "2         Jepang    Tokyo"
            ],
            "text/html": [
              "\n",
              "  <div id=\"df-519ab943-216c-40bb-88d6-e503bc3954c4\">\n",
              "    <div class=\"colab-df-container\">\n",
              "      <div>\n",
              "<style scoped>\n",
              "    .dataframe tbody tr th:only-of-type {\n",
              "        vertical-align: middle;\n",
              "    }\n",
              "\n",
              "    .dataframe tbody tr th {\n",
              "        vertical-align: top;\n",
              "    }\n",
              "\n",
              "    .dataframe thead th {\n",
              "        text-align: right;\n",
              "    }\n",
              "</style>\n",
              "<table border=\"1\" class=\"dataframe\">\n",
              "  <thead>\n",
              "    <tr style=\"text-align: right;\">\n",
              "      <th></th>\n",
              "      <th>Country</th>\n",
              "      <th>Capital</th>\n",
              "    </tr>\n",
              "  </thead>\n",
              "  <tbody>\n",
              "    <tr>\n",
              "      <th>0</th>\n",
              "      <td>Indonesia</td>\n",
              "      <td>Jakarta</td>\n",
              "    </tr>\n",
              "    <tr>\n",
              "      <th>1</th>\n",
              "      <td>Korea Selatan</td>\n",
              "      <td>Seoul</td>\n",
              "    </tr>\n",
              "    <tr>\n",
              "      <th>2</th>\n",
              "      <td>Jepang</td>\n",
              "      <td>Tokyo</td>\n",
              "    </tr>\n",
              "  </tbody>\n",
              "</table>\n",
              "</div>\n",
              "      <button class=\"colab-df-convert\" onclick=\"convertToInteractive('df-519ab943-216c-40bb-88d6-e503bc3954c4')\"\n",
              "              title=\"Convert this dataframe to an interactive table.\"\n",
              "              style=\"display:none;\">\n",
              "        \n",
              "  <svg xmlns=\"http://www.w3.org/2000/svg\" height=\"24px\"viewBox=\"0 0 24 24\"\n",
              "       width=\"24px\">\n",
              "    <path d=\"M0 0h24v24H0V0z\" fill=\"none\"/>\n",
              "    <path d=\"M18.56 5.44l.94 2.06.94-2.06 2.06-.94-2.06-.94-.94-2.06-.94 2.06-2.06.94zm-11 1L8.5 8.5l.94-2.06 2.06-.94-2.06-.94L8.5 2.5l-.94 2.06-2.06.94zm10 10l.94 2.06.94-2.06 2.06-.94-2.06-.94-.94-2.06-.94 2.06-2.06.94z\"/><path d=\"M17.41 7.96l-1.37-1.37c-.4-.4-.92-.59-1.43-.59-.52 0-1.04.2-1.43.59L10.3 9.45l-7.72 7.72c-.78.78-.78 2.05 0 2.83L4 21.41c.39.39.9.59 1.41.59.51 0 1.02-.2 1.41-.59l7.78-7.78 2.81-2.81c.8-.78.8-2.07 0-2.86zM5.41 20L4 18.59l7.72-7.72 1.47 1.35L5.41 20z\"/>\n",
              "  </svg>\n",
              "      </button>\n",
              "      \n",
              "  <style>\n",
              "    .colab-df-container {\n",
              "      display:flex;\n",
              "      flex-wrap:wrap;\n",
              "      gap: 12px;\n",
              "    }\n",
              "\n",
              "    .colab-df-convert {\n",
              "      background-color: #E8F0FE;\n",
              "      border: none;\n",
              "      border-radius: 50%;\n",
              "      cursor: pointer;\n",
              "      display: none;\n",
              "      fill: #1967D2;\n",
              "      height: 32px;\n",
              "      padding: 0 0 0 0;\n",
              "      width: 32px;\n",
              "    }\n",
              "\n",
              "    .colab-df-convert:hover {\n",
              "      background-color: #E2EBFA;\n",
              "      box-shadow: 0px 1px 2px rgba(60, 64, 67, 0.3), 0px 1px 3px 1px rgba(60, 64, 67, 0.15);\n",
              "      fill: #174EA6;\n",
              "    }\n",
              "\n",
              "    [theme=dark] .colab-df-convert {\n",
              "      background-color: #3B4455;\n",
              "      fill: #D2E3FC;\n",
              "    }\n",
              "\n",
              "    [theme=dark] .colab-df-convert:hover {\n",
              "      background-color: #434B5C;\n",
              "      box-shadow: 0px 1px 3px 1px rgba(0, 0, 0, 0.15);\n",
              "      filter: drop-shadow(0px 1px 2px rgba(0, 0, 0, 0.3));\n",
              "      fill: #FFFFFF;\n",
              "    }\n",
              "  </style>\n",
              "\n",
              "      <script>\n",
              "        const buttonEl =\n",
              "          document.querySelector('#df-519ab943-216c-40bb-88d6-e503bc3954c4 button.colab-df-convert');\n",
              "        buttonEl.style.display =\n",
              "          google.colab.kernel.accessAllowed ? 'block' : 'none';\n",
              "\n",
              "        async function convertToInteractive(key) {\n",
              "          const element = document.querySelector('#df-519ab943-216c-40bb-88d6-e503bc3954c4');\n",
              "          const dataTable =\n",
              "            await google.colab.kernel.invokeFunction('convertToInteractive',\n",
              "                                                     [key], {});\n",
              "          if (!dataTable) return;\n",
              "\n",
              "          const docLinkHtml = 'Like what you see? Visit the ' +\n",
              "            '<a target=\"_blank\" href=https://colab.research.google.com/notebooks/data_table.ipynb>data table notebook</a>'\n",
              "            + ' to learn more about interactive tables.';\n",
              "          element.innerHTML = '';\n",
              "          dataTable['output_type'] = 'display_data';\n",
              "          await google.colab.output.renderOutput(dataTable, element);\n",
              "          const docLink = document.createElement('div');\n",
              "          docLink.innerHTML = docLinkHtml;\n",
              "          element.appendChild(docLink);\n",
              "        }\n",
              "      </script>\n",
              "    </div>\n",
              "  </div>\n",
              "  "
            ]
          },
          "metadata": {},
          "execution_count": 129
        }
      ],
      "source": [
        "pd.DataFrame({'Country': country,\n",
        "              'Capital': capital})"
      ]
    },
    {
      "cell_type": "markdown",
      "metadata": {
        "id": "wNPjpuoi88fE"
      },
      "source": [
        "##### **Dari Sebuah NumPy *array***"
      ]
    },
    {
      "cell_type": "code",
      "source": [
        "import numpy as np\n",
        "\n",
        "pd.DataFrame(np.random.rand(3, 1),\n",
        "             columns=['Random Value'],\n",
        "             index=['a', 'b', 'c'])"
      ],
      "metadata": {
        "colab": {
          "base_uri": "https://localhost:8080/",
          "height": 143
        },
        "id": "Cac6YEXCIW71",
        "outputId": "aecb6803-23be-463a-ef89-0abf2fce4f84"
      },
      "execution_count": null,
      "outputs": [
        {
          "output_type": "execute_result",
          "data": {
            "text/plain": [
              "   Random Value\n",
              "a      0.802464\n",
              "b      0.814136\n",
              "c      0.459169"
            ],
            "text/html": [
              "\n",
              "  <div id=\"df-7f105e00-6ccc-43dd-97e0-371cd92c5318\">\n",
              "    <div class=\"colab-df-container\">\n",
              "      <div>\n",
              "<style scoped>\n",
              "    .dataframe tbody tr th:only-of-type {\n",
              "        vertical-align: middle;\n",
              "    }\n",
              "\n",
              "    .dataframe tbody tr th {\n",
              "        vertical-align: top;\n",
              "    }\n",
              "\n",
              "    .dataframe thead th {\n",
              "        text-align: right;\n",
              "    }\n",
              "</style>\n",
              "<table border=\"1\" class=\"dataframe\">\n",
              "  <thead>\n",
              "    <tr style=\"text-align: right;\">\n",
              "      <th></th>\n",
              "      <th>Random Value</th>\n",
              "    </tr>\n",
              "  </thead>\n",
              "  <tbody>\n",
              "    <tr>\n",
              "      <th>a</th>\n",
              "      <td>0.802464</td>\n",
              "    </tr>\n",
              "    <tr>\n",
              "      <th>b</th>\n",
              "      <td>0.814136</td>\n",
              "    </tr>\n",
              "    <tr>\n",
              "      <th>c</th>\n",
              "      <td>0.459169</td>\n",
              "    </tr>\n",
              "  </tbody>\n",
              "</table>\n",
              "</div>\n",
              "      <button class=\"colab-df-convert\" onclick=\"convertToInteractive('df-7f105e00-6ccc-43dd-97e0-371cd92c5318')\"\n",
              "              title=\"Convert this dataframe to an interactive table.\"\n",
              "              style=\"display:none;\">\n",
              "        \n",
              "  <svg xmlns=\"http://www.w3.org/2000/svg\" height=\"24px\"viewBox=\"0 0 24 24\"\n",
              "       width=\"24px\">\n",
              "    <path d=\"M0 0h24v24H0V0z\" fill=\"none\"/>\n",
              "    <path d=\"M18.56 5.44l.94 2.06.94-2.06 2.06-.94-2.06-.94-.94-2.06-.94 2.06-2.06.94zm-11 1L8.5 8.5l.94-2.06 2.06-.94-2.06-.94L8.5 2.5l-.94 2.06-2.06.94zm10 10l.94 2.06.94-2.06 2.06-.94-2.06-.94-.94-2.06-.94 2.06-2.06.94z\"/><path d=\"M17.41 7.96l-1.37-1.37c-.4-.4-.92-.59-1.43-.59-.52 0-1.04.2-1.43.59L10.3 9.45l-7.72 7.72c-.78.78-.78 2.05 0 2.83L4 21.41c.39.39.9.59 1.41.59.51 0 1.02-.2 1.41-.59l7.78-7.78 2.81-2.81c.8-.78.8-2.07 0-2.86zM5.41 20L4 18.59l7.72-7.72 1.47 1.35L5.41 20z\"/>\n",
              "  </svg>\n",
              "      </button>\n",
              "      \n",
              "  <style>\n",
              "    .colab-df-container {\n",
              "      display:flex;\n",
              "      flex-wrap:wrap;\n",
              "      gap: 12px;\n",
              "    }\n",
              "\n",
              "    .colab-df-convert {\n",
              "      background-color: #E8F0FE;\n",
              "      border: none;\n",
              "      border-radius: 50%;\n",
              "      cursor: pointer;\n",
              "      display: none;\n",
              "      fill: #1967D2;\n",
              "      height: 32px;\n",
              "      padding: 0 0 0 0;\n",
              "      width: 32px;\n",
              "    }\n",
              "\n",
              "    .colab-df-convert:hover {\n",
              "      background-color: #E2EBFA;\n",
              "      box-shadow: 0px 1px 2px rgba(60, 64, 67, 0.3), 0px 1px 3px 1px rgba(60, 64, 67, 0.15);\n",
              "      fill: #174EA6;\n",
              "    }\n",
              "\n",
              "    [theme=dark] .colab-df-convert {\n",
              "      background-color: #3B4455;\n",
              "      fill: #D2E3FC;\n",
              "    }\n",
              "\n",
              "    [theme=dark] .colab-df-convert:hover {\n",
              "      background-color: #434B5C;\n",
              "      box-shadow: 0px 1px 3px 1px rgba(0, 0, 0, 0.15);\n",
              "      filter: drop-shadow(0px 1px 2px rgba(0, 0, 0, 0.3));\n",
              "      fill: #FFFFFF;\n",
              "    }\n",
              "  </style>\n",
              "\n",
              "      <script>\n",
              "        const buttonEl =\n",
              "          document.querySelector('#df-7f105e00-6ccc-43dd-97e0-371cd92c5318 button.colab-df-convert');\n",
              "        buttonEl.style.display =\n",
              "          google.colab.kernel.accessAllowed ? 'block' : 'none';\n",
              "\n",
              "        async function convertToInteractive(key) {\n",
              "          const element = document.querySelector('#df-7f105e00-6ccc-43dd-97e0-371cd92c5318');\n",
              "          const dataTable =\n",
              "            await google.colab.kernel.invokeFunction('convertToInteractive',\n",
              "                                                     [key], {});\n",
              "          if (!dataTable) return;\n",
              "\n",
              "          const docLinkHtml = 'Like what you see? Visit the ' +\n",
              "            '<a target=\"_blank\" href=https://colab.research.google.com/notebooks/data_table.ipynb>data table notebook</a>'\n",
              "            + ' to learn more about interactive tables.';\n",
              "          element.innerHTML = '';\n",
              "          dataTable['output_type'] = 'display_data';\n",
              "          await google.colab.output.renderOutput(dataTable, element);\n",
              "          const docLink = document.createElement('div');\n",
              "          docLink.innerHTML = docLinkHtml;\n",
              "          element.appendChild(docLink);\n",
              "        }\n",
              "      </script>\n",
              "    </div>\n",
              "  </div>\n",
              "  "
            ]
          },
          "metadata": {},
          "execution_count": 130
        }
      ]
    },
    {
      "cell_type": "markdown",
      "source": [
        "#### **Cara Umum Kedua**"
      ],
      "metadata": {
        "id": "1MpxOPn-H8U6"
      }
    },
    {
      "cell_type": "markdown",
      "source": [
        "Cara lain yang umum digunakan dalam membuat objek *DataFrame* adalah sebagai berikut,\n",
        "\n",
        "```python\n",
        ">>> pd.read_csv(filepath_or_buffer)\n",
        "```\n",
        "\n",
        "Dimana argumen ``filepath_or_buffer`` merupakan String yang menyimpan path menuju file CSV yang akan dibentuk menjadi sebuah *DataFrame*. String tersebut dapat berupa URL.\n",
        "\n",
        "Untuk informasi lebih detail, dapat dilihat pada [link berikut](https://pandas.pydata.org/docs/reference/api/pandas.read_csv.html)"
      ],
      "metadata": {
        "id": "2XNk9AbzFpW1"
      }
    },
    {
      "cell_type": "markdown",
      "source": [
        "##### **Menggunakan *Path Remote***"
      ],
      "metadata": {
        "id": "CZ8qaCLtQIV5"
      }
    },
    {
      "cell_type": "code",
      "metadata": {
        "id": "fNBiAXNINqvW",
        "colab": {
          "base_uri": "https://localhost:8080/",
          "height": 423
        },
        "outputId": "551cdd62-1a5d-4de5-9ebe-32065bdf40a8"
      },
      "source": [
        "# Membuat DataFrame dengan membaca data dari suatu berkas\n",
        "\n",
        "df1 = pd.read_csv(\n",
        "    'https://archive.ics.uci.edu/ml/machine-learning-databases/glass/glass.data', # Path menuju berkas dataset\n",
        "    header=None # Baris pertama dataset bukanlah header\n",
        ")\n",
        "display(df1) # Menampilkan DataFrame"
      ],
      "execution_count": null,
      "outputs": [
        {
          "output_type": "display_data",
          "data": {
            "text/plain": [
              "      0        1      2     3     4      5     6     7     8    9   10\n",
              "0      1  1.52101  13.64  4.49  1.10  71.78  0.06  8.75  0.00  0.0   1\n",
              "1      2  1.51761  13.89  3.60  1.36  72.73  0.48  7.83  0.00  0.0   1\n",
              "2      3  1.51618  13.53  3.55  1.54  72.99  0.39  7.78  0.00  0.0   1\n",
              "3      4  1.51766  13.21  3.69  1.29  72.61  0.57  8.22  0.00  0.0   1\n",
              "4      5  1.51742  13.27  3.62  1.24  73.08  0.55  8.07  0.00  0.0   1\n",
              "..   ...      ...    ...   ...   ...    ...   ...   ...   ...  ...  ..\n",
              "209  210  1.51623  14.14  0.00  2.88  72.61  0.08  9.18  1.06  0.0   7\n",
              "210  211  1.51685  14.92  0.00  1.99  73.06  0.00  8.40  1.59  0.0   7\n",
              "211  212  1.52065  14.36  0.00  2.02  73.42  0.00  8.44  1.64  0.0   7\n",
              "212  213  1.51651  14.38  0.00  1.94  73.61  0.00  8.48  1.57  0.0   7\n",
              "213  214  1.51711  14.23  0.00  2.08  73.36  0.00  8.62  1.67  0.0   7\n",
              "\n",
              "[214 rows x 11 columns]"
            ],
            "text/html": [
              "\n",
              "  <div id=\"df-9fbc348e-182e-4b58-bacc-114408aa1c41\">\n",
              "    <div class=\"colab-df-container\">\n",
              "      <div>\n",
              "<style scoped>\n",
              "    .dataframe tbody tr th:only-of-type {\n",
              "        vertical-align: middle;\n",
              "    }\n",
              "\n",
              "    .dataframe tbody tr th {\n",
              "        vertical-align: top;\n",
              "    }\n",
              "\n",
              "    .dataframe thead th {\n",
              "        text-align: right;\n",
              "    }\n",
              "</style>\n",
              "<table border=\"1\" class=\"dataframe\">\n",
              "  <thead>\n",
              "    <tr style=\"text-align: right;\">\n",
              "      <th></th>\n",
              "      <th>0</th>\n",
              "      <th>1</th>\n",
              "      <th>2</th>\n",
              "      <th>3</th>\n",
              "      <th>4</th>\n",
              "      <th>5</th>\n",
              "      <th>6</th>\n",
              "      <th>7</th>\n",
              "      <th>8</th>\n",
              "      <th>9</th>\n",
              "      <th>10</th>\n",
              "    </tr>\n",
              "  </thead>\n",
              "  <tbody>\n",
              "    <tr>\n",
              "      <th>0</th>\n",
              "      <td>1</td>\n",
              "      <td>1.52101</td>\n",
              "      <td>13.64</td>\n",
              "      <td>4.49</td>\n",
              "      <td>1.10</td>\n",
              "      <td>71.78</td>\n",
              "      <td>0.06</td>\n",
              "      <td>8.75</td>\n",
              "      <td>0.00</td>\n",
              "      <td>0.0</td>\n",
              "      <td>1</td>\n",
              "    </tr>\n",
              "    <tr>\n",
              "      <th>1</th>\n",
              "      <td>2</td>\n",
              "      <td>1.51761</td>\n",
              "      <td>13.89</td>\n",
              "      <td>3.60</td>\n",
              "      <td>1.36</td>\n",
              "      <td>72.73</td>\n",
              "      <td>0.48</td>\n",
              "      <td>7.83</td>\n",
              "      <td>0.00</td>\n",
              "      <td>0.0</td>\n",
              "      <td>1</td>\n",
              "    </tr>\n",
              "    <tr>\n",
              "      <th>2</th>\n",
              "      <td>3</td>\n",
              "      <td>1.51618</td>\n",
              "      <td>13.53</td>\n",
              "      <td>3.55</td>\n",
              "      <td>1.54</td>\n",
              "      <td>72.99</td>\n",
              "      <td>0.39</td>\n",
              "      <td>7.78</td>\n",
              "      <td>0.00</td>\n",
              "      <td>0.0</td>\n",
              "      <td>1</td>\n",
              "    </tr>\n",
              "    <tr>\n",
              "      <th>3</th>\n",
              "      <td>4</td>\n",
              "      <td>1.51766</td>\n",
              "      <td>13.21</td>\n",
              "      <td>3.69</td>\n",
              "      <td>1.29</td>\n",
              "      <td>72.61</td>\n",
              "      <td>0.57</td>\n",
              "      <td>8.22</td>\n",
              "      <td>0.00</td>\n",
              "      <td>0.0</td>\n",
              "      <td>1</td>\n",
              "    </tr>\n",
              "    <tr>\n",
              "      <th>4</th>\n",
              "      <td>5</td>\n",
              "      <td>1.51742</td>\n",
              "      <td>13.27</td>\n",
              "      <td>3.62</td>\n",
              "      <td>1.24</td>\n",
              "      <td>73.08</td>\n",
              "      <td>0.55</td>\n",
              "      <td>8.07</td>\n",
              "      <td>0.00</td>\n",
              "      <td>0.0</td>\n",
              "      <td>1</td>\n",
              "    </tr>\n",
              "    <tr>\n",
              "      <th>...</th>\n",
              "      <td>...</td>\n",
              "      <td>...</td>\n",
              "      <td>...</td>\n",
              "      <td>...</td>\n",
              "      <td>...</td>\n",
              "      <td>...</td>\n",
              "      <td>...</td>\n",
              "      <td>...</td>\n",
              "      <td>...</td>\n",
              "      <td>...</td>\n",
              "      <td>...</td>\n",
              "    </tr>\n",
              "    <tr>\n",
              "      <th>209</th>\n",
              "      <td>210</td>\n",
              "      <td>1.51623</td>\n",
              "      <td>14.14</td>\n",
              "      <td>0.00</td>\n",
              "      <td>2.88</td>\n",
              "      <td>72.61</td>\n",
              "      <td>0.08</td>\n",
              "      <td>9.18</td>\n",
              "      <td>1.06</td>\n",
              "      <td>0.0</td>\n",
              "      <td>7</td>\n",
              "    </tr>\n",
              "    <tr>\n",
              "      <th>210</th>\n",
              "      <td>211</td>\n",
              "      <td>1.51685</td>\n",
              "      <td>14.92</td>\n",
              "      <td>0.00</td>\n",
              "      <td>1.99</td>\n",
              "      <td>73.06</td>\n",
              "      <td>0.00</td>\n",
              "      <td>8.40</td>\n",
              "      <td>1.59</td>\n",
              "      <td>0.0</td>\n",
              "      <td>7</td>\n",
              "    </tr>\n",
              "    <tr>\n",
              "      <th>211</th>\n",
              "      <td>212</td>\n",
              "      <td>1.52065</td>\n",
              "      <td>14.36</td>\n",
              "      <td>0.00</td>\n",
              "      <td>2.02</td>\n",
              "      <td>73.42</td>\n",
              "      <td>0.00</td>\n",
              "      <td>8.44</td>\n",
              "      <td>1.64</td>\n",
              "      <td>0.0</td>\n",
              "      <td>7</td>\n",
              "    </tr>\n",
              "    <tr>\n",
              "      <th>212</th>\n",
              "      <td>213</td>\n",
              "      <td>1.51651</td>\n",
              "      <td>14.38</td>\n",
              "      <td>0.00</td>\n",
              "      <td>1.94</td>\n",
              "      <td>73.61</td>\n",
              "      <td>0.00</td>\n",
              "      <td>8.48</td>\n",
              "      <td>1.57</td>\n",
              "      <td>0.0</td>\n",
              "      <td>7</td>\n",
              "    </tr>\n",
              "    <tr>\n",
              "      <th>213</th>\n",
              "      <td>214</td>\n",
              "      <td>1.51711</td>\n",
              "      <td>14.23</td>\n",
              "      <td>0.00</td>\n",
              "      <td>2.08</td>\n",
              "      <td>73.36</td>\n",
              "      <td>0.00</td>\n",
              "      <td>8.62</td>\n",
              "      <td>1.67</td>\n",
              "      <td>0.0</td>\n",
              "      <td>7</td>\n",
              "    </tr>\n",
              "  </tbody>\n",
              "</table>\n",
              "<p>214 rows × 11 columns</p>\n",
              "</div>\n",
              "      <button class=\"colab-df-convert\" onclick=\"convertToInteractive('df-9fbc348e-182e-4b58-bacc-114408aa1c41')\"\n",
              "              title=\"Convert this dataframe to an interactive table.\"\n",
              "              style=\"display:none;\">\n",
              "        \n",
              "  <svg xmlns=\"http://www.w3.org/2000/svg\" height=\"24px\"viewBox=\"0 0 24 24\"\n",
              "       width=\"24px\">\n",
              "    <path d=\"M0 0h24v24H0V0z\" fill=\"none\"/>\n",
              "    <path d=\"M18.56 5.44l.94 2.06.94-2.06 2.06-.94-2.06-.94-.94-2.06-.94 2.06-2.06.94zm-11 1L8.5 8.5l.94-2.06 2.06-.94-2.06-.94L8.5 2.5l-.94 2.06-2.06.94zm10 10l.94 2.06.94-2.06 2.06-.94-2.06-.94-.94-2.06-.94 2.06-2.06.94z\"/><path d=\"M17.41 7.96l-1.37-1.37c-.4-.4-.92-.59-1.43-.59-.52 0-1.04.2-1.43.59L10.3 9.45l-7.72 7.72c-.78.78-.78 2.05 0 2.83L4 21.41c.39.39.9.59 1.41.59.51 0 1.02-.2 1.41-.59l7.78-7.78 2.81-2.81c.8-.78.8-2.07 0-2.86zM5.41 20L4 18.59l7.72-7.72 1.47 1.35L5.41 20z\"/>\n",
              "  </svg>\n",
              "      </button>\n",
              "      \n",
              "  <style>\n",
              "    .colab-df-container {\n",
              "      display:flex;\n",
              "      flex-wrap:wrap;\n",
              "      gap: 12px;\n",
              "    }\n",
              "\n",
              "    .colab-df-convert {\n",
              "      background-color: #E8F0FE;\n",
              "      border: none;\n",
              "      border-radius: 50%;\n",
              "      cursor: pointer;\n",
              "      display: none;\n",
              "      fill: #1967D2;\n",
              "      height: 32px;\n",
              "      padding: 0 0 0 0;\n",
              "      width: 32px;\n",
              "    }\n",
              "\n",
              "    .colab-df-convert:hover {\n",
              "      background-color: #E2EBFA;\n",
              "      box-shadow: 0px 1px 2px rgba(60, 64, 67, 0.3), 0px 1px 3px 1px rgba(60, 64, 67, 0.15);\n",
              "      fill: #174EA6;\n",
              "    }\n",
              "\n",
              "    [theme=dark] .colab-df-convert {\n",
              "      background-color: #3B4455;\n",
              "      fill: #D2E3FC;\n",
              "    }\n",
              "\n",
              "    [theme=dark] .colab-df-convert:hover {\n",
              "      background-color: #434B5C;\n",
              "      box-shadow: 0px 1px 3px 1px rgba(0, 0, 0, 0.15);\n",
              "      filter: drop-shadow(0px 1px 2px rgba(0, 0, 0, 0.3));\n",
              "      fill: #FFFFFF;\n",
              "    }\n",
              "  </style>\n",
              "\n",
              "      <script>\n",
              "        const buttonEl =\n",
              "          document.querySelector('#df-9fbc348e-182e-4b58-bacc-114408aa1c41 button.colab-df-convert');\n",
              "        buttonEl.style.display =\n",
              "          google.colab.kernel.accessAllowed ? 'block' : 'none';\n",
              "\n",
              "        async function convertToInteractive(key) {\n",
              "          const element = document.querySelector('#df-9fbc348e-182e-4b58-bacc-114408aa1c41');\n",
              "          const dataTable =\n",
              "            await google.colab.kernel.invokeFunction('convertToInteractive',\n",
              "                                                     [key], {});\n",
              "          if (!dataTable) return;\n",
              "\n",
              "          const docLinkHtml = 'Like what you see? Visit the ' +\n",
              "            '<a target=\"_blank\" href=https://colab.research.google.com/notebooks/data_table.ipynb>data table notebook</a>'\n",
              "            + ' to learn more about interactive tables.';\n",
              "          element.innerHTML = '';\n",
              "          dataTable['output_type'] = 'display_data';\n",
              "          await google.colab.output.renderOutput(dataTable, element);\n",
              "          const docLink = document.createElement('div');\n",
              "          docLink.innerHTML = docLinkHtml;\n",
              "          element.appendChild(docLink);\n",
              "        }\n",
              "      </script>\n",
              "    </div>\n",
              "  </div>\n",
              "  "
            ]
          },
          "metadata": {}
        }
      ]
    },
    {
      "cell_type": "markdown",
      "source": [
        "##### **Menggunakan *Path* Lokal**"
      ],
      "metadata": {
        "id": "FT9G0MjKQDJC"
      }
    },
    {
      "cell_type": "markdown",
      "source": [
        "**NOTE**: Untuk menggunakan *path* lokal, pastikan kamu telah men-*download* dan mengetahui *relative path* file dataset dengan file ipynb ini.\n",
        "\n",
        "Apabila kamu menggunakan Google Colab, kamu juga harus meng-*upload* file dataset kamu ke *files* yang terdapat pada Google Colab. Contoh:"
      ],
      "metadata": {
        "id": "b4OTEiS4g74J"
      }
    },
    {
      "cell_type": "markdown",
      "source": [
        "![Screenshot 2023-02-06 at 09.20.31.png](data:image/png;base64,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)"
      ],
      "metadata": {
        "id": "a10BR0M9huSI"
      }
    },
    {
      "cell_type": "code",
      "source": [
        "# Membuat DataFrame dengan membaca data dari suatu berkas\n",
        "\n",
        "df2 = pd.read_csv(\n",
        "    'glass.csv', # Path menuju berkas dataset\n",
        "    header=None # Baris pertama dataset bukanlah header\n",
        ")\n",
        "display(df2) # Menampilkan DataFrame"
      ],
      "metadata": {
        "colab": {
          "base_uri": "https://localhost:8080/",
          "height": 423
        },
        "id": "OA2ZEcLkQX67",
        "outputId": "d5ad873a-2a55-4a68-9144-1fea91cb312d"
      },
      "execution_count": null,
      "outputs": [
        {
          "output_type": "display_data",
          "data": {
            "text/plain": [
              "      0        1      2     3     4      5     6     7     8    9   10\n",
              "0      1  1.52101  13.64  4.49  1.10  71.78  0.06  8.75  0.00  0.0   1\n",
              "1      2  1.51761  13.89  3.60  1.36  72.73  0.48  7.83  0.00  0.0   1\n",
              "2      3  1.51618  13.53  3.55  1.54  72.99  0.39  7.78  0.00  0.0   1\n",
              "3      4  1.51766  13.21  3.69  1.29  72.61  0.57  8.22  0.00  0.0   1\n",
              "4      5  1.51742  13.27  3.62  1.24  73.08  0.55  8.07  0.00  0.0   1\n",
              "..   ...      ...    ...   ...   ...    ...   ...   ...   ...  ...  ..\n",
              "209  210  1.51623  14.14  0.00  2.88  72.61  0.08  9.18  1.06  0.0   7\n",
              "210  211  1.51685  14.92  0.00  1.99  73.06  0.00  8.40  1.59  0.0   7\n",
              "211  212  1.52065  14.36  0.00  2.02  73.42  0.00  8.44  1.64  0.0   7\n",
              "212  213  1.51651  14.38  0.00  1.94  73.61  0.00  8.48  1.57  0.0   7\n",
              "213  214  1.51711  14.23  0.00  2.08  73.36  0.00  8.62  1.67  0.0   7\n",
              "\n",
              "[214 rows x 11 columns]"
            ],
            "text/html": [
              "\n",
              "  <div id=\"df-69564927-3985-437a-8c0b-79ead2591855\">\n",
              "    <div class=\"colab-df-container\">\n",
              "      <div>\n",
              "<style scoped>\n",
              "    .dataframe tbody tr th:only-of-type {\n",
              "        vertical-align: middle;\n",
              "    }\n",
              "\n",
              "    .dataframe tbody tr th {\n",
              "        vertical-align: top;\n",
              "    }\n",
              "\n",
              "    .dataframe thead th {\n",
              "        text-align: right;\n",
              "    }\n",
              "</style>\n",
              "<table border=\"1\" class=\"dataframe\">\n",
              "  <thead>\n",
              "    <tr style=\"text-align: right;\">\n",
              "      <th></th>\n",
              "      <th>0</th>\n",
              "      <th>1</th>\n",
              "      <th>2</th>\n",
              "      <th>3</th>\n",
              "      <th>4</th>\n",
              "      <th>5</th>\n",
              "      <th>6</th>\n",
              "      <th>7</th>\n",
              "      <th>8</th>\n",
              "      <th>9</th>\n",
              "      <th>10</th>\n",
              "    </tr>\n",
              "  </thead>\n",
              "  <tbody>\n",
              "    <tr>\n",
              "      <th>0</th>\n",
              "      <td>1</td>\n",
              "      <td>1.52101</td>\n",
              "      <td>13.64</td>\n",
              "      <td>4.49</td>\n",
              "      <td>1.10</td>\n",
              "      <td>71.78</td>\n",
              "      <td>0.06</td>\n",
              "      <td>8.75</td>\n",
              "      <td>0.00</td>\n",
              "      <td>0.0</td>\n",
              "      <td>1</td>\n",
              "    </tr>\n",
              "    <tr>\n",
              "      <th>1</th>\n",
              "      <td>2</td>\n",
              "      <td>1.51761</td>\n",
              "      <td>13.89</td>\n",
              "      <td>3.60</td>\n",
              "      <td>1.36</td>\n",
              "      <td>72.73</td>\n",
              "      <td>0.48</td>\n",
              "      <td>7.83</td>\n",
              "      <td>0.00</td>\n",
              "      <td>0.0</td>\n",
              "      <td>1</td>\n",
              "    </tr>\n",
              "    <tr>\n",
              "      <th>2</th>\n",
              "      <td>3</td>\n",
              "      <td>1.51618</td>\n",
              "      <td>13.53</td>\n",
              "      <td>3.55</td>\n",
              "      <td>1.54</td>\n",
              "      <td>72.99</td>\n",
              "      <td>0.39</td>\n",
              "      <td>7.78</td>\n",
              "      <td>0.00</td>\n",
              "      <td>0.0</td>\n",
              "      <td>1</td>\n",
              "    </tr>\n",
              "    <tr>\n",
              "      <th>3</th>\n",
              "      <td>4</td>\n",
              "      <td>1.51766</td>\n",
              "      <td>13.21</td>\n",
              "      <td>3.69</td>\n",
              "      <td>1.29</td>\n",
              "      <td>72.61</td>\n",
              "      <td>0.57</td>\n",
              "      <td>8.22</td>\n",
              "      <td>0.00</td>\n",
              "      <td>0.0</td>\n",
              "      <td>1</td>\n",
              "    </tr>\n",
              "    <tr>\n",
              "      <th>4</th>\n",
              "      <td>5</td>\n",
              "      <td>1.51742</td>\n",
              "      <td>13.27</td>\n",
              "      <td>3.62</td>\n",
              "      <td>1.24</td>\n",
              "      <td>73.08</td>\n",
              "      <td>0.55</td>\n",
              "      <td>8.07</td>\n",
              "      <td>0.00</td>\n",
              "      <td>0.0</td>\n",
              "      <td>1</td>\n",
              "    </tr>\n",
              "    <tr>\n",
              "      <th>...</th>\n",
              "      <td>...</td>\n",
              "      <td>...</td>\n",
              "      <td>...</td>\n",
              "      <td>...</td>\n",
              "      <td>...</td>\n",
              "      <td>...</td>\n",
              "      <td>...</td>\n",
              "      <td>...</td>\n",
              "      <td>...</td>\n",
              "      <td>...</td>\n",
              "      <td>...</td>\n",
              "    </tr>\n",
              "    <tr>\n",
              "      <th>209</th>\n",
              "      <td>210</td>\n",
              "      <td>1.51623</td>\n",
              "      <td>14.14</td>\n",
              "      <td>0.00</td>\n",
              "      <td>2.88</td>\n",
              "      <td>72.61</td>\n",
              "      <td>0.08</td>\n",
              "      <td>9.18</td>\n",
              "      <td>1.06</td>\n",
              "      <td>0.0</td>\n",
              "      <td>7</td>\n",
              "    </tr>\n",
              "    <tr>\n",
              "      <th>210</th>\n",
              "      <td>211</td>\n",
              "      <td>1.51685</td>\n",
              "      <td>14.92</td>\n",
              "      <td>0.00</td>\n",
              "      <td>1.99</td>\n",
              "      <td>73.06</td>\n",
              "      <td>0.00</td>\n",
              "      <td>8.40</td>\n",
              "      <td>1.59</td>\n",
              "      <td>0.0</td>\n",
              "      <td>7</td>\n",
              "    </tr>\n",
              "    <tr>\n",
              "      <th>211</th>\n",
              "      <td>212</td>\n",
              "      <td>1.52065</td>\n",
              "      <td>14.36</td>\n",
              "      <td>0.00</td>\n",
              "      <td>2.02</td>\n",
              "      <td>73.42</td>\n",
              "      <td>0.00</td>\n",
              "      <td>8.44</td>\n",
              "      <td>1.64</td>\n",
              "      <td>0.0</td>\n",
              "      <td>7</td>\n",
              "    </tr>\n",
              "    <tr>\n",
              "      <th>212</th>\n",
              "      <td>213</td>\n",
              "      <td>1.51651</td>\n",
              "      <td>14.38</td>\n",
              "      <td>0.00</td>\n",
              "      <td>1.94</td>\n",
              "      <td>73.61</td>\n",
              "      <td>0.00</td>\n",
              "      <td>8.48</td>\n",
              "      <td>1.57</td>\n",
              "      <td>0.0</td>\n",
              "      <td>7</td>\n",
              "    </tr>\n",
              "    <tr>\n",
              "      <th>213</th>\n",
              "      <td>214</td>\n",
              "      <td>1.51711</td>\n",
              "      <td>14.23</td>\n",
              "      <td>0.00</td>\n",
              "      <td>2.08</td>\n",
              "      <td>73.36</td>\n",
              "      <td>0.00</td>\n",
              "      <td>8.62</td>\n",
              "      <td>1.67</td>\n",
              "      <td>0.0</td>\n",
              "      <td>7</td>\n",
              "    </tr>\n",
              "  </tbody>\n",
              "</table>\n",
              "<p>214 rows × 11 columns</p>\n",
              "</div>\n",
              "      <button class=\"colab-df-convert\" onclick=\"convertToInteractive('df-69564927-3985-437a-8c0b-79ead2591855')\"\n",
              "              title=\"Convert this dataframe to an interactive table.\"\n",
              "              style=\"display:none;\">\n",
              "        \n",
              "  <svg xmlns=\"http://www.w3.org/2000/svg\" height=\"24px\"viewBox=\"0 0 24 24\"\n",
              "       width=\"24px\">\n",
              "    <path d=\"M0 0h24v24H0V0z\" fill=\"none\"/>\n",
              "    <path d=\"M18.56 5.44l.94 2.06.94-2.06 2.06-.94-2.06-.94-.94-2.06-.94 2.06-2.06.94zm-11 1L8.5 8.5l.94-2.06 2.06-.94-2.06-.94L8.5 2.5l-.94 2.06-2.06.94zm10 10l.94 2.06.94-2.06 2.06-.94-2.06-.94-.94-2.06-.94 2.06-2.06.94z\"/><path d=\"M17.41 7.96l-1.37-1.37c-.4-.4-.92-.59-1.43-.59-.52 0-1.04.2-1.43.59L10.3 9.45l-7.72 7.72c-.78.78-.78 2.05 0 2.83L4 21.41c.39.39.9.59 1.41.59.51 0 1.02-.2 1.41-.59l7.78-7.78 2.81-2.81c.8-.78.8-2.07 0-2.86zM5.41 20L4 18.59l7.72-7.72 1.47 1.35L5.41 20z\"/>\n",
              "  </svg>\n",
              "      </button>\n",
              "      \n",
              "  <style>\n",
              "    .colab-df-container {\n",
              "      display:flex;\n",
              "      flex-wrap:wrap;\n",
              "      gap: 12px;\n",
              "    }\n",
              "\n",
              "    .colab-df-convert {\n",
              "      background-color: #E8F0FE;\n",
              "      border: none;\n",
              "      border-radius: 50%;\n",
              "      cursor: pointer;\n",
              "      display: none;\n",
              "      fill: #1967D2;\n",
              "      height: 32px;\n",
              "      padding: 0 0 0 0;\n",
              "      width: 32px;\n",
              "    }\n",
              "\n",
              "    .colab-df-convert:hover {\n",
              "      background-color: #E2EBFA;\n",
              "      box-shadow: 0px 1px 2px rgba(60, 64, 67, 0.3), 0px 1px 3px 1px rgba(60, 64, 67, 0.15);\n",
              "      fill: #174EA6;\n",
              "    }\n",
              "\n",
              "    [theme=dark] .colab-df-convert {\n",
              "      background-color: #3B4455;\n",
              "      fill: #D2E3FC;\n",
              "    }\n",
              "\n",
              "    [theme=dark] .colab-df-convert:hover {\n",
              "      background-color: #434B5C;\n",
              "      box-shadow: 0px 1px 3px 1px rgba(0, 0, 0, 0.15);\n",
              "      filter: drop-shadow(0px 1px 2px rgba(0, 0, 0, 0.3));\n",
              "      fill: #FFFFFF;\n",
              "    }\n",
              "  </style>\n",
              "\n",
              "      <script>\n",
              "        const buttonEl =\n",
              "          document.querySelector('#df-69564927-3985-437a-8c0b-79ead2591855 button.colab-df-convert');\n",
              "        buttonEl.style.display =\n",
              "          google.colab.kernel.accessAllowed ? 'block' : 'none';\n",
              "\n",
              "        async function convertToInteractive(key) {\n",
              "          const element = document.querySelector('#df-69564927-3985-437a-8c0b-79ead2591855');\n",
              "          const dataTable =\n",
              "            await google.colab.kernel.invokeFunction('convertToInteractive',\n",
              "                                                     [key], {});\n",
              "          if (!dataTable) return;\n",
              "\n",
              "          const docLinkHtml = 'Like what you see? Visit the ' +\n",
              "            '<a target=\"_blank\" href=https://colab.research.google.com/notebooks/data_table.ipynb>data table notebook</a>'\n",
              "            + ' to learn more about interactive tables.';\n",
              "          element.innerHTML = '';\n",
              "          dataTable['output_type'] = 'display_data';\n",
              "          await google.colab.output.renderOutput(dataTable, element);\n",
              "          const docLink = document.createElement('div');\n",
              "          docLink.innerHTML = docLinkHtml;\n",
              "          element.appendChild(docLink);\n",
              "        }\n",
              "      </script>\n",
              "    </div>\n",
              "  </div>\n",
              "  "
            ]
          },
          "metadata": {}
        }
      ]
    },
    {
      "cell_type": "markdown",
      "metadata": {
        "id": "Eo9HM0n9NqvX"
      },
      "source": [
        "##### **Memberikan Nama Kolom pada *DataFrame***"
      ]
    },
    {
      "cell_type": "code",
      "source": [
        "# Kita akan menggunakan data yang berasal dari remote untuk langkah-langkah berikutnya\n",
        "df = df1"
      ],
      "metadata": {
        "id": "f-Sug_-SQgrs"
      },
      "execution_count": null,
      "outputs": []
    },
    {
      "cell_type": "code",
      "metadata": {
        "id": "5Qul6TbLNqvX",
        "colab": {
          "base_uri": "https://localhost:8080/",
          "height": 423
        },
        "outputId": "2b3c40c0-988f-489a-e8aa-a5917f5065f3"
      },
      "source": [
        "df.columns = ['Id number', 'RI', 'Na', 'Mg',\n",
        "              'Al', 'Si', 'K', 'Ca',\n",
        "              'Ba', 'Fe', 'Type-of-glass']\n",
        "df"
      ],
      "execution_count": null,
      "outputs": [
        {
          "output_type": "execute_result",
          "data": {
            "text/plain": [
              "     Id number       RI     Na    Mg    Al     Si     K    Ca    Ba   Fe  \\\n",
              "0            1  1.52101  13.64  4.49  1.10  71.78  0.06  8.75  0.00  0.0   \n",
              "1            2  1.51761  13.89  3.60  1.36  72.73  0.48  7.83  0.00  0.0   \n",
              "2            3  1.51618  13.53  3.55  1.54  72.99  0.39  7.78  0.00  0.0   \n",
              "3            4  1.51766  13.21  3.69  1.29  72.61  0.57  8.22  0.00  0.0   \n",
              "4            5  1.51742  13.27  3.62  1.24  73.08  0.55  8.07  0.00  0.0   \n",
              "..         ...      ...    ...   ...   ...    ...   ...   ...   ...  ...   \n",
              "209        210  1.51623  14.14  0.00  2.88  72.61  0.08  9.18  1.06  0.0   \n",
              "210        211  1.51685  14.92  0.00  1.99  73.06  0.00  8.40  1.59  0.0   \n",
              "211        212  1.52065  14.36  0.00  2.02  73.42  0.00  8.44  1.64  0.0   \n",
              "212        213  1.51651  14.38  0.00  1.94  73.61  0.00  8.48  1.57  0.0   \n",
              "213        214  1.51711  14.23  0.00  2.08  73.36  0.00  8.62  1.67  0.0   \n",
              "\n",
              "     Type-of-glass  \n",
              "0                1  \n",
              "1                1  \n",
              "2                1  \n",
              "3                1  \n",
              "4                1  \n",
              "..             ...  \n",
              "209              7  \n",
              "210              7  \n",
              "211              7  \n",
              "212              7  \n",
              "213              7  \n",
              "\n",
              "[214 rows x 11 columns]"
            ],
            "text/html": [
              "\n",
              "  <div id=\"df-f61586af-265b-4ebe-a8dd-f068d4d7729b\">\n",
              "    <div class=\"colab-df-container\">\n",
              "      <div>\n",
              "<style scoped>\n",
              "    .dataframe tbody tr th:only-of-type {\n",
              "        vertical-align: middle;\n",
              "    }\n",
              "\n",
              "    .dataframe tbody tr th {\n",
              "        vertical-align: top;\n",
              "    }\n",
              "\n",
              "    .dataframe thead th {\n",
              "        text-align: right;\n",
              "    }\n",
              "</style>\n",
              "<table border=\"1\" class=\"dataframe\">\n",
              "  <thead>\n",
              "    <tr style=\"text-align: right;\">\n",
              "      <th></th>\n",
              "      <th>Id number</th>\n",
              "      <th>RI</th>\n",
              "      <th>Na</th>\n",
              "      <th>Mg</th>\n",
              "      <th>Al</th>\n",
              "      <th>Si</th>\n",
              "      <th>K</th>\n",
              "      <th>Ca</th>\n",
              "      <th>Ba</th>\n",
              "      <th>Fe</th>\n",
              "      <th>Type-of-glass</th>\n",
              "    </tr>\n",
              "  </thead>\n",
              "  <tbody>\n",
              "    <tr>\n",
              "      <th>0</th>\n",
              "      <td>1</td>\n",
              "      <td>1.52101</td>\n",
              "      <td>13.64</td>\n",
              "      <td>4.49</td>\n",
              "      <td>1.10</td>\n",
              "      <td>71.78</td>\n",
              "      <td>0.06</td>\n",
              "      <td>8.75</td>\n",
              "      <td>0.00</td>\n",
              "      <td>0.0</td>\n",
              "      <td>1</td>\n",
              "    </tr>\n",
              "    <tr>\n",
              "      <th>1</th>\n",
              "      <td>2</td>\n",
              "      <td>1.51761</td>\n",
              "      <td>13.89</td>\n",
              "      <td>3.60</td>\n",
              "      <td>1.36</td>\n",
              "      <td>72.73</td>\n",
              "      <td>0.48</td>\n",
              "      <td>7.83</td>\n",
              "      <td>0.00</td>\n",
              "      <td>0.0</td>\n",
              "      <td>1</td>\n",
              "    </tr>\n",
              "    <tr>\n",
              "      <th>2</th>\n",
              "      <td>3</td>\n",
              "      <td>1.51618</td>\n",
              "      <td>13.53</td>\n",
              "      <td>3.55</td>\n",
              "      <td>1.54</td>\n",
              "      <td>72.99</td>\n",
              "      <td>0.39</td>\n",
              "      <td>7.78</td>\n",
              "      <td>0.00</td>\n",
              "      <td>0.0</td>\n",
              "      <td>1</td>\n",
              "    </tr>\n",
              "    <tr>\n",
              "      <th>3</th>\n",
              "      <td>4</td>\n",
              "      <td>1.51766</td>\n",
              "      <td>13.21</td>\n",
              "      <td>3.69</td>\n",
              "      <td>1.29</td>\n",
              "      <td>72.61</td>\n",
              "      <td>0.57</td>\n",
              "      <td>8.22</td>\n",
              "      <td>0.00</td>\n",
              "      <td>0.0</td>\n",
              "      <td>1</td>\n",
              "    </tr>\n",
              "    <tr>\n",
              "      <th>4</th>\n",
              "      <td>5</td>\n",
              "      <td>1.51742</td>\n",
              "      <td>13.27</td>\n",
              "      <td>3.62</td>\n",
              "      <td>1.24</td>\n",
              "      <td>73.08</td>\n",
              "      <td>0.55</td>\n",
              "      <td>8.07</td>\n",
              "      <td>0.00</td>\n",
              "      <td>0.0</td>\n",
              "      <td>1</td>\n",
              "    </tr>\n",
              "    <tr>\n",
              "      <th>...</th>\n",
              "      <td>...</td>\n",
              "      <td>...</td>\n",
              "      <td>...</td>\n",
              "      <td>...</td>\n",
              "      <td>...</td>\n",
              "      <td>...</td>\n",
              "      <td>...</td>\n",
              "      <td>...</td>\n",
              "      <td>...</td>\n",
              "      <td>...</td>\n",
              "      <td>...</td>\n",
              "    </tr>\n",
              "    <tr>\n",
              "      <th>209</th>\n",
              "      <td>210</td>\n",
              "      <td>1.51623</td>\n",
              "      <td>14.14</td>\n",
              "      <td>0.00</td>\n",
              "      <td>2.88</td>\n",
              "      <td>72.61</td>\n",
              "      <td>0.08</td>\n",
              "      <td>9.18</td>\n",
              "      <td>1.06</td>\n",
              "      <td>0.0</td>\n",
              "      <td>7</td>\n",
              "    </tr>\n",
              "    <tr>\n",
              "      <th>210</th>\n",
              "      <td>211</td>\n",
              "      <td>1.51685</td>\n",
              "      <td>14.92</td>\n",
              "      <td>0.00</td>\n",
              "      <td>1.99</td>\n",
              "      <td>73.06</td>\n",
              "      <td>0.00</td>\n",
              "      <td>8.40</td>\n",
              "      <td>1.59</td>\n",
              "      <td>0.0</td>\n",
              "      <td>7</td>\n",
              "    </tr>\n",
              "    <tr>\n",
              "      <th>211</th>\n",
              "      <td>212</td>\n",
              "      <td>1.52065</td>\n",
              "      <td>14.36</td>\n",
              "      <td>0.00</td>\n",
              "      <td>2.02</td>\n",
              "      <td>73.42</td>\n",
              "      <td>0.00</td>\n",
              "      <td>8.44</td>\n",
              "      <td>1.64</td>\n",
              "      <td>0.0</td>\n",
              "      <td>7</td>\n",
              "    </tr>\n",
              "    <tr>\n",
              "      <th>212</th>\n",
              "      <td>213</td>\n",
              "      <td>1.51651</td>\n",
              "      <td>14.38</td>\n",
              "      <td>0.00</td>\n",
              "      <td>1.94</td>\n",
              "      <td>73.61</td>\n",
              "      <td>0.00</td>\n",
              "      <td>8.48</td>\n",
              "      <td>1.57</td>\n",
              "      <td>0.0</td>\n",
              "      <td>7</td>\n",
              "    </tr>\n",
              "    <tr>\n",
              "      <th>213</th>\n",
              "      <td>214</td>\n",
              "      <td>1.51711</td>\n",
              "      <td>14.23</td>\n",
              "      <td>0.00</td>\n",
              "      <td>2.08</td>\n",
              "      <td>73.36</td>\n",
              "      <td>0.00</td>\n",
              "      <td>8.62</td>\n",
              "      <td>1.67</td>\n",
              "      <td>0.0</td>\n",
              "      <td>7</td>\n",
              "    </tr>\n",
              "  </tbody>\n",
              "</table>\n",
              "<p>214 rows × 11 columns</p>\n",
              "</div>\n",
              "      <button class=\"colab-df-convert\" onclick=\"convertToInteractive('df-f61586af-265b-4ebe-a8dd-f068d4d7729b')\"\n",
              "              title=\"Convert this dataframe to an interactive table.\"\n",
              "              style=\"display:none;\">\n",
              "        \n",
              "  <svg xmlns=\"http://www.w3.org/2000/svg\" height=\"24px\"viewBox=\"0 0 24 24\"\n",
              "       width=\"24px\">\n",
              "    <path d=\"M0 0h24v24H0V0z\" fill=\"none\"/>\n",
              "    <path d=\"M18.56 5.44l.94 2.06.94-2.06 2.06-.94-2.06-.94-.94-2.06-.94 2.06-2.06.94zm-11 1L8.5 8.5l.94-2.06 2.06-.94-2.06-.94L8.5 2.5l-.94 2.06-2.06.94zm10 10l.94 2.06.94-2.06 2.06-.94-2.06-.94-.94-2.06-.94 2.06-2.06.94z\"/><path d=\"M17.41 7.96l-1.37-1.37c-.4-.4-.92-.59-1.43-.59-.52 0-1.04.2-1.43.59L10.3 9.45l-7.72 7.72c-.78.78-.78 2.05 0 2.83L4 21.41c.39.39.9.59 1.41.59.51 0 1.02-.2 1.41-.59l7.78-7.78 2.81-2.81c.8-.78.8-2.07 0-2.86zM5.41 20L4 18.59l7.72-7.72 1.47 1.35L5.41 20z\"/>\n",
              "  </svg>\n",
              "      </button>\n",
              "      \n",
              "  <style>\n",
              "    .colab-df-container {\n",
              "      display:flex;\n",
              "      flex-wrap:wrap;\n",
              "      gap: 12px;\n",
              "    }\n",
              "\n",
              "    .colab-df-convert {\n",
              "      background-color: #E8F0FE;\n",
              "      border: none;\n",
              "      border-radius: 50%;\n",
              "      cursor: pointer;\n",
              "      display: none;\n",
              "      fill: #1967D2;\n",
              "      height: 32px;\n",
              "      padding: 0 0 0 0;\n",
              "      width: 32px;\n",
              "    }\n",
              "\n",
              "    .colab-df-convert:hover {\n",
              "      background-color: #E2EBFA;\n",
              "      box-shadow: 0px 1px 2px rgba(60, 64, 67, 0.3), 0px 1px 3px 1px rgba(60, 64, 67, 0.15);\n",
              "      fill: #174EA6;\n",
              "    }\n",
              "\n",
              "    [theme=dark] .colab-df-convert {\n",
              "      background-color: #3B4455;\n",
              "      fill: #D2E3FC;\n",
              "    }\n",
              "\n",
              "    [theme=dark] .colab-df-convert:hover {\n",
              "      background-color: #434B5C;\n",
              "      box-shadow: 0px 1px 3px 1px rgba(0, 0, 0, 0.15);\n",
              "      filter: drop-shadow(0px 1px 2px rgba(0, 0, 0, 0.3));\n",
              "      fill: #FFFFFF;\n",
              "    }\n",
              "  </style>\n",
              "\n",
              "      <script>\n",
              "        const buttonEl =\n",
              "          document.querySelector('#df-f61586af-265b-4ebe-a8dd-f068d4d7729b button.colab-df-convert');\n",
              "        buttonEl.style.display =\n",
              "          google.colab.kernel.accessAllowed ? 'block' : 'none';\n",
              "\n",
              "        async function convertToInteractive(key) {\n",
              "          const element = document.querySelector('#df-f61586af-265b-4ebe-a8dd-f068d4d7729b');\n",
              "          const dataTable =\n",
              "            await google.colab.kernel.invokeFunction('convertToInteractive',\n",
              "                                                     [key], {});\n",
              "          if (!dataTable) return;\n",
              "\n",
              "          const docLinkHtml = 'Like what you see? Visit the ' +\n",
              "            '<a target=\"_blank\" href=https://colab.research.google.com/notebooks/data_table.ipynb>data table notebook</a>'\n",
              "            + ' to learn more about interactive tables.';\n",
              "          element.innerHTML = '';\n",
              "          dataTable['output_type'] = 'display_data';\n",
              "          await google.colab.output.renderOutput(dataTable, element);\n",
              "          const docLink = document.createElement('div');\n",
              "          docLink.innerHTML = docLinkHtml;\n",
              "          element.appendChild(docLink);\n",
              "        }\n",
              "      </script>\n",
              "    </div>\n",
              "  </div>\n",
              "  "
            ]
          },
          "metadata": {},
          "execution_count": 134
        }
      ]
    },
    {
      "cell_type": "markdown",
      "metadata": {
        "id": "0gLGlnTDIx-E"
      },
      "source": [
        "### **Deskripsi Dataset \"glass\"**\n",
        "\n",
        "* `Id number`: 1 to 214\n",
        "* `RI`: refractive index\n",
        "* `Na`: Sodium (unit measurement: weight percent in corresponding oxide, as are attributes 4-10)\n",
        "* `Mg`: Magnesium\n",
        "* `Al`: Aluminum\n",
        "* `Si`: Silicon\n",
        "* `K`: Potassium\n",
        "* `Ca`: Calcium\n",
        "* `Ba`: Barium\n",
        "* `Fe`: Iron\n",
        "* `Type-of-glass`: (class attribute)\n",
        "\n",
        "Sumber data set: https://archive.ics.uci.edu/ml/datasets/Glass+Identification"
      ]
    },
    {
      "cell_type": "markdown",
      "source": [
        "### **Melihat Cuplikan Data dari Objek *DataFrame***"
      ],
      "metadata": {
        "id": "0_bO24s-KhWh"
      }
    },
    {
      "cell_type": "markdown",
      "metadata": {
        "id": "Y_FQ6iLENqvX"
      },
      "source": [
        "Gunakan _method_ <code>head()</code> untuk melihat hanya 5 baris pertama dari _DataFrame_. Parameter dalam <code>head()</code> juga dapat diubah sesuai jumlah baris yang ingin ditampilkan. Gunakan <code>tail()</code> untuk melihat 5 baris terakhir."
      ]
    },
    {
      "cell_type": "code",
      "metadata": {
        "id": "ZF5MEviDNqvY",
        "colab": {
          "base_uri": "https://localhost:8080/",
          "height": 206
        },
        "outputId": "c3572a41-9acd-49b0-8163-7c3c7532d053"
      },
      "source": [
        "df.head()"
      ],
      "execution_count": null,
      "outputs": [
        {
          "output_type": "execute_result",
          "data": {
            "text/plain": [
              "   Id number       RI     Na    Mg    Al     Si     K    Ca   Ba   Fe  \\\n",
              "0          1  1.52101  13.64  4.49  1.10  71.78  0.06  8.75  0.0  0.0   \n",
              "1          2  1.51761  13.89  3.60  1.36  72.73  0.48  7.83  0.0  0.0   \n",
              "2          3  1.51618  13.53  3.55  1.54  72.99  0.39  7.78  0.0  0.0   \n",
              "3          4  1.51766  13.21  3.69  1.29  72.61  0.57  8.22  0.0  0.0   \n",
              "4          5  1.51742  13.27  3.62  1.24  73.08  0.55  8.07  0.0  0.0   \n",
              "\n",
              "   Type-of-glass  \n",
              "0              1  \n",
              "1              1  \n",
              "2              1  \n",
              "3              1  \n",
              "4              1  "
            ],
            "text/html": [
              "\n",
              "  <div id=\"df-e64fe446-ece4-4f60-99c2-52b452eb2cfa\">\n",
              "    <div class=\"colab-df-container\">\n",
              "      <div>\n",
              "<style scoped>\n",
              "    .dataframe tbody tr th:only-of-type {\n",
              "        vertical-align: middle;\n",
              "    }\n",
              "\n",
              "    .dataframe tbody tr th {\n",
              "        vertical-align: top;\n",
              "    }\n",
              "\n",
              "    .dataframe thead th {\n",
              "        text-align: right;\n",
              "    }\n",
              "</style>\n",
              "<table border=\"1\" class=\"dataframe\">\n",
              "  <thead>\n",
              "    <tr style=\"text-align: right;\">\n",
              "      <th></th>\n",
              "      <th>Id number</th>\n",
              "      <th>RI</th>\n",
              "      <th>Na</th>\n",
              "      <th>Mg</th>\n",
              "      <th>Al</th>\n",
              "      <th>Si</th>\n",
              "      <th>K</th>\n",
              "      <th>Ca</th>\n",
              "      <th>Ba</th>\n",
              "      <th>Fe</th>\n",
              "      <th>Type-of-glass</th>\n",
              "    </tr>\n",
              "  </thead>\n",
              "  <tbody>\n",
              "    <tr>\n",
              "      <th>0</th>\n",
              "      <td>1</td>\n",
              "      <td>1.52101</td>\n",
              "      <td>13.64</td>\n",
              "      <td>4.49</td>\n",
              "      <td>1.10</td>\n",
              "      <td>71.78</td>\n",
              "      <td>0.06</td>\n",
              "      <td>8.75</td>\n",
              "      <td>0.0</td>\n",
              "      <td>0.0</td>\n",
              "      <td>1</td>\n",
              "    </tr>\n",
              "    <tr>\n",
              "      <th>1</th>\n",
              "      <td>2</td>\n",
              "      <td>1.51761</td>\n",
              "      <td>13.89</td>\n",
              "      <td>3.60</td>\n",
              "      <td>1.36</td>\n",
              "      <td>72.73</td>\n",
              "      <td>0.48</td>\n",
              "      <td>7.83</td>\n",
              "      <td>0.0</td>\n",
              "      <td>0.0</td>\n",
              "      <td>1</td>\n",
              "    </tr>\n",
              "    <tr>\n",
              "      <th>2</th>\n",
              "      <td>3</td>\n",
              "      <td>1.51618</td>\n",
              "      <td>13.53</td>\n",
              "      <td>3.55</td>\n",
              "      <td>1.54</td>\n",
              "      <td>72.99</td>\n",
              "      <td>0.39</td>\n",
              "      <td>7.78</td>\n",
              "      <td>0.0</td>\n",
              "      <td>0.0</td>\n",
              "      <td>1</td>\n",
              "    </tr>\n",
              "    <tr>\n",
              "      <th>3</th>\n",
              "      <td>4</td>\n",
              "      <td>1.51766</td>\n",
              "      <td>13.21</td>\n",
              "      <td>3.69</td>\n",
              "      <td>1.29</td>\n",
              "      <td>72.61</td>\n",
              "      <td>0.57</td>\n",
              "      <td>8.22</td>\n",
              "      <td>0.0</td>\n",
              "      <td>0.0</td>\n",
              "      <td>1</td>\n",
              "    </tr>\n",
              "    <tr>\n",
              "      <th>4</th>\n",
              "      <td>5</td>\n",
              "      <td>1.51742</td>\n",
              "      <td>13.27</td>\n",
              "      <td>3.62</td>\n",
              "      <td>1.24</td>\n",
              "      <td>73.08</td>\n",
              "      <td>0.55</td>\n",
              "      <td>8.07</td>\n",
              "      <td>0.0</td>\n",
              "      <td>0.0</td>\n",
              "      <td>1</td>\n",
              "    </tr>\n",
              "  </tbody>\n",
              "</table>\n",
              "</div>\n",
              "      <button class=\"colab-df-convert\" onclick=\"convertToInteractive('df-e64fe446-ece4-4f60-99c2-52b452eb2cfa')\"\n",
              "              title=\"Convert this dataframe to an interactive table.\"\n",
              "              style=\"display:none;\">\n",
              "        \n",
              "  <svg xmlns=\"http://www.w3.org/2000/svg\" height=\"24px\"viewBox=\"0 0 24 24\"\n",
              "       width=\"24px\">\n",
              "    <path d=\"M0 0h24v24H0V0z\" fill=\"none\"/>\n",
              "    <path d=\"M18.56 5.44l.94 2.06.94-2.06 2.06-.94-2.06-.94-.94-2.06-.94 2.06-2.06.94zm-11 1L8.5 8.5l.94-2.06 2.06-.94-2.06-.94L8.5 2.5l-.94 2.06-2.06.94zm10 10l.94 2.06.94-2.06 2.06-.94-2.06-.94-.94-2.06-.94 2.06-2.06.94z\"/><path d=\"M17.41 7.96l-1.37-1.37c-.4-.4-.92-.59-1.43-.59-.52 0-1.04.2-1.43.59L10.3 9.45l-7.72 7.72c-.78.78-.78 2.05 0 2.83L4 21.41c.39.39.9.59 1.41.59.51 0 1.02-.2 1.41-.59l7.78-7.78 2.81-2.81c.8-.78.8-2.07 0-2.86zM5.41 20L4 18.59l7.72-7.72 1.47 1.35L5.41 20z\"/>\n",
              "  </svg>\n",
              "      </button>\n",
              "      \n",
              "  <style>\n",
              "    .colab-df-container {\n",
              "      display:flex;\n",
              "      flex-wrap:wrap;\n",
              "      gap: 12px;\n",
              "    }\n",
              "\n",
              "    .colab-df-convert {\n",
              "      background-color: #E8F0FE;\n",
              "      border: none;\n",
              "      border-radius: 50%;\n",
              "      cursor: pointer;\n",
              "      display: none;\n",
              "      fill: #1967D2;\n",
              "      height: 32px;\n",
              "      padding: 0 0 0 0;\n",
              "      width: 32px;\n",
              "    }\n",
              "\n",
              "    .colab-df-convert:hover {\n",
              "      background-color: #E2EBFA;\n",
              "      box-shadow: 0px 1px 2px rgba(60, 64, 67, 0.3), 0px 1px 3px 1px rgba(60, 64, 67, 0.15);\n",
              "      fill: #174EA6;\n",
              "    }\n",
              "\n",
              "    [theme=dark] .colab-df-convert {\n",
              "      background-color: #3B4455;\n",
              "      fill: #D2E3FC;\n",
              "    }\n",
              "\n",
              "    [theme=dark] .colab-df-convert:hover {\n",
              "      background-color: #434B5C;\n",
              "      box-shadow: 0px 1px 3px 1px rgba(0, 0, 0, 0.15);\n",
              "      filter: drop-shadow(0px 1px 2px rgba(0, 0, 0, 0.3));\n",
              "      fill: #FFFFFF;\n",
              "    }\n",
              "  </style>\n",
              "\n",
              "      <script>\n",
              "        const buttonEl =\n",
              "          document.querySelector('#df-e64fe446-ece4-4f60-99c2-52b452eb2cfa button.colab-df-convert');\n",
              "        buttonEl.style.display =\n",
              "          google.colab.kernel.accessAllowed ? 'block' : 'none';\n",
              "\n",
              "        async function convertToInteractive(key) {\n",
              "          const element = document.querySelector('#df-e64fe446-ece4-4f60-99c2-52b452eb2cfa');\n",
              "          const dataTable =\n",
              "            await google.colab.kernel.invokeFunction('convertToInteractive',\n",
              "                                                     [key], {});\n",
              "          if (!dataTable) return;\n",
              "\n",
              "          const docLinkHtml = 'Like what you see? Visit the ' +\n",
              "            '<a target=\"_blank\" href=https://colab.research.google.com/notebooks/data_table.ipynb>data table notebook</a>'\n",
              "            + ' to learn more about interactive tables.';\n",
              "          element.innerHTML = '';\n",
              "          dataTable['output_type'] = 'display_data';\n",
              "          await google.colab.output.renderOutput(dataTable, element);\n",
              "          const docLink = document.createElement('div');\n",
              "          docLink.innerHTML = docLinkHtml;\n",
              "          element.appendChild(docLink);\n",
              "        }\n",
              "      </script>\n",
              "    </div>\n",
              "  </div>\n",
              "  "
            ]
          },
          "metadata": {},
          "execution_count": 135
        }
      ]
    },
    {
      "cell_type": "code",
      "source": [
        "# Menampilkan 7 baris pertama\n",
        "df.head(7)"
      ],
      "metadata": {
        "id": "7V8zJUjKDzMT",
        "colab": {
          "base_uri": "https://localhost:8080/",
          "height": 269
        },
        "outputId": "f2599bfa-9e06-436f-8900-e38825a8e410"
      },
      "execution_count": null,
      "outputs": [
        {
          "output_type": "execute_result",
          "data": {
            "text/plain": [
              "   Id number       RI     Na    Mg    Al     Si     K    Ca   Ba    Fe  \\\n",
              "0          1  1.52101  13.64  4.49  1.10  71.78  0.06  8.75  0.0  0.00   \n",
              "1          2  1.51761  13.89  3.60  1.36  72.73  0.48  7.83  0.0  0.00   \n",
              "2          3  1.51618  13.53  3.55  1.54  72.99  0.39  7.78  0.0  0.00   \n",
              "3          4  1.51766  13.21  3.69  1.29  72.61  0.57  8.22  0.0  0.00   \n",
              "4          5  1.51742  13.27  3.62  1.24  73.08  0.55  8.07  0.0  0.00   \n",
              "5          6  1.51596  12.79  3.61  1.62  72.97  0.64  8.07  0.0  0.26   \n",
              "6          7  1.51743  13.30  3.60  1.14  73.09  0.58  8.17  0.0  0.00   \n",
              "\n",
              "   Type-of-glass  \n",
              "0              1  \n",
              "1              1  \n",
              "2              1  \n",
              "3              1  \n",
              "4              1  \n",
              "5              1  \n",
              "6              1  "
            ],
            "text/html": [
              "\n",
              "  <div id=\"df-1a2ddd59-745b-4c2a-86f3-caa67620be7f\">\n",
              "    <div class=\"colab-df-container\">\n",
              "      <div>\n",
              "<style scoped>\n",
              "    .dataframe tbody tr th:only-of-type {\n",
              "        vertical-align: middle;\n",
              "    }\n",
              "\n",
              "    .dataframe tbody tr th {\n",
              "        vertical-align: top;\n",
              "    }\n",
              "\n",
              "    .dataframe thead th {\n",
              "        text-align: right;\n",
              "    }\n",
              "</style>\n",
              "<table border=\"1\" class=\"dataframe\">\n",
              "  <thead>\n",
              "    <tr style=\"text-align: right;\">\n",
              "      <th></th>\n",
              "      <th>Id number</th>\n",
              "      <th>RI</th>\n",
              "      <th>Na</th>\n",
              "      <th>Mg</th>\n",
              "      <th>Al</th>\n",
              "      <th>Si</th>\n",
              "      <th>K</th>\n",
              "      <th>Ca</th>\n",
              "      <th>Ba</th>\n",
              "      <th>Fe</th>\n",
              "      <th>Type-of-glass</th>\n",
              "    </tr>\n",
              "  </thead>\n",
              "  <tbody>\n",
              "    <tr>\n",
              "      <th>0</th>\n",
              "      <td>1</td>\n",
              "      <td>1.52101</td>\n",
              "      <td>13.64</td>\n",
              "      <td>4.49</td>\n",
              "      <td>1.10</td>\n",
              "      <td>71.78</td>\n",
              "      <td>0.06</td>\n",
              "      <td>8.75</td>\n",
              "      <td>0.0</td>\n",
              "      <td>0.00</td>\n",
              "      <td>1</td>\n",
              "    </tr>\n",
              "    <tr>\n",
              "      <th>1</th>\n",
              "      <td>2</td>\n",
              "      <td>1.51761</td>\n",
              "      <td>13.89</td>\n",
              "      <td>3.60</td>\n",
              "      <td>1.36</td>\n",
              "      <td>72.73</td>\n",
              "      <td>0.48</td>\n",
              "      <td>7.83</td>\n",
              "      <td>0.0</td>\n",
              "      <td>0.00</td>\n",
              "      <td>1</td>\n",
              "    </tr>\n",
              "    <tr>\n",
              "      <th>2</th>\n",
              "      <td>3</td>\n",
              "      <td>1.51618</td>\n",
              "      <td>13.53</td>\n",
              "      <td>3.55</td>\n",
              "      <td>1.54</td>\n",
              "      <td>72.99</td>\n",
              "      <td>0.39</td>\n",
              "      <td>7.78</td>\n",
              "      <td>0.0</td>\n",
              "      <td>0.00</td>\n",
              "      <td>1</td>\n",
              "    </tr>\n",
              "    <tr>\n",
              "      <th>3</th>\n",
              "      <td>4</td>\n",
              "      <td>1.51766</td>\n",
              "      <td>13.21</td>\n",
              "      <td>3.69</td>\n",
              "      <td>1.29</td>\n",
              "      <td>72.61</td>\n",
              "      <td>0.57</td>\n",
              "      <td>8.22</td>\n",
              "      <td>0.0</td>\n",
              "      <td>0.00</td>\n",
              "      <td>1</td>\n",
              "    </tr>\n",
              "    <tr>\n",
              "      <th>4</th>\n",
              "      <td>5</td>\n",
              "      <td>1.51742</td>\n",
              "      <td>13.27</td>\n",
              "      <td>3.62</td>\n",
              "      <td>1.24</td>\n",
              "      <td>73.08</td>\n",
              "      <td>0.55</td>\n",
              "      <td>8.07</td>\n",
              "      <td>0.0</td>\n",
              "      <td>0.00</td>\n",
              "      <td>1</td>\n",
              "    </tr>\n",
              "    <tr>\n",
              "      <th>5</th>\n",
              "      <td>6</td>\n",
              "      <td>1.51596</td>\n",
              "      <td>12.79</td>\n",
              "      <td>3.61</td>\n",
              "      <td>1.62</td>\n",
              "      <td>72.97</td>\n",
              "      <td>0.64</td>\n",
              "      <td>8.07</td>\n",
              "      <td>0.0</td>\n",
              "      <td>0.26</td>\n",
              "      <td>1</td>\n",
              "    </tr>\n",
              "    <tr>\n",
              "      <th>6</th>\n",
              "      <td>7</td>\n",
              "      <td>1.51743</td>\n",
              "      <td>13.30</td>\n",
              "      <td>3.60</td>\n",
              "      <td>1.14</td>\n",
              "      <td>73.09</td>\n",
              "      <td>0.58</td>\n",
              "      <td>8.17</td>\n",
              "      <td>0.0</td>\n",
              "      <td>0.00</td>\n",
              "      <td>1</td>\n",
              "    </tr>\n",
              "  </tbody>\n",
              "</table>\n",
              "</div>\n",
              "      <button class=\"colab-df-convert\" onclick=\"convertToInteractive('df-1a2ddd59-745b-4c2a-86f3-caa67620be7f')\"\n",
              "              title=\"Convert this dataframe to an interactive table.\"\n",
              "              style=\"display:none;\">\n",
              "        \n",
              "  <svg xmlns=\"http://www.w3.org/2000/svg\" height=\"24px\"viewBox=\"0 0 24 24\"\n",
              "       width=\"24px\">\n",
              "    <path d=\"M0 0h24v24H0V0z\" fill=\"none\"/>\n",
              "    <path d=\"M18.56 5.44l.94 2.06.94-2.06 2.06-.94-2.06-.94-.94-2.06-.94 2.06-2.06.94zm-11 1L8.5 8.5l.94-2.06 2.06-.94-2.06-.94L8.5 2.5l-.94 2.06-2.06.94zm10 10l.94 2.06.94-2.06 2.06-.94-2.06-.94-.94-2.06-.94 2.06-2.06.94z\"/><path d=\"M17.41 7.96l-1.37-1.37c-.4-.4-.92-.59-1.43-.59-.52 0-1.04.2-1.43.59L10.3 9.45l-7.72 7.72c-.78.78-.78 2.05 0 2.83L4 21.41c.39.39.9.59 1.41.59.51 0 1.02-.2 1.41-.59l7.78-7.78 2.81-2.81c.8-.78.8-2.07 0-2.86zM5.41 20L4 18.59l7.72-7.72 1.47 1.35L5.41 20z\"/>\n",
              "  </svg>\n",
              "      </button>\n",
              "      \n",
              "  <style>\n",
              "    .colab-df-container {\n",
              "      display:flex;\n",
              "      flex-wrap:wrap;\n",
              "      gap: 12px;\n",
              "    }\n",
              "\n",
              "    .colab-df-convert {\n",
              "      background-color: #E8F0FE;\n",
              "      border: none;\n",
              "      border-radius: 50%;\n",
              "      cursor: pointer;\n",
              "      display: none;\n",
              "      fill: #1967D2;\n",
              "      height: 32px;\n",
              "      padding: 0 0 0 0;\n",
              "      width: 32px;\n",
              "    }\n",
              "\n",
              "    .colab-df-convert:hover {\n",
              "      background-color: #E2EBFA;\n",
              "      box-shadow: 0px 1px 2px rgba(60, 64, 67, 0.3), 0px 1px 3px 1px rgba(60, 64, 67, 0.15);\n",
              "      fill: #174EA6;\n",
              "    }\n",
              "\n",
              "    [theme=dark] .colab-df-convert {\n",
              "      background-color: #3B4455;\n",
              "      fill: #D2E3FC;\n",
              "    }\n",
              "\n",
              "    [theme=dark] .colab-df-convert:hover {\n",
              "      background-color: #434B5C;\n",
              "      box-shadow: 0px 1px 3px 1px rgba(0, 0, 0, 0.15);\n",
              "      filter: drop-shadow(0px 1px 2px rgba(0, 0, 0, 0.3));\n",
              "      fill: #FFFFFF;\n",
              "    }\n",
              "  </style>\n",
              "\n",
              "      <script>\n",
              "        const buttonEl =\n",
              "          document.querySelector('#df-1a2ddd59-745b-4c2a-86f3-caa67620be7f button.colab-df-convert');\n",
              "        buttonEl.style.display =\n",
              "          google.colab.kernel.accessAllowed ? 'block' : 'none';\n",
              "\n",
              "        async function convertToInteractive(key) {\n",
              "          const element = document.querySelector('#df-1a2ddd59-745b-4c2a-86f3-caa67620be7f');\n",
              "          const dataTable =\n",
              "            await google.colab.kernel.invokeFunction('convertToInteractive',\n",
              "                                                     [key], {});\n",
              "          if (!dataTable) return;\n",
              "\n",
              "          const docLinkHtml = 'Like what you see? Visit the ' +\n",
              "            '<a target=\"_blank\" href=https://colab.research.google.com/notebooks/data_table.ipynb>data table notebook</a>'\n",
              "            + ' to learn more about interactive tables.';\n",
              "          element.innerHTML = '';\n",
              "          dataTable['output_type'] = 'display_data';\n",
              "          await google.colab.output.renderOutput(dataTable, element);\n",
              "          const docLink = document.createElement('div');\n",
              "          docLink.innerHTML = docLinkHtml;\n",
              "          element.appendChild(docLink);\n",
              "        }\n",
              "      </script>\n",
              "    </div>\n",
              "  </div>\n",
              "  "
            ]
          },
          "metadata": {},
          "execution_count": 136
        }
      ]
    },
    {
      "cell_type": "code",
      "source": [
        "# Menampilkan 5 baris terakhir\n",
        "df.tail()"
      ],
      "metadata": {
        "colab": {
          "base_uri": "https://localhost:8080/",
          "height": 206
        },
        "id": "-7qWPMlt8woY",
        "outputId": "8b38ac87-059d-4528-b22c-08e420fe4b2f"
      },
      "execution_count": null,
      "outputs": [
        {
          "output_type": "execute_result",
          "data": {
            "text/plain": [
              "     Id number       RI     Na   Mg    Al     Si     K    Ca    Ba   Fe  \\\n",
              "209        210  1.51623  14.14  0.0  2.88  72.61  0.08  9.18  1.06  0.0   \n",
              "210        211  1.51685  14.92  0.0  1.99  73.06  0.00  8.40  1.59  0.0   \n",
              "211        212  1.52065  14.36  0.0  2.02  73.42  0.00  8.44  1.64  0.0   \n",
              "212        213  1.51651  14.38  0.0  1.94  73.61  0.00  8.48  1.57  0.0   \n",
              "213        214  1.51711  14.23  0.0  2.08  73.36  0.00  8.62  1.67  0.0   \n",
              "\n",
              "     Type-of-glass  \n",
              "209              7  \n",
              "210              7  \n",
              "211              7  \n",
              "212              7  \n",
              "213              7  "
            ],
            "text/html": [
              "\n",
              "  <div id=\"df-964cdead-42fa-4cca-a84e-ab7827da53e7\">\n",
              "    <div class=\"colab-df-container\">\n",
              "      <div>\n",
              "<style scoped>\n",
              "    .dataframe tbody tr th:only-of-type {\n",
              "        vertical-align: middle;\n",
              "    }\n",
              "\n",
              "    .dataframe tbody tr th {\n",
              "        vertical-align: top;\n",
              "    }\n",
              "\n",
              "    .dataframe thead th {\n",
              "        text-align: right;\n",
              "    }\n",
              "</style>\n",
              "<table border=\"1\" class=\"dataframe\">\n",
              "  <thead>\n",
              "    <tr style=\"text-align: right;\">\n",
              "      <th></th>\n",
              "      <th>Id number</th>\n",
              "      <th>RI</th>\n",
              "      <th>Na</th>\n",
              "      <th>Mg</th>\n",
              "      <th>Al</th>\n",
              "      <th>Si</th>\n",
              "      <th>K</th>\n",
              "      <th>Ca</th>\n",
              "      <th>Ba</th>\n",
              "      <th>Fe</th>\n",
              "      <th>Type-of-glass</th>\n",
              "    </tr>\n",
              "  </thead>\n",
              "  <tbody>\n",
              "    <tr>\n",
              "      <th>209</th>\n",
              "      <td>210</td>\n",
              "      <td>1.51623</td>\n",
              "      <td>14.14</td>\n",
              "      <td>0.0</td>\n",
              "      <td>2.88</td>\n",
              "      <td>72.61</td>\n",
              "      <td>0.08</td>\n",
              "      <td>9.18</td>\n",
              "      <td>1.06</td>\n",
              "      <td>0.0</td>\n",
              "      <td>7</td>\n",
              "    </tr>\n",
              "    <tr>\n",
              "      <th>210</th>\n",
              "      <td>211</td>\n",
              "      <td>1.51685</td>\n",
              "      <td>14.92</td>\n",
              "      <td>0.0</td>\n",
              "      <td>1.99</td>\n",
              "      <td>73.06</td>\n",
              "      <td>0.00</td>\n",
              "      <td>8.40</td>\n",
              "      <td>1.59</td>\n",
              "      <td>0.0</td>\n",
              "      <td>7</td>\n",
              "    </tr>\n",
              "    <tr>\n",
              "      <th>211</th>\n",
              "      <td>212</td>\n",
              "      <td>1.52065</td>\n",
              "      <td>14.36</td>\n",
              "      <td>0.0</td>\n",
              "      <td>2.02</td>\n",
              "      <td>73.42</td>\n",
              "      <td>0.00</td>\n",
              "      <td>8.44</td>\n",
              "      <td>1.64</td>\n",
              "      <td>0.0</td>\n",
              "      <td>7</td>\n",
              "    </tr>\n",
              "    <tr>\n",
              "      <th>212</th>\n",
              "      <td>213</td>\n",
              "      <td>1.51651</td>\n",
              "      <td>14.38</td>\n",
              "      <td>0.0</td>\n",
              "      <td>1.94</td>\n",
              "      <td>73.61</td>\n",
              "      <td>0.00</td>\n",
              "      <td>8.48</td>\n",
              "      <td>1.57</td>\n",
              "      <td>0.0</td>\n",
              "      <td>7</td>\n",
              "    </tr>\n",
              "    <tr>\n",
              "      <th>213</th>\n",
              "      <td>214</td>\n",
              "      <td>1.51711</td>\n",
              "      <td>14.23</td>\n",
              "      <td>0.0</td>\n",
              "      <td>2.08</td>\n",
              "      <td>73.36</td>\n",
              "      <td>0.00</td>\n",
              "      <td>8.62</td>\n",
              "      <td>1.67</td>\n",
              "      <td>0.0</td>\n",
              "      <td>7</td>\n",
              "    </tr>\n",
              "  </tbody>\n",
              "</table>\n",
              "</div>\n",
              "      <button class=\"colab-df-convert\" onclick=\"convertToInteractive('df-964cdead-42fa-4cca-a84e-ab7827da53e7')\"\n",
              "              title=\"Convert this dataframe to an interactive table.\"\n",
              "              style=\"display:none;\">\n",
              "        \n",
              "  <svg xmlns=\"http://www.w3.org/2000/svg\" height=\"24px\"viewBox=\"0 0 24 24\"\n",
              "       width=\"24px\">\n",
              "    <path d=\"M0 0h24v24H0V0z\" fill=\"none\"/>\n",
              "    <path d=\"M18.56 5.44l.94 2.06.94-2.06 2.06-.94-2.06-.94-.94-2.06-.94 2.06-2.06.94zm-11 1L8.5 8.5l.94-2.06 2.06-.94-2.06-.94L8.5 2.5l-.94 2.06-2.06.94zm10 10l.94 2.06.94-2.06 2.06-.94-2.06-.94-.94-2.06-.94 2.06-2.06.94z\"/><path d=\"M17.41 7.96l-1.37-1.37c-.4-.4-.92-.59-1.43-.59-.52 0-1.04.2-1.43.59L10.3 9.45l-7.72 7.72c-.78.78-.78 2.05 0 2.83L4 21.41c.39.39.9.59 1.41.59.51 0 1.02-.2 1.41-.59l7.78-7.78 2.81-2.81c.8-.78.8-2.07 0-2.86zM5.41 20L4 18.59l7.72-7.72 1.47 1.35L5.41 20z\"/>\n",
              "  </svg>\n",
              "      </button>\n",
              "      \n",
              "  <style>\n",
              "    .colab-df-container {\n",
              "      display:flex;\n",
              "      flex-wrap:wrap;\n",
              "      gap: 12px;\n",
              "    }\n",
              "\n",
              "    .colab-df-convert {\n",
              "      background-color: #E8F0FE;\n",
              "      border: none;\n",
              "      border-radius: 50%;\n",
              "      cursor: pointer;\n",
              "      display: none;\n",
              "      fill: #1967D2;\n",
              "      height: 32px;\n",
              "      padding: 0 0 0 0;\n",
              "      width: 32px;\n",
              "    }\n",
              "\n",
              "    .colab-df-convert:hover {\n",
              "      background-color: #E2EBFA;\n",
              "      box-shadow: 0px 1px 2px rgba(60, 64, 67, 0.3), 0px 1px 3px 1px rgba(60, 64, 67, 0.15);\n",
              "      fill: #174EA6;\n",
              "    }\n",
              "\n",
              "    [theme=dark] .colab-df-convert {\n",
              "      background-color: #3B4455;\n",
              "      fill: #D2E3FC;\n",
              "    }\n",
              "\n",
              "    [theme=dark] .colab-df-convert:hover {\n",
              "      background-color: #434B5C;\n",
              "      box-shadow: 0px 1px 3px 1px rgba(0, 0, 0, 0.15);\n",
              "      filter: drop-shadow(0px 1px 2px rgba(0, 0, 0, 0.3));\n",
              "      fill: #FFFFFF;\n",
              "    }\n",
              "  </style>\n",
              "\n",
              "      <script>\n",
              "        const buttonEl =\n",
              "          document.querySelector('#df-964cdead-42fa-4cca-a84e-ab7827da53e7 button.colab-df-convert');\n",
              "        buttonEl.style.display =\n",
              "          google.colab.kernel.accessAllowed ? 'block' : 'none';\n",
              "\n",
              "        async function convertToInteractive(key) {\n",
              "          const element = document.querySelector('#df-964cdead-42fa-4cca-a84e-ab7827da53e7');\n",
              "          const dataTable =\n",
              "            await google.colab.kernel.invokeFunction('convertToInteractive',\n",
              "                                                     [key], {});\n",
              "          if (!dataTable) return;\n",
              "\n",
              "          const docLinkHtml = 'Like what you see? Visit the ' +\n",
              "            '<a target=\"_blank\" href=https://colab.research.google.com/notebooks/data_table.ipynb>data table notebook</a>'\n",
              "            + ' to learn more about interactive tables.';\n",
              "          element.innerHTML = '';\n",
              "          dataTable['output_type'] = 'display_data';\n",
              "          await google.colab.output.renderOutput(dataTable, element);\n",
              "          const docLink = document.createElement('div');\n",
              "          docLink.innerHTML = docLinkHtml;\n",
              "          element.appendChild(docLink);\n",
              "        }\n",
              "      </script>\n",
              "    </div>\n",
              "  </div>\n",
              "  "
            ]
          },
          "metadata": {},
          "execution_count": 137
        }
      ]
    },
    {
      "cell_type": "markdown",
      "source": [
        "Sekarang kita telah berhasil membuka dataset \"glass\" sebagai objek *DataFrame*. Ini baru langkah awal sebelum kita menjelajahi objek *DataFrame* lebih lanjut. "
      ],
      "metadata": {
        "id": "66J83e_0F8Nb"
      }
    },
    {
      "cell_type": "markdown",
      "source": [
        "![storsint-glass-clear-glass__0640889_pe700133_s5.avif](data:image/avif;base64,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)"
      ],
      "metadata": {
        "id": "NhY-AoFTSO7Z"
      }
    },
    {
      "cell_type": "markdown",
      "source": [
        "Sumber gambar: https://www.ikea.com/us/en/images/products/storsint-glass-clear-glass__0640889_pe700133_s5.jpg"
      ],
      "metadata": {
        "id": "ObO82KfdSNNJ"
      }
    },
    {
      "cell_type": "markdown",
      "metadata": {
        "id": "0eRn7VO4NqvY"
      },
      "source": [
        "### **Menampilkan Atribut dan Informasi Statistik Umum dari Objek *DataFrame***"
      ]
    },
    {
      "cell_type": "markdown",
      "metadata": {
        "id": "QQNsGdFTNqvZ"
      },
      "source": [
        "Menampilkan dimensi _DataFrame_ dengan atribut <code>shape</code>"
      ]
    },
    {
      "cell_type": "code",
      "metadata": {
        "id": "jyKvEOu6NqvZ",
        "colab": {
          "base_uri": "https://localhost:8080/"
        },
        "outputId": "69612b2b-6844-4452-e531-c3dd35183fca"
      },
      "source": [
        "print(\"Dimensi dari df adalah\", df.shape)\n",
        "print(\"df terdiri atas {} baris dan {} kolom.\".format(df.shape[0], df.shape[1]))"
      ],
      "execution_count": null,
      "outputs": [
        {
          "output_type": "stream",
          "name": "stdout",
          "text": [
            "Dimensi dari df adalah (214, 11)\n",
            "df terdiri atas 214 baris dan 11 kolom.\n"
          ]
        }
      ]
    },
    {
      "cell_type": "markdown",
      "metadata": {
        "id": "V6U_1aoSNqvZ"
      },
      "source": [
        "Menampilkan tipe data tiap kolom dengan atribut <code>dtypes</code>"
      ]
    },
    {
      "cell_type": "code",
      "metadata": {
        "id": "_0IoXSRkNqvZ",
        "colab": {
          "base_uri": "https://localhost:8080/"
        },
        "outputId": "b383cc72-7c0b-44dd-8d36-2e7227666b11"
      },
      "source": [
        "df.dtypes"
      ],
      "execution_count": null,
      "outputs": [
        {
          "output_type": "execute_result",
          "data": {
            "text/plain": [
              "Id number          int64\n",
              "RI               float64\n",
              "Na               float64\n",
              "Mg               float64\n",
              "Al               float64\n",
              "Si               float64\n",
              "K                float64\n",
              "Ca               float64\n",
              "Ba               float64\n",
              "Fe               float64\n",
              "Type-of-glass      int64\n",
              "dtype: object"
            ]
          },
          "metadata": {},
          "execution_count": 139
        }
      ]
    },
    {
      "cell_type": "markdown",
      "metadata": {
        "id": "TJr7myGkNqva"
      },
      "source": [
        "Menampilkan statistik umum tiap kolom dengan _method_ <code>describe()</code>. *By default*, _method_ ini hanya untuk data numerik"
      ]
    },
    {
      "cell_type": "code",
      "metadata": {
        "id": "hTA7W5J3Nqva",
        "colab": {
          "base_uri": "https://localhost:8080/",
          "height": 300
        },
        "outputId": "2f77b845-102c-4112-d614-dd28e49997e1"
      },
      "source": [
        "df.describe()"
      ],
      "execution_count": null,
      "outputs": [
        {
          "output_type": "execute_result",
          "data": {
            "text/plain": [
              "        Id number          RI          Na          Mg          Al          Si  \\\n",
              "count  214.000000  214.000000  214.000000  214.000000  214.000000  214.000000   \n",
              "mean   107.500000    1.518365   13.407850    2.684533    1.444907   72.650935   \n",
              "std     61.920648    0.003037    0.816604    1.442408    0.499270    0.774546   \n",
              "min      1.000000    1.511150   10.730000    0.000000    0.290000   69.810000   \n",
              "25%     54.250000    1.516522   12.907500    2.115000    1.190000   72.280000   \n",
              "50%    107.500000    1.517680   13.300000    3.480000    1.360000   72.790000   \n",
              "75%    160.750000    1.519157   13.825000    3.600000    1.630000   73.087500   \n",
              "max    214.000000    1.533930   17.380000    4.490000    3.500000   75.410000   \n",
              "\n",
              "                K          Ca          Ba          Fe  Type-of-glass  \n",
              "count  214.000000  214.000000  214.000000  214.000000     214.000000  \n",
              "mean     0.497056    8.956963    0.175047    0.057009       2.780374  \n",
              "std      0.652192    1.423153    0.497219    0.097439       2.103739  \n",
              "min      0.000000    5.430000    0.000000    0.000000       1.000000  \n",
              "25%      0.122500    8.240000    0.000000    0.000000       1.000000  \n",
              "50%      0.555000    8.600000    0.000000    0.000000       2.000000  \n",
              "75%      0.610000    9.172500    0.000000    0.100000       3.000000  \n",
              "max      6.210000   16.190000    3.150000    0.510000       7.000000  "
            ],
            "text/html": [
              "\n",
              "  <div id=\"df-51a5efd8-f014-49a1-9ad1-f91cc1112375\">\n",
              "    <div class=\"colab-df-container\">\n",
              "      <div>\n",
              "<style scoped>\n",
              "    .dataframe tbody tr th:only-of-type {\n",
              "        vertical-align: middle;\n",
              "    }\n",
              "\n",
              "    .dataframe tbody tr th {\n",
              "        vertical-align: top;\n",
              "    }\n",
              "\n",
              "    .dataframe thead th {\n",
              "        text-align: right;\n",
              "    }\n",
              "</style>\n",
              "<table border=\"1\" class=\"dataframe\">\n",
              "  <thead>\n",
              "    <tr style=\"text-align: right;\">\n",
              "      <th></th>\n",
              "      <th>Id number</th>\n",
              "      <th>RI</th>\n",
              "      <th>Na</th>\n",
              "      <th>Mg</th>\n",
              "      <th>Al</th>\n",
              "      <th>Si</th>\n",
              "      <th>K</th>\n",
              "      <th>Ca</th>\n",
              "      <th>Ba</th>\n",
              "      <th>Fe</th>\n",
              "      <th>Type-of-glass</th>\n",
              "    </tr>\n",
              "  </thead>\n",
              "  <tbody>\n",
              "    <tr>\n",
              "      <th>count</th>\n",
              "      <td>214.000000</td>\n",
              "      <td>214.000000</td>\n",
              "      <td>214.000000</td>\n",
              "      <td>214.000000</td>\n",
              "      <td>214.000000</td>\n",
              "      <td>214.000000</td>\n",
              "      <td>214.000000</td>\n",
              "      <td>214.000000</td>\n",
              "      <td>214.000000</td>\n",
              "      <td>214.000000</td>\n",
              "      <td>214.000000</td>\n",
              "    </tr>\n",
              "    <tr>\n",
              "      <th>mean</th>\n",
              "      <td>107.500000</td>\n",
              "      <td>1.518365</td>\n",
              "      <td>13.407850</td>\n",
              "      <td>2.684533</td>\n",
              "      <td>1.444907</td>\n",
              "      <td>72.650935</td>\n",
              "      <td>0.497056</td>\n",
              "      <td>8.956963</td>\n",
              "      <td>0.175047</td>\n",
              "      <td>0.057009</td>\n",
              "      <td>2.780374</td>\n",
              "    </tr>\n",
              "    <tr>\n",
              "      <th>std</th>\n",
              "      <td>61.920648</td>\n",
              "      <td>0.003037</td>\n",
              "      <td>0.816604</td>\n",
              "      <td>1.442408</td>\n",
              "      <td>0.499270</td>\n",
              "      <td>0.774546</td>\n",
              "      <td>0.652192</td>\n",
              "      <td>1.423153</td>\n",
              "      <td>0.497219</td>\n",
              "      <td>0.097439</td>\n",
              "      <td>2.103739</td>\n",
              "    </tr>\n",
              "    <tr>\n",
              "      <th>min</th>\n",
              "      <td>1.000000</td>\n",
              "      <td>1.511150</td>\n",
              "      <td>10.730000</td>\n",
              "      <td>0.000000</td>\n",
              "      <td>0.290000</td>\n",
              "      <td>69.810000</td>\n",
              "      <td>0.000000</td>\n",
              "      <td>5.430000</td>\n",
              "      <td>0.000000</td>\n",
              "      <td>0.000000</td>\n",
              "      <td>1.000000</td>\n",
              "    </tr>\n",
              "    <tr>\n",
              "      <th>25%</th>\n",
              "      <td>54.250000</td>\n",
              "      <td>1.516522</td>\n",
              "      <td>12.907500</td>\n",
              "      <td>2.115000</td>\n",
              "      <td>1.190000</td>\n",
              "      <td>72.280000</td>\n",
              "      <td>0.122500</td>\n",
              "      <td>8.240000</td>\n",
              "      <td>0.000000</td>\n",
              "      <td>0.000000</td>\n",
              "      <td>1.000000</td>\n",
              "    </tr>\n",
              "    <tr>\n",
              "      <th>50%</th>\n",
              "      <td>107.500000</td>\n",
              "      <td>1.517680</td>\n",
              "      <td>13.300000</td>\n",
              "      <td>3.480000</td>\n",
              "      <td>1.360000</td>\n",
              "      <td>72.790000</td>\n",
              "      <td>0.555000</td>\n",
              "      <td>8.600000</td>\n",
              "      <td>0.000000</td>\n",
              "      <td>0.000000</td>\n",
              "      <td>2.000000</td>\n",
              "    </tr>\n",
              "    <tr>\n",
              "      <th>75%</th>\n",
              "      <td>160.750000</td>\n",
              "      <td>1.519157</td>\n",
              "      <td>13.825000</td>\n",
              "      <td>3.600000</td>\n",
              "      <td>1.630000</td>\n",
              "      <td>73.087500</td>\n",
              "      <td>0.610000</td>\n",
              "      <td>9.172500</td>\n",
              "      <td>0.000000</td>\n",
              "      <td>0.100000</td>\n",
              "      <td>3.000000</td>\n",
              "    </tr>\n",
              "    <tr>\n",
              "      <th>max</th>\n",
              "      <td>214.000000</td>\n",
              "      <td>1.533930</td>\n",
              "      <td>17.380000</td>\n",
              "      <td>4.490000</td>\n",
              "      <td>3.500000</td>\n",
              "      <td>75.410000</td>\n",
              "      <td>6.210000</td>\n",
              "      <td>16.190000</td>\n",
              "      <td>3.150000</td>\n",
              "      <td>0.510000</td>\n",
              "      <td>7.000000</td>\n",
              "    </tr>\n",
              "  </tbody>\n",
              "</table>\n",
              "</div>\n",
              "      <button class=\"colab-df-convert\" onclick=\"convertToInteractive('df-51a5efd8-f014-49a1-9ad1-f91cc1112375')\"\n",
              "              title=\"Convert this dataframe to an interactive table.\"\n",
              "              style=\"display:none;\">\n",
              "        \n",
              "  <svg xmlns=\"http://www.w3.org/2000/svg\" height=\"24px\"viewBox=\"0 0 24 24\"\n",
              "       width=\"24px\">\n",
              "    <path d=\"M0 0h24v24H0V0z\" fill=\"none\"/>\n",
              "    <path d=\"M18.56 5.44l.94 2.06.94-2.06 2.06-.94-2.06-.94-.94-2.06-.94 2.06-2.06.94zm-11 1L8.5 8.5l.94-2.06 2.06-.94-2.06-.94L8.5 2.5l-.94 2.06-2.06.94zm10 10l.94 2.06.94-2.06 2.06-.94-2.06-.94-.94-2.06-.94 2.06-2.06.94z\"/><path d=\"M17.41 7.96l-1.37-1.37c-.4-.4-.92-.59-1.43-.59-.52 0-1.04.2-1.43.59L10.3 9.45l-7.72 7.72c-.78.78-.78 2.05 0 2.83L4 21.41c.39.39.9.59 1.41.59.51 0 1.02-.2 1.41-.59l7.78-7.78 2.81-2.81c.8-.78.8-2.07 0-2.86zM5.41 20L4 18.59l7.72-7.72 1.47 1.35L5.41 20z\"/>\n",
              "  </svg>\n",
              "      </button>\n",
              "      \n",
              "  <style>\n",
              "    .colab-df-container {\n",
              "      display:flex;\n",
              "      flex-wrap:wrap;\n",
              "      gap: 12px;\n",
              "    }\n",
              "\n",
              "    .colab-df-convert {\n",
              "      background-color: #E8F0FE;\n",
              "      border: none;\n",
              "      border-radius: 50%;\n",
              "      cursor: pointer;\n",
              "      display: none;\n",
              "      fill: #1967D2;\n",
              "      height: 32px;\n",
              "      padding: 0 0 0 0;\n",
              "      width: 32px;\n",
              "    }\n",
              "\n",
              "    .colab-df-convert:hover {\n",
              "      background-color: #E2EBFA;\n",
              "      box-shadow: 0px 1px 2px rgba(60, 64, 67, 0.3), 0px 1px 3px 1px rgba(60, 64, 67, 0.15);\n",
              "      fill: #174EA6;\n",
              "    }\n",
              "\n",
              "    [theme=dark] .colab-df-convert {\n",
              "      background-color: #3B4455;\n",
              "      fill: #D2E3FC;\n",
              "    }\n",
              "\n",
              "    [theme=dark] .colab-df-convert:hover {\n",
              "      background-color: #434B5C;\n",
              "      box-shadow: 0px 1px 3px 1px rgba(0, 0, 0, 0.15);\n",
              "      filter: drop-shadow(0px 1px 2px rgba(0, 0, 0, 0.3));\n",
              "      fill: #FFFFFF;\n",
              "    }\n",
              "  </style>\n",
              "\n",
              "      <script>\n",
              "        const buttonEl =\n",
              "          document.querySelector('#df-51a5efd8-f014-49a1-9ad1-f91cc1112375 button.colab-df-convert');\n",
              "        buttonEl.style.display =\n",
              "          google.colab.kernel.accessAllowed ? 'block' : 'none';\n",
              "\n",
              "        async function convertToInteractive(key) {\n",
              "          const element = document.querySelector('#df-51a5efd8-f014-49a1-9ad1-f91cc1112375');\n",
              "          const dataTable =\n",
              "            await google.colab.kernel.invokeFunction('convertToInteractive',\n",
              "                                                     [key], {});\n",
              "          if (!dataTable) return;\n",
              "\n",
              "          const docLinkHtml = 'Like what you see? Visit the ' +\n",
              "            '<a target=\"_blank\" href=https://colab.research.google.com/notebooks/data_table.ipynb>data table notebook</a>'\n",
              "            + ' to learn more about interactive tables.';\n",
              "          element.innerHTML = '';\n",
              "          dataTable['output_type'] = 'display_data';\n",
              "          await google.colab.output.renderOutput(dataTable, element);\n",
              "          const docLink = document.createElement('div');\n",
              "          docLink.innerHTML = docLinkHtml;\n",
              "          element.appendChild(docLink);\n",
              "        }\n",
              "      </script>\n",
              "    </div>\n",
              "  </div>\n",
              "  "
            ]
          },
          "metadata": {},
          "execution_count": 140
        }
      ]
    },
    {
      "cell_type": "code",
      "metadata": {
        "id": "DmmrBE9nNqva",
        "colab": {
          "base_uri": "https://localhost:8080/"
        },
        "outputId": "a6ba028e-c8ec-465b-c8f3-2e20fabf2f6b"
      },
      "source": [
        "# Deskripsi statistik untuk suatu kolom\n",
        "df['Ba'].describe()"
      ],
      "execution_count": null,
      "outputs": [
        {
          "output_type": "execute_result",
          "data": {
            "text/plain": [
              "count    214.000000\n",
              "mean       0.175047\n",
              "std        0.497219\n",
              "min        0.000000\n",
              "25%        0.000000\n",
              "50%        0.000000\n",
              "75%        0.000000\n",
              "max        3.150000\n",
              "Name: Ba, dtype: float64"
            ]
          },
          "metadata": {},
          "execution_count": 141
        }
      ]
    },
    {
      "cell_type": "markdown",
      "metadata": {
        "id": "Puq7pSc1Nqvb"
      },
      "source": [
        "Menghitung jumlah elemen tidak ___null___ tiap kolom dengan _method_ <code>count()</code>"
      ]
    },
    {
      "cell_type": "code",
      "metadata": {
        "id": "LJOWrFffNqvb",
        "colab": {
          "base_uri": "https://localhost:8080/"
        },
        "outputId": "bf1e3975-9d5f-4e2e-bf77-335132bf403d"
      },
      "source": [
        "print(\"Count untuk df\\n\", df.count())"
      ],
      "execution_count": null,
      "outputs": [
        {
          "output_type": "stream",
          "name": "stdout",
          "text": [
            "Count untuk df\n",
            " Id number        214\n",
            "RI               214\n",
            "Na               214\n",
            "Mg               214\n",
            "Al               214\n",
            "Si               214\n",
            "K                214\n",
            "Ca               214\n",
            "Ba               214\n",
            "Fe               214\n",
            "Type-of-glass    214\n",
            "dtype: int64\n"
          ]
        }
      ]
    },
    {
      "cell_type": "markdown",
      "metadata": {
        "id": "JqO4tPlCNqve"
      },
      "source": [
        "Dapat dilihat di atas bahwa setiap kolom pada df memiliki nilai pada 214 baris, namun tidak mutlak berarti tidak ada nilai *null*. Pemeriksaan dan penanganan nilai *null* dibahas pada sub-bagian \"Menangani *missing values*\"."
      ]
    },
    {
      "cell_type": "markdown",
      "metadata": {
        "id": "0qQIDs2CNqve"
      },
      "source": [
        "### **Mengakses Kolom dan/atau Baris Suatu Objek *DataFrame***"
      ]
    },
    {
      "cell_type": "markdown",
      "source": [
        "#### **Mengakses Kolom dengan *Square Bracket***"
      ],
      "metadata": {
        "id": "DuzyA3_J-LWR"
      }
    },
    {
      "cell_type": "markdown",
      "metadata": {
        "id": "_kFdwzq8Nqvf"
      },
      "source": [
        "Kita dapat mengakses kolom *DataFrame* seperti mengakses indeks pada *array* atau *list*, yaitu dengan *Square Bracket*, baik sebagai *Series* maupun *DataFrame* baru."
      ]
    },
    {
      "cell_type": "code",
      "metadata": {
        "id": "2t2Fy6xUNqvf",
        "colab": {
          "base_uri": "https://localhost:8080/"
        },
        "outputId": "91fb686e-02c0-497c-ce7b-9a2bb4a8e067"
      },
      "source": [
        "# Mengakses kolom sebagai Series\n",
        "df_ca_1 = df['Ca']\n",
        "print(\"Tipe dari objek:\", type(df_ca_1))\n",
        "df_ca_1"
      ],
      "execution_count": null,
      "outputs": [
        {
          "output_type": "stream",
          "name": "stdout",
          "text": [
            "Tipe dari objek: <class 'pandas.core.series.Series'>\n"
          ]
        },
        {
          "output_type": "execute_result",
          "data": {
            "text/plain": [
              "0      8.75\n",
              "1      7.83\n",
              "2      7.78\n",
              "3      8.22\n",
              "4      8.07\n",
              "       ... \n",
              "209    9.18\n",
              "210    8.40\n",
              "211    8.44\n",
              "212    8.48\n",
              "213    8.62\n",
              "Name: Ca, Length: 214, dtype: float64"
            ]
          },
          "metadata": {},
          "execution_count": 143
        }
      ]
    },
    {
      "cell_type": "code",
      "metadata": {
        "id": "4KKUn9MXNqvg",
        "colab": {
          "base_uri": "https://localhost:8080/",
          "height": 441
        },
        "outputId": "ae171cf5-ab3c-4750-8c17-a7138aa55d3e"
      },
      "source": [
        "# Mengakses kolom sebagai DataFrame\n",
        "df_ca_2 = df[['Ca']]\n",
        "print(\"Tipe dari objek:\", type(df_ca_2))\n",
        "df_ca_2"
      ],
      "execution_count": null,
      "outputs": [
        {
          "output_type": "stream",
          "name": "stdout",
          "text": [
            "Tipe dari objek: <class 'pandas.core.frame.DataFrame'>\n"
          ]
        },
        {
          "output_type": "execute_result",
          "data": {
            "text/plain": [
              "       Ca\n",
              "0    8.75\n",
              "1    7.83\n",
              "2    7.78\n",
              "3    8.22\n",
              "4    8.07\n",
              "..    ...\n",
              "209  9.18\n",
              "210  8.40\n",
              "211  8.44\n",
              "212  8.48\n",
              "213  8.62\n",
              "\n",
              "[214 rows x 1 columns]"
            ],
            "text/html": [
              "\n",
              "  <div id=\"df-1367bdf3-8b3a-46f0-8935-d3baa99c6bb4\">\n",
              "    <div class=\"colab-df-container\">\n",
              "      <div>\n",
              "<style scoped>\n",
              "    .dataframe tbody tr th:only-of-type {\n",
              "        vertical-align: middle;\n",
              "    }\n",
              "\n",
              "    .dataframe tbody tr th {\n",
              "        vertical-align: top;\n",
              "    }\n",
              "\n",
              "    .dataframe thead th {\n",
              "        text-align: right;\n",
              "    }\n",
              "</style>\n",
              "<table border=\"1\" class=\"dataframe\">\n",
              "  <thead>\n",
              "    <tr style=\"text-align: right;\">\n",
              "      <th></th>\n",
              "      <th>Ca</th>\n",
              "    </tr>\n",
              "  </thead>\n",
              "  <tbody>\n",
              "    <tr>\n",
              "      <th>0</th>\n",
              "      <td>8.75</td>\n",
              "    </tr>\n",
              "    <tr>\n",
              "      <th>1</th>\n",
              "      <td>7.83</td>\n",
              "    </tr>\n",
              "    <tr>\n",
              "      <th>2</th>\n",
              "      <td>7.78</td>\n",
              "    </tr>\n",
              "    <tr>\n",
              "      <th>3</th>\n",
              "      <td>8.22</td>\n",
              "    </tr>\n",
              "    <tr>\n",
              "      <th>4</th>\n",
              "      <td>8.07</td>\n",
              "    </tr>\n",
              "    <tr>\n",
              "      <th>...</th>\n",
              "      <td>...</td>\n",
              "    </tr>\n",
              "    <tr>\n",
              "      <th>209</th>\n",
              "      <td>9.18</td>\n",
              "    </tr>\n",
              "    <tr>\n",
              "      <th>210</th>\n",
              "      <td>8.40</td>\n",
              "    </tr>\n",
              "    <tr>\n",
              "      <th>211</th>\n",
              "      <td>8.44</td>\n",
              "    </tr>\n",
              "    <tr>\n",
              "      <th>212</th>\n",
              "      <td>8.48</td>\n",
              "    </tr>\n",
              "    <tr>\n",
              "      <th>213</th>\n",
              "      <td>8.62</td>\n",
              "    </tr>\n",
              "  </tbody>\n",
              "</table>\n",
              "<p>214 rows × 1 columns</p>\n",
              "</div>\n",
              "      <button class=\"colab-df-convert\" onclick=\"convertToInteractive('df-1367bdf3-8b3a-46f0-8935-d3baa99c6bb4')\"\n",
              "              title=\"Convert this dataframe to an interactive table.\"\n",
              "              style=\"display:none;\">\n",
              "        \n",
              "  <svg xmlns=\"http://www.w3.org/2000/svg\" height=\"24px\"viewBox=\"0 0 24 24\"\n",
              "       width=\"24px\">\n",
              "    <path d=\"M0 0h24v24H0V0z\" fill=\"none\"/>\n",
              "    <path d=\"M18.56 5.44l.94 2.06.94-2.06 2.06-.94-2.06-.94-.94-2.06-.94 2.06-2.06.94zm-11 1L8.5 8.5l.94-2.06 2.06-.94-2.06-.94L8.5 2.5l-.94 2.06-2.06.94zm10 10l.94 2.06.94-2.06 2.06-.94-2.06-.94-.94-2.06-.94 2.06-2.06.94z\"/><path d=\"M17.41 7.96l-1.37-1.37c-.4-.4-.92-.59-1.43-.59-.52 0-1.04.2-1.43.59L10.3 9.45l-7.72 7.72c-.78.78-.78 2.05 0 2.83L4 21.41c.39.39.9.59 1.41.59.51 0 1.02-.2 1.41-.59l7.78-7.78 2.81-2.81c.8-.78.8-2.07 0-2.86zM5.41 20L4 18.59l7.72-7.72 1.47 1.35L5.41 20z\"/>\n",
              "  </svg>\n",
              "      </button>\n",
              "      \n",
              "  <style>\n",
              "    .colab-df-container {\n",
              "      display:flex;\n",
              "      flex-wrap:wrap;\n",
              "      gap: 12px;\n",
              "    }\n",
              "\n",
              "    .colab-df-convert {\n",
              "      background-color: #E8F0FE;\n",
              "      border: none;\n",
              "      border-radius: 50%;\n",
              "      cursor: pointer;\n",
              "      display: none;\n",
              "      fill: #1967D2;\n",
              "      height: 32px;\n",
              "      padding: 0 0 0 0;\n",
              "      width: 32px;\n",
              "    }\n",
              "\n",
              "    .colab-df-convert:hover {\n",
              "      background-color: #E2EBFA;\n",
              "      box-shadow: 0px 1px 2px rgba(60, 64, 67, 0.3), 0px 1px 3px 1px rgba(60, 64, 67, 0.15);\n",
              "      fill: #174EA6;\n",
              "    }\n",
              "\n",
              "    [theme=dark] .colab-df-convert {\n",
              "      background-color: #3B4455;\n",
              "      fill: #D2E3FC;\n",
              "    }\n",
              "\n",
              "    [theme=dark] .colab-df-convert:hover {\n",
              "      background-color: #434B5C;\n",
              "      box-shadow: 0px 1px 3px 1px rgba(0, 0, 0, 0.15);\n",
              "      filter: drop-shadow(0px 1px 2px rgba(0, 0, 0, 0.3));\n",
              "      fill: #FFFFFF;\n",
              "    }\n",
              "  </style>\n",
              "\n",
              "      <script>\n",
              "        const buttonEl =\n",
              "          document.querySelector('#df-1367bdf3-8b3a-46f0-8935-d3baa99c6bb4 button.colab-df-convert');\n",
              "        buttonEl.style.display =\n",
              "          google.colab.kernel.accessAllowed ? 'block' : 'none';\n",
              "\n",
              "        async function convertToInteractive(key) {\n",
              "          const element = document.querySelector('#df-1367bdf3-8b3a-46f0-8935-d3baa99c6bb4');\n",
              "          const dataTable =\n",
              "            await google.colab.kernel.invokeFunction('convertToInteractive',\n",
              "                                                     [key], {});\n",
              "          if (!dataTable) return;\n",
              "\n",
              "          const docLinkHtml = 'Like what you see? Visit the ' +\n",
              "            '<a target=\"_blank\" href=https://colab.research.google.com/notebooks/data_table.ipynb>data table notebook</a>'\n",
              "            + ' to learn more about interactive tables.';\n",
              "          element.innerHTML = '';\n",
              "          dataTable['output_type'] = 'display_data';\n",
              "          await google.colab.output.renderOutput(dataTable, element);\n",
              "          const docLink = document.createElement('div');\n",
              "          docLink.innerHTML = docLinkHtml;\n",
              "          element.appendChild(docLink);\n",
              "        }\n",
              "      </script>\n",
              "    </div>\n",
              "  </div>\n",
              "  "
            ]
          },
          "metadata": {},
          "execution_count": 144
        }
      ]
    },
    {
      "cell_type": "code",
      "metadata": {
        "id": "qO_yVEZNNqvg",
        "colab": {
          "base_uri": "https://localhost:8080/",
          "height": 423
        },
        "outputId": "9202d7a3-273d-419c-9ff7-4aa281e87af5"
      },
      "source": [
        "# Mengakses lebih dari 1 kolom sebagai DataFrame\n",
        "df_ca_ba = df[['Ca', 'Ba']]\n",
        "df_ca_ba"
      ],
      "execution_count": null,
      "outputs": [
        {
          "output_type": "execute_result",
          "data": {
            "text/plain": [
              "       Ca    Ba\n",
              "0    8.75  0.00\n",
              "1    7.83  0.00\n",
              "2    7.78  0.00\n",
              "3    8.22  0.00\n",
              "4    8.07  0.00\n",
              "..    ...   ...\n",
              "209  9.18  1.06\n",
              "210  8.40  1.59\n",
              "211  8.44  1.64\n",
              "212  8.48  1.57\n",
              "213  8.62  1.67\n",
              "\n",
              "[214 rows x 2 columns]"
            ],
            "text/html": [
              "\n",
              "  <div id=\"df-d0f41524-27d1-4d8a-a143-d72f0c74db1e\">\n",
              "    <div class=\"colab-df-container\">\n",
              "      <div>\n",
              "<style scoped>\n",
              "    .dataframe tbody tr th:only-of-type {\n",
              "        vertical-align: middle;\n",
              "    }\n",
              "\n",
              "    .dataframe tbody tr th {\n",
              "        vertical-align: top;\n",
              "    }\n",
              "\n",
              "    .dataframe thead th {\n",
              "        text-align: right;\n",
              "    }\n",
              "</style>\n",
              "<table border=\"1\" class=\"dataframe\">\n",
              "  <thead>\n",
              "    <tr style=\"text-align: right;\">\n",
              "      <th></th>\n",
              "      <th>Ca</th>\n",
              "      <th>Ba</th>\n",
              "    </tr>\n",
              "  </thead>\n",
              "  <tbody>\n",
              "    <tr>\n",
              "      <th>0</th>\n",
              "      <td>8.75</td>\n",
              "      <td>0.00</td>\n",
              "    </tr>\n",
              "    <tr>\n",
              "      <th>1</th>\n",
              "      <td>7.83</td>\n",
              "      <td>0.00</td>\n",
              "    </tr>\n",
              "    <tr>\n",
              "      <th>2</th>\n",
              "      <td>7.78</td>\n",
              "      <td>0.00</td>\n",
              "    </tr>\n",
              "    <tr>\n",
              "      <th>3</th>\n",
              "      <td>8.22</td>\n",
              "      <td>0.00</td>\n",
              "    </tr>\n",
              "    <tr>\n",
              "      <th>4</th>\n",
              "      <td>8.07</td>\n",
              "      <td>0.00</td>\n",
              "    </tr>\n",
              "    <tr>\n",
              "      <th>...</th>\n",
              "      <td>...</td>\n",
              "      <td>...</td>\n",
              "    </tr>\n",
              "    <tr>\n",
              "      <th>209</th>\n",
              "      <td>9.18</td>\n",
              "      <td>1.06</td>\n",
              "    </tr>\n",
              "    <tr>\n",
              "      <th>210</th>\n",
              "      <td>8.40</td>\n",
              "      <td>1.59</td>\n",
              "    </tr>\n",
              "    <tr>\n",
              "      <th>211</th>\n",
              "      <td>8.44</td>\n",
              "      <td>1.64</td>\n",
              "    </tr>\n",
              "    <tr>\n",
              "      <th>212</th>\n",
              "      <td>8.48</td>\n",
              "      <td>1.57</td>\n",
              "    </tr>\n",
              "    <tr>\n",
              "      <th>213</th>\n",
              "      <td>8.62</td>\n",
              "      <td>1.67</td>\n",
              "    </tr>\n",
              "  </tbody>\n",
              "</table>\n",
              "<p>214 rows × 2 columns</p>\n",
              "</div>\n",
              "      <button class=\"colab-df-convert\" onclick=\"convertToInteractive('df-d0f41524-27d1-4d8a-a143-d72f0c74db1e')\"\n",
              "              title=\"Convert this dataframe to an interactive table.\"\n",
              "              style=\"display:none;\">\n",
              "        \n",
              "  <svg xmlns=\"http://www.w3.org/2000/svg\" height=\"24px\"viewBox=\"0 0 24 24\"\n",
              "       width=\"24px\">\n",
              "    <path d=\"M0 0h24v24H0V0z\" fill=\"none\"/>\n",
              "    <path d=\"M18.56 5.44l.94 2.06.94-2.06 2.06-.94-2.06-.94-.94-2.06-.94 2.06-2.06.94zm-11 1L8.5 8.5l.94-2.06 2.06-.94-2.06-.94L8.5 2.5l-.94 2.06-2.06.94zm10 10l.94 2.06.94-2.06 2.06-.94-2.06-.94-.94-2.06-.94 2.06-2.06.94z\"/><path d=\"M17.41 7.96l-1.37-1.37c-.4-.4-.92-.59-1.43-.59-.52 0-1.04.2-1.43.59L10.3 9.45l-7.72 7.72c-.78.78-.78 2.05 0 2.83L4 21.41c.39.39.9.59 1.41.59.51 0 1.02-.2 1.41-.59l7.78-7.78 2.81-2.81c.8-.78.8-2.07 0-2.86zM5.41 20L4 18.59l7.72-7.72 1.47 1.35L5.41 20z\"/>\n",
              "  </svg>\n",
              "      </button>\n",
              "      \n",
              "  <style>\n",
              "    .colab-df-container {\n",
              "      display:flex;\n",
              "      flex-wrap:wrap;\n",
              "      gap: 12px;\n",
              "    }\n",
              "\n",
              "    .colab-df-convert {\n",
              "      background-color: #E8F0FE;\n",
              "      border: none;\n",
              "      border-radius: 50%;\n",
              "      cursor: pointer;\n",
              "      display: none;\n",
              "      fill: #1967D2;\n",
              "      height: 32px;\n",
              "      padding: 0 0 0 0;\n",
              "      width: 32px;\n",
              "    }\n",
              "\n",
              "    .colab-df-convert:hover {\n",
              "      background-color: #E2EBFA;\n",
              "      box-shadow: 0px 1px 2px rgba(60, 64, 67, 0.3), 0px 1px 3px 1px rgba(60, 64, 67, 0.15);\n",
              "      fill: #174EA6;\n",
              "    }\n",
              "\n",
              "    [theme=dark] .colab-df-convert {\n",
              "      background-color: #3B4455;\n",
              "      fill: #D2E3FC;\n",
              "    }\n",
              "\n",
              "    [theme=dark] .colab-df-convert:hover {\n",
              "      background-color: #434B5C;\n",
              "      box-shadow: 0px 1px 3px 1px rgba(0, 0, 0, 0.15);\n",
              "      filter: drop-shadow(0px 1px 2px rgba(0, 0, 0, 0.3));\n",
              "      fill: #FFFFFF;\n",
              "    }\n",
              "  </style>\n",
              "\n",
              "      <script>\n",
              "        const buttonEl =\n",
              "          document.querySelector('#df-d0f41524-27d1-4d8a-a143-d72f0c74db1e button.colab-df-convert');\n",
              "        buttonEl.style.display =\n",
              "          google.colab.kernel.accessAllowed ? 'block' : 'none';\n",
              "\n",
              "        async function convertToInteractive(key) {\n",
              "          const element = document.querySelector('#df-d0f41524-27d1-4d8a-a143-d72f0c74db1e');\n",
              "          const dataTable =\n",
              "            await google.colab.kernel.invokeFunction('convertToInteractive',\n",
              "                                                     [key], {});\n",
              "          if (!dataTable) return;\n",
              "\n",
              "          const docLinkHtml = 'Like what you see? Visit the ' +\n",
              "            '<a target=\"_blank\" href=https://colab.research.google.com/notebooks/data_table.ipynb>data table notebook</a>'\n",
              "            + ' to learn more about interactive tables.';\n",
              "          element.innerHTML = '';\n",
              "          dataTable['output_type'] = 'display_data';\n",
              "          await google.colab.output.renderOutput(dataTable, element);\n",
              "          const docLink = document.createElement('div');\n",
              "          docLink.innerHTML = docLinkHtml;\n",
              "          element.appendChild(docLink);\n",
              "        }\n",
              "      </script>\n",
              "    </div>\n",
              "  </div>\n",
              "  "
            ]
          },
          "metadata": {},
          "execution_count": 145
        }
      ]
    },
    {
      "cell_type": "markdown",
      "source": [
        "#### **Mengakses Kolom dengan Operator dot(.)**"
      ],
      "metadata": {
        "id": "v2pa2Msc_oxi"
      }
    },
    {
      "cell_type": "markdown",
      "metadata": {
        "id": "WnGBP_2k8hKe"
      },
      "source": [
        "Akses terhadap __tepat satu__ kolom juga dapat dilakukan dengan operator __dot__ (.) dengan syarat kolom memiliki nama (tidak menggunakan indeks bilangan _default_). Nama kolom tidak boleh menggunakan nama atribut dari objek _DataFrame_. Nama kolom yang dapat diakses dengan __dot__ juga tidak boleh mengandung karakter-karakter yang dilarang dalam nama variabel Python."
      ]
    },
    {
      "cell_type": "code",
      "metadata": {
        "id": "Cn0fW_CJ9n_E",
        "colab": {
          "base_uri": "https://localhost:8080/",
          "height": 225
        },
        "outputId": "853b6e7f-4ac1-47e5-8d6d-33b05c78f188"
      },
      "source": [
        "# Mengakses kolom dengan operator dot\n",
        "display(df.Fe)"
      ],
      "execution_count": null,
      "outputs": [
        {
          "output_type": "display_data",
          "data": {
            "text/plain": [
              "0      0.0\n",
              "1      0.0\n",
              "2      0.0\n",
              "3      0.0\n",
              "4      0.0\n",
              "      ... \n",
              "209    0.0\n",
              "210    0.0\n",
              "211    0.0\n",
              "212    0.0\n",
              "213    0.0\n",
              "Name: Fe, Length: 214, dtype: float64"
            ]
          },
          "metadata": {}
        }
      ]
    },
    {
      "cell_type": "code",
      "source": [
        "# Mengakses kolom dengan karakter yang dilarang\n",
        "try:\n",
        "    display(df.Type-of-glass)\n",
        "except Exception as e:\n",
        "    print('Terjadi exception:', e)\n",
        "    print('Error terjadi karena \"df.Type-of-glass\" dianggap lima token terpisah, yaitu \"df.Type\", \"-\", \"of\", \"-\", dan \"glass\".')"
      ],
      "metadata": {
        "id": "V7MtwCHFNxG4",
        "colab": {
          "base_uri": "https://localhost:8080/"
        },
        "outputId": "43346cb7-aee9-4dfb-af94-3fa4aed7c9c5"
      },
      "execution_count": null,
      "outputs": [
        {
          "output_type": "stream",
          "name": "stdout",
          "text": [
            "Terjadi exception: 'DataFrame' object has no attribute 'Type'\n",
            "Error terjadi karena \"df.Type-of-glass\" dianggap lima token terpisah, yaitu \"df.Type\", \"-\", \"of\", \"-\", dan \"glass\".\n"
          ]
        }
      ]
    },
    {
      "cell_type": "markdown",
      "source": [
        "#### **Mengakses Kolom dan/atau Baris dengan fungsi `loc` atau `iloc`**"
      ],
      "metadata": {
        "id": "YJ-yYJvh_1xl"
      }
    },
    {
      "cell_type": "markdown",
      "metadata": {
        "id": "-7_lz6lhNqvg"
      },
      "source": [
        "Kita dapat mengakses baris (dan kolom) _DataFrame_ menggunakan <code>__loc__</code> atau <code>__iloc__</code>. <code>loc</code> mengakses indeks berdasarkan label dari baris atau kolom, sedangkan <code>iloc</code> mengakses indeks berdasarkan posisi dalam bilangan bulat. <code>loc</code> juga menerima _range_ secara inklusif."
      ]
    },
    {
      "cell_type": "markdown",
      "source": [
        "##### **Mengakses Baris**"
      ],
      "metadata": {
        "id": "2IZz-WmBDezS"
      }
    },
    {
      "cell_type": "code",
      "metadata": {
        "id": "-H9J1cq9Nqvh",
        "colab": {
          "base_uri": "https://localhost:8080/",
          "height": 175
        },
        "outputId": "0dbe7462-6fc4-46f1-b763-71a3c4d3e304"
      },
      "source": [
        "# Mengakses baris 0 sampai dengan 3 menggunakan loc\n",
        "df.loc[0:3]  # range inklusif"
      ],
      "execution_count": null,
      "outputs": [
        {
          "output_type": "execute_result",
          "data": {
            "text/plain": [
              "   Id number       RI     Na    Mg    Al     Si     K    Ca   Ba   Fe  \\\n",
              "0          1  1.52101  13.64  4.49  1.10  71.78  0.06  8.75  0.0  0.0   \n",
              "1          2  1.51761  13.89  3.60  1.36  72.73  0.48  7.83  0.0  0.0   \n",
              "2          3  1.51618  13.53  3.55  1.54  72.99  0.39  7.78  0.0  0.0   \n",
              "3          4  1.51766  13.21  3.69  1.29  72.61  0.57  8.22  0.0  0.0   \n",
              "\n",
              "   Type-of-glass  \n",
              "0              1  \n",
              "1              1  \n",
              "2              1  \n",
              "3              1  "
            ],
            "text/html": [
              "\n",
              "  <div id=\"df-64401a43-07b8-4d75-9a7c-ef1957b314ed\">\n",
              "    <div class=\"colab-df-container\">\n",
              "      <div>\n",
              "<style scoped>\n",
              "    .dataframe tbody tr th:only-of-type {\n",
              "        vertical-align: middle;\n",
              "    }\n",
              "\n",
              "    .dataframe tbody tr th {\n",
              "        vertical-align: top;\n",
              "    }\n",
              "\n",
              "    .dataframe thead th {\n",
              "        text-align: right;\n",
              "    }\n",
              "</style>\n",
              "<table border=\"1\" class=\"dataframe\">\n",
              "  <thead>\n",
              "    <tr style=\"text-align: right;\">\n",
              "      <th></th>\n",
              "      <th>Id number</th>\n",
              "      <th>RI</th>\n",
              "      <th>Na</th>\n",
              "      <th>Mg</th>\n",
              "      <th>Al</th>\n",
              "      <th>Si</th>\n",
              "      <th>K</th>\n",
              "      <th>Ca</th>\n",
              "      <th>Ba</th>\n",
              "      <th>Fe</th>\n",
              "      <th>Type-of-glass</th>\n",
              "    </tr>\n",
              "  </thead>\n",
              "  <tbody>\n",
              "    <tr>\n",
              "      <th>0</th>\n",
              "      <td>1</td>\n",
              "      <td>1.52101</td>\n",
              "      <td>13.64</td>\n",
              "      <td>4.49</td>\n",
              "      <td>1.10</td>\n",
              "      <td>71.78</td>\n",
              "      <td>0.06</td>\n",
              "      <td>8.75</td>\n",
              "      <td>0.0</td>\n",
              "      <td>0.0</td>\n",
              "      <td>1</td>\n",
              "    </tr>\n",
              "    <tr>\n",
              "      <th>1</th>\n",
              "      <td>2</td>\n",
              "      <td>1.51761</td>\n",
              "      <td>13.89</td>\n",
              "      <td>3.60</td>\n",
              "      <td>1.36</td>\n",
              "      <td>72.73</td>\n",
              "      <td>0.48</td>\n",
              "      <td>7.83</td>\n",
              "      <td>0.0</td>\n",
              "      <td>0.0</td>\n",
              "      <td>1</td>\n",
              "    </tr>\n",
              "    <tr>\n",
              "      <th>2</th>\n",
              "      <td>3</td>\n",
              "      <td>1.51618</td>\n",
              "      <td>13.53</td>\n",
              "      <td>3.55</td>\n",
              "      <td>1.54</td>\n",
              "      <td>72.99</td>\n",
              "      <td>0.39</td>\n",
              "      <td>7.78</td>\n",
              "      <td>0.0</td>\n",
              "      <td>0.0</td>\n",
              "      <td>1</td>\n",
              "    </tr>\n",
              "    <tr>\n",
              "      <th>3</th>\n",
              "      <td>4</td>\n",
              "      <td>1.51766</td>\n",
              "      <td>13.21</td>\n",
              "      <td>3.69</td>\n",
              "      <td>1.29</td>\n",
              "      <td>72.61</td>\n",
              "      <td>0.57</td>\n",
              "      <td>8.22</td>\n",
              "      <td>0.0</td>\n",
              "      <td>0.0</td>\n",
              "      <td>1</td>\n",
              "    </tr>\n",
              "  </tbody>\n",
              "</table>\n",
              "</div>\n",
              "      <button class=\"colab-df-convert\" onclick=\"convertToInteractive('df-64401a43-07b8-4d75-9a7c-ef1957b314ed')\"\n",
              "              title=\"Convert this dataframe to an interactive table.\"\n",
              "              style=\"display:none;\">\n",
              "        \n",
              "  <svg xmlns=\"http://www.w3.org/2000/svg\" height=\"24px\"viewBox=\"0 0 24 24\"\n",
              "       width=\"24px\">\n",
              "    <path d=\"M0 0h24v24H0V0z\" fill=\"none\"/>\n",
              "    <path d=\"M18.56 5.44l.94 2.06.94-2.06 2.06-.94-2.06-.94-.94-2.06-.94 2.06-2.06.94zm-11 1L8.5 8.5l.94-2.06 2.06-.94-2.06-.94L8.5 2.5l-.94 2.06-2.06.94zm10 10l.94 2.06.94-2.06 2.06-.94-2.06-.94-.94-2.06-.94 2.06-2.06.94z\"/><path d=\"M17.41 7.96l-1.37-1.37c-.4-.4-.92-.59-1.43-.59-.52 0-1.04.2-1.43.59L10.3 9.45l-7.72 7.72c-.78.78-.78 2.05 0 2.83L4 21.41c.39.39.9.59 1.41.59.51 0 1.02-.2 1.41-.59l7.78-7.78 2.81-2.81c.8-.78.8-2.07 0-2.86zM5.41 20L4 18.59l7.72-7.72 1.47 1.35L5.41 20z\"/>\n",
              "  </svg>\n",
              "      </button>\n",
              "      \n",
              "  <style>\n",
              "    .colab-df-container {\n",
              "      display:flex;\n",
              "      flex-wrap:wrap;\n",
              "      gap: 12px;\n",
              "    }\n",
              "\n",
              "    .colab-df-convert {\n",
              "      background-color: #E8F0FE;\n",
              "      border: none;\n",
              "      border-radius: 50%;\n",
              "      cursor: pointer;\n",
              "      display: none;\n",
              "      fill: #1967D2;\n",
              "      height: 32px;\n",
              "      padding: 0 0 0 0;\n",
              "      width: 32px;\n",
              "    }\n",
              "\n",
              "    .colab-df-convert:hover {\n",
              "      background-color: #E2EBFA;\n",
              "      box-shadow: 0px 1px 2px rgba(60, 64, 67, 0.3), 0px 1px 3px 1px rgba(60, 64, 67, 0.15);\n",
              "      fill: #174EA6;\n",
              "    }\n",
              "\n",
              "    [theme=dark] .colab-df-convert {\n",
              "      background-color: #3B4455;\n",
              "      fill: #D2E3FC;\n",
              "    }\n",
              "\n",
              "    [theme=dark] .colab-df-convert:hover {\n",
              "      background-color: #434B5C;\n",
              "      box-shadow: 0px 1px 3px 1px rgba(0, 0, 0, 0.15);\n",
              "      filter: drop-shadow(0px 1px 2px rgba(0, 0, 0, 0.3));\n",
              "      fill: #FFFFFF;\n",
              "    }\n",
              "  </style>\n",
              "\n",
              "      <script>\n",
              "        const buttonEl =\n",
              "          document.querySelector('#df-64401a43-07b8-4d75-9a7c-ef1957b314ed button.colab-df-convert');\n",
              "        buttonEl.style.display =\n",
              "          google.colab.kernel.accessAllowed ? 'block' : 'none';\n",
              "\n",
              "        async function convertToInteractive(key) {\n",
              "          const element = document.querySelector('#df-64401a43-07b8-4d75-9a7c-ef1957b314ed');\n",
              "          const dataTable =\n",
              "            await google.colab.kernel.invokeFunction('convertToInteractive',\n",
              "                                                     [key], {});\n",
              "          if (!dataTable) return;\n",
              "\n",
              "          const docLinkHtml = 'Like what you see? Visit the ' +\n",
              "            '<a target=\"_blank\" href=https://colab.research.google.com/notebooks/data_table.ipynb>data table notebook</a>'\n",
              "            + ' to learn more about interactive tables.';\n",
              "          element.innerHTML = '';\n",
              "          dataTable['output_type'] = 'display_data';\n",
              "          await google.colab.output.renderOutput(dataTable, element);\n",
              "          const docLink = document.createElement('div');\n",
              "          docLink.innerHTML = docLinkHtml;\n",
              "          element.appendChild(docLink);\n",
              "        }\n",
              "      </script>\n",
              "    </div>\n",
              "  </div>\n",
              "  "
            ]
          },
          "metadata": {},
          "execution_count": 148
        }
      ]
    },
    {
      "cell_type": "code",
      "metadata": {
        "id": "miKSXEBtNqvh",
        "colab": {
          "base_uri": "https://localhost:8080/",
          "height": 175
        },
        "outputId": "80507c77-b039-455a-8b76-1f9729348a58"
      },
      "source": [
        "# Mengakses baris 0 sampai dengan 3 menggunakan iloc\n",
        "df.iloc[0:4] # range eksklusif"
      ],
      "execution_count": null,
      "outputs": [
        {
          "output_type": "execute_result",
          "data": {
            "text/plain": [
              "   Id number       RI     Na    Mg    Al     Si     K    Ca   Ba   Fe  \\\n",
              "0          1  1.52101  13.64  4.49  1.10  71.78  0.06  8.75  0.0  0.0   \n",
              "1          2  1.51761  13.89  3.60  1.36  72.73  0.48  7.83  0.0  0.0   \n",
              "2          3  1.51618  13.53  3.55  1.54  72.99  0.39  7.78  0.0  0.0   \n",
              "3          4  1.51766  13.21  3.69  1.29  72.61  0.57  8.22  0.0  0.0   \n",
              "\n",
              "   Type-of-glass  \n",
              "0              1  \n",
              "1              1  \n",
              "2              1  \n",
              "3              1  "
            ],
            "text/html": [
              "\n",
              "  <div id=\"df-5a74013d-d6bd-4af6-bc00-debc86018613\">\n",
              "    <div class=\"colab-df-container\">\n",
              "      <div>\n",
              "<style scoped>\n",
              "    .dataframe tbody tr th:only-of-type {\n",
              "        vertical-align: middle;\n",
              "    }\n",
              "\n",
              "    .dataframe tbody tr th {\n",
              "        vertical-align: top;\n",
              "    }\n",
              "\n",
              "    .dataframe thead th {\n",
              "        text-align: right;\n",
              "    }\n",
              "</style>\n",
              "<table border=\"1\" class=\"dataframe\">\n",
              "  <thead>\n",
              "    <tr style=\"text-align: right;\">\n",
              "      <th></th>\n",
              "      <th>Id number</th>\n",
              "      <th>RI</th>\n",
              "      <th>Na</th>\n",
              "      <th>Mg</th>\n",
              "      <th>Al</th>\n",
              "      <th>Si</th>\n",
              "      <th>K</th>\n",
              "      <th>Ca</th>\n",
              "      <th>Ba</th>\n",
              "      <th>Fe</th>\n",
              "      <th>Type-of-glass</th>\n",
              "    </tr>\n",
              "  </thead>\n",
              "  <tbody>\n",
              "    <tr>\n",
              "      <th>0</th>\n",
              "      <td>1</td>\n",
              "      <td>1.52101</td>\n",
              "      <td>13.64</td>\n",
              "      <td>4.49</td>\n",
              "      <td>1.10</td>\n",
              "      <td>71.78</td>\n",
              "      <td>0.06</td>\n",
              "      <td>8.75</td>\n",
              "      <td>0.0</td>\n",
              "      <td>0.0</td>\n",
              "      <td>1</td>\n",
              "    </tr>\n",
              "    <tr>\n",
              "      <th>1</th>\n",
              "      <td>2</td>\n",
              "      <td>1.51761</td>\n",
              "      <td>13.89</td>\n",
              "      <td>3.60</td>\n",
              "      <td>1.36</td>\n",
              "      <td>72.73</td>\n",
              "      <td>0.48</td>\n",
              "      <td>7.83</td>\n",
              "      <td>0.0</td>\n",
              "      <td>0.0</td>\n",
              "      <td>1</td>\n",
              "    </tr>\n",
              "    <tr>\n",
              "      <th>2</th>\n",
              "      <td>3</td>\n",
              "      <td>1.51618</td>\n",
              "      <td>13.53</td>\n",
              "      <td>3.55</td>\n",
              "      <td>1.54</td>\n",
              "      <td>72.99</td>\n",
              "      <td>0.39</td>\n",
              "      <td>7.78</td>\n",
              "      <td>0.0</td>\n",
              "      <td>0.0</td>\n",
              "      <td>1</td>\n",
              "    </tr>\n",
              "    <tr>\n",
              "      <th>3</th>\n",
              "      <td>4</td>\n",
              "      <td>1.51766</td>\n",
              "      <td>13.21</td>\n",
              "      <td>3.69</td>\n",
              "      <td>1.29</td>\n",
              "      <td>72.61</td>\n",
              "      <td>0.57</td>\n",
              "      <td>8.22</td>\n",
              "      <td>0.0</td>\n",
              "      <td>0.0</td>\n",
              "      <td>1</td>\n",
              "    </tr>\n",
              "  </tbody>\n",
              "</table>\n",
              "</div>\n",
              "      <button class=\"colab-df-convert\" onclick=\"convertToInteractive('df-5a74013d-d6bd-4af6-bc00-debc86018613')\"\n",
              "              title=\"Convert this dataframe to an interactive table.\"\n",
              "              style=\"display:none;\">\n",
              "        \n",
              "  <svg xmlns=\"http://www.w3.org/2000/svg\" height=\"24px\"viewBox=\"0 0 24 24\"\n",
              "       width=\"24px\">\n",
              "    <path d=\"M0 0h24v24H0V0z\" fill=\"none\"/>\n",
              "    <path d=\"M18.56 5.44l.94 2.06.94-2.06 2.06-.94-2.06-.94-.94-2.06-.94 2.06-2.06.94zm-11 1L8.5 8.5l.94-2.06 2.06-.94-2.06-.94L8.5 2.5l-.94 2.06-2.06.94zm10 10l.94 2.06.94-2.06 2.06-.94-2.06-.94-.94-2.06-.94 2.06-2.06.94z\"/><path d=\"M17.41 7.96l-1.37-1.37c-.4-.4-.92-.59-1.43-.59-.52 0-1.04.2-1.43.59L10.3 9.45l-7.72 7.72c-.78.78-.78 2.05 0 2.83L4 21.41c.39.39.9.59 1.41.59.51 0 1.02-.2 1.41-.59l7.78-7.78 2.81-2.81c.8-.78.8-2.07 0-2.86zM5.41 20L4 18.59l7.72-7.72 1.47 1.35L5.41 20z\"/>\n",
              "  </svg>\n",
              "      </button>\n",
              "      \n",
              "  <style>\n",
              "    .colab-df-container {\n",
              "      display:flex;\n",
              "      flex-wrap:wrap;\n",
              "      gap: 12px;\n",
              "    }\n",
              "\n",
              "    .colab-df-convert {\n",
              "      background-color: #E8F0FE;\n",
              "      border: none;\n",
              "      border-radius: 50%;\n",
              "      cursor: pointer;\n",
              "      display: none;\n",
              "      fill: #1967D2;\n",
              "      height: 32px;\n",
              "      padding: 0 0 0 0;\n",
              "      width: 32px;\n",
              "    }\n",
              "\n",
              "    .colab-df-convert:hover {\n",
              "      background-color: #E2EBFA;\n",
              "      box-shadow: 0px 1px 2px rgba(60, 64, 67, 0.3), 0px 1px 3px 1px rgba(60, 64, 67, 0.15);\n",
              "      fill: #174EA6;\n",
              "    }\n",
              "\n",
              "    [theme=dark] .colab-df-convert {\n",
              "      background-color: #3B4455;\n",
              "      fill: #D2E3FC;\n",
              "    }\n",
              "\n",
              "    [theme=dark] .colab-df-convert:hover {\n",
              "      background-color: #434B5C;\n",
              "      box-shadow: 0px 1px 3px 1px rgba(0, 0, 0, 0.15);\n",
              "      filter: drop-shadow(0px 1px 2px rgba(0, 0, 0, 0.3));\n",
              "      fill: #FFFFFF;\n",
              "    }\n",
              "  </style>\n",
              "\n",
              "      <script>\n",
              "        const buttonEl =\n",
              "          document.querySelector('#df-5a74013d-d6bd-4af6-bc00-debc86018613 button.colab-df-convert');\n",
              "        buttonEl.style.display =\n",
              "          google.colab.kernel.accessAllowed ? 'block' : 'none';\n",
              "\n",
              "        async function convertToInteractive(key) {\n",
              "          const element = document.querySelector('#df-5a74013d-d6bd-4af6-bc00-debc86018613');\n",
              "          const dataTable =\n",
              "            await google.colab.kernel.invokeFunction('convertToInteractive',\n",
              "                                                     [key], {});\n",
              "          if (!dataTable) return;\n",
              "\n",
              "          const docLinkHtml = 'Like what you see? Visit the ' +\n",
              "            '<a target=\"_blank\" href=https://colab.research.google.com/notebooks/data_table.ipynb>data table notebook</a>'\n",
              "            + ' to learn more about interactive tables.';\n",
              "          element.innerHTML = '';\n",
              "          dataTable['output_type'] = 'display_data';\n",
              "          await google.colab.output.renderOutput(dataTable, element);\n",
              "          const docLink = document.createElement('div');\n",
              "          docLink.innerHTML = docLinkHtml;\n",
              "          element.appendChild(docLink);\n",
              "        }\n",
              "      </script>\n",
              "    </div>\n",
              "  </div>\n",
              "  "
            ]
          },
          "metadata": {},
          "execution_count": 149
        }
      ]
    },
    {
      "cell_type": "markdown",
      "source": [
        "##### **Mengakses Kolom**"
      ],
      "metadata": {
        "id": "GA1U4UnODg9f"
      }
    },
    {
      "cell_type": "code",
      "source": [
        "# Mengakses kolom sebagai Series dengan loc\n",
        "df_ri_1 = df.loc[:,'RI']\n",
        "print(\"Tipe dari objek:\", type(df_ri_1))\n",
        "df_ri_1"
      ],
      "metadata": {
        "colab": {
          "base_uri": "https://localhost:8080/"
        },
        "id": "dEakhW0gD3s-",
        "outputId": "8e0764e5-956d-4d7e-b739-74f4631403ce"
      },
      "execution_count": null,
      "outputs": [
        {
          "output_type": "stream",
          "name": "stdout",
          "text": [
            "Tipe dari objek: <class 'pandas.core.series.Series'>\n"
          ]
        },
        {
          "output_type": "execute_result",
          "data": {
            "text/plain": [
              "0      1.52101\n",
              "1      1.51761\n",
              "2      1.51618\n",
              "3      1.51766\n",
              "4      1.51742\n",
              "        ...   \n",
              "209    1.51623\n",
              "210    1.51685\n",
              "211    1.52065\n",
              "212    1.51651\n",
              "213    1.51711\n",
              "Name: RI, Length: 214, dtype: float64"
            ]
          },
          "metadata": {},
          "execution_count": 150
        }
      ]
    },
    {
      "cell_type": "code",
      "source": [
        "# Mengakses kolom sebagai DataFrame dengan loc\n",
        "df_ri_2 = df.loc[:,['RI']]\n",
        "print(\"Tipe dari objek:\", type(df_ri_2))\n",
        "df_ri_2"
      ],
      "metadata": {
        "colab": {
          "base_uri": "https://localhost:8080/",
          "height": 441
        },
        "id": "nNXlnoiZEP2K",
        "outputId": "2fc33392-fea4-409e-e8a9-eaa795adab06"
      },
      "execution_count": null,
      "outputs": [
        {
          "output_type": "stream",
          "name": "stdout",
          "text": [
            "Tipe dari objek: <class 'pandas.core.frame.DataFrame'>\n"
          ]
        },
        {
          "output_type": "execute_result",
          "data": {
            "text/plain": [
              "          RI\n",
              "0    1.52101\n",
              "1    1.51761\n",
              "2    1.51618\n",
              "3    1.51766\n",
              "4    1.51742\n",
              "..       ...\n",
              "209  1.51623\n",
              "210  1.51685\n",
              "211  1.52065\n",
              "212  1.51651\n",
              "213  1.51711\n",
              "\n",
              "[214 rows x 1 columns]"
            ],
            "text/html": [
              "\n",
              "  <div id=\"df-26dc0007-0973-4167-aeed-02e6b7d6e85f\">\n",
              "    <div class=\"colab-df-container\">\n",
              "      <div>\n",
              "<style scoped>\n",
              "    .dataframe tbody tr th:only-of-type {\n",
              "        vertical-align: middle;\n",
              "    }\n",
              "\n",
              "    .dataframe tbody tr th {\n",
              "        vertical-align: top;\n",
              "    }\n",
              "\n",
              "    .dataframe thead th {\n",
              "        text-align: right;\n",
              "    }\n",
              "</style>\n",
              "<table border=\"1\" class=\"dataframe\">\n",
              "  <thead>\n",
              "    <tr style=\"text-align: right;\">\n",
              "      <th></th>\n",
              "      <th>RI</th>\n",
              "    </tr>\n",
              "  </thead>\n",
              "  <tbody>\n",
              "    <tr>\n",
              "      <th>0</th>\n",
              "      <td>1.52101</td>\n",
              "    </tr>\n",
              "    <tr>\n",
              "      <th>1</th>\n",
              "      <td>1.51761</td>\n",
              "    </tr>\n",
              "    <tr>\n",
              "      <th>2</th>\n",
              "      <td>1.51618</td>\n",
              "    </tr>\n",
              "    <tr>\n",
              "      <th>3</th>\n",
              "      <td>1.51766</td>\n",
              "    </tr>\n",
              "    <tr>\n",
              "      <th>4</th>\n",
              "      <td>1.51742</td>\n",
              "    </tr>\n",
              "    <tr>\n",
              "      <th>...</th>\n",
              "      <td>...</td>\n",
              "    </tr>\n",
              "    <tr>\n",
              "      <th>209</th>\n",
              "      <td>1.51623</td>\n",
              "    </tr>\n",
              "    <tr>\n",
              "      <th>210</th>\n",
              "      <td>1.51685</td>\n",
              "    </tr>\n",
              "    <tr>\n",
              "      <th>211</th>\n",
              "      <td>1.52065</td>\n",
              "    </tr>\n",
              "    <tr>\n",
              "      <th>212</th>\n",
              "      <td>1.51651</td>\n",
              "    </tr>\n",
              "    <tr>\n",
              "      <th>213</th>\n",
              "      <td>1.51711</td>\n",
              "    </tr>\n",
              "  </tbody>\n",
              "</table>\n",
              "<p>214 rows × 1 columns</p>\n",
              "</div>\n",
              "      <button class=\"colab-df-convert\" onclick=\"convertToInteractive('df-26dc0007-0973-4167-aeed-02e6b7d6e85f')\"\n",
              "              title=\"Convert this dataframe to an interactive table.\"\n",
              "              style=\"display:none;\">\n",
              "        \n",
              "  <svg xmlns=\"http://www.w3.org/2000/svg\" height=\"24px\"viewBox=\"0 0 24 24\"\n",
              "       width=\"24px\">\n",
              "    <path d=\"M0 0h24v24H0V0z\" fill=\"none\"/>\n",
              "    <path d=\"M18.56 5.44l.94 2.06.94-2.06 2.06-.94-2.06-.94-.94-2.06-.94 2.06-2.06.94zm-11 1L8.5 8.5l.94-2.06 2.06-.94-2.06-.94L8.5 2.5l-.94 2.06-2.06.94zm10 10l.94 2.06.94-2.06 2.06-.94-2.06-.94-.94-2.06-.94 2.06-2.06.94z\"/><path d=\"M17.41 7.96l-1.37-1.37c-.4-.4-.92-.59-1.43-.59-.52 0-1.04.2-1.43.59L10.3 9.45l-7.72 7.72c-.78.78-.78 2.05 0 2.83L4 21.41c.39.39.9.59 1.41.59.51 0 1.02-.2 1.41-.59l7.78-7.78 2.81-2.81c.8-.78.8-2.07 0-2.86zM5.41 20L4 18.59l7.72-7.72 1.47 1.35L5.41 20z\"/>\n",
              "  </svg>\n",
              "      </button>\n",
              "      \n",
              "  <style>\n",
              "    .colab-df-container {\n",
              "      display:flex;\n",
              "      flex-wrap:wrap;\n",
              "      gap: 12px;\n",
              "    }\n",
              "\n",
              "    .colab-df-convert {\n",
              "      background-color: #E8F0FE;\n",
              "      border: none;\n",
              "      border-radius: 50%;\n",
              "      cursor: pointer;\n",
              "      display: none;\n",
              "      fill: #1967D2;\n",
              "      height: 32px;\n",
              "      padding: 0 0 0 0;\n",
              "      width: 32px;\n",
              "    }\n",
              "\n",
              "    .colab-df-convert:hover {\n",
              "      background-color: #E2EBFA;\n",
              "      box-shadow: 0px 1px 2px rgba(60, 64, 67, 0.3), 0px 1px 3px 1px rgba(60, 64, 67, 0.15);\n",
              "      fill: #174EA6;\n",
              "    }\n",
              "\n",
              "    [theme=dark] .colab-df-convert {\n",
              "      background-color: #3B4455;\n",
              "      fill: #D2E3FC;\n",
              "    }\n",
              "\n",
              "    [theme=dark] .colab-df-convert:hover {\n",
              "      background-color: #434B5C;\n",
              "      box-shadow: 0px 1px 3px 1px rgba(0, 0, 0, 0.15);\n",
              "      filter: drop-shadow(0px 1px 2px rgba(0, 0, 0, 0.3));\n",
              "      fill: #FFFFFF;\n",
              "    }\n",
              "  </style>\n",
              "\n",
              "      <script>\n",
              "        const buttonEl =\n",
              "          document.querySelector('#df-26dc0007-0973-4167-aeed-02e6b7d6e85f button.colab-df-convert');\n",
              "        buttonEl.style.display =\n",
              "          google.colab.kernel.accessAllowed ? 'block' : 'none';\n",
              "\n",
              "        async function convertToInteractive(key) {\n",
              "          const element = document.querySelector('#df-26dc0007-0973-4167-aeed-02e6b7d6e85f');\n",
              "          const dataTable =\n",
              "            await google.colab.kernel.invokeFunction('convertToInteractive',\n",
              "                                                     [key], {});\n",
              "          if (!dataTable) return;\n",
              "\n",
              "          const docLinkHtml = 'Like what you see? Visit the ' +\n",
              "            '<a target=\"_blank\" href=https://colab.research.google.com/notebooks/data_table.ipynb>data table notebook</a>'\n",
              "            + ' to learn more about interactive tables.';\n",
              "          element.innerHTML = '';\n",
              "          dataTable['output_type'] = 'display_data';\n",
              "          await google.colab.output.renderOutput(dataTable, element);\n",
              "          const docLink = document.createElement('div');\n",
              "          docLink.innerHTML = docLinkHtml;\n",
              "          element.appendChild(docLink);\n",
              "        }\n",
              "      </script>\n",
              "    </div>\n",
              "  </div>\n",
              "  "
            ]
          },
          "metadata": {},
          "execution_count": 151
        }
      ]
    },
    {
      "cell_type": "code",
      "source": [
        "# Mengakses lebih dari 1 kolom dengan loc\n",
        "df.loc[:,['RI', 'Na']]"
      ],
      "metadata": {
        "colab": {
          "base_uri": "https://localhost:8080/",
          "height": 423
        },
        "id": "aSR0C2GBD-oQ",
        "outputId": "8d05b4df-3255-4c49-8847-ae2d025791b0"
      },
      "execution_count": null,
      "outputs": [
        {
          "output_type": "execute_result",
          "data": {
            "text/plain": [
              "          RI     Na\n",
              "0    1.52101  13.64\n",
              "1    1.51761  13.89\n",
              "2    1.51618  13.53\n",
              "3    1.51766  13.21\n",
              "4    1.51742  13.27\n",
              "..       ...    ...\n",
              "209  1.51623  14.14\n",
              "210  1.51685  14.92\n",
              "211  1.52065  14.36\n",
              "212  1.51651  14.38\n",
              "213  1.51711  14.23\n",
              "\n",
              "[214 rows x 2 columns]"
            ],
            "text/html": [
              "\n",
              "  <div id=\"df-aafc66a5-1010-42ff-96ca-2339dc776e79\">\n",
              "    <div class=\"colab-df-container\">\n",
              "      <div>\n",
              "<style scoped>\n",
              "    .dataframe tbody tr th:only-of-type {\n",
              "        vertical-align: middle;\n",
              "    }\n",
              "\n",
              "    .dataframe tbody tr th {\n",
              "        vertical-align: top;\n",
              "    }\n",
              "\n",
              "    .dataframe thead th {\n",
              "        text-align: right;\n",
              "    }\n",
              "</style>\n",
              "<table border=\"1\" class=\"dataframe\">\n",
              "  <thead>\n",
              "    <tr style=\"text-align: right;\">\n",
              "      <th></th>\n",
              "      <th>RI</th>\n",
              "      <th>Na</th>\n",
              "    </tr>\n",
              "  </thead>\n",
              "  <tbody>\n",
              "    <tr>\n",
              "      <th>0</th>\n",
              "      <td>1.52101</td>\n",
              "      <td>13.64</td>\n",
              "    </tr>\n",
              "    <tr>\n",
              "      <th>1</th>\n",
              "      <td>1.51761</td>\n",
              "      <td>13.89</td>\n",
              "    </tr>\n",
              "    <tr>\n",
              "      <th>2</th>\n",
              "      <td>1.51618</td>\n",
              "      <td>13.53</td>\n",
              "    </tr>\n",
              "    <tr>\n",
              "      <th>3</th>\n",
              "      <td>1.51766</td>\n",
              "      <td>13.21</td>\n",
              "    </tr>\n",
              "    <tr>\n",
              "      <th>4</th>\n",
              "      <td>1.51742</td>\n",
              "      <td>13.27</td>\n",
              "    </tr>\n",
              "    <tr>\n",
              "      <th>...</th>\n",
              "      <td>...</td>\n",
              "      <td>...</td>\n",
              "    </tr>\n",
              "    <tr>\n",
              "      <th>209</th>\n",
              "      <td>1.51623</td>\n",
              "      <td>14.14</td>\n",
              "    </tr>\n",
              "    <tr>\n",
              "      <th>210</th>\n",
              "      <td>1.51685</td>\n",
              "      <td>14.92</td>\n",
              "    </tr>\n",
              "    <tr>\n",
              "      <th>211</th>\n",
              "      <td>1.52065</td>\n",
              "      <td>14.36</td>\n",
              "    </tr>\n",
              "    <tr>\n",
              "      <th>212</th>\n",
              "      <td>1.51651</td>\n",
              "      <td>14.38</td>\n",
              "    </tr>\n",
              "    <tr>\n",
              "      <th>213</th>\n",
              "      <td>1.51711</td>\n",
              "      <td>14.23</td>\n",
              "    </tr>\n",
              "  </tbody>\n",
              "</table>\n",
              "<p>214 rows × 2 columns</p>\n",
              "</div>\n",
              "      <button class=\"colab-df-convert\" onclick=\"convertToInteractive('df-aafc66a5-1010-42ff-96ca-2339dc776e79')\"\n",
              "              title=\"Convert this dataframe to an interactive table.\"\n",
              "              style=\"display:none;\">\n",
              "        \n",
              "  <svg xmlns=\"http://www.w3.org/2000/svg\" height=\"24px\"viewBox=\"0 0 24 24\"\n",
              "       width=\"24px\">\n",
              "    <path d=\"M0 0h24v24H0V0z\" fill=\"none\"/>\n",
              "    <path d=\"M18.56 5.44l.94 2.06.94-2.06 2.06-.94-2.06-.94-.94-2.06-.94 2.06-2.06.94zm-11 1L8.5 8.5l.94-2.06 2.06-.94-2.06-.94L8.5 2.5l-.94 2.06-2.06.94zm10 10l.94 2.06.94-2.06 2.06-.94-2.06-.94-.94-2.06-.94 2.06-2.06.94z\"/><path d=\"M17.41 7.96l-1.37-1.37c-.4-.4-.92-.59-1.43-.59-.52 0-1.04.2-1.43.59L10.3 9.45l-7.72 7.72c-.78.78-.78 2.05 0 2.83L4 21.41c.39.39.9.59 1.41.59.51 0 1.02-.2 1.41-.59l7.78-7.78 2.81-2.81c.8-.78.8-2.07 0-2.86zM5.41 20L4 18.59l7.72-7.72 1.47 1.35L5.41 20z\"/>\n",
              "  </svg>\n",
              "      </button>\n",
              "      \n",
              "  <style>\n",
              "    .colab-df-container {\n",
              "      display:flex;\n",
              "      flex-wrap:wrap;\n",
              "      gap: 12px;\n",
              "    }\n",
              "\n",
              "    .colab-df-convert {\n",
              "      background-color: #E8F0FE;\n",
              "      border: none;\n",
              "      border-radius: 50%;\n",
              "      cursor: pointer;\n",
              "      display: none;\n",
              "      fill: #1967D2;\n",
              "      height: 32px;\n",
              "      padding: 0 0 0 0;\n",
              "      width: 32px;\n",
              "    }\n",
              "\n",
              "    .colab-df-convert:hover {\n",
              "      background-color: #E2EBFA;\n",
              "      box-shadow: 0px 1px 2px rgba(60, 64, 67, 0.3), 0px 1px 3px 1px rgba(60, 64, 67, 0.15);\n",
              "      fill: #174EA6;\n",
              "    }\n",
              "\n",
              "    [theme=dark] .colab-df-convert {\n",
              "      background-color: #3B4455;\n",
              "      fill: #D2E3FC;\n",
              "    }\n",
              "\n",
              "    [theme=dark] .colab-df-convert:hover {\n",
              "      background-color: #434B5C;\n",
              "      box-shadow: 0px 1px 3px 1px rgba(0, 0, 0, 0.15);\n",
              "      filter: drop-shadow(0px 1px 2px rgba(0, 0, 0, 0.3));\n",
              "      fill: #FFFFFF;\n",
              "    }\n",
              "  </style>\n",
              "\n",
              "      <script>\n",
              "        const buttonEl =\n",
              "          document.querySelector('#df-aafc66a5-1010-42ff-96ca-2339dc776e79 button.colab-df-convert');\n",
              "        buttonEl.style.display =\n",
              "          google.colab.kernel.accessAllowed ? 'block' : 'none';\n",
              "\n",
              "        async function convertToInteractive(key) {\n",
              "          const element = document.querySelector('#df-aafc66a5-1010-42ff-96ca-2339dc776e79');\n",
              "          const dataTable =\n",
              "            await google.colab.kernel.invokeFunction('convertToInteractive',\n",
              "                                                     [key], {});\n",
              "          if (!dataTable) return;\n",
              "\n",
              "          const docLinkHtml = 'Like what you see? Visit the ' +\n",
              "            '<a target=\"_blank\" href=https://colab.research.google.com/notebooks/data_table.ipynb>data table notebook</a>'\n",
              "            + ' to learn more about interactive tables.';\n",
              "          element.innerHTML = '';\n",
              "          dataTable['output_type'] = 'display_data';\n",
              "          await google.colab.output.renderOutput(dataTable, element);\n",
              "          const docLink = document.createElement('div');\n",
              "          docLink.innerHTML = docLinkHtml;\n",
              "          element.appendChild(docLink);\n",
              "        }\n",
              "      </script>\n",
              "    </div>\n",
              "  </div>\n",
              "  "
            ]
          },
          "metadata": {},
          "execution_count": 152
        }
      ]
    },
    {
      "cell_type": "code",
      "source": [
        "# Mengakses kolom sebagai Series dengan iloc\n",
        "df_ri_3 = df.iloc[:,1]\n",
        "print(\"Tipe dari objek:\", type(df_ri_3))\n",
        "df_ri_3"
      ],
      "metadata": {
        "colab": {
          "base_uri": "https://localhost:8080/"
        },
        "id": "kiPbutBvEAwa",
        "outputId": "7d6d1eff-2616-4c28-afbf-0731fed9147b"
      },
      "execution_count": null,
      "outputs": [
        {
          "output_type": "stream",
          "name": "stdout",
          "text": [
            "Tipe dari objek: <class 'pandas.core.series.Series'>\n"
          ]
        },
        {
          "output_type": "execute_result",
          "data": {
            "text/plain": [
              "0      1.52101\n",
              "1      1.51761\n",
              "2      1.51618\n",
              "3      1.51766\n",
              "4      1.51742\n",
              "        ...   \n",
              "209    1.51623\n",
              "210    1.51685\n",
              "211    1.52065\n",
              "212    1.51651\n",
              "213    1.51711\n",
              "Name: RI, Length: 214, dtype: float64"
            ]
          },
          "metadata": {},
          "execution_count": 153
        }
      ]
    },
    {
      "cell_type": "code",
      "source": [
        "# Mengakses kolom sebagai DataFrame dengan iloc\n",
        "df_ri_4 = df.iloc[:,[1]]\n",
        "print(\"Tipe dari objek:\", type(df_ri_4))\n",
        "df_ri_4"
      ],
      "metadata": {
        "colab": {
          "base_uri": "https://localhost:8080/",
          "height": 441
        },
        "id": "x6gdifT5Ef02",
        "outputId": "08791845-deae-4da1-e050-6860c88ae752"
      },
      "execution_count": null,
      "outputs": [
        {
          "output_type": "stream",
          "name": "stdout",
          "text": [
            "Tipe dari objek: <class 'pandas.core.frame.DataFrame'>\n"
          ]
        },
        {
          "output_type": "execute_result",
          "data": {
            "text/plain": [
              "          RI\n",
              "0    1.52101\n",
              "1    1.51761\n",
              "2    1.51618\n",
              "3    1.51766\n",
              "4    1.51742\n",
              "..       ...\n",
              "209  1.51623\n",
              "210  1.51685\n",
              "211  1.52065\n",
              "212  1.51651\n",
              "213  1.51711\n",
              "\n",
              "[214 rows x 1 columns]"
            ],
            "text/html": [
              "\n",
              "  <div id=\"df-595b7160-f931-4031-9514-f0e1fed2a4de\">\n",
              "    <div class=\"colab-df-container\">\n",
              "      <div>\n",
              "<style scoped>\n",
              "    .dataframe tbody tr th:only-of-type {\n",
              "        vertical-align: middle;\n",
              "    }\n",
              "\n",
              "    .dataframe tbody tr th {\n",
              "        vertical-align: top;\n",
              "    }\n",
              "\n",
              "    .dataframe thead th {\n",
              "        text-align: right;\n",
              "    }\n",
              "</style>\n",
              "<table border=\"1\" class=\"dataframe\">\n",
              "  <thead>\n",
              "    <tr style=\"text-align: right;\">\n",
              "      <th></th>\n",
              "      <th>RI</th>\n",
              "    </tr>\n",
              "  </thead>\n",
              "  <tbody>\n",
              "    <tr>\n",
              "      <th>0</th>\n",
              "      <td>1.52101</td>\n",
              "    </tr>\n",
              "    <tr>\n",
              "      <th>1</th>\n",
              "      <td>1.51761</td>\n",
              "    </tr>\n",
              "    <tr>\n",
              "      <th>2</th>\n",
              "      <td>1.51618</td>\n",
              "    </tr>\n",
              "    <tr>\n",
              "      <th>3</th>\n",
              "      <td>1.51766</td>\n",
              "    </tr>\n",
              "    <tr>\n",
              "      <th>4</th>\n",
              "      <td>1.51742</td>\n",
              "    </tr>\n",
              "    <tr>\n",
              "      <th>...</th>\n",
              "      <td>...</td>\n",
              "    </tr>\n",
              "    <tr>\n",
              "      <th>209</th>\n",
              "      <td>1.51623</td>\n",
              "    </tr>\n",
              "    <tr>\n",
              "      <th>210</th>\n",
              "      <td>1.51685</td>\n",
              "    </tr>\n",
              "    <tr>\n",
              "      <th>211</th>\n",
              "      <td>1.52065</td>\n",
              "    </tr>\n",
              "    <tr>\n",
              "      <th>212</th>\n",
              "      <td>1.51651</td>\n",
              "    </tr>\n",
              "    <tr>\n",
              "      <th>213</th>\n",
              "      <td>1.51711</td>\n",
              "    </tr>\n",
              "  </tbody>\n",
              "</table>\n",
              "<p>214 rows × 1 columns</p>\n",
              "</div>\n",
              "      <button class=\"colab-df-convert\" onclick=\"convertToInteractive('df-595b7160-f931-4031-9514-f0e1fed2a4de')\"\n",
              "              title=\"Convert this dataframe to an interactive table.\"\n",
              "              style=\"display:none;\">\n",
              "        \n",
              "  <svg xmlns=\"http://www.w3.org/2000/svg\" height=\"24px\"viewBox=\"0 0 24 24\"\n",
              "       width=\"24px\">\n",
              "    <path d=\"M0 0h24v24H0V0z\" fill=\"none\"/>\n",
              "    <path d=\"M18.56 5.44l.94 2.06.94-2.06 2.06-.94-2.06-.94-.94-2.06-.94 2.06-2.06.94zm-11 1L8.5 8.5l.94-2.06 2.06-.94-2.06-.94L8.5 2.5l-.94 2.06-2.06.94zm10 10l.94 2.06.94-2.06 2.06-.94-2.06-.94-.94-2.06-.94 2.06-2.06.94z\"/><path d=\"M17.41 7.96l-1.37-1.37c-.4-.4-.92-.59-1.43-.59-.52 0-1.04.2-1.43.59L10.3 9.45l-7.72 7.72c-.78.78-.78 2.05 0 2.83L4 21.41c.39.39.9.59 1.41.59.51 0 1.02-.2 1.41-.59l7.78-7.78 2.81-2.81c.8-.78.8-2.07 0-2.86zM5.41 20L4 18.59l7.72-7.72 1.47 1.35L5.41 20z\"/>\n",
              "  </svg>\n",
              "      </button>\n",
              "      \n",
              "  <style>\n",
              "    .colab-df-container {\n",
              "      display:flex;\n",
              "      flex-wrap:wrap;\n",
              "      gap: 12px;\n",
              "    }\n",
              "\n",
              "    .colab-df-convert {\n",
              "      background-color: #E8F0FE;\n",
              "      border: none;\n",
              "      border-radius: 50%;\n",
              "      cursor: pointer;\n",
              "      display: none;\n",
              "      fill: #1967D2;\n",
              "      height: 32px;\n",
              "      padding: 0 0 0 0;\n",
              "      width: 32px;\n",
              "    }\n",
              "\n",
              "    .colab-df-convert:hover {\n",
              "      background-color: #E2EBFA;\n",
              "      box-shadow: 0px 1px 2px rgba(60, 64, 67, 0.3), 0px 1px 3px 1px rgba(60, 64, 67, 0.15);\n",
              "      fill: #174EA6;\n",
              "    }\n",
              "\n",
              "    [theme=dark] .colab-df-convert {\n",
              "      background-color: #3B4455;\n",
              "      fill: #D2E3FC;\n",
              "    }\n",
              "\n",
              "    [theme=dark] .colab-df-convert:hover {\n",
              "      background-color: #434B5C;\n",
              "      box-shadow: 0px 1px 3px 1px rgba(0, 0, 0, 0.15);\n",
              "      filter: drop-shadow(0px 1px 2px rgba(0, 0, 0, 0.3));\n",
              "      fill: #FFFFFF;\n",
              "    }\n",
              "  </style>\n",
              "\n",
              "      <script>\n",
              "        const buttonEl =\n",
              "          document.querySelector('#df-595b7160-f931-4031-9514-f0e1fed2a4de button.colab-df-convert');\n",
              "        buttonEl.style.display =\n",
              "          google.colab.kernel.accessAllowed ? 'block' : 'none';\n",
              "\n",
              "        async function convertToInteractive(key) {\n",
              "          const element = document.querySelector('#df-595b7160-f931-4031-9514-f0e1fed2a4de');\n",
              "          const dataTable =\n",
              "            await google.colab.kernel.invokeFunction('convertToInteractive',\n",
              "                                                     [key], {});\n",
              "          if (!dataTable) return;\n",
              "\n",
              "          const docLinkHtml = 'Like what you see? Visit the ' +\n",
              "            '<a target=\"_blank\" href=https://colab.research.google.com/notebooks/data_table.ipynb>data table notebook</a>'\n",
              "            + ' to learn more about interactive tables.';\n",
              "          element.innerHTML = '';\n",
              "          dataTable['output_type'] = 'display_data';\n",
              "          await google.colab.output.renderOutput(dataTable, element);\n",
              "          const docLink = document.createElement('div');\n",
              "          docLink.innerHTML = docLinkHtml;\n",
              "          element.appendChild(docLink);\n",
              "        }\n",
              "      </script>\n",
              "    </div>\n",
              "  </div>\n",
              "  "
            ]
          },
          "metadata": {},
          "execution_count": 154
        }
      ]
    },
    {
      "cell_type": "code",
      "source": [
        "# Mengakses lebih dari 1 kolom dengan iloc\n",
        "df.iloc[:,[1,2]]"
      ],
      "metadata": {
        "colab": {
          "base_uri": "https://localhost:8080/",
          "height": 423
        },
        "id": "fm9bP3FWEFVb",
        "outputId": "44e2a9ed-0de2-4093-91e4-955d15168394"
      },
      "execution_count": null,
      "outputs": [
        {
          "output_type": "execute_result",
          "data": {
            "text/plain": [
              "          RI     Na\n",
              "0    1.52101  13.64\n",
              "1    1.51761  13.89\n",
              "2    1.51618  13.53\n",
              "3    1.51766  13.21\n",
              "4    1.51742  13.27\n",
              "..       ...    ...\n",
              "209  1.51623  14.14\n",
              "210  1.51685  14.92\n",
              "211  1.52065  14.36\n",
              "212  1.51651  14.38\n",
              "213  1.51711  14.23\n",
              "\n",
              "[214 rows x 2 columns]"
            ],
            "text/html": [
              "\n",
              "  <div id=\"df-ea5c1953-b17c-4fb8-90d7-d0ebb646874e\">\n",
              "    <div class=\"colab-df-container\">\n",
              "      <div>\n",
              "<style scoped>\n",
              "    .dataframe tbody tr th:only-of-type {\n",
              "        vertical-align: middle;\n",
              "    }\n",
              "\n",
              "    .dataframe tbody tr th {\n",
              "        vertical-align: top;\n",
              "    }\n",
              "\n",
              "    .dataframe thead th {\n",
              "        text-align: right;\n",
              "    }\n",
              "</style>\n",
              "<table border=\"1\" class=\"dataframe\">\n",
              "  <thead>\n",
              "    <tr style=\"text-align: right;\">\n",
              "      <th></th>\n",
              "      <th>RI</th>\n",
              "      <th>Na</th>\n",
              "    </tr>\n",
              "  </thead>\n",
              "  <tbody>\n",
              "    <tr>\n",
              "      <th>0</th>\n",
              "      <td>1.52101</td>\n",
              "      <td>13.64</td>\n",
              "    </tr>\n",
              "    <tr>\n",
              "      <th>1</th>\n",
              "      <td>1.51761</td>\n",
              "      <td>13.89</td>\n",
              "    </tr>\n",
              "    <tr>\n",
              "      <th>2</th>\n",
              "      <td>1.51618</td>\n",
              "      <td>13.53</td>\n",
              "    </tr>\n",
              "    <tr>\n",
              "      <th>3</th>\n",
              "      <td>1.51766</td>\n",
              "      <td>13.21</td>\n",
              "    </tr>\n",
              "    <tr>\n",
              "      <th>4</th>\n",
              "      <td>1.51742</td>\n",
              "      <td>13.27</td>\n",
              "    </tr>\n",
              "    <tr>\n",
              "      <th>...</th>\n",
              "      <td>...</td>\n",
              "      <td>...</td>\n",
              "    </tr>\n",
              "    <tr>\n",
              "      <th>209</th>\n",
              "      <td>1.51623</td>\n",
              "      <td>14.14</td>\n",
              "    </tr>\n",
              "    <tr>\n",
              "      <th>210</th>\n",
              "      <td>1.51685</td>\n",
              "      <td>14.92</td>\n",
              "    </tr>\n",
              "    <tr>\n",
              "      <th>211</th>\n",
              "      <td>1.52065</td>\n",
              "      <td>14.36</td>\n",
              "    </tr>\n",
              "    <tr>\n",
              "      <th>212</th>\n",
              "      <td>1.51651</td>\n",
              "      <td>14.38</td>\n",
              "    </tr>\n",
              "    <tr>\n",
              "      <th>213</th>\n",
              "      <td>1.51711</td>\n",
              "      <td>14.23</td>\n",
              "    </tr>\n",
              "  </tbody>\n",
              "</table>\n",
              "<p>214 rows × 2 columns</p>\n",
              "</div>\n",
              "      <button class=\"colab-df-convert\" onclick=\"convertToInteractive('df-ea5c1953-b17c-4fb8-90d7-d0ebb646874e')\"\n",
              "              title=\"Convert this dataframe to an interactive table.\"\n",
              "              style=\"display:none;\">\n",
              "        \n",
              "  <svg xmlns=\"http://www.w3.org/2000/svg\" height=\"24px\"viewBox=\"0 0 24 24\"\n",
              "       width=\"24px\">\n",
              "    <path d=\"M0 0h24v24H0V0z\" fill=\"none\"/>\n",
              "    <path d=\"M18.56 5.44l.94 2.06.94-2.06 2.06-.94-2.06-.94-.94-2.06-.94 2.06-2.06.94zm-11 1L8.5 8.5l.94-2.06 2.06-.94-2.06-.94L8.5 2.5l-.94 2.06-2.06.94zm10 10l.94 2.06.94-2.06 2.06-.94-2.06-.94-.94-2.06-.94 2.06-2.06.94z\"/><path d=\"M17.41 7.96l-1.37-1.37c-.4-.4-.92-.59-1.43-.59-.52 0-1.04.2-1.43.59L10.3 9.45l-7.72 7.72c-.78.78-.78 2.05 0 2.83L4 21.41c.39.39.9.59 1.41.59.51 0 1.02-.2 1.41-.59l7.78-7.78 2.81-2.81c.8-.78.8-2.07 0-2.86zM5.41 20L4 18.59l7.72-7.72 1.47 1.35L5.41 20z\"/>\n",
              "  </svg>\n",
              "      </button>\n",
              "      \n",
              "  <style>\n",
              "    .colab-df-container {\n",
              "      display:flex;\n",
              "      flex-wrap:wrap;\n",
              "      gap: 12px;\n",
              "    }\n",
              "\n",
              "    .colab-df-convert {\n",
              "      background-color: #E8F0FE;\n",
              "      border: none;\n",
              "      border-radius: 50%;\n",
              "      cursor: pointer;\n",
              "      display: none;\n",
              "      fill: #1967D2;\n",
              "      height: 32px;\n",
              "      padding: 0 0 0 0;\n",
              "      width: 32px;\n",
              "    }\n",
              "\n",
              "    .colab-df-convert:hover {\n",
              "      background-color: #E2EBFA;\n",
              "      box-shadow: 0px 1px 2px rgba(60, 64, 67, 0.3), 0px 1px 3px 1px rgba(60, 64, 67, 0.15);\n",
              "      fill: #174EA6;\n",
              "    }\n",
              "\n",
              "    [theme=dark] .colab-df-convert {\n",
              "      background-color: #3B4455;\n",
              "      fill: #D2E3FC;\n",
              "    }\n",
              "\n",
              "    [theme=dark] .colab-df-convert:hover {\n",
              "      background-color: #434B5C;\n",
              "      box-shadow: 0px 1px 3px 1px rgba(0, 0, 0, 0.15);\n",
              "      filter: drop-shadow(0px 1px 2px rgba(0, 0, 0, 0.3));\n",
              "      fill: #FFFFFF;\n",
              "    }\n",
              "  </style>\n",
              "\n",
              "      <script>\n",
              "        const buttonEl =\n",
              "          document.querySelector('#df-ea5c1953-b17c-4fb8-90d7-d0ebb646874e button.colab-df-convert');\n",
              "        buttonEl.style.display =\n",
              "          google.colab.kernel.accessAllowed ? 'block' : 'none';\n",
              "\n",
              "        async function convertToInteractive(key) {\n",
              "          const element = document.querySelector('#df-ea5c1953-b17c-4fb8-90d7-d0ebb646874e');\n",
              "          const dataTable =\n",
              "            await google.colab.kernel.invokeFunction('convertToInteractive',\n",
              "                                                     [key], {});\n",
              "          if (!dataTable) return;\n",
              "\n",
              "          const docLinkHtml = 'Like what you see? Visit the ' +\n",
              "            '<a target=\"_blank\" href=https://colab.research.google.com/notebooks/data_table.ipynb>data table notebook</a>'\n",
              "            + ' to learn more about interactive tables.';\n",
              "          element.innerHTML = '';\n",
              "          dataTable['output_type'] = 'display_data';\n",
              "          await google.colab.output.renderOutput(dataTable, element);\n",
              "          const docLink = document.createElement('div');\n",
              "          docLink.innerHTML = docLinkHtml;\n",
              "          element.appendChild(docLink);\n",
              "        }\n",
              "      </script>\n",
              "    </div>\n",
              "  </div>\n",
              "  "
            ]
          },
          "metadata": {},
          "execution_count": 155
        }
      ]
    },
    {
      "cell_type": "markdown",
      "source": [
        "##### **Mengakses Baris dan Kolom**"
      ],
      "metadata": {
        "id": "zhKkIf-iDi4r"
      }
    },
    {
      "cell_type": "code",
      "metadata": {
        "id": "MD97BX9UNqvh",
        "colab": {
          "base_uri": "https://localhost:8080/",
          "height": 175
        },
        "outputId": "886d5ed5-d7bf-4ce5-e553-95d4328d6ac3"
      },
      "source": [
        "# Mengakses baris 0 - 3, namun hanya kolom Ca & Ba saja, menggunakan loc\n",
        "df.loc[0:3, [\"Ca\", \"Ba\"]]"
      ],
      "execution_count": null,
      "outputs": [
        {
          "output_type": "execute_result",
          "data": {
            "text/plain": [
              "     Ca   Ba\n",
              "0  8.75  0.0\n",
              "1  7.83  0.0\n",
              "2  7.78  0.0\n",
              "3  8.22  0.0"
            ],
            "text/html": [
              "\n",
              "  <div id=\"df-815b0fd2-f0bc-4523-afd4-faf3c193293a\">\n",
              "    <div class=\"colab-df-container\">\n",
              "      <div>\n",
              "<style scoped>\n",
              "    .dataframe tbody tr th:only-of-type {\n",
              "        vertical-align: middle;\n",
              "    }\n",
              "\n",
              "    .dataframe tbody tr th {\n",
              "        vertical-align: top;\n",
              "    }\n",
              "\n",
              "    .dataframe thead th {\n",
              "        text-align: right;\n",
              "    }\n",
              "</style>\n",
              "<table border=\"1\" class=\"dataframe\">\n",
              "  <thead>\n",
              "    <tr style=\"text-align: right;\">\n",
              "      <th></th>\n",
              "      <th>Ca</th>\n",
              "      <th>Ba</th>\n",
              "    </tr>\n",
              "  </thead>\n",
              "  <tbody>\n",
              "    <tr>\n",
              "      <th>0</th>\n",
              "      <td>8.75</td>\n",
              "      <td>0.0</td>\n",
              "    </tr>\n",
              "    <tr>\n",
              "      <th>1</th>\n",
              "      <td>7.83</td>\n",
              "      <td>0.0</td>\n",
              "    </tr>\n",
              "    <tr>\n",
              "      <th>2</th>\n",
              "      <td>7.78</td>\n",
              "      <td>0.0</td>\n",
              "    </tr>\n",
              "    <tr>\n",
              "      <th>3</th>\n",
              "      <td>8.22</td>\n",
              "      <td>0.0</td>\n",
              "    </tr>\n",
              "  </tbody>\n",
              "</table>\n",
              "</div>\n",
              "      <button class=\"colab-df-convert\" onclick=\"convertToInteractive('df-815b0fd2-f0bc-4523-afd4-faf3c193293a')\"\n",
              "              title=\"Convert this dataframe to an interactive table.\"\n",
              "              style=\"display:none;\">\n",
              "        \n",
              "  <svg xmlns=\"http://www.w3.org/2000/svg\" height=\"24px\"viewBox=\"0 0 24 24\"\n",
              "       width=\"24px\">\n",
              "    <path d=\"M0 0h24v24H0V0z\" fill=\"none\"/>\n",
              "    <path d=\"M18.56 5.44l.94 2.06.94-2.06 2.06-.94-2.06-.94-.94-2.06-.94 2.06-2.06.94zm-11 1L8.5 8.5l.94-2.06 2.06-.94-2.06-.94L8.5 2.5l-.94 2.06-2.06.94zm10 10l.94 2.06.94-2.06 2.06-.94-2.06-.94-.94-2.06-.94 2.06-2.06.94z\"/><path d=\"M17.41 7.96l-1.37-1.37c-.4-.4-.92-.59-1.43-.59-.52 0-1.04.2-1.43.59L10.3 9.45l-7.72 7.72c-.78.78-.78 2.05 0 2.83L4 21.41c.39.39.9.59 1.41.59.51 0 1.02-.2 1.41-.59l7.78-7.78 2.81-2.81c.8-.78.8-2.07 0-2.86zM5.41 20L4 18.59l7.72-7.72 1.47 1.35L5.41 20z\"/>\n",
              "  </svg>\n",
              "      </button>\n",
              "      \n",
              "  <style>\n",
              "    .colab-df-container {\n",
              "      display:flex;\n",
              "      flex-wrap:wrap;\n",
              "      gap: 12px;\n",
              "    }\n",
              "\n",
              "    .colab-df-convert {\n",
              "      background-color: #E8F0FE;\n",
              "      border: none;\n",
              "      border-radius: 50%;\n",
              "      cursor: pointer;\n",
              "      display: none;\n",
              "      fill: #1967D2;\n",
              "      height: 32px;\n",
              "      padding: 0 0 0 0;\n",
              "      width: 32px;\n",
              "    }\n",
              "\n",
              "    .colab-df-convert:hover {\n",
              "      background-color: #E2EBFA;\n",
              "      box-shadow: 0px 1px 2px rgba(60, 64, 67, 0.3), 0px 1px 3px 1px rgba(60, 64, 67, 0.15);\n",
              "      fill: #174EA6;\n",
              "    }\n",
              "\n",
              "    [theme=dark] .colab-df-convert {\n",
              "      background-color: #3B4455;\n",
              "      fill: #D2E3FC;\n",
              "    }\n",
              "\n",
              "    [theme=dark] .colab-df-convert:hover {\n",
              "      background-color: #434B5C;\n",
              "      box-shadow: 0px 1px 3px 1px rgba(0, 0, 0, 0.15);\n",
              "      filter: drop-shadow(0px 1px 2px rgba(0, 0, 0, 0.3));\n",
              "      fill: #FFFFFF;\n",
              "    }\n",
              "  </style>\n",
              "\n",
              "      <script>\n",
              "        const buttonEl =\n",
              "          document.querySelector('#df-815b0fd2-f0bc-4523-afd4-faf3c193293a button.colab-df-convert');\n",
              "        buttonEl.style.display =\n",
              "          google.colab.kernel.accessAllowed ? 'block' : 'none';\n",
              "\n",
              "        async function convertToInteractive(key) {\n",
              "          const element = document.querySelector('#df-815b0fd2-f0bc-4523-afd4-faf3c193293a');\n",
              "          const dataTable =\n",
              "            await google.colab.kernel.invokeFunction('convertToInteractive',\n",
              "                                                     [key], {});\n",
              "          if (!dataTable) return;\n",
              "\n",
              "          const docLinkHtml = 'Like what you see? Visit the ' +\n",
              "            '<a target=\"_blank\" href=https://colab.research.google.com/notebooks/data_table.ipynb>data table notebook</a>'\n",
              "            + ' to learn more about interactive tables.';\n",
              "          element.innerHTML = '';\n",
              "          dataTable['output_type'] = 'display_data';\n",
              "          await google.colab.output.renderOutput(dataTable, element);\n",
              "          const docLink = document.createElement('div');\n",
              "          docLink.innerHTML = docLinkHtml;\n",
              "          element.appendChild(docLink);\n",
              "        }\n",
              "      </script>\n",
              "    </div>\n",
              "  </div>\n",
              "  "
            ]
          },
          "metadata": {},
          "execution_count": 156
        }
      ]
    },
    {
      "cell_type": "code",
      "metadata": {
        "id": "xPH4A_hfNqvi",
        "colab": {
          "base_uri": "https://localhost:8080/",
          "height": 175
        },
        "outputId": "c7ddbe93-8b03-4aa0-d06d-b731997f6999"
      },
      "source": [
        "# Mengakses baris 0 - 3, namun hanya kolom Ca & Ba saja, menggunakan iloc\n",
        "df.iloc[0:4, 7:9]"
      ],
      "execution_count": null,
      "outputs": [
        {
          "output_type": "execute_result",
          "data": {
            "text/plain": [
              "     Ca   Ba\n",
              "0  8.75  0.0\n",
              "1  7.83  0.0\n",
              "2  7.78  0.0\n",
              "3  8.22  0.0"
            ],
            "text/html": [
              "\n",
              "  <div id=\"df-7297757c-c26f-47d8-87c0-8e5e31e5d506\">\n",
              "    <div class=\"colab-df-container\">\n",
              "      <div>\n",
              "<style scoped>\n",
              "    .dataframe tbody tr th:only-of-type {\n",
              "        vertical-align: middle;\n",
              "    }\n",
              "\n",
              "    .dataframe tbody tr th {\n",
              "        vertical-align: top;\n",
              "    }\n",
              "\n",
              "    .dataframe thead th {\n",
              "        text-align: right;\n",
              "    }\n",
              "</style>\n",
              "<table border=\"1\" class=\"dataframe\">\n",
              "  <thead>\n",
              "    <tr style=\"text-align: right;\">\n",
              "      <th></th>\n",
              "      <th>Ca</th>\n",
              "      <th>Ba</th>\n",
              "    </tr>\n",
              "  </thead>\n",
              "  <tbody>\n",
              "    <tr>\n",
              "      <th>0</th>\n",
              "      <td>8.75</td>\n",
              "      <td>0.0</td>\n",
              "    </tr>\n",
              "    <tr>\n",
              "      <th>1</th>\n",
              "      <td>7.83</td>\n",
              "      <td>0.0</td>\n",
              "    </tr>\n",
              "    <tr>\n",
              "      <th>2</th>\n",
              "      <td>7.78</td>\n",
              "      <td>0.0</td>\n",
              "    </tr>\n",
              "    <tr>\n",
              "      <th>3</th>\n",
              "      <td>8.22</td>\n",
              "      <td>0.0</td>\n",
              "    </tr>\n",
              "  </tbody>\n",
              "</table>\n",
              "</div>\n",
              "      <button class=\"colab-df-convert\" onclick=\"convertToInteractive('df-7297757c-c26f-47d8-87c0-8e5e31e5d506')\"\n",
              "              title=\"Convert this dataframe to an interactive table.\"\n",
              "              style=\"display:none;\">\n",
              "        \n",
              "  <svg xmlns=\"http://www.w3.org/2000/svg\" height=\"24px\"viewBox=\"0 0 24 24\"\n",
              "       width=\"24px\">\n",
              "    <path d=\"M0 0h24v24H0V0z\" fill=\"none\"/>\n",
              "    <path d=\"M18.56 5.44l.94 2.06.94-2.06 2.06-.94-2.06-.94-.94-2.06-.94 2.06-2.06.94zm-11 1L8.5 8.5l.94-2.06 2.06-.94-2.06-.94L8.5 2.5l-.94 2.06-2.06.94zm10 10l.94 2.06.94-2.06 2.06-.94-2.06-.94-.94-2.06-.94 2.06-2.06.94z\"/><path d=\"M17.41 7.96l-1.37-1.37c-.4-.4-.92-.59-1.43-.59-.52 0-1.04.2-1.43.59L10.3 9.45l-7.72 7.72c-.78.78-.78 2.05 0 2.83L4 21.41c.39.39.9.59 1.41.59.51 0 1.02-.2 1.41-.59l7.78-7.78 2.81-2.81c.8-.78.8-2.07 0-2.86zM5.41 20L4 18.59l7.72-7.72 1.47 1.35L5.41 20z\"/>\n",
              "  </svg>\n",
              "      </button>\n",
              "      \n",
              "  <style>\n",
              "    .colab-df-container {\n",
              "      display:flex;\n",
              "      flex-wrap:wrap;\n",
              "      gap: 12px;\n",
              "    }\n",
              "\n",
              "    .colab-df-convert {\n",
              "      background-color: #E8F0FE;\n",
              "      border: none;\n",
              "      border-radius: 50%;\n",
              "      cursor: pointer;\n",
              "      display: none;\n",
              "      fill: #1967D2;\n",
              "      height: 32px;\n",
              "      padding: 0 0 0 0;\n",
              "      width: 32px;\n",
              "    }\n",
              "\n",
              "    .colab-df-convert:hover {\n",
              "      background-color: #E2EBFA;\n",
              "      box-shadow: 0px 1px 2px rgba(60, 64, 67, 0.3), 0px 1px 3px 1px rgba(60, 64, 67, 0.15);\n",
              "      fill: #174EA6;\n",
              "    }\n",
              "\n",
              "    [theme=dark] .colab-df-convert {\n",
              "      background-color: #3B4455;\n",
              "      fill: #D2E3FC;\n",
              "    }\n",
              "\n",
              "    [theme=dark] .colab-df-convert:hover {\n",
              "      background-color: #434B5C;\n",
              "      box-shadow: 0px 1px 3px 1px rgba(0, 0, 0, 0.15);\n",
              "      filter: drop-shadow(0px 1px 2px rgba(0, 0, 0, 0.3));\n",
              "      fill: #FFFFFF;\n",
              "    }\n",
              "  </style>\n",
              "\n",
              "      <script>\n",
              "        const buttonEl =\n",
              "          document.querySelector('#df-7297757c-c26f-47d8-87c0-8e5e31e5d506 button.colab-df-convert');\n",
              "        buttonEl.style.display =\n",
              "          google.colab.kernel.accessAllowed ? 'block' : 'none';\n",
              "\n",
              "        async function convertToInteractive(key) {\n",
              "          const element = document.querySelector('#df-7297757c-c26f-47d8-87c0-8e5e31e5d506');\n",
              "          const dataTable =\n",
              "            await google.colab.kernel.invokeFunction('convertToInteractive',\n",
              "                                                     [key], {});\n",
              "          if (!dataTable) return;\n",
              "\n",
              "          const docLinkHtml = 'Like what you see? Visit the ' +\n",
              "            '<a target=\"_blank\" href=https://colab.research.google.com/notebooks/data_table.ipynb>data table notebook</a>'\n",
              "            + ' to learn more about interactive tables.';\n",
              "          element.innerHTML = '';\n",
              "          dataTable['output_type'] = 'display_data';\n",
              "          await google.colab.output.renderOutput(dataTable, element);\n",
              "          const docLink = document.createElement('div');\n",
              "          docLink.innerHTML = docLinkHtml;\n",
              "          element.appendChild(docLink);\n",
              "        }\n",
              "      </script>\n",
              "    </div>\n",
              "  </div>\n",
              "  "
            ]
          },
          "metadata": {},
          "execution_count": 157
        }
      ]
    },
    {
      "cell_type": "markdown",
      "source": [
        "##### **Indexing secara spesifik**"
      ],
      "metadata": {
        "id": "5XGeVTZxDr5g"
      }
    },
    {
      "cell_type": "code",
      "metadata": {
        "id": "xMPgM9UDNqvi",
        "colab": {
          "base_uri": "https://localhost:8080/"
        },
        "outputId": "1f69d5fe-172d-491c-ba9f-d5d720277f31"
      },
      "source": [
        "# Memasukkan indeks spesifik menggunakan loc dan iloc\n",
        "print(df.loc[1,\"Type-of-glass\"])\n",
        "print(df.iloc[1,10])"
      ],
      "execution_count": null,
      "outputs": [
        {
          "output_type": "stream",
          "name": "stdout",
          "text": [
            "1\n",
            "1\n"
          ]
        }
      ]
    },
    {
      "cell_type": "markdown",
      "metadata": {
        "id": "Q_xfkzauNqvi"
      },
      "source": [
        "_Indexing_ juga dapat dilakukan tanpa menggunakan <code>loc</code> maupun <code>iloc</code>, dengan urutan indeks dimulai dari kolom, kemudian indeks dari baris."
      ]
    },
    {
      "cell_type": "code",
      "metadata": {
        "id": "7MMvG2XMNqvi",
        "colab": {
          "base_uri": "https://localhost:8080/"
        },
        "outputId": "7e029ba8-21b5-45b4-e0fc-ce7aa0d46c58"
      },
      "source": [
        "# Indexing tanpa menggunakan loc maupun iloc\n",
        "print(df[\"Type-of-glass\"][1])"
      ],
      "execution_count": null,
      "outputs": [
        {
          "output_type": "stream",
          "name": "stdout",
          "text": [
            "1\n"
          ]
        }
      ]
    },
    {
      "cell_type": "markdown",
      "metadata": {
        "id": "GYBWa8EjNqvj"
      },
      "source": [
        "## **Menangani *Missing Values***"
      ]
    },
    {
      "cell_type": "markdown",
      "metadata": {
        "id": "digdd8YzNqvj"
      },
      "source": [
        "Nilai _null_ atau \"_missing values_\" adalah informasi yang diisi dengan _null_ atau tidak diisi. Hal ini dapat terjadi karena informasi tersebut memang tidak diberikan (namun ada), sulit dicari, atau memang tidak ada. _Missing values_ juga dapat tersimpan sebagai \"NA\" atau \"NaN\"."
      ]
    },
    {
      "cell_type": "code",
      "metadata": {
        "id": "oIztc7IQNqvj",
        "colab": {
          "base_uri": "https://localhost:8080/"
        },
        "outputId": "f964fced-59c1-4a8e-e111-73d388bfb943"
      },
      "source": [
        "# Menampilkan jumlah missing values tiap kolom\n",
        "print(\"Count missing values untuk df\\n\", df.isnull().sum())"
      ],
      "execution_count": null,
      "outputs": [
        {
          "output_type": "stream",
          "name": "stdout",
          "text": [
            "Count missing values untuk df\n",
            " Id number        0\n",
            "RI               0\n",
            "Na               0\n",
            "Mg               0\n",
            "Al               0\n",
            "Si               0\n",
            "K                0\n",
            "Ca               0\n",
            "Ba               0\n",
            "Fe               0\n",
            "Type-of-glass    0\n",
            "dtype: int64\n"
          ]
        }
      ]
    },
    {
      "cell_type": "markdown",
      "metadata": {
        "id": "FRzOcG1iNqvj"
      },
      "source": [
        "Dapat dilihat di atas bahwa pada df tidak ditemukan nilai _null_. Selanjutnya kita coba membaca dataset baru pada berkas '`list_of_animes.csv`' yang dilampirkan di SCELE."
      ]
    },
    {
      "cell_type": "markdown",
      "metadata": {
        "id": "8soB8wYQM03Q"
      },
      "source": [
        "### **Deskripsi Dataset \"list of animes\"**\n",
        "* `anime_id`: myanimelist.net's unique id \n",
        "* `name`: full name \n",
        "* `type`: type of anime\n",
        "* `episodes`: number of episodes\n",
        "* `rating`: average rating out of 10\n",
        "\n",
        "Diadaptasi dari dataset: https://www.kaggle.com/datasets/CooperUnion/anime-recommendations-database\n"
      ]
    },
    {
      "cell_type": "code",
      "metadata": {
        "id": "DWgjye15Nqvk",
        "colab": {
          "base_uri": "https://localhost:8080/"
        },
        "outputId": "5fc9f2e0-68f8-4d57-ae44-aa97dda0dc42"
      },
      "source": [
        "df2 = pd.read_csv('list_of_animes.csv')\n",
        "\n",
        "# Menampilkan jumlah missing values tiap kolom\n",
        "print(\"Count missing values untuk df2\\n\", df2.isnull().sum())"
      ],
      "execution_count": null,
      "outputs": [
        {
          "output_type": "stream",
          "name": "stdout",
          "text": [
            "Count missing values untuk df2\n",
            " anime_id      0\n",
            "name          0\n",
            "type         26\n",
            "episodes      0\n",
            "rating      230\n",
            "dtype: int64\n"
          ]
        }
      ]
    },
    {
      "cell_type": "markdown",
      "metadata": {
        "id": "nlkQRz7ANqvk"
      },
      "source": [
        "Dapat dilihat di atas bahwa ada kolom `type` dan `rating` yang memiliki nilai *null*. Hal tersebut ditandai sebagai \"NaN\" pada *DataFrame* jika ditampilkan seperti di bawah."
      ]
    },
    {
      "cell_type": "code",
      "metadata": {
        "id": "PLq2Ss3dNqvk",
        "colab": {
          "base_uri": "https://localhost:8080/",
          "height": 206
        },
        "outputId": "981724ff-540b-4520-d0f3-3adaee4c2e57"
      },
      "source": [
        "# Menampilkan DataFrame df2\n",
        "df2.head()"
      ],
      "execution_count": null,
      "outputs": [
        {
          "output_type": "execute_result",
          "data": {
            "text/plain": [
              "   anime_id                             name   type episodes  rating\n",
              "0     10995             Ganbare!! Nattou-san     TV        4    5.75\n",
              "1     29800                   Urameshi Denwa  Movie        1    4.02\n",
              "2     23721                      Carino Coni     TV       26    6.93\n",
              "3     29491               Kappa no Suribachi  Movie        1    5.00\n",
              "4     34051  Akiba&#039;s Trip The Animation    NaN  Unknown     NaN"
            ],
            "text/html": [
              "\n",
              "  <div id=\"df-d6f1bbe5-0cdd-4970-9606-9f72b6a6215a\">\n",
              "    <div class=\"colab-df-container\">\n",
              "      <div>\n",
              "<style scoped>\n",
              "    .dataframe tbody tr th:only-of-type {\n",
              "        vertical-align: middle;\n",
              "    }\n",
              "\n",
              "    .dataframe tbody tr th {\n",
              "        vertical-align: top;\n",
              "    }\n",
              "\n",
              "    .dataframe thead th {\n",
              "        text-align: right;\n",
              "    }\n",
              "</style>\n",
              "<table border=\"1\" class=\"dataframe\">\n",
              "  <thead>\n",
              "    <tr style=\"text-align: right;\">\n",
              "      <th></th>\n",
              "      <th>anime_id</th>\n",
              "      <th>name</th>\n",
              "      <th>type</th>\n",
              "      <th>episodes</th>\n",
              "      <th>rating</th>\n",
              "    </tr>\n",
              "  </thead>\n",
              "  <tbody>\n",
              "    <tr>\n",
              "      <th>0</th>\n",
              "      <td>10995</td>\n",
              "      <td>Ganbare!! Nattou-san</td>\n",
              "      <td>TV</td>\n",
              "      <td>4</td>\n",
              "      <td>5.75</td>\n",
              "    </tr>\n",
              "    <tr>\n",
              "      <th>1</th>\n",
              "      <td>29800</td>\n",
              "      <td>Urameshi Denwa</td>\n",
              "      <td>Movie</td>\n",
              "      <td>1</td>\n",
              "      <td>4.02</td>\n",
              "    </tr>\n",
              "    <tr>\n",
              "      <th>2</th>\n",
              "      <td>23721</td>\n",
              "      <td>Carino Coni</td>\n",
              "      <td>TV</td>\n",
              "      <td>26</td>\n",
              "      <td>6.93</td>\n",
              "    </tr>\n",
              "    <tr>\n",
              "      <th>3</th>\n",
              "      <td>29491</td>\n",
              "      <td>Kappa no Suribachi</td>\n",
              "      <td>Movie</td>\n",
              "      <td>1</td>\n",
              "      <td>5.00</td>\n",
              "    </tr>\n",
              "    <tr>\n",
              "      <th>4</th>\n",
              "      <td>34051</td>\n",
              "      <td>Akiba&amp;#039;s Trip The Animation</td>\n",
              "      <td>NaN</td>\n",
              "      <td>Unknown</td>\n",
              "      <td>NaN</td>\n",
              "    </tr>\n",
              "  </tbody>\n",
              "</table>\n",
              "</div>\n",
              "      <button class=\"colab-df-convert\" onclick=\"convertToInteractive('df-d6f1bbe5-0cdd-4970-9606-9f72b6a6215a')\"\n",
              "              title=\"Convert this dataframe to an interactive table.\"\n",
              "              style=\"display:none;\">\n",
              "        \n",
              "  <svg xmlns=\"http://www.w3.org/2000/svg\" height=\"24px\"viewBox=\"0 0 24 24\"\n",
              "       width=\"24px\">\n",
              "    <path d=\"M0 0h24v24H0V0z\" fill=\"none\"/>\n",
              "    <path d=\"M18.56 5.44l.94 2.06.94-2.06 2.06-.94-2.06-.94-.94-2.06-.94 2.06-2.06.94zm-11 1L8.5 8.5l.94-2.06 2.06-.94-2.06-.94L8.5 2.5l-.94 2.06-2.06.94zm10 10l.94 2.06.94-2.06 2.06-.94-2.06-.94-.94-2.06-.94 2.06-2.06.94z\"/><path d=\"M17.41 7.96l-1.37-1.37c-.4-.4-.92-.59-1.43-.59-.52 0-1.04.2-1.43.59L10.3 9.45l-7.72 7.72c-.78.78-.78 2.05 0 2.83L4 21.41c.39.39.9.59 1.41.59.51 0 1.02-.2 1.41-.59l7.78-7.78 2.81-2.81c.8-.78.8-2.07 0-2.86zM5.41 20L4 18.59l7.72-7.72 1.47 1.35L5.41 20z\"/>\n",
              "  </svg>\n",
              "      </button>\n",
              "      \n",
              "  <style>\n",
              "    .colab-df-container {\n",
              "      display:flex;\n",
              "      flex-wrap:wrap;\n",
              "      gap: 12px;\n",
              "    }\n",
              "\n",
              "    .colab-df-convert {\n",
              "      background-color: #E8F0FE;\n",
              "      border: none;\n",
              "      border-radius: 50%;\n",
              "      cursor: pointer;\n",
              "      display: none;\n",
              "      fill: #1967D2;\n",
              "      height: 32px;\n",
              "      padding: 0 0 0 0;\n",
              "      width: 32px;\n",
              "    }\n",
              "\n",
              "    .colab-df-convert:hover {\n",
              "      background-color: #E2EBFA;\n",
              "      box-shadow: 0px 1px 2px rgba(60, 64, 67, 0.3), 0px 1px 3px 1px rgba(60, 64, 67, 0.15);\n",
              "      fill: #174EA6;\n",
              "    }\n",
              "\n",
              "    [theme=dark] .colab-df-convert {\n",
              "      background-color: #3B4455;\n",
              "      fill: #D2E3FC;\n",
              "    }\n",
              "\n",
              "    [theme=dark] .colab-df-convert:hover {\n",
              "      background-color: #434B5C;\n",
              "      box-shadow: 0px 1px 3px 1px rgba(0, 0, 0, 0.15);\n",
              "      filter: drop-shadow(0px 1px 2px rgba(0, 0, 0, 0.3));\n",
              "      fill: #FFFFFF;\n",
              "    }\n",
              "  </style>\n",
              "\n",
              "      <script>\n",
              "        const buttonEl =\n",
              "          document.querySelector('#df-d6f1bbe5-0cdd-4970-9606-9f72b6a6215a button.colab-df-convert');\n",
              "        buttonEl.style.display =\n",
              "          google.colab.kernel.accessAllowed ? 'block' : 'none';\n",
              "\n",
              "        async function convertToInteractive(key) {\n",
              "          const element = document.querySelector('#df-d6f1bbe5-0cdd-4970-9606-9f72b6a6215a');\n",
              "          const dataTable =\n",
              "            await google.colab.kernel.invokeFunction('convertToInteractive',\n",
              "                                                     [key], {});\n",
              "          if (!dataTable) return;\n",
              "\n",
              "          const docLinkHtml = 'Like what you see? Visit the ' +\n",
              "            '<a target=\"_blank\" href=https://colab.research.google.com/notebooks/data_table.ipynb>data table notebook</a>'\n",
              "            + ' to learn more about interactive tables.';\n",
              "          element.innerHTML = '';\n",
              "          dataTable['output_type'] = 'display_data';\n",
              "          await google.colab.output.renderOutput(dataTable, element);\n",
              "          const docLink = document.createElement('div');\n",
              "          docLink.innerHTML = docLinkHtml;\n",
              "          element.appendChild(docLink);\n",
              "        }\n",
              "      </script>\n",
              "    </div>\n",
              "  </div>\n",
              "  "
            ]
          },
          "metadata": {},
          "execution_count": 162
        }
      ]
    },
    {
      "cell_type": "markdown",
      "metadata": {
        "id": "zQx4isYwNqvl"
      },
      "source": [
        "Ada beberapa pendekatan untuk menangani _missing values_, berikut pendekatan yang umum digunakan: \n",
        "* Mengisi *missing values* dengan nilai tertentu menggunakan *method* `fillna()`\n",
        "* Menghapus (*drop*) baris atau kolom yang mengandung *missing values*. Gunakan `dropna()` untuk menghapus **baris** yang mengandung *missing values*, dan `dropna(axis='columns')` untuk menghapus **kolom** yang mengandung *missing values*.\n",
        "\n",
        "Contoh-contoh di bawah akan berfokus pada kolom `type`."
      ]
    },
    {
      "cell_type": "markdown",
      "source": [
        "### **Menggunakan `fillna()` dengan nilai 'Unknown'**"
      ],
      "metadata": {
        "id": "d96tTOlULDzU"
      }
    },
    {
      "cell_type": "code",
      "metadata": {
        "id": "DDIgoP_ONqvl",
        "colab": {
          "base_uri": "https://localhost:8080/",
          "height": 206
        },
        "outputId": "667cda03-bd30-4914-e3f2-9cdbf5827da6"
      },
      "source": [
        "df2_fill_type = df2.copy() \n",
        "df2_fill_type['type'] = df2_fill_type['type'].fillna('Unknown')\n",
        "df2_fill_type.head(5)"
      ],
      "execution_count": null,
      "outputs": [
        {
          "output_type": "execute_result",
          "data": {
            "text/plain": [
              "   anime_id                             name     type episodes  rating\n",
              "0     10995             Ganbare!! Nattou-san       TV        4    5.75\n",
              "1     29800                   Urameshi Denwa    Movie        1    4.02\n",
              "2     23721                      Carino Coni       TV       26    6.93\n",
              "3     29491               Kappa no Suribachi    Movie        1    5.00\n",
              "4     34051  Akiba&#039;s Trip The Animation  Unknown  Unknown     NaN"
            ],
            "text/html": [
              "\n",
              "  <div id=\"df-338716de-5ca4-405a-a051-2a647bbab89d\">\n",
              "    <div class=\"colab-df-container\">\n",
              "      <div>\n",
              "<style scoped>\n",
              "    .dataframe tbody tr th:only-of-type {\n",
              "        vertical-align: middle;\n",
              "    }\n",
              "\n",
              "    .dataframe tbody tr th {\n",
              "        vertical-align: top;\n",
              "    }\n",
              "\n",
              "    .dataframe thead th {\n",
              "        text-align: right;\n",
              "    }\n",
              "</style>\n",
              "<table border=\"1\" class=\"dataframe\">\n",
              "  <thead>\n",
              "    <tr style=\"text-align: right;\">\n",
              "      <th></th>\n",
              "      <th>anime_id</th>\n",
              "      <th>name</th>\n",
              "      <th>type</th>\n",
              "      <th>episodes</th>\n",
              "      <th>rating</th>\n",
              "    </tr>\n",
              "  </thead>\n",
              "  <tbody>\n",
              "    <tr>\n",
              "      <th>0</th>\n",
              "      <td>10995</td>\n",
              "      <td>Ganbare!! Nattou-san</td>\n",
              "      <td>TV</td>\n",
              "      <td>4</td>\n",
              "      <td>5.75</td>\n",
              "    </tr>\n",
              "    <tr>\n",
              "      <th>1</th>\n",
              "      <td>29800</td>\n",
              "      <td>Urameshi Denwa</td>\n",
              "      <td>Movie</td>\n",
              "      <td>1</td>\n",
              "      <td>4.02</td>\n",
              "    </tr>\n",
              "    <tr>\n",
              "      <th>2</th>\n",
              "      <td>23721</td>\n",
              "      <td>Carino Coni</td>\n",
              "      <td>TV</td>\n",
              "      <td>26</td>\n",
              "      <td>6.93</td>\n",
              "    </tr>\n",
              "    <tr>\n",
              "      <th>3</th>\n",
              "      <td>29491</td>\n",
              "      <td>Kappa no Suribachi</td>\n",
              "      <td>Movie</td>\n",
              "      <td>1</td>\n",
              "      <td>5.00</td>\n",
              "    </tr>\n",
              "    <tr>\n",
              "      <th>4</th>\n",
              "      <td>34051</td>\n",
              "      <td>Akiba&amp;#039;s Trip The Animation</td>\n",
              "      <td>Unknown</td>\n",
              "      <td>Unknown</td>\n",
              "      <td>NaN</td>\n",
              "    </tr>\n",
              "  </tbody>\n",
              "</table>\n",
              "</div>\n",
              "      <button class=\"colab-df-convert\" onclick=\"convertToInteractive('df-338716de-5ca4-405a-a051-2a647bbab89d')\"\n",
              "              title=\"Convert this dataframe to an interactive table.\"\n",
              "              style=\"display:none;\">\n",
              "        \n",
              "  <svg xmlns=\"http://www.w3.org/2000/svg\" height=\"24px\"viewBox=\"0 0 24 24\"\n",
              "       width=\"24px\">\n",
              "    <path d=\"M0 0h24v24H0V0z\" fill=\"none\"/>\n",
              "    <path d=\"M18.56 5.44l.94 2.06.94-2.06 2.06-.94-2.06-.94-.94-2.06-.94 2.06-2.06.94zm-11 1L8.5 8.5l.94-2.06 2.06-.94-2.06-.94L8.5 2.5l-.94 2.06-2.06.94zm10 10l.94 2.06.94-2.06 2.06-.94-2.06-.94-.94-2.06-.94 2.06-2.06.94z\"/><path d=\"M17.41 7.96l-1.37-1.37c-.4-.4-.92-.59-1.43-.59-.52 0-1.04.2-1.43.59L10.3 9.45l-7.72 7.72c-.78.78-.78 2.05 0 2.83L4 21.41c.39.39.9.59 1.41.59.51 0 1.02-.2 1.41-.59l7.78-7.78 2.81-2.81c.8-.78.8-2.07 0-2.86zM5.41 20L4 18.59l7.72-7.72 1.47 1.35L5.41 20z\"/>\n",
              "  </svg>\n",
              "      </button>\n",
              "      \n",
              "  <style>\n",
              "    .colab-df-container {\n",
              "      display:flex;\n",
              "      flex-wrap:wrap;\n",
              "      gap: 12px;\n",
              "    }\n",
              "\n",
              "    .colab-df-convert {\n",
              "      background-color: #E8F0FE;\n",
              "      border: none;\n",
              "      border-radius: 50%;\n",
              "      cursor: pointer;\n",
              "      display: none;\n",
              "      fill: #1967D2;\n",
              "      height: 32px;\n",
              "      padding: 0 0 0 0;\n",
              "      width: 32px;\n",
              "    }\n",
              "\n",
              "    .colab-df-convert:hover {\n",
              "      background-color: #E2EBFA;\n",
              "      box-shadow: 0px 1px 2px rgba(60, 64, 67, 0.3), 0px 1px 3px 1px rgba(60, 64, 67, 0.15);\n",
              "      fill: #174EA6;\n",
              "    }\n",
              "\n",
              "    [theme=dark] .colab-df-convert {\n",
              "      background-color: #3B4455;\n",
              "      fill: #D2E3FC;\n",
              "    }\n",
              "\n",
              "    [theme=dark] .colab-df-convert:hover {\n",
              "      background-color: #434B5C;\n",
              "      box-shadow: 0px 1px 3px 1px rgba(0, 0, 0, 0.15);\n",
              "      filter: drop-shadow(0px 1px 2px rgba(0, 0, 0, 0.3));\n",
              "      fill: #FFFFFF;\n",
              "    }\n",
              "  </style>\n",
              "\n",
              "      <script>\n",
              "        const buttonEl =\n",
              "          document.querySelector('#df-338716de-5ca4-405a-a051-2a647bbab89d button.colab-df-convert');\n",
              "        buttonEl.style.display =\n",
              "          google.colab.kernel.accessAllowed ? 'block' : 'none';\n",
              "\n",
              "        async function convertToInteractive(key) {\n",
              "          const element = document.querySelector('#df-338716de-5ca4-405a-a051-2a647bbab89d');\n",
              "          const dataTable =\n",
              "            await google.colab.kernel.invokeFunction('convertToInteractive',\n",
              "                                                     [key], {});\n",
              "          if (!dataTable) return;\n",
              "\n",
              "          const docLinkHtml = 'Like what you see? Visit the ' +\n",
              "            '<a target=\"_blank\" href=https://colab.research.google.com/notebooks/data_table.ipynb>data table notebook</a>'\n",
              "            + ' to learn more about interactive tables.';\n",
              "          element.innerHTML = '';\n",
              "          dataTable['output_type'] = 'display_data';\n",
              "          await google.colab.output.renderOutput(dataTable, element);\n",
              "          const docLink = document.createElement('div');\n",
              "          docLink.innerHTML = docLinkHtml;\n",
              "          element.appendChild(docLink);\n",
              "        }\n",
              "      </script>\n",
              "    </div>\n",
              "  </div>\n",
              "  "
            ]
          },
          "metadata": {},
          "execution_count": 163
        }
      ]
    },
    {
      "cell_type": "markdown",
      "source": [
        "### **Menggunakan `dropna()` untuk menghapus *baris* yang mengandung *missing values***"
      ],
      "metadata": {
        "id": "-9HcjWnaLOUO"
      }
    },
    {
      "cell_type": "code",
      "metadata": {
        "id": "13qZ8AqjNqvm",
        "colab": {
          "base_uri": "https://localhost:8080/",
          "height": 206
        },
        "outputId": "cba3bbc5-f027-405f-e607-dd767848a7db"
      },
      "source": [
        "df2_drop_row = df2.copy()\n",
        "df2_drop_row = df2_drop_row.dropna()\n",
        "df2_drop_row.head(5)"
      ],
      "execution_count": null,
      "outputs": [
        {
          "output_type": "execute_result",
          "data": {
            "text/plain": [
              "   anime_id                       name     type episodes  rating\n",
              "0     10995       Ganbare!! Nattou-san       TV        4    5.75\n",
              "1     29800             Urameshi Denwa    Movie        1    4.02\n",
              "2     23721                Carino Coni       TV       26    6.93\n",
              "3     29491         Kappa no Suribachi    Movie        1    5.00\n",
              "5     33074  Lupin III (2015) Specials  Special        2    7.34"
            ],
            "text/html": [
              "\n",
              "  <div id=\"df-c95a5d76-0170-42c4-9c74-f7c3cce3cf7d\">\n",
              "    <div class=\"colab-df-container\">\n",
              "      <div>\n",
              "<style scoped>\n",
              "    .dataframe tbody tr th:only-of-type {\n",
              "        vertical-align: middle;\n",
              "    }\n",
              "\n",
              "    .dataframe tbody tr th {\n",
              "        vertical-align: top;\n",
              "    }\n",
              "\n",
              "    .dataframe thead th {\n",
              "        text-align: right;\n",
              "    }\n",
              "</style>\n",
              "<table border=\"1\" class=\"dataframe\">\n",
              "  <thead>\n",
              "    <tr style=\"text-align: right;\">\n",
              "      <th></th>\n",
              "      <th>anime_id</th>\n",
              "      <th>name</th>\n",
              "      <th>type</th>\n",
              "      <th>episodes</th>\n",
              "      <th>rating</th>\n",
              "    </tr>\n",
              "  </thead>\n",
              "  <tbody>\n",
              "    <tr>\n",
              "      <th>0</th>\n",
              "      <td>10995</td>\n",
              "      <td>Ganbare!! Nattou-san</td>\n",
              "      <td>TV</td>\n",
              "      <td>4</td>\n",
              "      <td>5.75</td>\n",
              "    </tr>\n",
              "    <tr>\n",
              "      <th>1</th>\n",
              "      <td>29800</td>\n",
              "      <td>Urameshi Denwa</td>\n",
              "      <td>Movie</td>\n",
              "      <td>1</td>\n",
              "      <td>4.02</td>\n",
              "    </tr>\n",
              "    <tr>\n",
              "      <th>2</th>\n",
              "      <td>23721</td>\n",
              "      <td>Carino Coni</td>\n",
              "      <td>TV</td>\n",
              "      <td>26</td>\n",
              "      <td>6.93</td>\n",
              "    </tr>\n",
              "    <tr>\n",
              "      <th>3</th>\n",
              "      <td>29491</td>\n",
              "      <td>Kappa no Suribachi</td>\n",
              "      <td>Movie</td>\n",
              "      <td>1</td>\n",
              "      <td>5.00</td>\n",
              "    </tr>\n",
              "    <tr>\n",
              "      <th>5</th>\n",
              "      <td>33074</td>\n",
              "      <td>Lupin III (2015) Specials</td>\n",
              "      <td>Special</td>\n",
              "      <td>2</td>\n",
              "      <td>7.34</td>\n",
              "    </tr>\n",
              "  </tbody>\n",
              "</table>\n",
              "</div>\n",
              "      <button class=\"colab-df-convert\" onclick=\"convertToInteractive('df-c95a5d76-0170-42c4-9c74-f7c3cce3cf7d')\"\n",
              "              title=\"Convert this dataframe to an interactive table.\"\n",
              "              style=\"display:none;\">\n",
              "        \n",
              "  <svg xmlns=\"http://www.w3.org/2000/svg\" height=\"24px\"viewBox=\"0 0 24 24\"\n",
              "       width=\"24px\">\n",
              "    <path d=\"M0 0h24v24H0V0z\" fill=\"none\"/>\n",
              "    <path d=\"M18.56 5.44l.94 2.06.94-2.06 2.06-.94-2.06-.94-.94-2.06-.94 2.06-2.06.94zm-11 1L8.5 8.5l.94-2.06 2.06-.94-2.06-.94L8.5 2.5l-.94 2.06-2.06.94zm10 10l.94 2.06.94-2.06 2.06-.94-2.06-.94-.94-2.06-.94 2.06-2.06.94z\"/><path d=\"M17.41 7.96l-1.37-1.37c-.4-.4-.92-.59-1.43-.59-.52 0-1.04.2-1.43.59L10.3 9.45l-7.72 7.72c-.78.78-.78 2.05 0 2.83L4 21.41c.39.39.9.59 1.41.59.51 0 1.02-.2 1.41-.59l7.78-7.78 2.81-2.81c.8-.78.8-2.07 0-2.86zM5.41 20L4 18.59l7.72-7.72 1.47 1.35L5.41 20z\"/>\n",
              "  </svg>\n",
              "      </button>\n",
              "      \n",
              "  <style>\n",
              "    .colab-df-container {\n",
              "      display:flex;\n",
              "      flex-wrap:wrap;\n",
              "      gap: 12px;\n",
              "    }\n",
              "\n",
              "    .colab-df-convert {\n",
              "      background-color: #E8F0FE;\n",
              "      border: none;\n",
              "      border-radius: 50%;\n",
              "      cursor: pointer;\n",
              "      display: none;\n",
              "      fill: #1967D2;\n",
              "      height: 32px;\n",
              "      padding: 0 0 0 0;\n",
              "      width: 32px;\n",
              "    }\n",
              "\n",
              "    .colab-df-convert:hover {\n",
              "      background-color: #E2EBFA;\n",
              "      box-shadow: 0px 1px 2px rgba(60, 64, 67, 0.3), 0px 1px 3px 1px rgba(60, 64, 67, 0.15);\n",
              "      fill: #174EA6;\n",
              "    }\n",
              "\n",
              "    [theme=dark] .colab-df-convert {\n",
              "      background-color: #3B4455;\n",
              "      fill: #D2E3FC;\n",
              "    }\n",
              "\n",
              "    [theme=dark] .colab-df-convert:hover {\n",
              "      background-color: #434B5C;\n",
              "      box-shadow: 0px 1px 3px 1px rgba(0, 0, 0, 0.15);\n",
              "      filter: drop-shadow(0px 1px 2px rgba(0, 0, 0, 0.3));\n",
              "      fill: #FFFFFF;\n",
              "    }\n",
              "  </style>\n",
              "\n",
              "      <script>\n",
              "        const buttonEl =\n",
              "          document.querySelector('#df-c95a5d76-0170-42c4-9c74-f7c3cce3cf7d button.colab-df-convert');\n",
              "        buttonEl.style.display =\n",
              "          google.colab.kernel.accessAllowed ? 'block' : 'none';\n",
              "\n",
              "        async function convertToInteractive(key) {\n",
              "          const element = document.querySelector('#df-c95a5d76-0170-42c4-9c74-f7c3cce3cf7d');\n",
              "          const dataTable =\n",
              "            await google.colab.kernel.invokeFunction('convertToInteractive',\n",
              "                                                     [key], {});\n",
              "          if (!dataTable) return;\n",
              "\n",
              "          const docLinkHtml = 'Like what you see? Visit the ' +\n",
              "            '<a target=\"_blank\" href=https://colab.research.google.com/notebooks/data_table.ipynb>data table notebook</a>'\n",
              "            + ' to learn more about interactive tables.';\n",
              "          element.innerHTML = '';\n",
              "          dataTable['output_type'] = 'display_data';\n",
              "          await google.colab.output.renderOutput(dataTable, element);\n",
              "          const docLink = document.createElement('div');\n",
              "          docLink.innerHTML = docLinkHtml;\n",
              "          element.appendChild(docLink);\n",
              "        }\n",
              "      </script>\n",
              "    </div>\n",
              "  </div>\n",
              "  "
            ]
          },
          "metadata": {},
          "execution_count": 164
        }
      ]
    },
    {
      "cell_type": "markdown",
      "source": [
        "### **Menggunakan `dropna()` untuk menghapus *kolom* yang mengandung *missing values***"
      ],
      "metadata": {
        "id": "q5YUKUIALQwJ"
      }
    },
    {
      "cell_type": "code",
      "source": [
        "df2_drop_column = df2.copy()\n",
        "df2_drop_column = df2_drop_column.dropna(axis=1)\n",
        "df2_drop_column.head(5)"
      ],
      "metadata": {
        "colab": {
          "base_uri": "https://localhost:8080/",
          "height": 206
        },
        "id": "DU8XqvY2K2M3",
        "outputId": "56b46324-7274-4c2f-9e1d-ba5729e88f46"
      },
      "execution_count": null,
      "outputs": [
        {
          "output_type": "execute_result",
          "data": {
            "text/plain": [
              "   anime_id                             name episodes\n",
              "0     10995             Ganbare!! Nattou-san        4\n",
              "1     29800                   Urameshi Denwa        1\n",
              "2     23721                      Carino Coni       26\n",
              "3     29491               Kappa no Suribachi        1\n",
              "4     34051  Akiba&#039;s Trip The Animation  Unknown"
            ],
            "text/html": [
              "\n",
              "  <div id=\"df-b6ebb095-490d-41d7-b842-8f58141e7c17\">\n",
              "    <div class=\"colab-df-container\">\n",
              "      <div>\n",
              "<style scoped>\n",
              "    .dataframe tbody tr th:only-of-type {\n",
              "        vertical-align: middle;\n",
              "    }\n",
              "\n",
              "    .dataframe tbody tr th {\n",
              "        vertical-align: top;\n",
              "    }\n",
              "\n",
              "    .dataframe thead th {\n",
              "        text-align: right;\n",
              "    }\n",
              "</style>\n",
              "<table border=\"1\" class=\"dataframe\">\n",
              "  <thead>\n",
              "    <tr style=\"text-align: right;\">\n",
              "      <th></th>\n",
              "      <th>anime_id</th>\n",
              "      <th>name</th>\n",
              "      <th>episodes</th>\n",
              "    </tr>\n",
              "  </thead>\n",
              "  <tbody>\n",
              "    <tr>\n",
              "      <th>0</th>\n",
              "      <td>10995</td>\n",
              "      <td>Ganbare!! Nattou-san</td>\n",
              "      <td>4</td>\n",
              "    </tr>\n",
              "    <tr>\n",
              "      <th>1</th>\n",
              "      <td>29800</td>\n",
              "      <td>Urameshi Denwa</td>\n",
              "      <td>1</td>\n",
              "    </tr>\n",
              "    <tr>\n",
              "      <th>2</th>\n",
              "      <td>23721</td>\n",
              "      <td>Carino Coni</td>\n",
              "      <td>26</td>\n",
              "    </tr>\n",
              "    <tr>\n",
              "      <th>3</th>\n",
              "      <td>29491</td>\n",
              "      <td>Kappa no Suribachi</td>\n",
              "      <td>1</td>\n",
              "    </tr>\n",
              "    <tr>\n",
              "      <th>4</th>\n",
              "      <td>34051</td>\n",
              "      <td>Akiba&amp;#039;s Trip The Animation</td>\n",
              "      <td>Unknown</td>\n",
              "    </tr>\n",
              "  </tbody>\n",
              "</table>\n",
              "</div>\n",
              "      <button class=\"colab-df-convert\" onclick=\"convertToInteractive('df-b6ebb095-490d-41d7-b842-8f58141e7c17')\"\n",
              "              title=\"Convert this dataframe to an interactive table.\"\n",
              "              style=\"display:none;\">\n",
              "        \n",
              "  <svg xmlns=\"http://www.w3.org/2000/svg\" height=\"24px\"viewBox=\"0 0 24 24\"\n",
              "       width=\"24px\">\n",
              "    <path d=\"M0 0h24v24H0V0z\" fill=\"none\"/>\n",
              "    <path d=\"M18.56 5.44l.94 2.06.94-2.06 2.06-.94-2.06-.94-.94-2.06-.94 2.06-2.06.94zm-11 1L8.5 8.5l.94-2.06 2.06-.94-2.06-.94L8.5 2.5l-.94 2.06-2.06.94zm10 10l.94 2.06.94-2.06 2.06-.94-2.06-.94-.94-2.06-.94 2.06-2.06.94z\"/><path d=\"M17.41 7.96l-1.37-1.37c-.4-.4-.92-.59-1.43-.59-.52 0-1.04.2-1.43.59L10.3 9.45l-7.72 7.72c-.78.78-.78 2.05 0 2.83L4 21.41c.39.39.9.59 1.41.59.51 0 1.02-.2 1.41-.59l7.78-7.78 2.81-2.81c.8-.78.8-2.07 0-2.86zM5.41 20L4 18.59l7.72-7.72 1.47 1.35L5.41 20z\"/>\n",
              "  </svg>\n",
              "      </button>\n",
              "      \n",
              "  <style>\n",
              "    .colab-df-container {\n",
              "      display:flex;\n",
              "      flex-wrap:wrap;\n",
              "      gap: 12px;\n",
              "    }\n",
              "\n",
              "    .colab-df-convert {\n",
              "      background-color: #E8F0FE;\n",
              "      border: none;\n",
              "      border-radius: 50%;\n",
              "      cursor: pointer;\n",
              "      display: none;\n",
              "      fill: #1967D2;\n",
              "      height: 32px;\n",
              "      padding: 0 0 0 0;\n",
              "      width: 32px;\n",
              "    }\n",
              "\n",
              "    .colab-df-convert:hover {\n",
              "      background-color: #E2EBFA;\n",
              "      box-shadow: 0px 1px 2px rgba(60, 64, 67, 0.3), 0px 1px 3px 1px rgba(60, 64, 67, 0.15);\n",
              "      fill: #174EA6;\n",
              "    }\n",
              "\n",
              "    [theme=dark] .colab-df-convert {\n",
              "      background-color: #3B4455;\n",
              "      fill: #D2E3FC;\n",
              "    }\n",
              "\n",
              "    [theme=dark] .colab-df-convert:hover {\n",
              "      background-color: #434B5C;\n",
              "      box-shadow: 0px 1px 3px 1px rgba(0, 0, 0, 0.15);\n",
              "      filter: drop-shadow(0px 1px 2px rgba(0, 0, 0, 0.3));\n",
              "      fill: #FFFFFF;\n",
              "    }\n",
              "  </style>\n",
              "\n",
              "      <script>\n",
              "        const buttonEl =\n",
              "          document.querySelector('#df-b6ebb095-490d-41d7-b842-8f58141e7c17 button.colab-df-convert');\n",
              "        buttonEl.style.display =\n",
              "          google.colab.kernel.accessAllowed ? 'block' : 'none';\n",
              "\n",
              "        async function convertToInteractive(key) {\n",
              "          const element = document.querySelector('#df-b6ebb095-490d-41d7-b842-8f58141e7c17');\n",
              "          const dataTable =\n",
              "            await google.colab.kernel.invokeFunction('convertToInteractive',\n",
              "                                                     [key], {});\n",
              "          if (!dataTable) return;\n",
              "\n",
              "          const docLinkHtml = 'Like what you see? Visit the ' +\n",
              "            '<a target=\"_blank\" href=https://colab.research.google.com/notebooks/data_table.ipynb>data table notebook</a>'\n",
              "            + ' to learn more about interactive tables.';\n",
              "          element.innerHTML = '';\n",
              "          dataTable['output_type'] = 'display_data';\n",
              "          await google.colab.output.renderOutput(dataTable, element);\n",
              "          const docLink = document.createElement('div');\n",
              "          docLink.innerHTML = docLinkHtml;\n",
              "          element.appendChild(docLink);\n",
              "        }\n",
              "      </script>\n",
              "    </div>\n",
              "  </div>\n",
              "  "
            ]
          },
          "metadata": {},
          "execution_count": 165
        }
      ]
    },
    {
      "cell_type": "markdown",
      "metadata": {
        "id": "QhSyjLOhqzhv"
      },
      "source": [
        "## **Pertanyaan Pandas**"
      ]
    },
    {
      "cell_type": "markdown",
      "metadata": {
        "id": "trGbQMVvqzhv"
      },
      "source": [
        "Jawab setiap pertanyaan pada _cell_ di bawah _cell_ pertanyaan. Jawaban boleh lebih dari 1 _cell_ dan juga kombinasi antara _cell_ kode atau _markdwon_ jika memang diperlukan. Gunakan dataset `list_of_animes.csv` yang dilampirkan di SCELE untuk mengerjakan soal-soal berikut."
      ]
    },
    {
      "cell_type": "code",
      "metadata": {
        "id": "pYRny2H2rqND"
      },
      "source": [
        "# Imports\n",
        "import pandas as pd"
      ],
      "execution_count": null,
      "outputs": []
    },
    {
      "cell_type": "markdown",
      "source": [
        "### **Nomor 1**"
      ],
      "metadata": {
        "id": "DsPWmNUUU2VC"
      }
    },
    {
      "cell_type": "markdown",
      "metadata": {
        "id": "iUxnpbIwqzhv"
      },
      "source": [
        "1. Buka dataset `list_of_animes.csv` sebagai *DataFrame* dan tampilkan **8 baris terakhir**.\n",
        "\n"
      ]
    },
    {
      "cell_type": "code",
      "metadata": {
        "id": "84a6ty5wqzhw",
        "colab": {
          "base_uri": "https://localhost:8080/",
          "height": 300
        },
        "outputId": "ca92b091-078e-43d9-eb54-bd7bf948a1d5"
      },
      "source": [
        "# Jawaban no. 1\n",
        "df = pd.read_csv('list_of_animes.csv')\n",
        "df.tail(8)"
      ],
      "execution_count": null,
      "outputs": [
        {
          "output_type": "execute_result",
          "data": {
            "text/plain": [
              "       anime_id                                   name     type episodes  \\\n",
              "12286      5656  PuriGorota: Uchuu no Yuujou Daibouken      OVA        1   \n",
              "12287     10506               Shiawase Haitatsu Taneko       TV  Unknown   \n",
              "12288     19747                         Dakaretai Onna      OVA        2   \n",
              "12289     29129       Ookami Shoujo to Kuro Ouji Recap  Special        1   \n",
              "12290      9333                              Koi☆Sento      OVA        1   \n",
              "12291     34522              Wake Up, Girls! Shin Shou       TV  Unknown   \n",
              "12292     18937      Hakken Taiken Daisuki! Shimajirou       TV      101   \n",
              "12293     32953                Koi ni Naritai Aquarium    Music        1   \n",
              "\n",
              "       rating  \n",
              "12286    5.07  \n",
              "12287    6.50  \n",
              "12288    3.43  \n",
              "12289    6.91  \n",
              "12290    6.56  \n",
              "12291     NaN  \n",
              "12292    6.85  \n",
              "12293    7.43  "
            ],
            "text/html": [
              "\n",
              "  <div id=\"df-2ea88eba-a419-4e17-89f7-94288f6d90ae\">\n",
              "    <div class=\"colab-df-container\">\n",
              "      <div>\n",
              "<style scoped>\n",
              "    .dataframe tbody tr th:only-of-type {\n",
              "        vertical-align: middle;\n",
              "    }\n",
              "\n",
              "    .dataframe tbody tr th {\n",
              "        vertical-align: top;\n",
              "    }\n",
              "\n",
              "    .dataframe thead th {\n",
              "        text-align: right;\n",
              "    }\n",
              "</style>\n",
              "<table border=\"1\" class=\"dataframe\">\n",
              "  <thead>\n",
              "    <tr style=\"text-align: right;\">\n",
              "      <th></th>\n",
              "      <th>anime_id</th>\n",
              "      <th>name</th>\n",
              "      <th>type</th>\n",
              "      <th>episodes</th>\n",
              "      <th>rating</th>\n",
              "    </tr>\n",
              "  </thead>\n",
              "  <tbody>\n",
              "    <tr>\n",
              "      <th>12286</th>\n",
              "      <td>5656</td>\n",
              "      <td>PuriGorota: Uchuu no Yuujou Daibouken</td>\n",
              "      <td>OVA</td>\n",
              "      <td>1</td>\n",
              "      <td>5.07</td>\n",
              "    </tr>\n",
              "    <tr>\n",
              "      <th>12287</th>\n",
              "      <td>10506</td>\n",
              "      <td>Shiawase Haitatsu Taneko</td>\n",
              "      <td>TV</td>\n",
              "      <td>Unknown</td>\n",
              "      <td>6.50</td>\n",
              "    </tr>\n",
              "    <tr>\n",
              "      <th>12288</th>\n",
              "      <td>19747</td>\n",
              "      <td>Dakaretai Onna</td>\n",
              "      <td>OVA</td>\n",
              "      <td>2</td>\n",
              "      <td>3.43</td>\n",
              "    </tr>\n",
              "    <tr>\n",
              "      <th>12289</th>\n",
              "      <td>29129</td>\n",
              "      <td>Ookami Shoujo to Kuro Ouji Recap</td>\n",
              "      <td>Special</td>\n",
              "      <td>1</td>\n",
              "      <td>6.91</td>\n",
              "    </tr>\n",
              "    <tr>\n",
              "      <th>12290</th>\n",
              "      <td>9333</td>\n",
              "      <td>Koi☆Sento</td>\n",
              "      <td>OVA</td>\n",
              "      <td>1</td>\n",
              "      <td>6.56</td>\n",
              "    </tr>\n",
              "    <tr>\n",
              "      <th>12291</th>\n",
              "      <td>34522</td>\n",
              "      <td>Wake Up, Girls! Shin Shou</td>\n",
              "      <td>TV</td>\n",
              "      <td>Unknown</td>\n",
              "      <td>NaN</td>\n",
              "    </tr>\n",
              "    <tr>\n",
              "      <th>12292</th>\n",
              "      <td>18937</td>\n",
              "      <td>Hakken Taiken Daisuki! Shimajirou</td>\n",
              "      <td>TV</td>\n",
              "      <td>101</td>\n",
              "      <td>6.85</td>\n",
              "    </tr>\n",
              "    <tr>\n",
              "      <th>12293</th>\n",
              "      <td>32953</td>\n",
              "      <td>Koi ni Naritai Aquarium</td>\n",
              "      <td>Music</td>\n",
              "      <td>1</td>\n",
              "      <td>7.43</td>\n",
              "    </tr>\n",
              "  </tbody>\n",
              "</table>\n",
              "</div>\n",
              "      <button class=\"colab-df-convert\" onclick=\"convertToInteractive('df-2ea88eba-a419-4e17-89f7-94288f6d90ae')\"\n",
              "              title=\"Convert this dataframe to an interactive table.\"\n",
              "              style=\"display:none;\">\n",
              "        \n",
              "  <svg xmlns=\"http://www.w3.org/2000/svg\" height=\"24px\"viewBox=\"0 0 24 24\"\n",
              "       width=\"24px\">\n",
              "    <path d=\"M0 0h24v24H0V0z\" fill=\"none\"/>\n",
              "    <path d=\"M18.56 5.44l.94 2.06.94-2.06 2.06-.94-2.06-.94-.94-2.06-.94 2.06-2.06.94zm-11 1L8.5 8.5l.94-2.06 2.06-.94-2.06-.94L8.5 2.5l-.94 2.06-2.06.94zm10 10l.94 2.06.94-2.06 2.06-.94-2.06-.94-.94-2.06-.94 2.06-2.06.94z\"/><path d=\"M17.41 7.96l-1.37-1.37c-.4-.4-.92-.59-1.43-.59-.52 0-1.04.2-1.43.59L10.3 9.45l-7.72 7.72c-.78.78-.78 2.05 0 2.83L4 21.41c.39.39.9.59 1.41.59.51 0 1.02-.2 1.41-.59l7.78-7.78 2.81-2.81c.8-.78.8-2.07 0-2.86zM5.41 20L4 18.59l7.72-7.72 1.47 1.35L5.41 20z\"/>\n",
              "  </svg>\n",
              "      </button>\n",
              "      \n",
              "  <style>\n",
              "    .colab-df-container {\n",
              "      display:flex;\n",
              "      flex-wrap:wrap;\n",
              "      gap: 12px;\n",
              "    }\n",
              "\n",
              "    .colab-df-convert {\n",
              "      background-color: #E8F0FE;\n",
              "      border: none;\n",
              "      border-radius: 50%;\n",
              "      cursor: pointer;\n",
              "      display: none;\n",
              "      fill: #1967D2;\n",
              "      height: 32px;\n",
              "      padding: 0 0 0 0;\n",
              "      width: 32px;\n",
              "    }\n",
              "\n",
              "    .colab-df-convert:hover {\n",
              "      background-color: #E2EBFA;\n",
              "      box-shadow: 0px 1px 2px rgba(60, 64, 67, 0.3), 0px 1px 3px 1px rgba(60, 64, 67, 0.15);\n",
              "      fill: #174EA6;\n",
              "    }\n",
              "\n",
              "    [theme=dark] .colab-df-convert {\n",
              "      background-color: #3B4455;\n",
              "      fill: #D2E3FC;\n",
              "    }\n",
              "\n",
              "    [theme=dark] .colab-df-convert:hover {\n",
              "      background-color: #434B5C;\n",
              "      box-shadow: 0px 1px 3px 1px rgba(0, 0, 0, 0.15);\n",
              "      filter: drop-shadow(0px 1px 2px rgba(0, 0, 0, 0.3));\n",
              "      fill: #FFFFFF;\n",
              "    }\n",
              "  </style>\n",
              "\n",
              "      <script>\n",
              "        const buttonEl =\n",
              "          document.querySelector('#df-2ea88eba-a419-4e17-89f7-94288f6d90ae button.colab-df-convert');\n",
              "        buttonEl.style.display =\n",
              "          google.colab.kernel.accessAllowed ? 'block' : 'none';\n",
              "\n",
              "        async function convertToInteractive(key) {\n",
              "          const element = document.querySelector('#df-2ea88eba-a419-4e17-89f7-94288f6d90ae');\n",
              "          const dataTable =\n",
              "            await google.colab.kernel.invokeFunction('convertToInteractive',\n",
              "                                                     [key], {});\n",
              "          if (!dataTable) return;\n",
              "\n",
              "          const docLinkHtml = 'Like what you see? Visit the ' +\n",
              "            '<a target=\"_blank\" href=https://colab.research.google.com/notebooks/data_table.ipynb>data table notebook</a>'\n",
              "            + ' to learn more about interactive tables.';\n",
              "          element.innerHTML = '';\n",
              "          dataTable['output_type'] = 'display_data';\n",
              "          await google.colab.output.renderOutput(dataTable, element);\n",
              "          const docLink = document.createElement('div');\n",
              "          docLink.innerHTML = docLinkHtml;\n",
              "          element.appendChild(docLink);\n",
              "        }\n",
              "      </script>\n",
              "    </div>\n",
              "  </div>\n",
              "  "
            ]
          },
          "metadata": {},
          "execution_count": 167
        }
      ]
    },
    {
      "cell_type": "markdown",
      "source": [
        "### **Nomor 2**"
      ],
      "metadata": {
        "id": "4gKZTj_aU7WG"
      }
    },
    {
      "cell_type": "markdown",
      "metadata": {
        "id": "cPUnk8ziqzhw"
      },
      "source": [
        "2. Tunjukkan **jumlah `type` unik** pada *dataset* tersebut. Kemudian, sebutkan **3 `type` yang paling banyak muncul** dan **berapa banyak kemunculan** untuk masing-masing `type` tersebut?"
      ]
    },
    {
      "cell_type": "code",
      "metadata": {
        "id": "cSTf4GQyqzhw",
        "colab": {
          "base_uri": "https://localhost:8080/"
        },
        "outputId": "ad508ec9-2953-463d-d167-21efdf5bf3aa"
      },
      "source": [
        "# Jawaban no. 2\n",
        "print('jumlah type unik: {}'.format(len(df['type'].unique())))"
      ],
      "execution_count": null,
      "outputs": [
        {
          "output_type": "stream",
          "name": "stdout",
          "text": [
            "jumlah type unik: 7\n"
          ]
        }
      ]
    },
    {
      "cell_type": "code",
      "source": [
        "df['type'].value_counts()"
      ],
      "metadata": {
        "colab": {
          "base_uri": "https://localhost:8080/"
        },
        "id": "hJX882d1fdlR",
        "outputId": "be4e8d61-1408-4913-c055-8b44cde132ea"
      },
      "execution_count": null,
      "outputs": [
        {
          "output_type": "execute_result",
          "data": {
            "text/plain": [
              "TV         3786\n",
              "OVA        3311\n",
              "Movie      2348\n",
              "Special    1676\n",
              "ONA         659\n",
              "Music       488\n",
              "Name: type, dtype: int64"
            ]
          },
          "metadata": {},
          "execution_count": 169
        }
      ]
    },
    {
      "cell_type": "code",
      "source": [
        "print('3 type paling banyak adalah: TV, OVA, Movie')"
      ],
      "metadata": {
        "colab": {
          "base_uri": "https://localhost:8080/"
        },
        "id": "0nmXyh15f3YR",
        "outputId": "eec04276-9685-4a00-abd0-a2cd01da3193"
      },
      "execution_count": null,
      "outputs": [
        {
          "output_type": "stream",
          "name": "stdout",
          "text": [
            "3 type paling banyak adalah: TV, OVA, Movie\n"
          ]
        }
      ]
    },
    {
      "cell_type": "markdown",
      "source": [
        "### **Nomor 3**"
      ],
      "metadata": {
        "id": "GAI4TY8tU9Nd"
      }
    },
    {
      "cell_type": "markdown",
      "metadata": {
        "id": "F8iEWV2wqzhx"
      },
      "source": [
        "3. **Buatlah *DataFrame* baru** yang berisi hanya kolom **`name`, `type`, dan `rating`**  untuk **24 baris pertama** *DataFrame* awal. **Tampilkan *shape* dan 7 baris terakhir** *DataFrame* baru tersebut."
      ]
    },
    {
      "cell_type": "code",
      "metadata": {
        "id": "QBhdFqtFqzhx",
        "colab": {
          "base_uri": "https://localhost:8080/"
        },
        "outputId": "c4c34eef-95b8-4046-91b8-d1b88a0ab3dc"
      },
      "source": [
        "# Jawaban no. 3\n",
        "new_df = df.loc[:23, ['name', 'type', 'rating']]\n",
        "new_df.shape"
      ],
      "execution_count": null,
      "outputs": [
        {
          "output_type": "execute_result",
          "data": {
            "text/plain": [
              "(24, 3)"
            ]
          },
          "metadata": {},
          "execution_count": 171
        }
      ]
    },
    {
      "cell_type": "code",
      "source": [
        "new_df.tail(7)"
      ],
      "metadata": {
        "colab": {
          "base_uri": "https://localhost:8080/",
          "height": 269
        },
        "id": "fZKPMZ_1gR4N",
        "outputId": "d8ee9386-0827-4991-f65c-6cdf5abfd587"
      },
      "execution_count": null,
      "outputs": [
        {
          "output_type": "execute_result",
          "data": {
            "text/plain": [
              "                                name     type  rating\n",
              "17              .hack//G.U. Returner      OVA    6.91\n",
              "18                 Asura Cryin&#039;       TV    7.10\n",
              "19  Rokumon Tengai Mon Colle Knights       TV    6.63\n",
              "20            Tamako Market Specials  Special    6.29\n",
              "21             Diabolik Lovers Recap  Special    5.47\n",
              "22                        Xiao Taiji       TV    5.86\n",
              "23                  PeroPero☆Teacher      OVA    6.38"
            ],
            "text/html": [
              "\n",
              "  <div id=\"df-521e72a5-2b11-4d16-aec0-086588243387\">\n",
              "    <div class=\"colab-df-container\">\n",
              "      <div>\n",
              "<style scoped>\n",
              "    .dataframe tbody tr th:only-of-type {\n",
              "        vertical-align: middle;\n",
              "    }\n",
              "\n",
              "    .dataframe tbody tr th {\n",
              "        vertical-align: top;\n",
              "    }\n",
              "\n",
              "    .dataframe thead th {\n",
              "        text-align: right;\n",
              "    }\n",
              "</style>\n",
              "<table border=\"1\" class=\"dataframe\">\n",
              "  <thead>\n",
              "    <tr style=\"text-align: right;\">\n",
              "      <th></th>\n",
              "      <th>name</th>\n",
              "      <th>type</th>\n",
              "      <th>rating</th>\n",
              "    </tr>\n",
              "  </thead>\n",
              "  <tbody>\n",
              "    <tr>\n",
              "      <th>17</th>\n",
              "      <td>.hack//G.U. Returner</td>\n",
              "      <td>OVA</td>\n",
              "      <td>6.91</td>\n",
              "    </tr>\n",
              "    <tr>\n",
              "      <th>18</th>\n",
              "      <td>Asura Cryin&amp;#039;</td>\n",
              "      <td>TV</td>\n",
              "      <td>7.10</td>\n",
              "    </tr>\n",
              "    <tr>\n",
              "      <th>19</th>\n",
              "      <td>Rokumon Tengai Mon Colle Knights</td>\n",
              "      <td>TV</td>\n",
              "      <td>6.63</td>\n",
              "    </tr>\n",
              "    <tr>\n",
              "      <th>20</th>\n",
              "      <td>Tamako Market Specials</td>\n",
              "      <td>Special</td>\n",
              "      <td>6.29</td>\n",
              "    </tr>\n",
              "    <tr>\n",
              "      <th>21</th>\n",
              "      <td>Diabolik Lovers Recap</td>\n",
              "      <td>Special</td>\n",
              "      <td>5.47</td>\n",
              "    </tr>\n",
              "    <tr>\n",
              "      <th>22</th>\n",
              "      <td>Xiao Taiji</td>\n",
              "      <td>TV</td>\n",
              "      <td>5.86</td>\n",
              "    </tr>\n",
              "    <tr>\n",
              "      <th>23</th>\n",
              "      <td>PeroPero☆Teacher</td>\n",
              "      <td>OVA</td>\n",
              "      <td>6.38</td>\n",
              "    </tr>\n",
              "  </tbody>\n",
              "</table>\n",
              "</div>\n",
              "      <button class=\"colab-df-convert\" onclick=\"convertToInteractive('df-521e72a5-2b11-4d16-aec0-086588243387')\"\n",
              "              title=\"Convert this dataframe to an interactive table.\"\n",
              "              style=\"display:none;\">\n",
              "        \n",
              "  <svg xmlns=\"http://www.w3.org/2000/svg\" height=\"24px\"viewBox=\"0 0 24 24\"\n",
              "       width=\"24px\">\n",
              "    <path d=\"M0 0h24v24H0V0z\" fill=\"none\"/>\n",
              "    <path d=\"M18.56 5.44l.94 2.06.94-2.06 2.06-.94-2.06-.94-.94-2.06-.94 2.06-2.06.94zm-11 1L8.5 8.5l.94-2.06 2.06-.94-2.06-.94L8.5 2.5l-.94 2.06-2.06.94zm10 10l.94 2.06.94-2.06 2.06-.94-2.06-.94-.94-2.06-.94 2.06-2.06.94z\"/><path d=\"M17.41 7.96l-1.37-1.37c-.4-.4-.92-.59-1.43-.59-.52 0-1.04.2-1.43.59L10.3 9.45l-7.72 7.72c-.78.78-.78 2.05 0 2.83L4 21.41c.39.39.9.59 1.41.59.51 0 1.02-.2 1.41-.59l7.78-7.78 2.81-2.81c.8-.78.8-2.07 0-2.86zM5.41 20L4 18.59l7.72-7.72 1.47 1.35L5.41 20z\"/>\n",
              "  </svg>\n",
              "      </button>\n",
              "      \n",
              "  <style>\n",
              "    .colab-df-container {\n",
              "      display:flex;\n",
              "      flex-wrap:wrap;\n",
              "      gap: 12px;\n",
              "    }\n",
              "\n",
              "    .colab-df-convert {\n",
              "      background-color: #E8F0FE;\n",
              "      border: none;\n",
              "      border-radius: 50%;\n",
              "      cursor: pointer;\n",
              "      display: none;\n",
              "      fill: #1967D2;\n",
              "      height: 32px;\n",
              "      padding: 0 0 0 0;\n",
              "      width: 32px;\n",
              "    }\n",
              "\n",
              "    .colab-df-convert:hover {\n",
              "      background-color: #E2EBFA;\n",
              "      box-shadow: 0px 1px 2px rgba(60, 64, 67, 0.3), 0px 1px 3px 1px rgba(60, 64, 67, 0.15);\n",
              "      fill: #174EA6;\n",
              "    }\n",
              "\n",
              "    [theme=dark] .colab-df-convert {\n",
              "      background-color: #3B4455;\n",
              "      fill: #D2E3FC;\n",
              "    }\n",
              "\n",
              "    [theme=dark] .colab-df-convert:hover {\n",
              "      background-color: #434B5C;\n",
              "      box-shadow: 0px 1px 3px 1px rgba(0, 0, 0, 0.15);\n",
              "      filter: drop-shadow(0px 1px 2px rgba(0, 0, 0, 0.3));\n",
              "      fill: #FFFFFF;\n",
              "    }\n",
              "  </style>\n",
              "\n",
              "      <script>\n",
              "        const buttonEl =\n",
              "          document.querySelector('#df-521e72a5-2b11-4d16-aec0-086588243387 button.colab-df-convert');\n",
              "        buttonEl.style.display =\n",
              "          google.colab.kernel.accessAllowed ? 'block' : 'none';\n",
              "\n",
              "        async function convertToInteractive(key) {\n",
              "          const element = document.querySelector('#df-521e72a5-2b11-4d16-aec0-086588243387');\n",
              "          const dataTable =\n",
              "            await google.colab.kernel.invokeFunction('convertToInteractive',\n",
              "                                                     [key], {});\n",
              "          if (!dataTable) return;\n",
              "\n",
              "          const docLinkHtml = 'Like what you see? Visit the ' +\n",
              "            '<a target=\"_blank\" href=https://colab.research.google.com/notebooks/data_table.ipynb>data table notebook</a>'\n",
              "            + ' to learn more about interactive tables.';\n",
              "          element.innerHTML = '';\n",
              "          dataTable['output_type'] = 'display_data';\n",
              "          await google.colab.output.renderOutput(dataTable, element);\n",
              "          const docLink = document.createElement('div');\n",
              "          docLink.innerHTML = docLinkHtml;\n",
              "          element.appendChild(docLink);\n",
              "        }\n",
              "      </script>\n",
              "    </div>\n",
              "  </div>\n",
              "  "
            ]
          },
          "metadata": {},
          "execution_count": 172
        }
      ]
    },
    {
      "cell_type": "markdown",
      "source": [
        "### **Nomor 4**"
      ],
      "metadata": {
        "id": "017nhsK6U-lb"
      }
    },
    {
      "cell_type": "markdown",
      "source": [
        "4. **Tampilkan 5 anime** dari soal nomor 3 yang memiliki *rating* terbesar. (_Hint_: Silakan eksplorasi cara mengurutkan _DataFrame_.)"
      ],
      "metadata": {
        "id": "8GZlvhrUhGSI"
      }
    },
    {
      "cell_type": "code",
      "source": [
        "# Jawaban no. 4\n",
        "new_df = new_df.sort_values('rating', ascending=False)\n",
        "new_df.head()"
      ],
      "metadata": {
        "id": "gMWm16tshYej",
        "colab": {
          "base_uri": "https://localhost:8080/",
          "height": 206
        },
        "outputId": "7cb4217b-9900-450c-9865-608f8d609734"
      },
      "execution_count": null,
      "outputs": [
        {
          "output_type": "execute_result",
          "data": {
            "text/plain": [
              "                                                 name     type  rating\n",
              "8                       Hellsing I: Digest for Freaks      OVA    7.86\n",
              "7                              Tenchi Muyou! Ryououki      OVA    7.77\n",
              "5                           Lupin III (2015) Specials  Special    7.34\n",
              "15  Baka na Imouto wo Rikou ni Suru no wa Ore no x...      OVA    7.24\n",
              "18                                  Asura Cryin&#039;       TV    7.10"
            ],
            "text/html": [
              "\n",
              "  <div id=\"df-95e21747-2458-4693-b338-f38faf924bee\">\n",
              "    <div class=\"colab-df-container\">\n",
              "      <div>\n",
              "<style scoped>\n",
              "    .dataframe tbody tr th:only-of-type {\n",
              "        vertical-align: middle;\n",
              "    }\n",
              "\n",
              "    .dataframe tbody tr th {\n",
              "        vertical-align: top;\n",
              "    }\n",
              "\n",
              "    .dataframe thead th {\n",
              "        text-align: right;\n",
              "    }\n",
              "</style>\n",
              "<table border=\"1\" class=\"dataframe\">\n",
              "  <thead>\n",
              "    <tr style=\"text-align: right;\">\n",
              "      <th></th>\n",
              "      <th>name</th>\n",
              "      <th>type</th>\n",
              "      <th>rating</th>\n",
              "    </tr>\n",
              "  </thead>\n",
              "  <tbody>\n",
              "    <tr>\n",
              "      <th>8</th>\n",
              "      <td>Hellsing I: Digest for Freaks</td>\n",
              "      <td>OVA</td>\n",
              "      <td>7.86</td>\n",
              "    </tr>\n",
              "    <tr>\n",
              "      <th>7</th>\n",
              "      <td>Tenchi Muyou! Ryououki</td>\n",
              "      <td>OVA</td>\n",
              "      <td>7.77</td>\n",
              "    </tr>\n",
              "    <tr>\n",
              "      <th>5</th>\n",
              "      <td>Lupin III (2015) Specials</td>\n",
              "      <td>Special</td>\n",
              "      <td>7.34</td>\n",
              "    </tr>\n",
              "    <tr>\n",
              "      <th>15</th>\n",
              "      <td>Baka na Imouto wo Rikou ni Suru no wa Ore no x...</td>\n",
              "      <td>OVA</td>\n",
              "      <td>7.24</td>\n",
              "    </tr>\n",
              "    <tr>\n",
              "      <th>18</th>\n",
              "      <td>Asura Cryin&amp;#039;</td>\n",
              "      <td>TV</td>\n",
              "      <td>7.10</td>\n",
              "    </tr>\n",
              "  </tbody>\n",
              "</table>\n",
              "</div>\n",
              "      <button class=\"colab-df-convert\" onclick=\"convertToInteractive('df-95e21747-2458-4693-b338-f38faf924bee')\"\n",
              "              title=\"Convert this dataframe to an interactive table.\"\n",
              "              style=\"display:none;\">\n",
              "        \n",
              "  <svg xmlns=\"http://www.w3.org/2000/svg\" height=\"24px\"viewBox=\"0 0 24 24\"\n",
              "       width=\"24px\">\n",
              "    <path d=\"M0 0h24v24H0V0z\" fill=\"none\"/>\n",
              "    <path d=\"M18.56 5.44l.94 2.06.94-2.06 2.06-.94-2.06-.94-.94-2.06-.94 2.06-2.06.94zm-11 1L8.5 8.5l.94-2.06 2.06-.94-2.06-.94L8.5 2.5l-.94 2.06-2.06.94zm10 10l.94 2.06.94-2.06 2.06-.94-2.06-.94-.94-2.06-.94 2.06-2.06.94z\"/><path d=\"M17.41 7.96l-1.37-1.37c-.4-.4-.92-.59-1.43-.59-.52 0-1.04.2-1.43.59L10.3 9.45l-7.72 7.72c-.78.78-.78 2.05 0 2.83L4 21.41c.39.39.9.59 1.41.59.51 0 1.02-.2 1.41-.59l7.78-7.78 2.81-2.81c.8-.78.8-2.07 0-2.86zM5.41 20L4 18.59l7.72-7.72 1.47 1.35L5.41 20z\"/>\n",
              "  </svg>\n",
              "      </button>\n",
              "      \n",
              "  <style>\n",
              "    .colab-df-container {\n",
              "      display:flex;\n",
              "      flex-wrap:wrap;\n",
              "      gap: 12px;\n",
              "    }\n",
              "\n",
              "    .colab-df-convert {\n",
              "      background-color: #E8F0FE;\n",
              "      border: none;\n",
              "      border-radius: 50%;\n",
              "      cursor: pointer;\n",
              "      display: none;\n",
              "      fill: #1967D2;\n",
              "      height: 32px;\n",
              "      padding: 0 0 0 0;\n",
              "      width: 32px;\n",
              "    }\n",
              "\n",
              "    .colab-df-convert:hover {\n",
              "      background-color: #E2EBFA;\n",
              "      box-shadow: 0px 1px 2px rgba(60, 64, 67, 0.3), 0px 1px 3px 1px rgba(60, 64, 67, 0.15);\n",
              "      fill: #174EA6;\n",
              "    }\n",
              "\n",
              "    [theme=dark] .colab-df-convert {\n",
              "      background-color: #3B4455;\n",
              "      fill: #D2E3FC;\n",
              "    }\n",
              "\n",
              "    [theme=dark] .colab-df-convert:hover {\n",
              "      background-color: #434B5C;\n",
              "      box-shadow: 0px 1px 3px 1px rgba(0, 0, 0, 0.15);\n",
              "      filter: drop-shadow(0px 1px 2px rgba(0, 0, 0, 0.3));\n",
              "      fill: #FFFFFF;\n",
              "    }\n",
              "  </style>\n",
              "\n",
              "      <script>\n",
              "        const buttonEl =\n",
              "          document.querySelector('#df-95e21747-2458-4693-b338-f38faf924bee button.colab-df-convert');\n",
              "        buttonEl.style.display =\n",
              "          google.colab.kernel.accessAllowed ? 'block' : 'none';\n",
              "\n",
              "        async function convertToInteractive(key) {\n",
              "          const element = document.querySelector('#df-95e21747-2458-4693-b338-f38faf924bee');\n",
              "          const dataTable =\n",
              "            await google.colab.kernel.invokeFunction('convertToInteractive',\n",
              "                                                     [key], {});\n",
              "          if (!dataTable) return;\n",
              "\n",
              "          const docLinkHtml = 'Like what you see? Visit the ' +\n",
              "            '<a target=\"_blank\" href=https://colab.research.google.com/notebooks/data_table.ipynb>data table notebook</a>'\n",
              "            + ' to learn more about interactive tables.';\n",
              "          element.innerHTML = '';\n",
              "          dataTable['output_type'] = 'display_data';\n",
              "          await google.colab.output.renderOutput(dataTable, element);\n",
              "          const docLink = document.createElement('div');\n",
              "          docLink.innerHTML = docLinkHtml;\n",
              "          element.appendChild(docLink);\n",
              "        }\n",
              "      </script>\n",
              "    </div>\n",
              "  </div>\n",
              "  "
            ]
          },
          "metadata": {},
          "execution_count": 173
        }
      ]
    },
    {
      "cell_type": "markdown",
      "source": [
        "### **Nomor 5**"
      ],
      "metadata": {
        "id": "GvGxPUhZW3uM"
      }
    },
    {
      "cell_type": "markdown",
      "source": [
        "5. **Tampilkan anime dari *DataFrame* awal** yang memiliki **`rating` terbesar**. (*Hint*: Silakan eksplorasi cara mengakses baris *DataFrame* dengan kondisi *boolean* menggunakan `loc`, `iloc`, atau cara lain.)"
      ],
      "metadata": {
        "id": "ny_iEOUOW6GC"
      }
    },
    {
      "cell_type": "code",
      "source": [
        "# Jawaban no. 5\n",
        "df = df.sort_values('rating', ascending=False)\n",
        "df.loc[0, :]"
      ],
      "metadata": {
        "id": "iR6XTsoXYKuO",
        "colab": {
          "base_uri": "https://localhost:8080/"
        },
        "outputId": "61800181-3331-4822-da06-d6722a6f24d2"
      },
      "execution_count": null,
      "outputs": [
        {
          "output_type": "execute_result",
          "data": {
            "text/plain": [
              "anime_id                   10995\n",
              "name        Ganbare!! Nattou-san\n",
              "type                          TV\n",
              "episodes                       4\n",
              "rating                      5.75\n",
              "Name: 0, dtype: object"
            ]
          },
          "metadata": {},
          "execution_count": 174
        }
      ]
    },
    {
      "cell_type": "markdown",
      "source": [
        "### **Nomor 6**"
      ],
      "metadata": {
        "id": "GdoBOuPpU_2R"
      }
    },
    {
      "cell_type": "markdown",
      "metadata": {
        "id": "eMr1yhD1qzhy"
      },
      "source": [
        "6. **Tampilkan anime dari *DataFrame* awal** yang memiliki **`rating` lebih besar atau sama dengan nilai rata-rata dari kolom `rating`** dan memiliki **`type` TV**.  "
      ]
    },
    {
      "cell_type": "code",
      "metadata": {
        "id": "F7O6LZkwqzhy",
        "colab": {
          "base_uri": "https://localhost:8080/",
          "height": 423
        },
        "outputId": "5b9712a3-24ef-467c-ea63-2942692933e1"
      },
      "source": [
        "# Jawaban no. 6\n",
        "mean = df['rating'].mean()\n",
        "df.loc[(df['rating'] >= mean) & (df['type'] == 'TV'), :]"
      ],
      "execution_count": null,
      "outputs": [
        {
          "output_type": "execute_result",
          "data": {
            "text/plain": [
              "       anime_id                                   name type episodes  rating\n",
              "6573      30120            Spoon-hime no Swing Kitchen   TV  Unknown    9.60\n",
              "868        5114       Fullmetal Alchemist: Brotherhood   TV       64    9.26\n",
              "1065      28977                               Gintama°   TV       51    9.25\n",
              "11035      9253                            Steins;Gate   TV       24    9.17\n",
              "215        9969                          Gintama&#039;   TV       51    9.16\n",
              "...         ...                                    ...  ...      ...     ...\n",
              "6233         69                           Cluster Edge   TV       25    6.48\n",
              "2306      15119                          Senran Kagura   TV       12    6.48\n",
              "1768       2153  Saint Beast: Kouin Jojishi Tenshi Tan   TV       13    6.48\n",
              "1333       5600                Little El Cid no Bouken   TV       26    6.48\n",
              "6704      23393              Shin Don Chuck Monogatari   TV       73    6.48\n",
              "\n",
              "[2705 rows x 5 columns]"
            ],
            "text/html": [
              "\n",
              "  <div id=\"df-ae369843-b021-4f8a-a6d1-3413b10ca844\">\n",
              "    <div class=\"colab-df-container\">\n",
              "      <div>\n",
              "<style scoped>\n",
              "    .dataframe tbody tr th:only-of-type {\n",
              "        vertical-align: middle;\n",
              "    }\n",
              "\n",
              "    .dataframe tbody tr th {\n",
              "        vertical-align: top;\n",
              "    }\n",
              "\n",
              "    .dataframe thead th {\n",
              "        text-align: right;\n",
              "    }\n",
              "</style>\n",
              "<table border=\"1\" class=\"dataframe\">\n",
              "  <thead>\n",
              "    <tr style=\"text-align: right;\">\n",
              "      <th></th>\n",
              "      <th>anime_id</th>\n",
              "      <th>name</th>\n",
              "      <th>type</th>\n",
              "      <th>episodes</th>\n",
              "      <th>rating</th>\n",
              "    </tr>\n",
              "  </thead>\n",
              "  <tbody>\n",
              "    <tr>\n",
              "      <th>6573</th>\n",
              "      <td>30120</td>\n",
              "      <td>Spoon-hime no Swing Kitchen</td>\n",
              "      <td>TV</td>\n",
              "      <td>Unknown</td>\n",
              "      <td>9.60</td>\n",
              "    </tr>\n",
              "    <tr>\n",
              "      <th>868</th>\n",
              "      <td>5114</td>\n",
              "      <td>Fullmetal Alchemist: Brotherhood</td>\n",
              "      <td>TV</td>\n",
              "      <td>64</td>\n",
              "      <td>9.26</td>\n",
              "    </tr>\n",
              "    <tr>\n",
              "      <th>1065</th>\n",
              "      <td>28977</td>\n",
              "      <td>Gintama°</td>\n",
              "      <td>TV</td>\n",
              "      <td>51</td>\n",
              "      <td>9.25</td>\n",
              "    </tr>\n",
              "    <tr>\n",
              "      <th>11035</th>\n",
              "      <td>9253</td>\n",
              "      <td>Steins;Gate</td>\n",
              "      <td>TV</td>\n",
              "      <td>24</td>\n",
              "      <td>9.17</td>\n",
              "    </tr>\n",
              "    <tr>\n",
              "      <th>215</th>\n",
              "      <td>9969</td>\n",
              "      <td>Gintama&amp;#039;</td>\n",
              "      <td>TV</td>\n",
              "      <td>51</td>\n",
              "      <td>9.16</td>\n",
              "    </tr>\n",
              "    <tr>\n",
              "      <th>...</th>\n",
              "      <td>...</td>\n",
              "      <td>...</td>\n",
              "      <td>...</td>\n",
              "      <td>...</td>\n",
              "      <td>...</td>\n",
              "    </tr>\n",
              "    <tr>\n",
              "      <th>6233</th>\n",
              "      <td>69</td>\n",
              "      <td>Cluster Edge</td>\n",
              "      <td>TV</td>\n",
              "      <td>25</td>\n",
              "      <td>6.48</td>\n",
              "    </tr>\n",
              "    <tr>\n",
              "      <th>2306</th>\n",
              "      <td>15119</td>\n",
              "      <td>Senran Kagura</td>\n",
              "      <td>TV</td>\n",
              "      <td>12</td>\n",
              "      <td>6.48</td>\n",
              "    </tr>\n",
              "    <tr>\n",
              "      <th>1768</th>\n",
              "      <td>2153</td>\n",
              "      <td>Saint Beast: Kouin Jojishi Tenshi Tan</td>\n",
              "      <td>TV</td>\n",
              "      <td>13</td>\n",
              "      <td>6.48</td>\n",
              "    </tr>\n",
              "    <tr>\n",
              "      <th>1333</th>\n",
              "      <td>5600</td>\n",
              "      <td>Little El Cid no Bouken</td>\n",
              "      <td>TV</td>\n",
              "      <td>26</td>\n",
              "      <td>6.48</td>\n",
              "    </tr>\n",
              "    <tr>\n",
              "      <th>6704</th>\n",
              "      <td>23393</td>\n",
              "      <td>Shin Don Chuck Monogatari</td>\n",
              "      <td>TV</td>\n",
              "      <td>73</td>\n",
              "      <td>6.48</td>\n",
              "    </tr>\n",
              "  </tbody>\n",
              "</table>\n",
              "<p>2705 rows × 5 columns</p>\n",
              "</div>\n",
              "      <button class=\"colab-df-convert\" onclick=\"convertToInteractive('df-ae369843-b021-4f8a-a6d1-3413b10ca844')\"\n",
              "              title=\"Convert this dataframe to an interactive table.\"\n",
              "              style=\"display:none;\">\n",
              "        \n",
              "  <svg xmlns=\"http://www.w3.org/2000/svg\" height=\"24px\"viewBox=\"0 0 24 24\"\n",
              "       width=\"24px\">\n",
              "    <path d=\"M0 0h24v24H0V0z\" fill=\"none\"/>\n",
              "    <path d=\"M18.56 5.44l.94 2.06.94-2.06 2.06-.94-2.06-.94-.94-2.06-.94 2.06-2.06.94zm-11 1L8.5 8.5l.94-2.06 2.06-.94-2.06-.94L8.5 2.5l-.94 2.06-2.06.94zm10 10l.94 2.06.94-2.06 2.06-.94-2.06-.94-.94-2.06-.94 2.06-2.06.94z\"/><path d=\"M17.41 7.96l-1.37-1.37c-.4-.4-.92-.59-1.43-.59-.52 0-1.04.2-1.43.59L10.3 9.45l-7.72 7.72c-.78.78-.78 2.05 0 2.83L4 21.41c.39.39.9.59 1.41.59.51 0 1.02-.2 1.41-.59l7.78-7.78 2.81-2.81c.8-.78.8-2.07 0-2.86zM5.41 20L4 18.59l7.72-7.72 1.47 1.35L5.41 20z\"/>\n",
              "  </svg>\n",
              "      </button>\n",
              "      \n",
              "  <style>\n",
              "    .colab-df-container {\n",
              "      display:flex;\n",
              "      flex-wrap:wrap;\n",
              "      gap: 12px;\n",
              "    }\n",
              "\n",
              "    .colab-df-convert {\n",
              "      background-color: #E8F0FE;\n",
              "      border: none;\n",
              "      border-radius: 50%;\n",
              "      cursor: pointer;\n",
              "      display: none;\n",
              "      fill: #1967D2;\n",
              "      height: 32px;\n",
              "      padding: 0 0 0 0;\n",
              "      width: 32px;\n",
              "    }\n",
              "\n",
              "    .colab-df-convert:hover {\n",
              "      background-color: #E2EBFA;\n",
              "      box-shadow: 0px 1px 2px rgba(60, 64, 67, 0.3), 0px 1px 3px 1px rgba(60, 64, 67, 0.15);\n",
              "      fill: #174EA6;\n",
              "    }\n",
              "\n",
              "    [theme=dark] .colab-df-convert {\n",
              "      background-color: #3B4455;\n",
              "      fill: #D2E3FC;\n",
              "    }\n",
              "\n",
              "    [theme=dark] .colab-df-convert:hover {\n",
              "      background-color: #434B5C;\n",
              "      box-shadow: 0px 1px 3px 1px rgba(0, 0, 0, 0.15);\n",
              "      filter: drop-shadow(0px 1px 2px rgba(0, 0, 0, 0.3));\n",
              "      fill: #FFFFFF;\n",
              "    }\n",
              "  </style>\n",
              "\n",
              "      <script>\n",
              "        const buttonEl =\n",
              "          document.querySelector('#df-ae369843-b021-4f8a-a6d1-3413b10ca844 button.colab-df-convert');\n",
              "        buttonEl.style.display =\n",
              "          google.colab.kernel.accessAllowed ? 'block' : 'none';\n",
              "\n",
              "        async function convertToInteractive(key) {\n",
              "          const element = document.querySelector('#df-ae369843-b021-4f8a-a6d1-3413b10ca844');\n",
              "          const dataTable =\n",
              "            await google.colab.kernel.invokeFunction('convertToInteractive',\n",
              "                                                     [key], {});\n",
              "          if (!dataTable) return;\n",
              "\n",
              "          const docLinkHtml = 'Like what you see? Visit the ' +\n",
              "            '<a target=\"_blank\" href=https://colab.research.google.com/notebooks/data_table.ipynb>data table notebook</a>'\n",
              "            + ' to learn more about interactive tables.';\n",
              "          element.innerHTML = '';\n",
              "          dataTable['output_type'] = 'display_data';\n",
              "          await google.colab.output.renderOutput(dataTable, element);\n",
              "          const docLink = document.createElement('div');\n",
              "          docLink.innerHTML = docLinkHtml;\n",
              "          element.appendChild(docLink);\n",
              "        }\n",
              "      </script>\n",
              "    </div>\n",
              "  </div>\n",
              "  "
            ]
          },
          "metadata": {},
          "execution_count": 175
        }
      ]
    },
    {
      "cell_type": "markdown",
      "source": [
        "### **Nomor 7**"
      ],
      "metadata": {
        "id": "SELxrIwtVBS1"
      }
    },
    {
      "cell_type": "markdown",
      "metadata": {
        "id": "m45Rjz5gqzhz"
      },
      "source": [
        "7. **Buatlah *DataFrame* baru dari *DataFrame* awal** dengan **menghapus seluruh baris** yang memiliki nilai *null* . **Tampilkan rata-rata `rating` anime** pada *DataFrame* baru tersebut."
      ]
    },
    {
      "cell_type": "code",
      "metadata": {
        "id": "LJPaOjOrqzhz",
        "colab": {
          "base_uri": "https://localhost:8080/"
        },
        "outputId": "9e41084b-153f-45eb-90e2-4b55c0ae5b80"
      },
      "source": [
        "# Jawaban no. 7\n",
        "new_df = df.dropna()\n",
        "mean = new_df['rating'].mean()\n",
        "mean"
      ],
      "execution_count": null,
      "outputs": [
        {
          "output_type": "execute_result",
          "data": {
            "text/plain": [
              "6.473901690981433"
            ]
          },
          "metadata": {},
          "execution_count": 176
        }
      ]
    },
    {
      "cell_type": "markdown",
      "source": [
        "### **Nomor 8**"
      ],
      "metadata": {
        "id": "nvzqhzk-VCZM"
      }
    },
    {
      "cell_type": "markdown",
      "metadata": {
        "id": "u2QwWxp7qzh0"
      },
      "source": [
        "8. **Buatlah *DataFrame* baru dari *DataFrame* awal** dengan **mengisi seluruh nilai *null* pada kolom `rating`** dengan nilai median dari kolom tersebut. **Tampilkan rata-rata `rating` anime** pada *DataFrame* baru tersebut."
      ]
    },
    {
      "cell_type": "code",
      "metadata": {
        "id": "q_UX9mwrqzh0",
        "colab": {
          "base_uri": "https://localhost:8080/"
        },
        "outputId": "5968d644-fb62-4fdf-dd68-c5aa6cf5cdbe"
      },
      "source": [
        "# Jawaban no. 8\n",
        "median = df['rating'].median()\n",
        "new_df = df[['rating']].fillna(median)\n",
        "new_df['rating'].mean()"
      ],
      "execution_count": null,
      "outputs": [
        {
          "output_type": "execute_result",
          "data": {
            "text/plain": [
              "6.47569952822515"
            ]
          },
          "metadata": {},
          "execution_count": 177
        }
      ]
    },
    {
      "cell_type": "markdown",
      "source": [
        "### **Nomor 9**"
      ],
      "metadata": {
        "id": "rqmo59slVD8E"
      }
    },
    {
      "cell_type": "markdown",
      "metadata": {
        "id": "C6f18wVPqzh0"
      },
      "source": [
        "9. **Apakah ada perbedaan nilai rata-rata** baru pada nomor 7 dan 8? **Mengapa demikian**?"
      ]
    },
    {
      "cell_type": "markdown",
      "metadata": {
        "id": "vZaRH9FEqzh0"
      },
      "source": [
        "**Ada**, hal ini disebabkan nilai *rating* yang kosong diisi dengan nilai yang lebih besar (nilai median) dari nilai rata-rata pada nomor 7 (rata-rata yang lama). Sehingga, apabila dihitung nilai rata-rata pada data yang baru (di nomor 8), maka hasilnya akan lebih besar dari yang sebelumnya."
      ]
    },
    {
      "cell_type": "markdown",
      "metadata": {
        "id": "AwN5NSw0hQ46"
      },
      "source": [
        "# **C. Pengenalan NumPy**"
      ]
    },
    {
      "cell_type": "markdown",
      "metadata": {
        "id": "7nfxPaTRhQ47"
      },
      "source": [
        "[NumPy](https://numpy.org/) (Numerical Python) adalah *library* Python yang digunakan untuk melakukan komputasi numerik dan pemrosesan *array* multi-dimensi. NumPy memiliki kemampuan untuk membuat *array* n-dimensi dan  berbagai fungsi serta metode yang membantu dalam melakukan operasi matematis pada *array* tersebut, seperti melakukan operasi aljabar linear, pengolahan statistik, dan lain-lain. *Library* ini sangat berguna untuk tugas-tugas *scientific computing* dan *data analysis*."
      ]
    },
    {
      "cell_type": "code",
      "metadata": {
        "id": "okY6L78ShQ47"
      },
      "source": [
        "# Import Library NumPy\n",
        "import numpy as np"
      ],
      "execution_count": null,
      "outputs": []
    },
    {
      "cell_type": "markdown",
      "metadata": {
        "id": "Ihb7n9fthQ47"
      },
      "source": [
        "## **NumPy Array**"
      ]
    },
    {
      "cell_type": "markdown",
      "source": [
        "### **NumPy Array Satu Dimensi**"
      ],
      "metadata": {
        "id": "mf7jHOz2b7J6"
      }
    },
    {
      "cell_type": "markdown",
      "metadata": {
        "id": "r5eyeZR-hQ48"
      },
      "source": [
        "Untuk membuat sebuah array baru, kita dapat membuat python List kemudian diubah menjadi NumPy array menggunakan fungsi <code>array()</code> yang terdapat pada NumPy"
      ]
    },
    {
      "cell_type": "code",
      "metadata": {
        "id": "7EQxVXKrhQ49",
        "colab": {
          "base_uri": "https://localhost:8080/"
        },
        "outputId": "5efebfcf-0d9a-4b1e-bca2-0f052da71657"
      },
      "source": [
        "# Membuat numpy array\n",
        "arr = np.array([10,20,30,40,50])\n",
        "arr"
      ],
      "execution_count": null,
      "outputs": [
        {
          "output_type": "execute_result",
          "data": {
            "text/plain": [
              "array([10, 20, 30, 40, 50])"
            ]
          },
          "metadata": {},
          "execution_count": 179
        }
      ]
    },
    {
      "cell_type": "code",
      "metadata": {
        "id": "9-4o3ulRD0AZ",
        "colab": {
          "base_uri": "https://localhost:8080/"
        },
        "outputId": "1ec51c5d-809e-453c-a33b-9b296f3859d9"
      },
      "source": [
        "print(type(arr))"
      ],
      "execution_count": null,
      "outputs": [
        {
          "output_type": "stream",
          "name": "stdout",
          "text": [
            "<class 'numpy.ndarray'>\n"
          ]
        }
      ]
    },
    {
      "cell_type": "markdown",
      "metadata": {
        "id": "SA_ZNvpdhQ4-"
      },
      "source": [
        "Terdapat beberapa fungsi bawaan yang dapat digunakan untuk membuat array"
      ]
    },
    {
      "cell_type": "code",
      "metadata": {
        "id": "m87ZpDumhQ4-",
        "colab": {
          "base_uri": "https://localhost:8080/"
        },
        "outputId": "c7f43954-8bae-45ff-f228-2ed534be0249"
      },
      "source": [
        "# Membuat array dengan nilai 0 sebanyak 5\n",
        "print(\"np.zeros(5) : \",np.zeros(5))\n",
        "\n",
        "# Membuat array dengan nilai 1 sebanyak 5\n",
        "print(\"np.ones(5) : \",np.ones(5))\n",
        "\n",
        "# Membuat array dengan nilai dalam range 1 sampai 10 dengan step sebesar 2\n",
        "print(\"np.arange(1,10,2) : \",np.arange(1,10,2))\n",
        "\n",
        "# Membuat array dengan nilai dalam range 1 sampai 10 sebanyak 4 dengan interval yang sama\n",
        "print(\"np.linspace(1,10,4) : \",np.linspace(1,10,4))"
      ],
      "execution_count": null,
      "outputs": [
        {
          "output_type": "stream",
          "name": "stdout",
          "text": [
            "np.zeros(5) :  [0. 0. 0. 0. 0.]\n",
            "np.ones(5) :  [1. 1. 1. 1. 1.]\n",
            "np.arange(1,10,2) :  [1 3 5 7 9]\n",
            "np.linspace(1,10,4) :  [ 1.  4.  7. 10.]\n"
          ]
        }
      ]
    },
    {
      "cell_type": "markdown",
      "metadata": {
        "id": "n96smvk6hQ4-"
      },
      "source": [
        "### **NumPy Array Multidimensi**"
      ]
    },
    {
      "cell_type": "markdown",
      "metadata": {
        "id": "L5w2wl8-hQ4-"
      },
      "source": [
        "Selain array 1 dimensi, NumPy juga mempunyai kemampuan untuk membuat dan memanipulasi array multidimensi dengan mudah"
      ]
    },
    {
      "cell_type": "code",
      "metadata": {
        "id": "_D8VfLPMhQ4_",
        "colab": {
          "base_uri": "https://localhost:8080/"
        },
        "outputId": "f0969588-4d3b-47d2-dac0-051da236f8fd"
      },
      "source": [
        "# Membuat numpy array multidimensi / matrix\n",
        "mult_arr = np.array([[1,2,3],[4,5,6],[10,20,30]])\n",
        "mult_arr"
      ],
      "execution_count": null,
      "outputs": [
        {
          "output_type": "execute_result",
          "data": {
            "text/plain": [
              "array([[ 1,  2,  3],\n",
              "       [ 4,  5,  6],\n",
              "       [10, 20, 30]])"
            ]
          },
          "metadata": {},
          "execution_count": 182
        }
      ]
    },
    {
      "cell_type": "markdown",
      "metadata": {
        "id": "Z79slr7ihQ4_"
      },
      "source": [
        "## **Menampilkan Atribut dari NumPy Array**"
      ]
    },
    {
      "cell_type": "markdown",
      "metadata": {
        "id": "D2F1qOurhQ4_"
      },
      "source": [
        "Terdapat beberapa fungsi yang dapat digunakan untuk menampilkan atribut dari array"
      ]
    },
    {
      "cell_type": "code",
      "metadata": {
        "id": "jEz_Uie6hQ5A",
        "colab": {
          "base_uri": "https://localhost:8080/"
        },
        "outputId": "eb05efe1-717c-4a31-e860-bdaa3de323f4"
      },
      "source": [
        "print(mult_arr)\n",
        "\n",
        "print()\n",
        "\n",
        "# Menunjukkan ukuran array\n",
        "print(\"mult_arr.size:\", mult_arr.size)\n",
        "\n",
        "# Menunjukkan jumlah dimensi atau rank dari sebuah array\n",
        "print(\"mult_arr.ndim:\", mult_arr.ndim)\n",
        "\n",
        "# Mengetahui ukuran dari setiap dimensi array \n",
        "print(\"mult_arr.shape:\", mult_arr.shape)"
      ],
      "execution_count": null,
      "outputs": [
        {
          "output_type": "stream",
          "name": "stdout",
          "text": [
            "[[ 1  2  3]\n",
            " [ 4  5  6]\n",
            " [10 20 30]]\n",
            "\n",
            "mult_arr.size: 9\n",
            "mult_arr.ndim: 2\n",
            "mult_arr.shape: (3, 3)\n"
          ]
        }
      ]
    },
    {
      "cell_type": "markdown",
      "metadata": {
        "id": "HsQKEiM7hQ5B"
      },
      "source": [
        "## **Memeriksa Tipe Data**"
      ]
    },
    {
      "cell_type": "markdown",
      "metadata": {
        "id": "gf58sK2vhQ5C"
      },
      "source": [
        "Kita dapat mengetahui tipe dari sebuah objek menggunakan fungsi `type()`"
      ]
    },
    {
      "cell_type": "code",
      "metadata": {
        "id": "KhnPsBqzhQ5C",
        "colab": {
          "base_uri": "https://localhost:8080/"
        },
        "outputId": "a311557c-05e8-4da2-dcdd-08375b9830c7"
      },
      "source": [
        "# Mengecek tipe list\n",
        "py_lst = [1,2,3,4,5]\n",
        "print(\"type(py_list):\", type(py_lst))\n",
        "\n",
        "arr = np.array(py_lst)\n",
        "print(\"type(mult_arr):\", type(arr))"
      ],
      "execution_count": null,
      "outputs": [
        {
          "output_type": "stream",
          "name": "stdout",
          "text": [
            "type(py_list): <class 'list'>\n",
            "type(mult_arr): <class 'numpy.ndarray'>\n"
          ]
        }
      ]
    },
    {
      "cell_type": "markdown",
      "metadata": {
        "id": "4mYwFjIYhQ5D"
      },
      "source": [
        "Untuk memeriksa tipe data yang ada di dalam sebuah numpy array dapat menggunakan `dtype`"
      ]
    },
    {
      "cell_type": "code",
      "metadata": {
        "id": "2cdhWrSOhQ5D",
        "colab": {
          "base_uri": "https://localhost:8080/"
        },
        "outputId": "441157ce-2a90-495f-a881-a77bf6e7ac24"
      },
      "source": [
        "# Mengecek tipe data dari array\n",
        "arr.dtype"
      ],
      "execution_count": null,
      "outputs": [
        {
          "output_type": "execute_result",
          "data": {
            "text/plain": [
              "dtype('int64')"
            ]
          },
          "metadata": {},
          "execution_count": 185
        }
      ]
    },
    {
      "cell_type": "markdown",
      "metadata": {
        "id": "SWUt2ischQ5D"
      },
      "source": [
        "## **Indexing, Slicing, dan Assigning Value pada NumPy Array**"
      ]
    },
    {
      "cell_type": "code",
      "metadata": {
        "id": "HoOFhPKghQ5D",
        "colab": {
          "base_uri": "https://localhost:8080/"
        },
        "outputId": "754fd8a0-ed14-45d7-80a1-a87f67bb3d9a"
      },
      "source": [
        "arr"
      ],
      "execution_count": null,
      "outputs": [
        {
          "output_type": "execute_result",
          "data": {
            "text/plain": [
              "array([1, 2, 3, 4, 5])"
            ]
          },
          "metadata": {},
          "execution_count": 186
        }
      ]
    },
    {
      "cell_type": "code",
      "source": [
        "mult_arr"
      ],
      "metadata": {
        "colab": {
          "base_uri": "https://localhost:8080/"
        },
        "id": "Bq7FXukOZ2RO",
        "outputId": "accfd259-ff10-47f2-df2e-5a74bd81cc90"
      },
      "execution_count": null,
      "outputs": [
        {
          "output_type": "execute_result",
          "data": {
            "text/plain": [
              "array([[ 1,  2,  3],\n",
              "       [ 4,  5,  6],\n",
              "       [10, 20, 30]])"
            ]
          },
          "metadata": {},
          "execution_count": 187
        }
      ]
    },
    {
      "cell_type": "markdown",
      "metadata": {
        "id": "YptC-zskhQ5E"
      },
      "source": [
        "#### **Indexing pada NumPy Array**"
      ]
    },
    {
      "cell_type": "code",
      "metadata": {
        "id": "DzCjG_jJhQ5E",
        "colab": {
          "base_uri": "https://localhost:8080/"
        },
        "outputId": "92d087b1-578d-4c54-f927-c5f769cf8d1b"
      },
      "source": [
        "arr[0]"
      ],
      "execution_count": null,
      "outputs": [
        {
          "output_type": "execute_result",
          "data": {
            "text/plain": [
              "1"
            ]
          },
          "metadata": {},
          "execution_count": 188
        }
      ]
    },
    {
      "cell_type": "code",
      "metadata": {
        "id": "JWmLRZmphQ5E",
        "colab": {
          "base_uri": "https://localhost:8080/"
        },
        "outputId": "c3ab46e4-a2cb-42b4-c563-540b754f82fa"
      },
      "source": [
        "# Mengakses elemen baris kedua, kolom ketiga dari sebuah array multidimensi\n",
        "print(mult_arr[1,2])\n",
        "\n",
        "# Cara lain\n",
        "print(mult_arr[1][2])"
      ],
      "execution_count": null,
      "outputs": [
        {
          "output_type": "stream",
          "name": "stdout",
          "text": [
            "6\n",
            "6\n"
          ]
        }
      ]
    },
    {
      "cell_type": "markdown",
      "metadata": {
        "id": "O4K8DnUdhQ5F"
      },
      "source": [
        "#### **Slicing pada NumPy Array**"
      ]
    },
    {
      "cell_type": "code",
      "metadata": {
        "id": "kAuTlxGlhQ5F",
        "colab": {
          "base_uri": "https://localhost:8080/"
        },
        "outputId": "60c9f408-ea37-47b7-beca-a84a2de6dd7f"
      },
      "source": [
        "# Slice elemen index 1 sampai 3\n",
        "b = arr[1:4]\n",
        "b"
      ],
      "execution_count": null,
      "outputs": [
        {
          "output_type": "execute_result",
          "data": {
            "text/plain": [
              "array([2, 3, 4])"
            ]
          },
          "metadata": {},
          "execution_count": 190
        }
      ]
    },
    {
      "cell_type": "code",
      "metadata": {
        "id": "ZvIAK6ifhQ5H",
        "colab": {
          "base_uri": "https://localhost:8080/"
        },
        "outputId": "9233efd5-20ca-4340-f876-9caa5612d02c"
      },
      "source": [
        "#Slice elemen dari baris pertama, kolom 1 serta 2\n",
        "mult_arr[0][0:2]"
      ],
      "execution_count": null,
      "outputs": [
        {
          "output_type": "execute_result",
          "data": {
            "text/plain": [
              "array([1, 2])"
            ]
          },
          "metadata": {},
          "execution_count": 191
        }
      ]
    },
    {
      "cell_type": "code",
      "metadata": {
        "id": "JItGn-oYhQ5I",
        "colab": {
          "base_uri": "https://localhost:8080/"
        },
        "outputId": "7ede28cd-a5e4-4db0-db74-7ab1172ee18a"
      },
      "source": [
        "# Slice kolom kedua\n",
        "mult_arr[:,1]"
      ],
      "execution_count": null,
      "outputs": [
        {
          "output_type": "execute_result",
          "data": {
            "text/plain": [
              "array([ 2,  5, 20])"
            ]
          },
          "metadata": {},
          "execution_count": 192
        }
      ]
    },
    {
      "cell_type": "markdown",
      "metadata": {
        "id": "W70gBX3OhQ5I"
      },
      "source": [
        "#### **Assinging Value pada NumPy Array**"
      ]
    },
    {
      "cell_type": "code",
      "metadata": {
        "id": "9X9V3qrnhQ5I",
        "colab": {
          "base_uri": "https://localhost:8080/"
        },
        "outputId": "0b21eb3e-98bb-443a-ae6b-fc2c2f2576d8"
      },
      "source": [
        "# Mengubah elemen kelima array a menjadi 500\n",
        "arr[4] = 500\n",
        "arr"
      ],
      "execution_count": null,
      "outputs": [
        {
          "output_type": "execute_result",
          "data": {
            "text/plain": [
              "array([  1,   2,   3,   4, 500])"
            ]
          },
          "metadata": {},
          "execution_count": 193
        }
      ]
    },
    {
      "cell_type": "code",
      "metadata": {
        "id": "Zh2EgBFvhQ5J",
        "colab": {
          "base_uri": "https://localhost:8080/"
        },
        "outputId": "92dc53c3-1d02-49ba-d57b-168850534dff"
      },
      "source": [
        "# Mengubah elemen baris pertama kolom pertama array multidimensi A menjadi 100\n",
        "mult_arr[0][0] = 100\n",
        "mult_arr"
      ],
      "execution_count": null,
      "outputs": [
        {
          "output_type": "execute_result",
          "data": {
            "text/plain": [
              "array([[100,   2,   3],\n",
              "       [  4,   5,   6],\n",
              "       [ 10,  20,  30]])"
            ]
          },
          "metadata": {},
          "execution_count": 194
        }
      ]
    },
    {
      "cell_type": "markdown",
      "source": [
        "#### **Indexing dan Assigning Value untuk indeks spesifik pada NumPy Array**"
      ],
      "metadata": {
        "id": "yW9Pz1ZIaIVT"
      }
    },
    {
      "cell_type": "markdown",
      "metadata": {
        "id": "IZuUtLb9hQ5J"
      },
      "source": [
        "Kita dapat menggunakan sebuah list untuk memilih indeks secara spesifik"
      ]
    },
    {
      "cell_type": "code",
      "metadata": {
        "id": "XKeq6vgQhQ5J"
      },
      "source": [
        "# Membuat list berisi indeks\n",
        "lst = [0,3,4]"
      ],
      "execution_count": null,
      "outputs": []
    },
    {
      "cell_type": "code",
      "metadata": {
        "id": "jifpn9ZghQ5J",
        "colab": {
          "base_uri": "https://localhost:8080/"
        },
        "outputId": "f497349c-bba8-4542-8ef3-4594be6ca2c4"
      },
      "source": [
        "# Menggunakan list untuk memilih elemen\n",
        "c = arr[lst]\n",
        "c"
      ],
      "execution_count": null,
      "outputs": [
        {
          "output_type": "execute_result",
          "data": {
            "text/plain": [
              "array([  1,   4, 500])"
            ]
          },
          "metadata": {},
          "execution_count": 196
        }
      ]
    },
    {
      "cell_type": "markdown",
      "metadata": {
        "id": "QzoftEy4hQ5J"
      },
      "source": [
        "Selain itu, kita juga bisa meng-assign elemen pada indeks di list dengan value baru"
      ]
    },
    {
      "cell_type": "code",
      "metadata": {
        "id": "c0cscnQshQ5J",
        "colab": {
          "base_uri": "https://localhost:8080/"
        },
        "outputId": "d94747a6-e920-4d47-8bdf-2cfdd158bea1"
      },
      "source": [
        "# Assign value baru pada indeks di list\n",
        "arr[lst] = 1234\n",
        "arr"
      ],
      "execution_count": null,
      "outputs": [
        {
          "output_type": "execute_result",
          "data": {
            "text/plain": [
              "array([1234,    2,    3, 1234, 1234])"
            ]
          },
          "metadata": {},
          "execution_count": 197
        }
      ]
    },
    {
      "cell_type": "markdown",
      "metadata": {
        "id": "rG_9iZRYhQ5K"
      },
      "source": [
        "## **Operasi pada NumPy Array**"
      ]
    },
    {
      "cell_type": "code",
      "metadata": {
        "id": "ntMYIIKEhQ5K"
      },
      "source": [
        "x = np.array([10, 15, 20, 25, 30])\n",
        "y = np.array([30, 25, 20, 15, 10])"
      ],
      "execution_count": null,
      "outputs": []
    },
    {
      "cell_type": "code",
      "metadata": {
        "id": "NukaYLlhhQ5K",
        "colab": {
          "base_uri": "https://localhost:8080/"
        },
        "outputId": "c6a20afe-520c-43fc-fe82-88e2fd56ac0c"
      },
      "source": [
        "# Penjumlahan Array\n",
        "print(\"Penjumlahan Array : \", x + y)\n",
        "\n",
        "# Pengurangan Array\n",
        "print(\"Pengurangan Array : \", x - y)"
      ],
      "execution_count": null,
      "outputs": [
        {
          "output_type": "stream",
          "name": "stdout",
          "text": [
            "Penjumlahan Array :  [40 40 40 40 40]\n",
            "Pengurangan Array :  [-20 -10   0  10  20]\n"
          ]
        }
      ]
    },
    {
      "cell_type": "code",
      "metadata": {
        "id": "Z2i96AjYhQ5K",
        "colab": {
          "base_uri": "https://localhost:8080/"
        },
        "outputId": "be6f1c9b-b880-4f8e-de99-f39e913914bd"
      },
      "source": [
        "# Penjumlahan Array dengan  bilangan konstan\n",
        "print(\"Penjumlahan dengan sebuah bilangan : \", x + 3)\n",
        "\n",
        "# Perkalian Array dengan bilangan konstan\n",
        "print(\"Perkalian dengan sebuah bilangan : \", x * 2)"
      ],
      "execution_count": null,
      "outputs": [
        {
          "output_type": "stream",
          "name": "stdout",
          "text": [
            "Penjumlahan dengan sebuah bilangan :  [13 18 23 28 33]\n",
            "Perkalian dengan sebuah bilangan :  [20 30 40 50 60]\n"
          ]
        }
      ]
    },
    {
      "cell_type": "code",
      "metadata": {
        "id": "lUChuQMnhQ5L",
        "colab": {
          "base_uri": "https://localhost:8080/"
        },
        "outputId": "9095aa6b-c974-4c93-90c0-c3666a9f9a97"
      },
      "source": [
        "m = np.array([1,2])\n",
        "n = np.array([0,1])\n",
        "\n",
        "# Perkalian 2 buah array\n",
        "print(\"Perkalian array m dan n : \", m * n)\n",
        "\n",
        "# Dot product dari 2 buah array\n",
        "print(\"Dot product m dan n : \", np.dot(m,n))"
      ],
      "execution_count": null,
      "outputs": [
        {
          "output_type": "stream",
          "name": "stdout",
          "text": [
            "Perkalian array m dan n :  [0 2]\n",
            "Dot product m dan n :  2\n"
          ]
        }
      ]
    },
    {
      "cell_type": "markdown",
      "metadata": {
        "id": "-fWTVHg8hQ5L"
      },
      "source": [
        "## **Operasi pada NumPy Array Multidimensi / Matrix**"
      ]
    },
    {
      "cell_type": "markdown",
      "metadata": {
        "id": "pOuKa2G8hQ5L"
      },
      "source": [
        "Operasi pada array juga berlaku pada array multidimensi / matrix. Kita juga dapat mengetahui transpose dan inverse dari sebuah matrix melalui fungsi berikut"
      ]
    },
    {
      "cell_type": "code",
      "metadata": {
        "id": "f94MGK78hQ5M",
        "colab": {
          "base_uri": "https://localhost:8080/"
        },
        "outputId": "0b2fb6af-f76e-4016-b5e3-8b00a6d1756b"
      },
      "source": [
        "P = np.array([[1,2],[3,4]])\n",
        "\n",
        "# Matrix P\n",
        "print(P)\n",
        "\n",
        "# Membuat matrix transpose dari matrix P\n",
        "print(\"Transpose : \")\n",
        "print(np.transpose(P))\n",
        "\n",
        "# Membuat matrix invers dari matrix P\n",
        "print(\"Invers : \")\n",
        "print(np.linalg.inv(P))"
      ],
      "execution_count": null,
      "outputs": [
        {
          "output_type": "stream",
          "name": "stdout",
          "text": [
            "[[1 2]\n",
            " [3 4]]\n",
            "Transpose : \n",
            "[[1 3]\n",
            " [2 4]]\n",
            "Invers : \n",
            "[[-2.   1. ]\n",
            " [ 1.5 -0.5]]\n"
          ]
        }
      ]
    },
    {
      "cell_type": "markdown",
      "metadata": {
        "id": "ZqmzvLtQhQ5M"
      },
      "source": [
        "## **Operasi Statistik pada NumPy Array**"
      ]
    },
    {
      "cell_type": "code",
      "metadata": {
        "id": "Zp0kp62zhQ5N",
        "colab": {
          "base_uri": "https://localhost:8080/"
        },
        "outputId": "485e399d-8163-41c2-e544-10d670980cce"
      },
      "source": [
        "stat_arr = np.array([7, 7, 6, 6, 5, 7, 5, 9, 4, 2, 4, 2, 7, 7, 7, 3, 4, 4, 8, 7, 8, 6,\n",
        "       4, 1, 1])\n",
        "stat_arr"
      ],
      "execution_count": null,
      "outputs": [
        {
          "output_type": "execute_result",
          "data": {
            "text/plain": [
              "array([7, 7, 6, 6, 5, 7, 5, 9, 4, 2, 4, 2, 7, 7, 7, 3, 4, 4, 8, 7, 8, 6,\n",
              "       4, 1, 1])"
            ]
          },
          "metadata": {},
          "execution_count": 203
        }
      ]
    },
    {
      "cell_type": "code",
      "metadata": {
        "id": "e0NvY7DVhQ5N",
        "colab": {
          "base_uri": "https://localhost:8080/"
        },
        "outputId": "fb174171-ab13-4c2d-94ab-5a6447524de2"
      },
      "source": [
        "# Nilai rata-rata dari sebuah array\n",
        "print(\"Nilai rata-rata : \", np.mean(stat_arr))\n",
        "\n",
        "# Nilai maksimal dari sebuah array\n",
        "print(\"Nilai maks : \", np.max(stat_arr))\n",
        "\n",
        "# Nilai unik dari sebuah array\n",
        "print(\"Nilai unik : \", np.unique(stat_arr))\n",
        "\n",
        "\n",
        "# Nilai suatu Percentile pada sebuah array\n",
        "print(\"Nilai percentile 10 : \", np.percentile(stat_arr, 10))\n",
        "\n",
        "# Sort nilai pada array\n",
        "print(\"Sorted : \", np.sort(stat_arr))"
      ],
      "execution_count": null,
      "outputs": [
        {
          "output_type": "stream",
          "name": "stdout",
          "text": [
            "Nilai rata-rata :  5.24\n",
            "Nilai maks :  9\n",
            "Nilai unik :  [1 2 3 4 5 6 7 8 9]\n",
            "Nilai percentile 10 :  2.0\n",
            "Sorted :  [1 1 2 2 3 4 4 4 4 4 5 5 6 6 6 7 7 7 7 7 7 7 8 8 9]\n"
          ]
        }
      ]
    },
    {
      "cell_type": "markdown",
      "metadata": {
        "id": "WXRKYZjpewnw"
      },
      "source": [
        "## **Pertanyaan NumPy**"
      ]
    },
    {
      "cell_type": "markdown",
      "metadata": {
        "id": "fu1QHkqHewnw"
      },
      "source": [
        "Jawab setiap pertanyaan pada _cell_ di bawah _cell_ pertanyaan. Jawaban boleh lebih dari 1 _cell_ dan juga kombinasi antara _cell_ kode atau _markdown_ jika memang diperlukan."
      ]
    },
    {
      "cell_type": "markdown",
      "source": [
        "### **Nomor 1**"
      ],
      "metadata": {
        "id": "qzYnLDJLdm1a"
      }
    },
    {
      "cell_type": "code",
      "metadata": {
        "id": "cGm3H8w5ewny",
        "colab": {
          "base_uri": "https://localhost:8080/"
        },
        "outputId": "9c25b0ef-9bb5-4af1-d54a-3631cb026971"
      },
      "source": [
        "arr_1 = np.array([1,2,np.nan,4,5,6,7,'Test'])\n",
        "arr_1.dtype"
      ],
      "execution_count": null,
      "outputs": [
        {
          "output_type": "execute_result",
          "data": {
            "text/plain": [
              "dtype('<U32')"
            ]
          },
          "metadata": {},
          "execution_count": 205
        }
      ]
    },
    {
      "cell_type": "markdown",
      "metadata": {
        "id": "MlljILyXewny"
      },
      "source": [
        "1. Jalankan *cell* di atas! Mengapa tipe data yang didapatkan dari `arr_1.dtype` bertipe '<U32' padahal terdapat elemen yang merupakan integer dan nan? "
      ]
    },
    {
      "cell_type": "markdown",
      "metadata": {
        "id": "HQT4O18zi8o-"
      },
      "source": [
        "karena pada array tersebut mengandung element ***np.nan*** yang jika dicek tipe datanya adalah float. selain itu array tersebut juga mengadung element bertipe data string. sehingga numpy akan membuat array tersebut bertipe data <U32 agar dapat mengakomodasi semua tipe data yang ada di dalam array tersebut"
      ]
    },
    {
      "cell_type": "markdown",
      "source": [
        "### **Nomor 2**"
      ],
      "metadata": {
        "id": "2wBusf59dpTs"
      }
    },
    {
      "cell_type": "code",
      "metadata": {
        "id": "wrqZCCerewn2"
      },
      "source": [
        "U = np.array([[4,9,0],[4,1,9],[9,1,4]])\n",
        "V = np.array([[5,0,4],[0,3,7],[7,0,5]])\n",
        "W = np.array([[1,1,2],[2,3,1],[2,2,2]])"
      ],
      "execution_count": null,
      "outputs": []
    },
    {
      "cell_type": "markdown",
      "metadata": {
        "id": "P_WC0aGkewn2"
      },
      "source": [
        "2. Terdapat matrix U, V, W seperti pada *cell* di atas, lakukan langkah-langkah berikut,\n",
        "  1. Lakukan operasi penambahan matrix U dan V\n",
        "  2. Buatlah sebuah matrix baru yang isinya akar (*square root*) dari setiap elemen dari matrix hasil pada langkah 1\n",
        "  3. Lakukan operasi invers pada matrix W\n",
        "  4. Terapkan perkalian matrix pada matrix hasil langkah 2 dan matrix hasil langkah 3\n",
        "  5. Buatlah sebuah matrix baru yang isinya kuadrat dari setiap elemen dari matrix hasil pada langkah 4\n",
        "  6. Tampilkan matrix transpose dari matrix akar tersebut! \n",
        "  \n",
        "(Hint : Anda dapat menggunakan fungsi `sqrt` dan `square` dari NumPy)\n",
        "\n",
        "Formula matematis dari soal:\n",
        "\n",
        "$X = (U+V)$ \n",
        "\n",
        "$Y =$ Sebuah matrix dimana setiap elemen dalam X diakarkan\n",
        "\n",
        "$Z = Y * W^{-1}$\n",
        "\n",
        "$A =$ Sebuah matrix dimana setiap elemen dalam Z dikuadratkan\n",
        "\n",
        "$Hasil Akhir = A^{T}$"
      ]
    },
    {
      "cell_type": "code",
      "metadata": {
        "id": "3js1mRHfini0",
        "colab": {
          "base_uri": "https://localhost:8080/"
        },
        "outputId": "6da68b85-8961-497c-cc62-0fbf609c8d65"
      },
      "source": [
        "# Jawaban no. 2\n",
        "X = U + V\n",
        "Y = np.sqrt(X)\n",
        "Z = np.matmul(Y, (np.linalg.inv(W)))\n",
        "A = np.square(Z)\n",
        "print(np.transpose(A))"
      ],
      "execution_count": null,
      "outputs": [
        {
          "output_type": "stream",
          "name": "stdout",
          "text": [
            "[[ 1.  4. 16.]\n",
            " [ 0.  0.  9.]\n",
            " [ 4.  0. 49.]]\n"
          ]
        }
      ]
    },
    {
      "cell_type": "markdown",
      "source": [
        "### **Nomor 3**"
      ],
      "metadata": {
        "id": "LudLCvsldud5"
      }
    },
    {
      "cell_type": "code",
      "metadata": {
        "id": "OovWchHBewn3"
      },
      "source": [
        "arr_3 = np.array([50, 20, 10, 10, 12, 60, 105,  2, 55, 80, 88, 16, 78, 13, 34, 34, 20,\n",
        "                  9, 51, 88, 19, 13,  3, 51, 45, 76, 41, 23, 34, 36, 55,  8, 55,  3,\n",
        "                  8,  2, 47, 27, 66,  3, 45, 96, 69, 21, 37, 32, 41, 43, 60, 53])"
      ],
      "execution_count": null,
      "outputs": []
    },
    {
      "cell_type": "markdown",
      "metadata": {
        "id": "ZAODVenBewn3"
      },
      "source": [
        "3. **Kalikan** NumPy Array pada *cell* di atas **dengan 8**.  Kemudian **cari dan tampilkan** rata-rata, nilai maksimum, minimum, median, standar deviasi, variance, dan ukuran dari NumPy Array tersebut!"
      ]
    },
    {
      "cell_type": "code",
      "metadata": {
        "id": "LClVRTW2itvM",
        "colab": {
          "base_uri": "https://localhost:8080/"
        },
        "outputId": "44e52c36-5e60-488b-8d24-051cc0f39886"
      },
      "source": [
        "# Jawaban no. 3\n",
        "arr_3 = arr_3 * 8\n",
        "print(f'rata-rata: {np.mean(arr_3)}')\n",
        "print(f'nilai maksimum: {np.max(arr_3)}')\n",
        "print(f'nilai minimum: {np.min(arr_3)}')\n",
        "print(f'median: {np.median(arr_3)}')\n",
        "print(f'standar deviasi: {np.std(arr_3)}')\n",
        "print(f'variance: {np.var(arr_3)}')\n",
        "print(f'ukuran: {arr_3.shape}')"
      ],
      "execution_count": null,
      "outputs": [
        {
          "output_type": "stream",
          "name": "stdout",
          "text": [
            "rata-rata: 311.52\n",
            "nilai maksimum: 840\n",
            "nilai minimum: 16\n",
            "median: 292.0\n",
            "standar deviasi: 216.87178147467688\n",
            "variance: 47033.3696\n",
            "ukuran: (50,)\n"
          ]
        }
      ]
    },
    {
      "cell_type": "markdown",
      "source": [
        "### **Nomor 4**"
      ],
      "metadata": {
        "id": "o9vQF-QYgBC5"
      }
    },
    {
      "cell_type": "code",
      "source": [
        "arr_4 = np.array([1001. , 1326. , 1203. ,  386.1, 1297. ,  477.1, 1040. ,  577.9, 519.8,  \n",
        "                  475.9,  797.8,  781. , 1123. ,  782.7,  578.3,  658.8, 684.5,  798.8, \n",
        "                  1260. , 566.3,  520. ,  273.9,  704.4, 1404. , 904.6,  912.7,  644.8, \n",
        "                  1094. ,  732.4,  955.1, 1088. ,  440.6, 899.3, 1162. ,  807.2,  869.5,  \n",
        "                  633. ,  523.8,  698.8,  559.2, 563. ,  371.1, 1104. ,  545.2,  531.5,])"
      ],
      "metadata": {
        "id": "Lz2t9G11gEgw"
      },
      "execution_count": null,
      "outputs": []
    },
    {
      "cell_type": "markdown",
      "source": [
        "4. **Hitung lalu tampilkan Quartile 1** (Percentile 25) dan **Quartile 3** (Percentile 75) dari NumPy Array pada *cell* di atas"
      ],
      "metadata": {
        "id": "2oBiV6kHgD3V"
      }
    },
    {
      "cell_type": "code",
      "source": [
        "# Jawaban no. 4\n",
        "print(f'quartile 1: {np.percentile(arr_4, 25)}')\n",
        "print(f'quartile 3: {np.percentile(arr_4, 75)}')"
      ],
      "metadata": {
        "id": "KQWvT_McigF9",
        "colab": {
          "base_uri": "https://localhost:8080/"
        },
        "outputId": "6ea2a93b-9c03-47ba-cfc9-20b2ba8bfac7"
      },
      "execution_count": null,
      "outputs": [
        {
          "output_type": "stream",
          "name": "stdout",
          "text": [
            "quartile 1: 559.2\n",
            "quartile 3: 1001.0\n"
          ]
        }
      ]
    },
    {
      "cell_type": "markdown",
      "metadata": {
        "id": "nmvDDpRfuKPU"
      },
      "source": [
        "# **D. Pengenalan Scikit-learn**"
      ]
    },
    {
      "cell_type": "markdown",
      "metadata": {
        "id": "sR6x-tuSpTo9"
      },
      "source": [
        "[Scikit-learn](https://scikit-learn.org/) atau **sklearn** merupakan *library* Python *open-source* yang digunakan untuk *machine learning* (pembelajaran mesin). Scikit-learn menyediakan alat dan metode yang sederhana serta efisien untuk analisis data maupun pembelajaran mesin. Scikit-learn memiliki beragam metode pembelajaran mesin termasuk klasifikasi, regresi, *clustering*, dan reduksi dimensi. *Library* ini didukung oleh NumPy, Matplotlib, dan SciPy."
      ]
    },
    {
      "cell_type": "markdown",
      "metadata": {
        "id": "HQ4i4POm-kZ1"
      },
      "source": [
        "## **Load Dataset**"
      ]
    },
    {
      "cell_type": "markdown",
      "metadata": {
        "id": "eA16fpJ3V2Y2"
      },
      "source": [
        "Modul [datasets](https://scikit-learn.org/stable/datasets.html#datasets) dari sklearn menyediakan sejumlah *toy dataset*  yang dapat digunakan untuk mempelajari _machine learning_. Dataset dapat diakses dengan fungsi <code>load_[nama dataset] ()</code>, outputnya berupa dictionary scikit-learn yang berisi komponen-komponen dari dataset tersebut."
      ]
    },
    {
      "cell_type": "code",
      "metadata": {
        "id": "fKIi4oFP4rMd",
        "colab": {
          "base_uri": "https://localhost:8080/"
        },
        "outputId": "f6a70259-d12a-4cc2-84ee-491873e2e3c8"
      },
      "source": [
        "# Mengakses dataset \"diabetes\" dari modul sklearn.datasets\n",
        "from sklearn.datasets import load_diabetes\n",
        "\n",
        "diabetes = load_diabetes()\n",
        "print(diabetes.keys()) # Melihat komponen yang dimiliki oleh dataset"
      ],
      "execution_count": null,
      "outputs": [
        {
          "output_type": "stream",
          "name": "stdout",
          "text": [
            "dict_keys(['data', 'target', 'frame', 'DESCR', 'feature_names', 'data_filename', 'target_filename', 'data_module'])\n"
          ]
        }
      ]
    },
    {
      "cell_type": "markdown",
      "metadata": {
        "id": "aRHBdsjoZkpr"
      },
      "source": [
        "Kita dapat mengakses salah satu komponen layaknya mengakses dictionary "
      ]
    },
    {
      "cell_type": "code",
      "metadata": {
        "id": "_bEsillE9-8e",
        "colab": {
          "base_uri": "https://localhost:8080/"
        },
        "outputId": "29bb01cf-4ba2-4b71-d559-814ba3d358ee"
      },
      "source": [
        "# Mengakses komponen DESCR untuk melihat deskripsi dari dataset\n",
        "print(diabetes.DESCR)"
      ],
      "execution_count": null,
      "outputs": [
        {
          "output_type": "stream",
          "name": "stdout",
          "text": [
            ".. _diabetes_dataset:\n",
            "\n",
            "Diabetes dataset\n",
            "----------------\n",
            "\n",
            "Ten baseline variables, age, sex, body mass index, average blood\n",
            "pressure, and six blood serum measurements were obtained for each of n =\n",
            "442 diabetes patients, as well as the response of interest, a\n",
            "quantitative measure of disease progression one year after baseline.\n",
            "\n",
            "**Data Set Characteristics:**\n",
            "\n",
            "  :Number of Instances: 442\n",
            "\n",
            "  :Number of Attributes: First 10 columns are numeric predictive values\n",
            "\n",
            "  :Target: Column 11 is a quantitative measure of disease progression one year after baseline\n",
            "\n",
            "  :Attribute Information:\n",
            "      - age     age in years\n",
            "      - sex\n",
            "      - bmi     body mass index\n",
            "      - bp      average blood pressure\n",
            "      - s1      tc, total serum cholesterol\n",
            "      - s2      ldl, low-density lipoproteins\n",
            "      - s3      hdl, high-density lipoproteins\n",
            "      - s4      tch, total cholesterol / HDL\n",
            "      - s5      ltg, possibly log of serum triglycerides level\n",
            "      - s6      glu, blood sugar level\n",
            "\n",
            "Note: Each of these 10 feature variables have been mean centered and scaled by the standard deviation times `n_samples` (i.e. the sum of squares of each column totals 1).\n",
            "\n",
            "Source URL:\n",
            "https://www4.stat.ncsu.edu/~boos/var.select/diabetes.html\n",
            "\n",
            "For more information see:\n",
            "Bradley Efron, Trevor Hastie, Iain Johnstone and Robert Tibshirani (2004) \"Least Angle Regression,\" Annals of Statistics (with discussion), 407-499.\n",
            "(https://web.stanford.edu/~hastie/Papers/LARS/LeastAngle_2002.pdf)\n"
          ]
        }
      ]
    },
    {
      "cell_type": "markdown",
      "metadata": {
        "id": "L5ZzofIea5Af"
      },
      "source": [
        "Untuk menggunakan dataset tersebut, kita dapat membuat dataframe dari komponen-komponen pada dictionary"
      ]
    },
    {
      "cell_type": "code",
      "metadata": {
        "id": "WHVxMPXw-GAF",
        "colab": {
          "base_uri": "https://localhost:8080/",
          "height": 206
        },
        "outputId": "63f00a6f-eed9-4e88-8869-f4ea1fe2fcb9"
      },
      "source": [
        "# Membuat dataframe dari komponen dataset\n",
        "import pandas as pd\n",
        "\n",
        "df = pd.DataFrame(diabetes.data, columns=diabetes.feature_names)\n",
        "df['target'] = diabetes.target\n",
        "df.head() # melihat 5 baris pertama"
      ],
      "execution_count": null,
      "outputs": [
        {
          "output_type": "execute_result",
          "data": {
            "text/plain": [
              "        age       sex       bmi        bp        s1        s2        s3  \\\n",
              "0  0.038076  0.050680  0.061696  0.021872 -0.044223 -0.034821 -0.043401   \n",
              "1 -0.001882 -0.044642 -0.051474 -0.026328 -0.008449 -0.019163  0.074412   \n",
              "2  0.085299  0.050680  0.044451 -0.005671 -0.045599 -0.034194 -0.032356   \n",
              "3 -0.089063 -0.044642 -0.011595 -0.036656  0.012191  0.024991 -0.036038   \n",
              "4  0.005383 -0.044642 -0.036385  0.021872  0.003935  0.015596  0.008142   \n",
              "\n",
              "         s4        s5        s6  target  \n",
              "0 -0.002592  0.019908 -0.017646   151.0  \n",
              "1 -0.039493 -0.068330 -0.092204    75.0  \n",
              "2 -0.002592  0.002864 -0.025930   141.0  \n",
              "3  0.034309  0.022692 -0.009362   206.0  \n",
              "4 -0.002592 -0.031991 -0.046641   135.0  "
            ],
            "text/html": [
              "\n",
              "  <div id=\"df-8c849c2d-150c-4788-9349-401bb1b4cf1b\">\n",
              "    <div class=\"colab-df-container\">\n",
              "      <div>\n",
              "<style scoped>\n",
              "    .dataframe tbody tr th:only-of-type {\n",
              "        vertical-align: middle;\n",
              "    }\n",
              "\n",
              "    .dataframe tbody tr th {\n",
              "        vertical-align: top;\n",
              "    }\n",
              "\n",
              "    .dataframe thead th {\n",
              "        text-align: right;\n",
              "    }\n",
              "</style>\n",
              "<table border=\"1\" class=\"dataframe\">\n",
              "  <thead>\n",
              "    <tr style=\"text-align: right;\">\n",
              "      <th></th>\n",
              "      <th>age</th>\n",
              "      <th>sex</th>\n",
              "      <th>bmi</th>\n",
              "      <th>bp</th>\n",
              "      <th>s1</th>\n",
              "      <th>s2</th>\n",
              "      <th>s3</th>\n",
              "      <th>s4</th>\n",
              "      <th>s5</th>\n",
              "      <th>s6</th>\n",
              "      <th>target</th>\n",
              "    </tr>\n",
              "  </thead>\n",
              "  <tbody>\n",
              "    <tr>\n",
              "      <th>0</th>\n",
              "      <td>0.038076</td>\n",
              "      <td>0.050680</td>\n",
              "      <td>0.061696</td>\n",
              "      <td>0.021872</td>\n",
              "      <td>-0.044223</td>\n",
              "      <td>-0.034821</td>\n",
              "      <td>-0.043401</td>\n",
              "      <td>-0.002592</td>\n",
              "      <td>0.019908</td>\n",
              "      <td>-0.017646</td>\n",
              "      <td>151.0</td>\n",
              "    </tr>\n",
              "    <tr>\n",
              "      <th>1</th>\n",
              "      <td>-0.001882</td>\n",
              "      <td>-0.044642</td>\n",
              "      <td>-0.051474</td>\n",
              "      <td>-0.026328</td>\n",
              "      <td>-0.008449</td>\n",
              "      <td>-0.019163</td>\n",
              "      <td>0.074412</td>\n",
              "      <td>-0.039493</td>\n",
              "      <td>-0.068330</td>\n",
              "      <td>-0.092204</td>\n",
              "      <td>75.0</td>\n",
              "    </tr>\n",
              "    <tr>\n",
              "      <th>2</th>\n",
              "      <td>0.085299</td>\n",
              "      <td>0.050680</td>\n",
              "      <td>0.044451</td>\n",
              "      <td>-0.005671</td>\n",
              "      <td>-0.045599</td>\n",
              "      <td>-0.034194</td>\n",
              "      <td>-0.032356</td>\n",
              "      <td>-0.002592</td>\n",
              "      <td>0.002864</td>\n",
              "      <td>-0.025930</td>\n",
              "      <td>141.0</td>\n",
              "    </tr>\n",
              "    <tr>\n",
              "      <th>3</th>\n",
              "      <td>-0.089063</td>\n",
              "      <td>-0.044642</td>\n",
              "      <td>-0.011595</td>\n",
              "      <td>-0.036656</td>\n",
              "      <td>0.012191</td>\n",
              "      <td>0.024991</td>\n",
              "      <td>-0.036038</td>\n",
              "      <td>0.034309</td>\n",
              "      <td>0.022692</td>\n",
              "      <td>-0.009362</td>\n",
              "      <td>206.0</td>\n",
              "    </tr>\n",
              "    <tr>\n",
              "      <th>4</th>\n",
              "      <td>0.005383</td>\n",
              "      <td>-0.044642</td>\n",
              "      <td>-0.036385</td>\n",
              "      <td>0.021872</td>\n",
              "      <td>0.003935</td>\n",
              "      <td>0.015596</td>\n",
              "      <td>0.008142</td>\n",
              "      <td>-0.002592</td>\n",
              "      <td>-0.031991</td>\n",
              "      <td>-0.046641</td>\n",
              "      <td>135.0</td>\n",
              "    </tr>\n",
              "  </tbody>\n",
              "</table>\n",
              "</div>\n",
              "      <button class=\"colab-df-convert\" onclick=\"convertToInteractive('df-8c849c2d-150c-4788-9349-401bb1b4cf1b')\"\n",
              "              title=\"Convert this dataframe to an interactive table.\"\n",
              "              style=\"display:none;\">\n",
              "        \n",
              "  <svg xmlns=\"http://www.w3.org/2000/svg\" height=\"24px\"viewBox=\"0 0 24 24\"\n",
              "       width=\"24px\">\n",
              "    <path d=\"M0 0h24v24H0V0z\" fill=\"none\"/>\n",
              "    <path d=\"M18.56 5.44l.94 2.06.94-2.06 2.06-.94-2.06-.94-.94-2.06-.94 2.06-2.06.94zm-11 1L8.5 8.5l.94-2.06 2.06-.94-2.06-.94L8.5 2.5l-.94 2.06-2.06.94zm10 10l.94 2.06.94-2.06 2.06-.94-2.06-.94-.94-2.06-.94 2.06-2.06.94z\"/><path d=\"M17.41 7.96l-1.37-1.37c-.4-.4-.92-.59-1.43-.59-.52 0-1.04.2-1.43.59L10.3 9.45l-7.72 7.72c-.78.78-.78 2.05 0 2.83L4 21.41c.39.39.9.59 1.41.59.51 0 1.02-.2 1.41-.59l7.78-7.78 2.81-2.81c.8-.78.8-2.07 0-2.86zM5.41 20L4 18.59l7.72-7.72 1.47 1.35L5.41 20z\"/>\n",
              "  </svg>\n",
              "      </button>\n",
              "      \n",
              "  <style>\n",
              "    .colab-df-container {\n",
              "      display:flex;\n",
              "      flex-wrap:wrap;\n",
              "      gap: 12px;\n",
              "    }\n",
              "\n",
              "    .colab-df-convert {\n",
              "      background-color: #E8F0FE;\n",
              "      border: none;\n",
              "      border-radius: 50%;\n",
              "      cursor: pointer;\n",
              "      display: none;\n",
              "      fill: #1967D2;\n",
              "      height: 32px;\n",
              "      padding: 0 0 0 0;\n",
              "      width: 32px;\n",
              "    }\n",
              "\n",
              "    .colab-df-convert:hover {\n",
              "      background-color: #E2EBFA;\n",
              "      box-shadow: 0px 1px 2px rgba(60, 64, 67, 0.3), 0px 1px 3px 1px rgba(60, 64, 67, 0.15);\n",
              "      fill: #174EA6;\n",
              "    }\n",
              "\n",
              "    [theme=dark] .colab-df-convert {\n",
              "      background-color: #3B4455;\n",
              "      fill: #D2E3FC;\n",
              "    }\n",
              "\n",
              "    [theme=dark] .colab-df-convert:hover {\n",
              "      background-color: #434B5C;\n",
              "      box-shadow: 0px 1px 3px 1px rgba(0, 0, 0, 0.15);\n",
              "      filter: drop-shadow(0px 1px 2px rgba(0, 0, 0, 0.3));\n",
              "      fill: #FFFFFF;\n",
              "    }\n",
              "  </style>\n",
              "\n",
              "      <script>\n",
              "        const buttonEl =\n",
              "          document.querySelector('#df-8c849c2d-150c-4788-9349-401bb1b4cf1b button.colab-df-convert');\n",
              "        buttonEl.style.display =\n",
              "          google.colab.kernel.accessAllowed ? 'block' : 'none';\n",
              "\n",
              "        async function convertToInteractive(key) {\n",
              "          const element = document.querySelector('#df-8c849c2d-150c-4788-9349-401bb1b4cf1b');\n",
              "          const dataTable =\n",
              "            await google.colab.kernel.invokeFunction('convertToInteractive',\n",
              "                                                     [key], {});\n",
              "          if (!dataTable) return;\n",
              "\n",
              "          const docLinkHtml = 'Like what you see? Visit the ' +\n",
              "            '<a target=\"_blank\" href=https://colab.research.google.com/notebooks/data_table.ipynb>data table notebook</a>'\n",
              "            + ' to learn more about interactive tables.';\n",
              "          element.innerHTML = '';\n",
              "          dataTable['output_type'] = 'display_data';\n",
              "          await google.colab.output.renderOutput(dataTable, element);\n",
              "          const docLink = document.createElement('div');\n",
              "          docLink.innerHTML = docLinkHtml;\n",
              "          element.appendChild(docLink);\n",
              "        }\n",
              "      </script>\n",
              "    </div>\n",
              "  </div>\n",
              "  "
            ]
          },
          "metadata": {},
          "execution_count": 214
        }
      ]
    },
    {
      "cell_type": "markdown",
      "metadata": {
        "id": "LY_dnkzc6qxY"
      },
      "source": [
        "## **Cosine Similarity**"
      ]
    },
    {
      "cell_type": "markdown",
      "metadata": {
        "id": "xwCJnCNp6ycd"
      },
      "source": [
        "Salah satu fungsi dari modul <code>metrics</code> adalah untuk menghitung cosine similarity"
      ]
    },
    {
      "cell_type": "code",
      "metadata": {
        "id": "2iaa2sd63dLQ",
        "colab": {
          "base_uri": "https://localhost:8080/"
        },
        "outputId": "d9d8349c-0231-4532-f0f8-cf52ca4c757c"
      },
      "source": [
        "# Menghitung cosine similarity dari 2 vektor\n",
        "from sklearn.metrics.pairwise import cosine_similarity # import fungsi sklearn yang dibutuhkan\n",
        "import numpy as np\n",
        "\n",
        "vec_1 = np.array([[15,31,10,9,28]])\n",
        "vec_2 = np.array([[35,21,6,7,12]])\n",
        "print(cosine_similarity(vec_1, vec_2))"
      ],
      "execution_count": null,
      "outputs": [
        {
          "output_type": "stream",
          "name": "stdout",
          "text": [
            "[[0.80982829]]\n"
          ]
        }
      ]
    },
    {
      "cell_type": "markdown",
      "metadata": {
        "id": "EyvJ0gtgtdtU"
      },
      "source": [
        "## **Beberapa Modul Scikit-learn Lainnya**\n"
      ]
    },
    {
      "cell_type": "markdown",
      "metadata": {
        "id": "53J2YZPDs5qK"
      },
      "source": [
        "Kita akan banyak menggunakan modul scikit-learn saat membuat model _machine learning_. Berikut beberapa modul yang umum digunakan:\n",
        "\n",
        "| Nama Modul | Kegunaan | \n",
        "| ----------- | --------- | \n",
        "| sklearn.cluster | menerapkan algoritma clustering | \n",
        "| sklearn.covariance | memperkirakan covariance fitur | \n",
        "| sklearn.datasets | memuat dataset populer yang disediakan oleh scikit-learn | \n",
        "| sklearn.decomposition | menerapkan algoritma dekomposisi matriks seperti PCA |\n",
        "| sklearn.ensemble | menerapkan beberapa algoritma untuk klasifikasi dan regresi |\n",
        "| sklearn.feature_extraction | mengekstrak fitur dari raw data |\n",
        "| sklearn.feature_selection | menerapkan algoritma seleksi fitur |\n",
        "| sklearn.linear_model | menerapkan beberapa macam model linear |\n",
        "| sklearn.metrics | menghitung performa model dengan berbagai macam metric |\n",
        "| sklearn.model_selection | menerapkan cross-validation |\n",
        "| sklearn.naive_bayes | menerapkan algoritma Naive Bayes untuk klasifikasi |\n",
        "| sklearn.neighbors | menerapkan algo KNN |\n",
        "| sklearn.pipeline | menerapkan beberapa langkah pembuatan model di dalam satu pipeline |\n",
        "| sklearn.preprocessing | melakukan label-encoding, scaling, normalisasi, dan beberapa preprocessing lainnya | \n",
        "| sklearn.svm | menerapkan algo Support Vector Machine |\n",
        "| sklearn.tree | menerapkan algo Decision Tree |\n",
        "\n",
        "\n",
        "Selengkapnya dapat dilihat pada [dokumentasi modul scikit-learn](https://scikit-learn.org/stable/modules/classes.html). Pembahasan mengenai scikit-learn akan lebih lanjut dijelaskan pada sesi tutorial pada minggu keempat perkuliahan KASDD."
      ]
    },
    {
      "cell_type": "markdown",
      "metadata": {
        "id": "AXpgTCicbpKu"
      },
      "source": [
        "## **Pertanyaan Scikit-learn**"
      ]
    },
    {
      "cell_type": "markdown",
      "metadata": {
        "id": "_zaAa7NRc8qU"
      },
      "source": [
        "Jawab pertanyaan pada _cell_ di bawah _cell_ pertanyaan. Jawaban boleh lebih dari 1 _cell_ dan juga kombinasi antara _cell_ kode atau _markdown_ jika memang diperlukan."
      ]
    },
    {
      "cell_type": "markdown",
      "source": [
        "### **Nomor 1**"
      ],
      "metadata": {
        "id": "a-n7Edv8qPBc"
      }
    },
    {
      "cell_type": "code",
      "metadata": {
        "id": "W15Az4d0f_R8"
      },
      "source": [
        "X = [[8, 3], [6, 1]]\n",
        "Y = [[0, 9], [4, 3]]\n",
        "Z = [[1, 7], [2, 3]]"
      ],
      "execution_count": null,
      "outputs": []
    },
    {
      "cell_type": "markdown",
      "metadata": {
        "id": "kHz_tQGodF8t"
      },
      "source": [
        "1. Terdapat 3 matrix, X, Y dan Z, seperti di atas. **Hitunglah jarak cosine dan jarak haversine** pada ketiga matrix tersebut (X dengan Z, X dengan Y, Y dengan Z) menggunakan modul dari scikit-learn!"
      ]
    },
    {
      "cell_type": "code",
      "metadata": {
        "id": "tdEuQ_FXlWJ1",
        "colab": {
          "base_uri": "https://localhost:8080/"
        },
        "outputId": "7e6a22e5-d33a-4d92-8739-ca68824643bb"
      },
      "source": [
        "# Jawaban no. 1\n",
        "from sklearn.metrics.pairwise import cosine_distances\n",
        "\n",
        "# cosine\n",
        "print(cosine_distances(X, Z))\n",
        "print(cosine_distances(X, Y))\n",
        "print(cosine_distances(Y, Z))"
      ],
      "execution_count": null,
      "outputs": [
        {
          "output_type": "stream",
          "name": "stdout",
          "text": [
            "[[0.51998858 0.18846566]\n",
            " [0.69775614 0.31605887]]\n",
            "[[0.64887656 0.04026259]\n",
            " [0.83560101 0.11224547]]\n",
            "[[0.01005051 0.16794971]\n",
            " [0.29289322 0.05700967]]\n"
          ]
        }
      ]
    },
    {
      "cell_type": "code",
      "source": [
        "from sklearn.metrics.pairwise import haversine_distances\n",
        "\n",
        "# haversine\n",
        "print(haversine_distances(X, Z))\n",
        "print(haversine_distances(X, Y))\n",
        "print(haversine_distances(Y, Z))"
      ],
      "metadata": {
        "colab": {
          "base_uri": "https://localhost:8080/"
        },
        "id": "sxt-uzSLrOLy",
        "outputId": "ec507008-cf58-4a6b-dc71-c9669980fb6f"
      },
      "execution_count": null,
      "outputs": [
        {
          "output_type": "stream",
          "name": "stdout",
          "text": [
            "[[0.48665578 0.28318531]\n",
            " [1.30466676 1.65870073]]\n",
            "[[1.71095962 2.28318531]\n",
            " [1.71095962 1.07851231]]\n",
            "[[1.79758038 1.98184605]\n",
            " [1.98885074 2.        ]]\n"
          ]
        }
      ]
    },
    {
      "cell_type": "markdown",
      "source": [
        "### **Nomor 2**"
      ],
      "metadata": {
        "id": "7Seqnq9XqQrD"
      }
    },
    {
      "cell_type": "markdown",
      "source": [
        "2. Load dataset iris menggunakan modul dari scikit-learn dan tampilkan nama kelas dan fitur-fitur yang ada pada dataset tersebut!"
      ],
      "metadata": {
        "id": "akhx_IHNEiLP"
      }
    },
    {
      "cell_type": "code",
      "source": [
        "# Jawaban no. 2\n",
        "from sklearn.datasets import load_iris\n",
        "\n",
        "iris = load_iris()\n",
        "print('nama kelas:', iris.target_names)\n",
        "print('nama fitur:', iris.feature_names)"
      ],
      "metadata": {
        "id": "LMX-KSUgrnjD",
        "colab": {
          "base_uri": "https://localhost:8080/"
        },
        "outputId": "5212fbe6-4a08-46cb-8b52-67589953c3b4"
      },
      "execution_count": null,
      "outputs": [
        {
          "output_type": "stream",
          "name": "stdout",
          "text": [
            "nama kelas: ['setosa' 'versicolor' 'virginica']\n",
            "nama fitur: ['sepal length (cm)', 'sepal width (cm)', 'petal length (cm)', 'petal width (cm)']\n"
          ]
        }
      ]
    },
    {
      "cell_type": "markdown",
      "source": [
        "---\n",
        "# **Selamat kalian telah menyelesaikan Lab 1 KASDD Genap 2022/2023! ^_^**"
      ],
      "metadata": {
        "id": "QhHlRRAWrykz"
      }
    }
  ]
}