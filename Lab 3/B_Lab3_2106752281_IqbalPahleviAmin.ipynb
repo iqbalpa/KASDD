{
  "nbformat": 4,
  "nbformat_minor": 0,
  "metadata": {
    "colab": {
      "provenance": []
    },
    "kernelspec": {
      "name": "python3",
      "display_name": "Python 3"
    },
    "language_info": {
      "name": "python"
    },
    "accelerator": "GPU",
    "gpuClass": "standard"
  },
  "cells": [
    {
      "cell_type": "markdown",
      "source": [
        "<center>\n",
        "<img src=\"https://drive.google.com/uc?id=1f1gGVI-rxcHjA90WEGNvvtSXF1pAxQwg\" alt=\"Fasilkom UI\" width=\"300\"/>\n",
        "\n",
        "CSGE603130 • Kecerdasan Artifisial dan Sains Data Dasar\n",
        "\n",
        "Semester Genap 2022/2023\n",
        "\n",
        "Fakultas Ilmu Komputer, Universitas Indonesia\n",
        "\n",
        "##**Lab 3: *Data preparation, dimensionality reduction***\n",
        "\n",
        "###**Tenggat Waktu: 4 Maret 2023, 23.55 WIB**\n",
        "</center>\n",
        "\n",
        "####**Ketentuan:**\n",
        "\n",
        "1. Dokumen *template* lab dengan format .ipynb dan dataset (jika dibutuhkan) telah disediakan di SCeLe\n",
        "2. Jalankan kode pada dokumen .ipynb dan perhatikan dengan saksama apa yang potongan kode tersebut lakukan beserta dengan keluarannya. Jawablah **pertanyaan yang disisipkan** pada potongan program yang diberikan.\n",
        "3. Dokumen Jupyter Notebook yang telah dilengkapi dengan jawaban dikumpulkan dengan format penamaan **Kelas_LabX_NPM_Nama.ipynb**. Contoh: A_Lab2_2006123456_Budi.ipynb\n",
        "4. Kumpulkan dokumen tersebut pada submisi yang telah disediakan di SCeLe sesuai dengan kelas masing-masing sebelum **4 Maret 2023, 23.55 WIB**. Keterlambatan pengumpulan akan dikenakan pinalti.\n",
        "5. Lab ini dirancang sebagai **tugas mandiri**. Plagiarisme tidak diperkenankan dalam bentuk apapun. Adapun kolaborasi berupa diskusi (tanpa menyalin maupun mengambil jawaban orang lain) dan literasi masih diperbolehkan dengan mencantumkan kolaborator dan sumber."
      ],
      "metadata": {
        "id": "WUZG_nRdFxvx"
      }
    },
    {
      "cell_type": "markdown",
      "source": [
        "## **Pernyataan Integritas**\n",
        "\n",
        "Wajib diisi. Tanpa pernyataan integritas submisi akan dikenakan penalti."
      ],
      "metadata": {
        "id": "JhqIqJ9fGBuQ"
      }
    },
    {
      "cell_type": "code",
      "source": [
        "# Isi dengan data diri Anda\n",
        "NAMA = \"IQBAL PAHLEVI AMIN\"\n",
        "KELAS = \"KASDD - B\"\n",
        "NPM = \"2106752281\"\n",
        "\n",
        "# Isi dengan NPM teman yang berdiskusi dengan Anda\n",
        "KOLABORATOR = []\n",
        "\n",
        "# Isi dengan sumber referensi yang Anda gunakan dalam mengerjakan\n",
        "REFERENSI = [\n",
        "    \"https://analyticsindiamag.com/how-to-detect-and-treat-outliers-in-categorical-data/\",\n",
        "    'PPT PCA'\n",
        "]"
      ],
      "metadata": {
        "id": "4caW-MfaGFC9"
      },
      "execution_count": null,
      "outputs": []
    },
    {
      "cell_type": "code",
      "source": [
        "PERNYATAAN_INTEGRITAS = \"Saya, %s dari kelas %s dengan NPM %s, menyatakan bahwa seluruh jawaban pada pekerjaan ini murni saya kerjakan sendiri.\\n\\\n",
        "Saya tidak mencontek jawaban, memberikan jawaban, maupun menyalin dari sumber manapun.\\n \\\n",
        "\\n\\\n",
        "Jika saya melanggar pernyataan tersebut, saya siap menerima konsekuensi apapun yang diberikan.\\n   \\\n",
        "(%s)\" % (NAMA, KELAS, NPM, NAMA)\n",
        "\n",
        "print(PERNYATAAN_INTEGRITAS)"
      ],
      "metadata": {
        "id": "DXkVhudxGIWz",
        "colab": {
          "base_uri": "https://localhost:8080/"
        },
        "outputId": "4972aff2-337b-4894-8e4c-dd90b263754b"
      },
      "execution_count": null,
      "outputs": [
        {
          "output_type": "stream",
          "name": "stdout",
          "text": [
            "Saya, IQBAL PAHLEVI AMIN dari kelas KASDD - B dengan NPM 2106752281, menyatakan bahwa seluruh jawaban pada pekerjaan ini murni saya kerjakan sendiri.\n",
            "Saya tidak mencontek jawaban, memberikan jawaban, maupun menyalin dari sumber manapun.\n",
            " \n",
            "Jika saya melanggar pernyataan tersebut, saya siap menerima konsekuensi apapun yang diberikan.\n",
            "   (IQBAL PAHLEVI AMIN)\n"
          ]
        }
      ]
    },
    {
      "cell_type": "markdown",
      "source": [
        "# Data Preprocessing "
      ],
      "metadata": {
        "id": "SjjwLBzhGLqZ"
      }
    },
    {
      "cell_type": "markdown",
      "source": [
        "*Data Preparation* atau *data preprocessing* adalah suatu proses **pembersihan dan transformasi** pada *raw data* **sebelum** diproses dan dianalisis oleh model Machine Learning. Pernah dengar ungkapan \"Garbage In - Garbage Out?\", dalam konteks Machine Learning, jika input data yang kita miliki buruk maka hasil pengolahan data pun akan buruk. *Data Preprocessing* dilakukan agar data input sudah berupa data yang akurat dan berkualitas sehingga hasil yang dikeluarkan oleh model bisa optimal. \n"
      ],
      "metadata": {
        "id": "0kC6kJ9vH311"
      }
    },
    {
      "cell_type": "markdown",
      "source": [
        "## Deskripsi Dataset"
      ],
      "metadata": {
        "id": "frCpvyCIGXlr"
      }
    },
    {
      "cell_type": "markdown",
      "source": [
        "Latihan ini menggunakan Dataset mengenai kualitas air dari berbagai region dengan total 2508 baris beserta penjelasan atribut sebagai berikut:\n",
        "\n",
        "\n",
        "*  `pH` : Indikator asam dan basa dalam air (*range* : 1 - 14)\n",
        "*  `Hardness` : Kapasitas air untuk mengendapkan sabun (mg/L) \n",
        "*  `Solids` : Total dissolved solids (ppm) \n",
        "*  `Chloramines` : Jumlah Chloramines (ppm)\n",
        "*  `Sulfate` : Jumlah Sulfates terlarut (mg/L)\n",
        "*  `Conductivity` : Konduktivitas elektrik dalam air (μS/cm)\n",
        "*  `Organic_carbon` : Jumlah karbon organik (ppm) \n",
        "*  `Trihalomethanes` : Jumlah Trihalomethanes (μg/L)\n",
        "*  `Turbidity` : Ukuran properti pemancar cahaya air (NTU)\n",
        "*  `Potability` : Mengindikasikan apakah air tersebut aman untuk diminum (*potable*, nilai 1) atau tidak aman diminum (*not potable*, nilai 2)\n",
        "\n",
        "Sumber dataset: https://www.kaggle.com/datasets/adityakadiwal/water-potability dengan perubahan"
      ],
      "metadata": {
        "id": "Cpop8myBpORl"
      }
    },
    {
      "cell_type": "code",
      "source": [
        "# Import semua library yang dibutuhkan\n",
        "import pandas as pd\n",
        "import numpy as np\n",
        "\n",
        "import matplotlib.pyplot as plt\n",
        "import seaborn as sns\n",
        "import scipy.stats as scp\n",
        "\n",
        "from sklearn.preprocessing import LabelEncoder, Normalizer, StandardScaler, MinMaxScaler"
      ],
      "metadata": {
        "id": "mqNAfAw_osPe"
      },
      "execution_count": null,
      "outputs": []
    },
    {
      "cell_type": "code",
      "source": [
        "# Import dataset \n",
        "water_df = pd.read_csv('water_potability.csv')"
      ],
      "metadata": {
        "id": "VJr0pZ-Uh_0t"
      },
      "execution_count": null,
      "outputs": []
    },
    {
      "cell_type": "code",
      "source": [
        "# Melihat shape dari dataframe\n",
        "total_rows, total_attributes = water_df.shape\n",
        "print('Jumlah data:', total_rows)\n",
        "print(\"Jumlah atribut:\", total_attributes)\n",
        "\n",
        "# Melihat 5 elemen pertama dari dataset\n",
        "water_df.head()"
      ],
      "metadata": {
        "colab": {
          "base_uri": "https://localhost:8080/",
          "height": 241
        },
        "id": "xwu1qbl3o7Bc",
        "outputId": "ae9d2509-38bc-496f-b547-e5fe37f7e752"
      },
      "execution_count": null,
      "outputs": [
        {
          "output_type": "stream",
          "name": "stdout",
          "text": [
            "Jumlah data: 2508\n",
            "Jumlah atribut: 11\n"
          ]
        },
        {
          "output_type": "execute_result",
          "data": {
            "text/plain": [
              "         ph    Hardness       Solids  Chloramines     Sulfate  Conductivity  \\\n",
              "0       NaN  204.890456  20791.31898     7.300212  368.516441    564.308654   \n",
              "1  3.716080  129.422921  18630.05786     6.635246         NaN    592.885359   \n",
              "2  8.099124  224.236259  19909.54173     9.275884         NaN    418.606213   \n",
              "3  8.316766  214.373394  22018.41744     8.059332  356.886136    363.266516   \n",
              "4  9.092223  181.101509  17978.98634     6.546600  310.135738    398.410813   \n",
              "\n",
              "   Organic_carbon  Trihalomethanes  Turbidity  Unnamed  Potability  \n",
              "0       10.379783        86.990970   2.963135      NaN           2  \n",
              "1       15.180013        56.329076   4.500656      NaN           2  \n",
              "2       16.868637        66.420093   3.055934      NaN           2  \n",
              "3       18.436525       100.341674   4.628771      NaN           2  \n",
              "4       11.558279        31.997993   4.075075      NaN           2  "
            ],
            "text/html": [
              "\n",
              "  <div id=\"df-6f157b6b-0fa3-4e93-969a-e87b6e6d6e21\">\n",
              "    <div class=\"colab-df-container\">\n",
              "      <div>\n",
              "<style scoped>\n",
              "    .dataframe tbody tr th:only-of-type {\n",
              "        vertical-align: middle;\n",
              "    }\n",
              "\n",
              "    .dataframe tbody tr th {\n",
              "        vertical-align: top;\n",
              "    }\n",
              "\n",
              "    .dataframe thead th {\n",
              "        text-align: right;\n",
              "    }\n",
              "</style>\n",
              "<table border=\"1\" class=\"dataframe\">\n",
              "  <thead>\n",
              "    <tr style=\"text-align: right;\">\n",
              "      <th></th>\n",
              "      <th>ph</th>\n",
              "      <th>Hardness</th>\n",
              "      <th>Solids</th>\n",
              "      <th>Chloramines</th>\n",
              "      <th>Sulfate</th>\n",
              "      <th>Conductivity</th>\n",
              "      <th>Organic_carbon</th>\n",
              "      <th>Trihalomethanes</th>\n",
              "      <th>Turbidity</th>\n",
              "      <th>Unnamed</th>\n",
              "      <th>Potability</th>\n",
              "    </tr>\n",
              "  </thead>\n",
              "  <tbody>\n",
              "    <tr>\n",
              "      <th>0</th>\n",
              "      <td>NaN</td>\n",
              "      <td>204.890456</td>\n",
              "      <td>20791.31898</td>\n",
              "      <td>7.300212</td>\n",
              "      <td>368.516441</td>\n",
              "      <td>564.308654</td>\n",
              "      <td>10.379783</td>\n",
              "      <td>86.990970</td>\n",
              "      <td>2.963135</td>\n",
              "      <td>NaN</td>\n",
              "      <td>2</td>\n",
              "    </tr>\n",
              "    <tr>\n",
              "      <th>1</th>\n",
              "      <td>3.716080</td>\n",
              "      <td>129.422921</td>\n",
              "      <td>18630.05786</td>\n",
              "      <td>6.635246</td>\n",
              "      <td>NaN</td>\n",
              "      <td>592.885359</td>\n",
              "      <td>15.180013</td>\n",
              "      <td>56.329076</td>\n",
              "      <td>4.500656</td>\n",
              "      <td>NaN</td>\n",
              "      <td>2</td>\n",
              "    </tr>\n",
              "    <tr>\n",
              "      <th>2</th>\n",
              "      <td>8.099124</td>\n",
              "      <td>224.236259</td>\n",
              "      <td>19909.54173</td>\n",
              "      <td>9.275884</td>\n",
              "      <td>NaN</td>\n",
              "      <td>418.606213</td>\n",
              "      <td>16.868637</td>\n",
              "      <td>66.420093</td>\n",
              "      <td>3.055934</td>\n",
              "      <td>NaN</td>\n",
              "      <td>2</td>\n",
              "    </tr>\n",
              "    <tr>\n",
              "      <th>3</th>\n",
              "      <td>8.316766</td>\n",
              "      <td>214.373394</td>\n",
              "      <td>22018.41744</td>\n",
              "      <td>8.059332</td>\n",
              "      <td>356.886136</td>\n",
              "      <td>363.266516</td>\n",
              "      <td>18.436525</td>\n",
              "      <td>100.341674</td>\n",
              "      <td>4.628771</td>\n",
              "      <td>NaN</td>\n",
              "      <td>2</td>\n",
              "    </tr>\n",
              "    <tr>\n",
              "      <th>4</th>\n",
              "      <td>9.092223</td>\n",
              "      <td>181.101509</td>\n",
              "      <td>17978.98634</td>\n",
              "      <td>6.546600</td>\n",
              "      <td>310.135738</td>\n",
              "      <td>398.410813</td>\n",
              "      <td>11.558279</td>\n",
              "      <td>31.997993</td>\n",
              "      <td>4.075075</td>\n",
              "      <td>NaN</td>\n",
              "      <td>2</td>\n",
              "    </tr>\n",
              "  </tbody>\n",
              "</table>\n",
              "</div>\n",
              "      <button class=\"colab-df-convert\" onclick=\"convertToInteractive('df-6f157b6b-0fa3-4e93-969a-e87b6e6d6e21')\"\n",
              "              title=\"Convert this dataframe to an interactive table.\"\n",
              "              style=\"display:none;\">\n",
              "        \n",
              "  <svg xmlns=\"http://www.w3.org/2000/svg\" height=\"24px\"viewBox=\"0 0 24 24\"\n",
              "       width=\"24px\">\n",
              "    <path d=\"M0 0h24v24H0V0z\" fill=\"none\"/>\n",
              "    <path d=\"M18.56 5.44l.94 2.06.94-2.06 2.06-.94-2.06-.94-.94-2.06-.94 2.06-2.06.94zm-11 1L8.5 8.5l.94-2.06 2.06-.94-2.06-.94L8.5 2.5l-.94 2.06-2.06.94zm10 10l.94 2.06.94-2.06 2.06-.94-2.06-.94-.94-2.06-.94 2.06-2.06.94z\"/><path d=\"M17.41 7.96l-1.37-1.37c-.4-.4-.92-.59-1.43-.59-.52 0-1.04.2-1.43.59L10.3 9.45l-7.72 7.72c-.78.78-.78 2.05 0 2.83L4 21.41c.39.39.9.59 1.41.59.51 0 1.02-.2 1.41-.59l7.78-7.78 2.81-2.81c.8-.78.8-2.07 0-2.86zM5.41 20L4 18.59l7.72-7.72 1.47 1.35L5.41 20z\"/>\n",
              "  </svg>\n",
              "      </button>\n",
              "      \n",
              "  <style>\n",
              "    .colab-df-container {\n",
              "      display:flex;\n",
              "      flex-wrap:wrap;\n",
              "      gap: 12px;\n",
              "    }\n",
              "\n",
              "    .colab-df-convert {\n",
              "      background-color: #E8F0FE;\n",
              "      border: none;\n",
              "      border-radius: 50%;\n",
              "      cursor: pointer;\n",
              "      display: none;\n",
              "      fill: #1967D2;\n",
              "      height: 32px;\n",
              "      padding: 0 0 0 0;\n",
              "      width: 32px;\n",
              "    }\n",
              "\n",
              "    .colab-df-convert:hover {\n",
              "      background-color: #E2EBFA;\n",
              "      box-shadow: 0px 1px 2px rgba(60, 64, 67, 0.3), 0px 1px 3px 1px rgba(60, 64, 67, 0.15);\n",
              "      fill: #174EA6;\n",
              "    }\n",
              "\n",
              "    [theme=dark] .colab-df-convert {\n",
              "      background-color: #3B4455;\n",
              "      fill: #D2E3FC;\n",
              "    }\n",
              "\n",
              "    [theme=dark] .colab-df-convert:hover {\n",
              "      background-color: #434B5C;\n",
              "      box-shadow: 0px 1px 3px 1px rgba(0, 0, 0, 0.15);\n",
              "      filter: drop-shadow(0px 1px 2px rgba(0, 0, 0, 0.3));\n",
              "      fill: #FFFFFF;\n",
              "    }\n",
              "  </style>\n",
              "\n",
              "      <script>\n",
              "        const buttonEl =\n",
              "          document.querySelector('#df-6f157b6b-0fa3-4e93-969a-e87b6e6d6e21 button.colab-df-convert');\n",
              "        buttonEl.style.display =\n",
              "          google.colab.kernel.accessAllowed ? 'block' : 'none';\n",
              "\n",
              "        async function convertToInteractive(key) {\n",
              "          const element = document.querySelector('#df-6f157b6b-0fa3-4e93-969a-e87b6e6d6e21');\n",
              "          const dataTable =\n",
              "            await google.colab.kernel.invokeFunction('convertToInteractive',\n",
              "                                                     [key], {});\n",
              "          if (!dataTable) return;\n",
              "\n",
              "          const docLinkHtml = 'Like what you see? Visit the ' +\n",
              "            '<a target=\"_blank\" href=https://colab.research.google.com/notebooks/data_table.ipynb>data table notebook</a>'\n",
              "            + ' to learn more about interactive tables.';\n",
              "          element.innerHTML = '';\n",
              "          dataTable['output_type'] = 'display_data';\n",
              "          await google.colab.output.renderOutput(dataTable, element);\n",
              "          const docLink = document.createElement('div');\n",
              "          docLink.innerHTML = docLinkHtml;\n",
              "          element.appendChild(docLink);\n",
              "        }\n",
              "      </script>\n",
              "    </div>\n",
              "  </div>\n",
              "  "
            ]
          },
          "metadata": {},
          "execution_count": 72
        }
      ]
    },
    {
      "cell_type": "markdown",
      "source": [
        "*   Kita dapat melihat bahwa terdapat 2508 dengan 11 atribut, yaitu 10 atribut input dan 1 atibut output \n",
        "*   Terdapat beberapa NaN values yang terlihat pada 5 baris pertama\n",
        "\n"
      ],
      "metadata": {
        "id": "BBtGuHAQLSB0"
      }
    },
    {
      "cell_type": "code",
      "source": [
        "# Melihat kolom-kolom pada dataframe\n",
        "water_df.info()"
      ],
      "metadata": {
        "colab": {
          "base_uri": "https://localhost:8080/"
        },
        "id": "QtNLk-C7tYQe",
        "outputId": "86eb2d8f-fb9c-4e82-dbf5-ec2a6b661122"
      },
      "execution_count": null,
      "outputs": [
        {
          "output_type": "stream",
          "name": "stdout",
          "text": [
            "<class 'pandas.core.frame.DataFrame'>\n",
            "RangeIndex: 2508 entries, 0 to 2507\n",
            "Data columns (total 11 columns):\n",
            " #   Column           Non-Null Count  Dtype  \n",
            "---  ------           --------------  -----  \n",
            " 0   ph               2120 non-null   float64\n",
            " 1   Hardness         2508 non-null   float64\n",
            " 2   Solids           2508 non-null   float64\n",
            " 3   Chloramines      2508 non-null   float64\n",
            " 4   Sulfate          1902 non-null   float64\n",
            " 5   Conductivity     2508 non-null   float64\n",
            " 6   Organic_carbon   2508 non-null   float64\n",
            " 7   Trihalomethanes  2382 non-null   float64\n",
            " 8   Turbidity        2508 non-null   float64\n",
            " 9   Unnamed          0 non-null      float64\n",
            " 10  Potability       2508 non-null   int64  \n",
            "dtypes: float64(10), int64(1)\n",
            "memory usage: 215.7 KB\n"
          ]
        }
      ]
    },
    {
      "cell_type": "code",
      "source": [
        "#Melihat deskripsi statistik dataframe\n",
        "#water_df.drop('Potability', axis=1).describe()\n",
        "water_df.describe()"
      ],
      "metadata": {
        "colab": {
          "base_uri": "https://localhost:8080/",
          "height": 300
        },
        "id": "YBr9AcGhtdpj",
        "outputId": "6234e504-a046-4c30-e280-3ea40aaef44d"
      },
      "execution_count": null,
      "outputs": [
        {
          "output_type": "execute_result",
          "data": {
            "text/plain": [
              "                ph     Hardness        Solids  Chloramines      Sulfate  \\\n",
              "count  2120.000000  2508.000000   2508.000000  2508.000000  1902.000000   \n",
              "mean      7.072357   196.184162  21865.656807     7.105380   335.445493   \n",
              "std       1.640909    31.683505   8457.596593     1.531576    39.658018   \n",
              "min       0.000000    97.280909    320.942611     1.390871   129.000000   \n",
              "25%       6.052868   177.195106  15796.399700     6.185621   310.583713   \n",
              "50%       7.025663   196.778920  20866.335845     7.105225   333.583132   \n",
              "75%       8.115830   216.016872  27093.667258     8.067799   359.246947   \n",
              "max      14.000000   317.338124  61227.196010    12.653362   481.030642   \n",
              "\n",
              "       Conductivity  Organic_carbon  Trihalomethanes    Turbidity  Unnamed  \\\n",
              "count   2508.000000     2508.000000      2382.000000  2508.000000      0.0   \n",
              "mean     425.506064       14.353307        66.205995     3.962576      NaN   \n",
              "std       80.280866        3.318000        15.996036     0.783669      NaN   \n",
              "min      181.483754        4.371899         2.738000     1.450000      NaN   \n",
              "25%      366.446965       12.118659        55.607074     3.437822      NaN   \n",
              "50%      421.258539       14.250495        66.329410     3.941522      NaN   \n",
              "75%      481.223518       16.619029        77.196182     4.498256      NaN   \n",
              "max      753.342620       28.300000       124.000000     6.739000      NaN   \n",
              "\n",
              "        Potability  \n",
              "count  2508.000000  \n",
              "mean      1.835726  \n",
              "std       0.370598  \n",
              "min       1.000000  \n",
              "25%       2.000000  \n",
              "50%       2.000000  \n",
              "75%       2.000000  \n",
              "max       2.000000  "
            ],
            "text/html": [
              "\n",
              "  <div id=\"df-8a2135a0-2313-46ab-9a9b-737717a5a290\">\n",
              "    <div class=\"colab-df-container\">\n",
              "      <div>\n",
              "<style scoped>\n",
              "    .dataframe tbody tr th:only-of-type {\n",
              "        vertical-align: middle;\n",
              "    }\n",
              "\n",
              "    .dataframe tbody tr th {\n",
              "        vertical-align: top;\n",
              "    }\n",
              "\n",
              "    .dataframe thead th {\n",
              "        text-align: right;\n",
              "    }\n",
              "</style>\n",
              "<table border=\"1\" class=\"dataframe\">\n",
              "  <thead>\n",
              "    <tr style=\"text-align: right;\">\n",
              "      <th></th>\n",
              "      <th>ph</th>\n",
              "      <th>Hardness</th>\n",
              "      <th>Solids</th>\n",
              "      <th>Chloramines</th>\n",
              "      <th>Sulfate</th>\n",
              "      <th>Conductivity</th>\n",
              "      <th>Organic_carbon</th>\n",
              "      <th>Trihalomethanes</th>\n",
              "      <th>Turbidity</th>\n",
              "      <th>Unnamed</th>\n",
              "      <th>Potability</th>\n",
              "    </tr>\n",
              "  </thead>\n",
              "  <tbody>\n",
              "    <tr>\n",
              "      <th>count</th>\n",
              "      <td>2120.000000</td>\n",
              "      <td>2508.000000</td>\n",
              "      <td>2508.000000</td>\n",
              "      <td>2508.000000</td>\n",
              "      <td>1902.000000</td>\n",
              "      <td>2508.000000</td>\n",
              "      <td>2508.000000</td>\n",
              "      <td>2382.000000</td>\n",
              "      <td>2508.000000</td>\n",
              "      <td>0.0</td>\n",
              "      <td>2508.000000</td>\n",
              "    </tr>\n",
              "    <tr>\n",
              "      <th>mean</th>\n",
              "      <td>7.072357</td>\n",
              "      <td>196.184162</td>\n",
              "      <td>21865.656807</td>\n",
              "      <td>7.105380</td>\n",
              "      <td>335.445493</td>\n",
              "      <td>425.506064</td>\n",
              "      <td>14.353307</td>\n",
              "      <td>66.205995</td>\n",
              "      <td>3.962576</td>\n",
              "      <td>NaN</td>\n",
              "      <td>1.835726</td>\n",
              "    </tr>\n",
              "    <tr>\n",
              "      <th>std</th>\n",
              "      <td>1.640909</td>\n",
              "      <td>31.683505</td>\n",
              "      <td>8457.596593</td>\n",
              "      <td>1.531576</td>\n",
              "      <td>39.658018</td>\n",
              "      <td>80.280866</td>\n",
              "      <td>3.318000</td>\n",
              "      <td>15.996036</td>\n",
              "      <td>0.783669</td>\n",
              "      <td>NaN</td>\n",
              "      <td>0.370598</td>\n",
              "    </tr>\n",
              "    <tr>\n",
              "      <th>min</th>\n",
              "      <td>0.000000</td>\n",
              "      <td>97.280909</td>\n",
              "      <td>320.942611</td>\n",
              "      <td>1.390871</td>\n",
              "      <td>129.000000</td>\n",
              "      <td>181.483754</td>\n",
              "      <td>4.371899</td>\n",
              "      <td>2.738000</td>\n",
              "      <td>1.450000</td>\n",
              "      <td>NaN</td>\n",
              "      <td>1.000000</td>\n",
              "    </tr>\n",
              "    <tr>\n",
              "      <th>25%</th>\n",
              "      <td>6.052868</td>\n",
              "      <td>177.195106</td>\n",
              "      <td>15796.399700</td>\n",
              "      <td>6.185621</td>\n",
              "      <td>310.583713</td>\n",
              "      <td>366.446965</td>\n",
              "      <td>12.118659</td>\n",
              "      <td>55.607074</td>\n",
              "      <td>3.437822</td>\n",
              "      <td>NaN</td>\n",
              "      <td>2.000000</td>\n",
              "    </tr>\n",
              "    <tr>\n",
              "      <th>50%</th>\n",
              "      <td>7.025663</td>\n",
              "      <td>196.778920</td>\n",
              "      <td>20866.335845</td>\n",
              "      <td>7.105225</td>\n",
              "      <td>333.583132</td>\n",
              "      <td>421.258539</td>\n",
              "      <td>14.250495</td>\n",
              "      <td>66.329410</td>\n",
              "      <td>3.941522</td>\n",
              "      <td>NaN</td>\n",
              "      <td>2.000000</td>\n",
              "    </tr>\n",
              "    <tr>\n",
              "      <th>75%</th>\n",
              "      <td>8.115830</td>\n",
              "      <td>216.016872</td>\n",
              "      <td>27093.667258</td>\n",
              "      <td>8.067799</td>\n",
              "      <td>359.246947</td>\n",
              "      <td>481.223518</td>\n",
              "      <td>16.619029</td>\n",
              "      <td>77.196182</td>\n",
              "      <td>4.498256</td>\n",
              "      <td>NaN</td>\n",
              "      <td>2.000000</td>\n",
              "    </tr>\n",
              "    <tr>\n",
              "      <th>max</th>\n",
              "      <td>14.000000</td>\n",
              "      <td>317.338124</td>\n",
              "      <td>61227.196010</td>\n",
              "      <td>12.653362</td>\n",
              "      <td>481.030642</td>\n",
              "      <td>753.342620</td>\n",
              "      <td>28.300000</td>\n",
              "      <td>124.000000</td>\n",
              "      <td>6.739000</td>\n",
              "      <td>NaN</td>\n",
              "      <td>2.000000</td>\n",
              "    </tr>\n",
              "  </tbody>\n",
              "</table>\n",
              "</div>\n",
              "      <button class=\"colab-df-convert\" onclick=\"convertToInteractive('df-8a2135a0-2313-46ab-9a9b-737717a5a290')\"\n",
              "              title=\"Convert this dataframe to an interactive table.\"\n",
              "              style=\"display:none;\">\n",
              "        \n",
              "  <svg xmlns=\"http://www.w3.org/2000/svg\" height=\"24px\"viewBox=\"0 0 24 24\"\n",
              "       width=\"24px\">\n",
              "    <path d=\"M0 0h24v24H0V0z\" fill=\"none\"/>\n",
              "    <path d=\"M18.56 5.44l.94 2.06.94-2.06 2.06-.94-2.06-.94-.94-2.06-.94 2.06-2.06.94zm-11 1L8.5 8.5l.94-2.06 2.06-.94-2.06-.94L8.5 2.5l-.94 2.06-2.06.94zm10 10l.94 2.06.94-2.06 2.06-.94-2.06-.94-.94-2.06-.94 2.06-2.06.94z\"/><path d=\"M17.41 7.96l-1.37-1.37c-.4-.4-.92-.59-1.43-.59-.52 0-1.04.2-1.43.59L10.3 9.45l-7.72 7.72c-.78.78-.78 2.05 0 2.83L4 21.41c.39.39.9.59 1.41.59.51 0 1.02-.2 1.41-.59l7.78-7.78 2.81-2.81c.8-.78.8-2.07 0-2.86zM5.41 20L4 18.59l7.72-7.72 1.47 1.35L5.41 20z\"/>\n",
              "  </svg>\n",
              "      </button>\n",
              "      \n",
              "  <style>\n",
              "    .colab-df-container {\n",
              "      display:flex;\n",
              "      flex-wrap:wrap;\n",
              "      gap: 12px;\n",
              "    }\n",
              "\n",
              "    .colab-df-convert {\n",
              "      background-color: #E8F0FE;\n",
              "      border: none;\n",
              "      border-radius: 50%;\n",
              "      cursor: pointer;\n",
              "      display: none;\n",
              "      fill: #1967D2;\n",
              "      height: 32px;\n",
              "      padding: 0 0 0 0;\n",
              "      width: 32px;\n",
              "    }\n",
              "\n",
              "    .colab-df-convert:hover {\n",
              "      background-color: #E2EBFA;\n",
              "      box-shadow: 0px 1px 2px rgba(60, 64, 67, 0.3), 0px 1px 3px 1px rgba(60, 64, 67, 0.15);\n",
              "      fill: #174EA6;\n",
              "    }\n",
              "\n",
              "    [theme=dark] .colab-df-convert {\n",
              "      background-color: #3B4455;\n",
              "      fill: #D2E3FC;\n",
              "    }\n",
              "\n",
              "    [theme=dark] .colab-df-convert:hover {\n",
              "      background-color: #434B5C;\n",
              "      box-shadow: 0px 1px 3px 1px rgba(0, 0, 0, 0.15);\n",
              "      filter: drop-shadow(0px 1px 2px rgba(0, 0, 0, 0.3));\n",
              "      fill: #FFFFFF;\n",
              "    }\n",
              "  </style>\n",
              "\n",
              "      <script>\n",
              "        const buttonEl =\n",
              "          document.querySelector('#df-8a2135a0-2313-46ab-9a9b-737717a5a290 button.colab-df-convert');\n",
              "        buttonEl.style.display =\n",
              "          google.colab.kernel.accessAllowed ? 'block' : 'none';\n",
              "\n",
              "        async function convertToInteractive(key) {\n",
              "          const element = document.querySelector('#df-8a2135a0-2313-46ab-9a9b-737717a5a290');\n",
              "          const dataTable =\n",
              "            await google.colab.kernel.invokeFunction('convertToInteractive',\n",
              "                                                     [key], {});\n",
              "          if (!dataTable) return;\n",
              "\n",
              "          const docLinkHtml = 'Like what you see? Visit the ' +\n",
              "            '<a target=\"_blank\" href=https://colab.research.google.com/notebooks/data_table.ipynb>data table notebook</a>'\n",
              "            + ' to learn more about interactive tables.';\n",
              "          element.innerHTML = '';\n",
              "          dataTable['output_type'] = 'display_data';\n",
              "          await google.colab.output.renderOutput(dataTable, element);\n",
              "          const docLink = document.createElement('div');\n",
              "          docLink.innerHTML = docLinkHtml;\n",
              "          element.appendChild(docLink);\n",
              "        }\n",
              "      </script>\n",
              "    </div>\n",
              "  </div>\n",
              "  "
            ]
          },
          "metadata": {},
          "execution_count": 74
        }
      ]
    },
    {
      "cell_type": "markdown",
      "source": [
        "Berdasarkan deskripsi statistik, kita bisa menyimpulkan beberapa hal:\n",
        "\n",
        "*   Karena selisih nilai mean-median yang kecil, kita bisa mengetahui bahwa distribusi data semua atribut relatif normal \n",
        "*   Skala nilai pada masing-masing atribut tidak sama (ada yang memiliki range dalam satuan, ada yang hingga ribuan)\n",
        "*   **Terdapat atribut \"Unnamed\" dengan count 0 dan nilai statistik lainnya berupa NaN, bisa kita simpulkan bahwa atribut ini tidak memiliki value sama sekali (100% missing value) sehingga bisa kita drop, akan kita handle pada bagian berikutnya**\n",
        "\n"
      ],
      "metadata": {
        "id": "wjoy5gvsMC0J"
      }
    },
    {
      "cell_type": "code",
      "source": [
        "# Melihat distribusi data\n",
        "water_df.drop('Potability', axis=1).hist(figsize=(12,10));"
      ],
      "metadata": {
        "colab": {
          "base_uri": "https://localhost:8080/",
          "height": 607
        },
        "id": "JAlqnVFtIwhC",
        "outputId": "0de9eb85-b499-4d42-ba88-edea4a2ced82"
      },
      "execution_count": null,
      "outputs": [
        {
          "output_type": "display_data",
          "data": {
            "text/plain": [
              "<Figure size 864x720 with 12 Axes>"
            ],
            "image/png": "[encoded data removed]"
          },
          "metadata": {
            "needs_background": "light"
          }
        }
      ]
    },
    {
      "cell_type": "code",
      "source": [
        "# Melihat nilai skew dari atribut\n",
        "water_df.drop('Potability', axis=1).skew()"
      ],
      "metadata": {
        "colab": {
          "base_uri": "https://localhost:8080/"
        },
        "id": "GEEtoFkDOpLn",
        "outputId": "1598e8a3-8ebb-46e9-844d-14ee8657b4ad"
      },
      "execution_count": null,
      "outputs": [
        {
          "output_type": "execute_result",
          "data": {
            "text/plain": [
              "ph                 0.035825\n",
              "Hardness          -0.020426\n",
              "Solids             0.603543\n",
              "Chloramines       -0.047196\n",
              "Sulfate            0.081847\n",
              "Conductivity       0.237656\n",
              "Organic_carbon     0.062350\n",
              "Trihalomethanes   -0.085517\n",
              "Turbidity         -0.005013\n",
              "Unnamed                 NaN\n",
              "dtype: float64"
            ]
          },
          "metadata": {},
          "execution_count": 76
        }
      ]
    },
    {
      "cell_type": "markdown",
      "source": [
        "Sesuai dugaan, distribusi data relatif normal, kecuali atribut \"Solids\" dan \"Conductivity\" yang cenderung right skew"
      ],
      "metadata": {
        "id": "8EgSvPDhNfVU"
      }
    },
    {
      "cell_type": "code",
      "source": [
        "# heatmap\n",
        "f,ax = plt.subplots(figsize=(18, 18))\n",
        "sns.heatmap(water_df.corr(), annot=True, linewidths=.5, fmt= '.1f',ax=ax)"
      ],
      "metadata": {
        "colab": {
          "base_uri": "https://localhost:8080/",
          "height": 1000
        },
        "id": "NpZ9g21PQf1d",
        "outputId": "57bc322c-97fc-4753-bfda-dc4f1241c042"
      },
      "execution_count": null,
      "outputs": [
        {
          "output_type": "execute_result",
          "data": {
            "text/plain": [
              "<AxesSubplot:>"
            ]
          },
          "metadata": {},
          "execution_count": 77
        },
        {
          "output_type": "display_data",
          "data": {
            "text/plain": [
              "<Figure size 1296x1296 with 2 Axes>"
            ],
            "image/png": "[encoded data removed]"
          },
          "metadata": {
            "needs_background": "light"
          }
        }
      ]
    },
    {
      "cell_type": "markdown",
      "source": [
        "Berdasarkan perhitungan nilai korelasi, kita dapat melihat bahwa masing-masing atribut tidak saling berkorelasi."
      ],
      "metadata": {
        "id": "I0ioMu-QQmc-"
      }
    },
    {
      "cell_type": "code",
      "source": [
        "# Menghitung frekuensi nilai output\n",
        "water_df['Potability'].value_counts(normalize=True)"
      ],
      "metadata": {
        "colab": {
          "base_uri": "https://localhost:8080/"
        },
        "id": "M4tFeYieIf6X",
        "outputId": "763b7201-4c4b-4237-f765-d8a7cbd3fd95"
      },
      "execution_count": null,
      "outputs": [
        {
          "output_type": "execute_result",
          "data": {
            "text/plain": [
              "2    0.835726\n",
              "1    0.164274\n",
              "Name: Potability, dtype: float64"
            ]
          },
          "metadata": {},
          "execution_count": 78
        }
      ]
    },
    {
      "cell_type": "markdown",
      "source": [
        "Apabila kita lihat, nilai \"Potability\" tidak seimbang, dimana 84% data memiliki Potability = 2 (Tidak Potable, tidak bisa diminum) dan hanya 16% data yang memiliki nilai Potability = 1 (Potable, bisa diminum)"
      ],
      "metadata": {
        "id": "OPVda8LrNv5H"
      }
    },
    {
      "cell_type": "markdown",
      "source": [
        "Setelah mengetahui deskripsi dataset yang akan digunakan, kita akan memulai proses *data pre-processing*. Pada pengerjaan lab ini, pre-processing yang akan kita lakukan adalah: penanganan duplikasi data, penanganan outlier, dan penanganan missing value."
      ],
      "metadata": {
        "id": "Jj2xfc3s2WsT"
      }
    },
    {
      "cell_type": "markdown",
      "source": [
        "## Penanganan Duplikasi Data "
      ],
      "metadata": {
        "id": "VwjZnic3uLgP"
      }
    },
    {
      "cell_type": "markdown",
      "source": [
        "Duplikasi data terutama dalam jumlah yang besar dapat mempengaruhi model machine learning, sehingga penanganan terhadap data duplikat harus dilakukan. Umumnya, penanganan duplikasi data dapat dilakukan dengan operasi drop sebagai berikut:\n",
        "\n",
        "`DataFrame.drop_duplicates(subset=None, keep='first', inplace=False, ignore_index=False)`\n",
        "\n",
        "Parameter: \n",
        "\n",
        "*   subset: digunakan untuk menspesifikasi kolom tertentu yang ingin kita tangani, misalnya hanya dua kolom yang ingin dihapus duplikatnya maka kita bisa mengisi bagian tsb dengan `subset=['kolom1', 'kolom2']`\n",
        "*   keep: menentukan nilai duplikat mana yang ingin kita simpan, secara default `keep='first'` artinya kemunculan data duplikasi pertama yang akan disimpan pada dataframe dan data berikutnya yang nilainya sama akan dihapus. \n",
        "*   inplace: apakah akan menghapus data duplikat langsung pada dataframe tersebut (inplace) atau me-*return* copy\n",
        "\n",
        "(dokumentasi lengkap: [Dokumentasi Drop Duplicate](https://pandas.pydata.org/pandas-docs/version/1.3/reference/api/pandas.DataFrame.drop_duplicates.html)) \n",
        "\n"
      ],
      "metadata": {
        "id": "H0xge9hl3kNa"
      }
    },
    {
      "cell_type": "markdown",
      "source": [
        "**Soal 1(a)** : Dari data water_df di atas, apakah terdapat redudansi data? Implementasikan dengan code!"
      ],
      "metadata": {
        "id": "UYJLmHD_3tv6"
      }
    },
    {
      "cell_type": "code",
      "source": [
        "# 1(a) Implementasi code di sini\n",
        "\n",
        "# ada duplikasi data\n",
        "duplicates = water_df.duplicated()\n",
        "water_df[duplicates]"
      ],
      "metadata": {
        "id": "IeJC87t23Xzy",
        "colab": {
          "base_uri": "https://localhost:8080/",
          "height": 423
        },
        "outputId": "427274ee-2ac9-4405-c7ee-acebdfbcd172"
      },
      "execution_count": null,
      "outputs": [
        {
          "output_type": "execute_result",
          "data": {
            "text/plain": [
              "             ph    Hardness       Solids  Chloramines     Sulfate  \\\n",
              "2410   9.347345  201.632836  13749.59604     7.333742  322.044667   \n",
              "2411  11.621140  203.730368  15102.23743     7.816415         NaN   \n",
              "2412  10.337671  163.276225  21820.29588     7.899521  356.179637   \n",
              "2413        NaN  196.051741  21919.47016     6.730277  359.701352   \n",
              "2414   5.287983  245.023461  27733.71310     7.135063  238.844004   \n",
              "...         ...         ...          ...          ...         ...   \n",
              "2503   6.616731  195.096968  34277.76040     7.632639         NaN   \n",
              "2504   7.734569  230.919506  21776.59446     6.908591         NaN   \n",
              "2505   6.971577  185.906938  27959.98787     7.214510  349.743879   \n",
              "2506   4.709187  179.141018  22291.41858     6.774276  407.417977   \n",
              "2507   5.230003  176.714023  27971.89181     7.597981  413.914000   \n",
              "\n",
              "      Conductivity  Organic_carbon  Trihalomethanes  Turbidity  Unnamed  \\\n",
              "2410    512.446305       12.434716        43.827119   3.615151      NaN   \n",
              "2411    447.045213       21.632385        61.801804   3.472067      NaN   \n",
              "2412    561.206238       14.116324        56.193061   5.063109      NaN   \n",
              "2413    401.731338       14.219303        77.605726   3.954964      NaN   \n",
              "2414    464.074850       13.452179        55.642363   3.311034      NaN   \n",
              "...            ...             ...              ...        ...      ...   \n",
              "2503    417.465080       13.432557        47.945936   3.622379      NaN   \n",
              "2504    395.114961       15.033557        92.697369   3.821456      NaN   \n",
              "2505    414.067354       19.882917        36.179003   3.226349      NaN   \n",
              "2506    371.264843       18.186801        86.528627   3.860084      NaN   \n",
              "2507    440.355374       14.423614        72.837370   3.045612      NaN   \n",
              "\n",
              "      Potability  \n",
              "2410           2  \n",
              "2411           2  \n",
              "2412           2  \n",
              "2413           2  \n",
              "2414           2  \n",
              "...          ...  \n",
              "2503           2  \n",
              "2504           2  \n",
              "2505           2  \n",
              "2506           2  \n",
              "2507           2  \n",
              "\n",
              "[98 rows x 11 columns]"
            ],
            "text/html": [
              "\n",
              "  <div id=\"df-c979d789-057a-4a20-be84-c87b7075c844\">\n",
              "    <div class=\"colab-df-container\">\n",
              "      <div>\n",
              "<style scoped>\n",
              "    .dataframe tbody tr th:only-of-type {\n",
              "        vertical-align: middle;\n",
              "    }\n",
              "\n",
              "    .dataframe tbody tr th {\n",
              "        vertical-align: top;\n",
              "    }\n",
              "\n",
              "    .dataframe thead th {\n",
              "        text-align: right;\n",
              "    }\n",
              "</style>\n",
              "<table border=\"1\" class=\"dataframe\">\n",
              "  <thead>\n",
              "    <tr style=\"text-align: right;\">\n",
              "      <th></th>\n",
              "      <th>ph</th>\n",
              "      <th>Hardness</th>\n",
              "      <th>Solids</th>\n",
              "      <th>Chloramines</th>\n",
              "      <th>Sulfate</th>\n",
              "      <th>Conductivity</th>\n",
              "      <th>Organic_carbon</th>\n",
              "      <th>Trihalomethanes</th>\n",
              "      <th>Turbidity</th>\n",
              "      <th>Unnamed</th>\n",
              "      <th>Potability</th>\n",
              "    </tr>\n",
              "  </thead>\n",
              "  <tbody>\n",
              "    <tr>\n",
              "      <th>2410</th>\n",
              "      <td>9.347345</td>\n",
              "      <td>201.632836</td>\n",
              "      <td>13749.59604</td>\n",
              "      <td>7.333742</td>\n",
              "      <td>322.044667</td>\n",
              "      <td>512.446305</td>\n",
              "      <td>12.434716</td>\n",
              "      <td>43.827119</td>\n",
              "      <td>3.615151</td>\n",
              "      <td>NaN</td>\n",
              "      <td>2</td>\n",
              "    </tr>\n",
              "    <tr>\n",
              "      <th>2411</th>\n",
              "      <td>11.621140</td>\n",
              "      <td>203.730368</td>\n",
              "      <td>15102.23743</td>\n",
              "      <td>7.816415</td>\n",
              "      <td>NaN</td>\n",
              "      <td>447.045213</td>\n",
              "      <td>21.632385</td>\n",
              "      <td>61.801804</td>\n",
              "      <td>3.472067</td>\n",
              "      <td>NaN</td>\n",
              "      <td>2</td>\n",
              "    </tr>\n",
              "    <tr>\n",
              "      <th>2412</th>\n",
              "      <td>10.337671</td>\n",
              "      <td>163.276225</td>\n",
              "      <td>21820.29588</td>\n",
              "      <td>7.899521</td>\n",
              "      <td>356.179637</td>\n",
              "      <td>561.206238</td>\n",
              "      <td>14.116324</td>\n",
              "      <td>56.193061</td>\n",
              "      <td>5.063109</td>\n",
              "      <td>NaN</td>\n",
              "      <td>2</td>\n",
              "    </tr>\n",
              "    <tr>\n",
              "      <th>2413</th>\n",
              "      <td>NaN</td>\n",
              "      <td>196.051741</td>\n",
              "      <td>21919.47016</td>\n",
              "      <td>6.730277</td>\n",
              "      <td>359.701352</td>\n",
              "      <td>401.731338</td>\n",
              "      <td>14.219303</td>\n",
              "      <td>77.605726</td>\n",
              "      <td>3.954964</td>\n",
              "      <td>NaN</td>\n",
              "      <td>2</td>\n",
              "    </tr>\n",
              "    <tr>\n",
              "      <th>2414</th>\n",
              "      <td>5.287983</td>\n",
              "      <td>245.023461</td>\n",
              "      <td>27733.71310</td>\n",
              "      <td>7.135063</td>\n",
              "      <td>238.844004</td>\n",
              "      <td>464.074850</td>\n",
              "      <td>13.452179</td>\n",
              "      <td>55.642363</td>\n",
              "      <td>3.311034</td>\n",
              "      <td>NaN</td>\n",
              "      <td>2</td>\n",
              "    </tr>\n",
              "    <tr>\n",
              "      <th>...</th>\n",
              "      <td>...</td>\n",
              "      <td>...</td>\n",
              "      <td>...</td>\n",
              "      <td>...</td>\n",
              "      <td>...</td>\n",
              "      <td>...</td>\n",
              "      <td>...</td>\n",
              "      <td>...</td>\n",
              "      <td>...</td>\n",
              "      <td>...</td>\n",
              "      <td>...</td>\n",
              "    </tr>\n",
              "    <tr>\n",
              "      <th>2503</th>\n",
              "      <td>6.616731</td>\n",
              "      <td>195.096968</td>\n",
              "      <td>34277.76040</td>\n",
              "      <td>7.632639</td>\n",
              "      <td>NaN</td>\n",
              "      <td>417.465080</td>\n",
              "      <td>13.432557</td>\n",
              "      <td>47.945936</td>\n",
              "      <td>3.622379</td>\n",
              "      <td>NaN</td>\n",
              "      <td>2</td>\n",
              "    </tr>\n",
              "    <tr>\n",
              "      <th>2504</th>\n",
              "      <td>7.734569</td>\n",
              "      <td>230.919506</td>\n",
              "      <td>21776.59446</td>\n",
              "      <td>6.908591</td>\n",
              "      <td>NaN</td>\n",
              "      <td>395.114961</td>\n",
              "      <td>15.033557</td>\n",
              "      <td>92.697369</td>\n",
              "      <td>3.821456</td>\n",
              "      <td>NaN</td>\n",
              "      <td>2</td>\n",
              "    </tr>\n",
              "    <tr>\n",
              "      <th>2505</th>\n",
              "      <td>6.971577</td>\n",
              "      <td>185.906938</td>\n",
              "      <td>27959.98787</td>\n",
              "      <td>7.214510</td>\n",
              "      <td>349.743879</td>\n",
              "      <td>414.067354</td>\n",
              "      <td>19.882917</td>\n",
              "      <td>36.179003</td>\n",
              "      <td>3.226349</td>\n",
              "      <td>NaN</td>\n",
              "      <td>2</td>\n",
              "    </tr>\n",
              "    <tr>\n",
              "      <th>2506</th>\n",
              "      <td>4.709187</td>\n",
              "      <td>179.141018</td>\n",
              "      <td>22291.41858</td>\n",
              "      <td>6.774276</td>\n",
              "      <td>407.417977</td>\n",
              "      <td>371.264843</td>\n",
              "      <td>18.186801</td>\n",
              "      <td>86.528627</td>\n",
              "      <td>3.860084</td>\n",
              "      <td>NaN</td>\n",
              "      <td>2</td>\n",
              "    </tr>\n",
              "    <tr>\n",
              "      <th>2507</th>\n",
              "      <td>5.230003</td>\n",
              "      <td>176.714023</td>\n",
              "      <td>27971.89181</td>\n",
              "      <td>7.597981</td>\n",
              "      <td>413.914000</td>\n",
              "      <td>440.355374</td>\n",
              "      <td>14.423614</td>\n",
              "      <td>72.837370</td>\n",
              "      <td>3.045612</td>\n",
              "      <td>NaN</td>\n",
              "      <td>2</td>\n",
              "    </tr>\n",
              "  </tbody>\n",
              "</table>\n",
              "<p>98 rows × 11 columns</p>\n",
              "</div>\n",
              "      <button class=\"colab-df-convert\" onclick=\"convertToInteractive('df-c979d789-057a-4a20-be84-c87b7075c844')\"\n",
              "              title=\"Convert this dataframe to an interactive table.\"\n",
              "              style=\"display:none;\">\n",
              "        \n",
              "  <svg xmlns=\"http://www.w3.org/2000/svg\" height=\"24px\"viewBox=\"0 0 24 24\"\n",
              "       width=\"24px\">\n",
              "    <path d=\"M0 0h24v24H0V0z\" fill=\"none\"/>\n",
              "    <path d=\"M18.56 5.44l.94 2.06.94-2.06 2.06-.94-2.06-.94-.94-2.06-.94 2.06-2.06.94zm-11 1L8.5 8.5l.94-2.06 2.06-.94-2.06-.94L8.5 2.5l-.94 2.06-2.06.94zm10 10l.94 2.06.94-2.06 2.06-.94-2.06-.94-.94-2.06-.94 2.06-2.06.94z\"/><path d=\"M17.41 7.96l-1.37-1.37c-.4-.4-.92-.59-1.43-.59-.52 0-1.04.2-1.43.59L10.3 9.45l-7.72 7.72c-.78.78-.78 2.05 0 2.83L4 21.41c.39.39.9.59 1.41.59.51 0 1.02-.2 1.41-.59l7.78-7.78 2.81-2.81c.8-.78.8-2.07 0-2.86zM5.41 20L4 18.59l7.72-7.72 1.47 1.35L5.41 20z\"/>\n",
              "  </svg>\n",
              "      </button>\n",
              "      \n",
              "  <style>\n",
              "    .colab-df-container {\n",
              "      display:flex;\n",
              "      flex-wrap:wrap;\n",
              "      gap: 12px;\n",
              "    }\n",
              "\n",
              "    .colab-df-convert {\n",
              "      background-color: #E8F0FE;\n",
              "      border: none;\n",
              "      border-radius: 50%;\n",
              "      cursor: pointer;\n",
              "      display: none;\n",
              "      fill: #1967D2;\n",
              "      height: 32px;\n",
              "      padding: 0 0 0 0;\n",
              "      width: 32px;\n",
              "    }\n",
              "\n",
              "    .colab-df-convert:hover {\n",
              "      background-color: #E2EBFA;\n",
              "      box-shadow: 0px 1px 2px rgba(60, 64, 67, 0.3), 0px 1px 3px 1px rgba(60, 64, 67, 0.15);\n",
              "      fill: #174EA6;\n",
              "    }\n",
              "\n",
              "    [theme=dark] .colab-df-convert {\n",
              "      background-color: #3B4455;\n",
              "      fill: #D2E3FC;\n",
              "    }\n",
              "\n",
              "    [theme=dark] .colab-df-convert:hover {\n",
              "      background-color: #434B5C;\n",
              "      box-shadow: 0px 1px 3px 1px rgba(0, 0, 0, 0.15);\n",
              "      filter: drop-shadow(0px 1px 2px rgba(0, 0, 0, 0.3));\n",
              "      fill: #FFFFFF;\n",
              "    }\n",
              "  </style>\n",
              "\n",
              "      <script>\n",
              "        const buttonEl =\n",
              "          document.querySelector('#df-c979d789-057a-4a20-be84-c87b7075c844 button.colab-df-convert');\n",
              "        buttonEl.style.display =\n",
              "          google.colab.kernel.accessAllowed ? 'block' : 'none';\n",
              "\n",
              "        async function convertToInteractive(key) {\n",
              "          const element = document.querySelector('#df-c979d789-057a-4a20-be84-c87b7075c844');\n",
              "          const dataTable =\n",
              "            await google.colab.kernel.invokeFunction('convertToInteractive',\n",
              "                                                     [key], {});\n",
              "          if (!dataTable) return;\n",
              "\n",
              "          const docLinkHtml = 'Like what you see? Visit the ' +\n",
              "            '<a target=\"_blank\" href=https://colab.research.google.com/notebooks/data_table.ipynb>data table notebook</a>'\n",
              "            + ' to learn more about interactive tables.';\n",
              "          element.innerHTML = '';\n",
              "          dataTable['output_type'] = 'display_data';\n",
              "          await google.colab.output.renderOutput(dataTable, element);\n",
              "          const docLink = document.createElement('div');\n",
              "          docLink.innerHTML = docLinkHtml;\n",
              "          element.appendChild(docLink);\n",
              "        }\n",
              "      </script>\n",
              "    </div>\n",
              "  </div>\n",
              "  "
            ]
          },
          "metadata": {},
          "execution_count": 79
        }
      ]
    },
    {
      "cell_type": "markdown",
      "source": [
        "**Soal 1(b)** : Apa yang dapat Anda lakukan untuk menangani redudansi data tersebut? Implementasikan dengan code!"
      ],
      "metadata": {
        "id": "Xu2pqhPqkXMb"
      }
    },
    {
      "cell_type": "code",
      "source": [
        "# 1(b) Implementasi code di sini\n",
        "\n",
        "# drop duplikasi data\n",
        "water_df = water_df.drop(index=water_df[duplicates].index)"
      ],
      "metadata": {
        "id": "whhx39uIk8hI"
      },
      "execution_count": null,
      "outputs": []
    },
    {
      "cell_type": "markdown",
      "source": [
        "**Soal 1(c)** : Menurut Anda, mengapa redudansi data perlu ditangani?"
      ],
      "metadata": {
        "id": "7h4Uz1Clkz5p"
      }
    },
    {
      "cell_type": "markdown",
      "source": [
        "> - untuk menghilangkan bias pada saat training model yang dapat menyebabkan overfitting\n",
        "- meingkatkan efisiensi karena redundant data dapat memperlambat proses training karena algoritma model akan menggunakan waktu untuk data tsb (padahal tidak penting)"
      ],
      "metadata": {
        "id": "ahq3fihV325A"
      }
    },
    {
      "cell_type": "markdown",
      "source": [
        "## Penanganan Outlier"
      ],
      "metadata": {
        "id": "olNhvd084IAA"
      }
    },
    {
      "cell_type": "markdown",
      "source": [
        "Outlier merupakan observasi yang tidak biasa yang muncul pada salah satu titik ekstrim dari sebagian besar data. Titik ekstrim di sini adalah nilai yang terlalu kecil atau nilai yang terlalu besar jika dibandingkan dengan sebagian besar nilai lain dalam kelompoknya. "
      ],
      "metadata": {
        "id": "7TnxBO9P4fuL"
      }
    },
    {
      "cell_type": "markdown",
      "source": [
        "### Deteksi Outlier"
      ],
      "metadata": {
        "id": "qH5Eh7UaG4LR"
      }
    },
    {
      "cell_type": "markdown",
      "source": [
        "Deteksi outlier dapat dilakukan dengan beberapa cara, salah satunya dengan menggunakan visualisasi boxplot."
      ],
      "metadata": {
        "id": "keYnreIuG8yx"
      }
    },
    {
      "cell_type": "code",
      "source": [
        "data = water_df.drop(['Potability'], axis=1)\n",
        "data.boxplot(figsize=(20,3))"
      ],
      "metadata": {
        "colab": {
          "base_uri": "https://localhost:8080/",
          "height": 229
        },
        "id": "3ERl5piCG3Vt",
        "outputId": "b35a2909-49ce-4f3f-b4c2-a977224ced66"
      },
      "execution_count": null,
      "outputs": [
        {
          "output_type": "execute_result",
          "data": {
            "text/plain": [
              "<AxesSubplot:>"
            ]
          },
          "metadata": {},
          "execution_count": 81
        },
        {
          "output_type": "display_data",
          "data": {
            "text/plain": [
              "<Figure size 1440x216 with 1 Axes>"
            ],
            "image/png": "[encoded data removed]"
          },
          "metadata": {
            "needs_background": "light"
          }
        }
      ]
    },
    {
      "cell_type": "markdown",
      "source": [
        "Apabila kita lihat berdasarkan boxplot di atas, secara kasar kita bisa mengetahui bahwa pada atribut \"Solids\" terdapat nilai yang berada di atas garis whisker (garis perpanjangan dari kotak Box) yang selanjutnya bisa kita identifikasi sebagai outliers. Namun, kita kurang bisa mendapatkan insights keberadaan outlier pada atribut lainnya karena bentuk boxplot yang kurang terlihat salah satunya karena skala nilai pada atribut lain tidak sebanding dengan atribut Solids. Oleh karena itu, pada latihan ini kita juga akan mencoba melakukan **scaling** untuk menyamakan range nilai pada dataset."
      ],
      "metadata": {
        "id": "Lgu9oEQWHhqE"
      }
    },
    {
      "cell_type": "code",
      "source": [
        "# Import StandardScaler\n",
        "scaler = StandardScaler()\n",
        "scaled_data = scaler.fit_transform(data)\n",
        "\n",
        "vis_outlier = pd.DataFrame(scaled_data)\n",
        "vis_outlier.columns = data.columns.values.tolist()"
      ],
      "metadata": {
        "id": "3NxzjXUUI552",
        "colab": {
          "base_uri": "https://localhost:8080/"
        },
        "outputId": "d09d6f18-6e12-4e99-b259-c1a0edb6a557"
      },
      "execution_count": null,
      "outputs": [
        {
          "output_type": "stream",
          "name": "stderr",
          "text": [
            "/usr/local/lib/python3.8/dist-packages/sklearn/utils/extmath.py:1047: RuntimeWarning: invalid value encountered in true_divide\n",
            "  updated_mean = (last_sum + new_sum) / updated_sample_count\n",
            "/usr/local/lib/python3.8/dist-packages/sklearn/utils/extmath.py:1052: RuntimeWarning: invalid value encountered in true_divide\n",
            "  T = new_sum / new_sample_count\n",
            "/usr/local/lib/python3.8/dist-packages/sklearn/utils/extmath.py:1072: RuntimeWarning: invalid value encountered in true_divide\n",
            "  new_unnormalized_variance -= correction**2 / new_sample_count\n"
          ]
        }
      ]
    },
    {
      "cell_type": "code",
      "source": [
        "vis_outlier.boxplot(figsize=(15,15))"
      ],
      "metadata": {
        "colab": {
          "base_uri": "https://localhost:8080/",
          "height": 881
        },
        "id": "gIClWoAFKFBR",
        "outputId": "db953103-2f59-4cc0-a394-92cccc4eacdd"
      },
      "execution_count": null,
      "outputs": [
        {
          "output_type": "execute_result",
          "data": {
            "text/plain": [
              "<AxesSubplot:>"
            ]
          },
          "metadata": {},
          "execution_count": 83
        },
        {
          "output_type": "display_data",
          "data": {
            "text/plain": [
              "<Figure size 1080x1080 with 1 Axes>"
            ],
            "image/png": "[encoded data removed]"
          },
          "metadata": {
            "needs_background": "light"
          }
        }
      ]
    },
    {
      "cell_type": "markdown",
      "source": [
        "Berdasarkan visualisasi Box Plot di atas, dapat kita lihat bahwa atribut pH memiliki beberapa outlier yang berada di luar garis whisker. **Namun, apakah nilai tersebut dapat kita katakan sebagai outlier?** Mari kita lihat visualisasi sebelum dilakukannya scaling pada atribut pH"
      ],
      "metadata": {
        "id": "4QOOD0MZ34RX"
      }
    },
    {
      "cell_type": "code",
      "source": [
        "data[['ph']].boxplot(figsize=(5,10))"
      ],
      "metadata": {
        "colab": {
          "base_uri": "https://localhost:8080/",
          "height": 609
        },
        "id": "Jyuohbl04SCE",
        "outputId": "bbeedbc9-dcd2-4167-f042-2583110ce5f5"
      },
      "execution_count": null,
      "outputs": [
        {
          "output_type": "execute_result",
          "data": {
            "text/plain": [
              "<AxesSubplot:>"
            ]
          },
          "metadata": {},
          "execution_count": 84
        },
        {
          "output_type": "display_data",
          "data": {
            "text/plain": [
              "<Figure size 360x720 with 1 Axes>"
            ],
            "image/png": "[encoded data removed]"
          },
          "metadata": {
            "needs_background": "light"
          }
        }
      ]
    },
    {
      "cell_type": "markdown",
      "source": [
        "Berdasarkan boxplot pH di atas, kita dapat melihat bahwa nilai outlier masih di dalam range nilai pH (1 - 14). Oleh karena itu, kita bisa menganggap bahwa tidak terdapat outlier pada atribut pH karena meski di luar garis whisker, nilai outlier tersebut tidak \"ekstrem\" dan masih dianggap normal karena masih di dalam range nilai pH. "
      ],
      "metadata": {
        "id": "JAc3yFRY5PDa"
      }
    },
    {
      "cell_type": "markdown",
      "source": [
        "**Soal 2** : Berdasarkan Box Plot di atas, pilih satu atribut yang menurut Anda memiliki outlier paling banyak! Mengapa Anda memilih atribut tersebut? (Hint: perhatikan range nilai dari atribut, pada contoh di atas pH memiliki nilai 1 - 14. Anda bisa memberikan asumsi rentang nilai yang mungkin berdasarkan referensi yang Anda dapatkan di internet)!"
      ],
      "metadata": {
        "id": "ox9YVhevODPg"
      }
    },
    {
      "cell_type": "markdown",
      "source": [
        "> menurut saya, kolom yang memiliki outliers paling banyak adalah **Solids** karena dilihat dari boxplot ia memiliki banyak data point yang berada diluar batas atas dan batas bawah. Range nilai pada kolom Solids juga sangat besar dibandingkan dengan range nilai pada kolom yang lain. Hal ini diperkuat dengan nilai standard deviasinya yg begitu besar yaitu 8457.596593 (38% dari mean), sehingga kemungkinan besar semua outlier pada kolom ini dapat dianggap sebagai **true outlier**\n",
        "\n",
        "> Kemudian, untuk kolom ph, hardness, chloramines, organic_carboon, turbidity walaupun ia terlihat memiliki banyak outlier, kolom-kolom tsb memiliki range nilai yang kecil dan standard deviasi yang kecil (persentasenya). sehingga outlier tersebut bisa jadi bukan outliers yang sebenarnya."
      ],
      "metadata": {
        "id": "3BcvzakuOcIb"
      }
    },
    {
      "cell_type": "markdown",
      "source": [
        "**Soal 3** : Implementasikan code untuk menampilkan banyaknya outlier pada atribut tersebut!"
      ],
      "metadata": {
        "id": "3UsdkaqZOeee"
      }
    },
    {
      "cell_type": "code",
      "source": [
        "# 3 Implementasi code di sini\n",
        "Solids = water_df[['Solids']]\n",
        "q1 = np.percentile(Solids, 25)\n",
        "q3 = np.percentile(Solids, 75)\n",
        "iqr = q3 - q1\n",
        "upper_outlier = water_df[water_df['Solids'] > (q3+(1.5*iqr))]\n",
        "lower_outlier = water_df[water_df['Solids'] < (q1-(1.5*iqr))]\n",
        "total = len(upper_outlier) + len(lower_outlier)\n",
        "\n",
        "print(f'outliers di Solids: {total}')"
      ],
      "metadata": {
        "id": "yFg_9abGOqTs",
        "colab": {
          "base_uri": "https://localhost:8080/"
        },
        "outputId": "bafe8e1d-f38d-40ef-dcd3-0801c9652a57"
      },
      "execution_count": null,
      "outputs": [
        {
          "output_type": "stream",
          "name": "stdout",
          "text": [
            "outliers di Solids: 35\n"
          ]
        }
      ]
    },
    {
      "cell_type": "markdown",
      "source": [
        "### Menangani Outlier"
      ],
      "metadata": {
        "id": "x9-FIBWeO9z8"
      }
    },
    {
      "cell_type": "markdown",
      "source": [
        "Penanganan terhadap nilai outlier dapat dilakukan dengan beberapa cara, di antaranya:\n",
        "\n",
        "*   Jika persentase outliers tidak signifikan, opsi yang mungkin dilakukan adalah drop column/row.\n",
        "*   Jika terdapat human error, maka opsi yang mungkin adalah memperbaiki dengan manual.\n",
        "*   Jika distribusi data dianggap normal atau model Machine Learning yang digunakan tidak sensitif terhadap outlier (misalnya CART), outlier tidak perlu ditangani\n",
        "*   Penanganan lain adalah mengganti nilai outlier menggunakan metode winsorization atau imputation, dengan analisis yang lebih mendalam terhadap outlier tersebut"
      ],
      "metadata": {
        "id": "9t7Fy3tKPmB6"
      }
    },
    {
      "cell_type": "markdown",
      "source": [
        "**Soal 4** : Apa yang dapat Anda lakukan untuk menangani outlier pada atribut  yang telah Anda pilih pada Soal 2? Implementasikan dengan code!"
      ],
      "metadata": {
        "id": "81CmWOxmRFnb"
      }
    },
    {
      "cell_type": "code",
      "source": [
        "# 4 Implementasi code di sini\n",
        "# menghapus outlier dari dataset\n",
        "indeks = []\n",
        "indeks.extend(upper_outlier.index)\n",
        "indeks.extend(lower_outlier.index)\n",
        "\n",
        "persen = len(indeks)/len(water_df) * 100\n",
        "print(f'persentase outlier: {persen:.2f}%')\n",
        "\n",
        "# karena jumlah outlier yang sangat sedikit, maka saya memutuskan untuk menghapusnya dari dataset\n",
        "water_df.drop(index=indeks)"
      ],
      "metadata": {
        "id": "KWsdkz3iRdlG",
        "colab": {
          "base_uri": "https://localhost:8080/",
          "height": 441
        },
        "outputId": "f404a47f-f2d7-41ce-b1cb-21b2e2b52e69"
      },
      "execution_count": null,
      "outputs": [
        {
          "output_type": "stream",
          "name": "stdout",
          "text": [
            "persentase outlier: 1.45%\n"
          ]
        },
        {
          "output_type": "execute_result",
          "data": {
            "text/plain": [
              "            ph    Hardness       Solids  Chloramines     Sulfate  \\\n",
              "0          NaN  204.890456  20791.31898     7.300212  368.516441   \n",
              "1     3.716080  129.422921  18630.05786     6.635246         NaN   \n",
              "2     8.099124  224.236259  19909.54173     9.275884         NaN   \n",
              "3     8.316766  214.373394  22018.41744     8.059332  356.886136   \n",
              "4     9.092223  181.101509  17978.98634     6.546600  310.135738   \n",
              "...        ...         ...          ...          ...         ...   \n",
              "2405  6.616731  195.096968  34277.76040     7.632639         NaN   \n",
              "2406  7.734569  230.919506  21776.59446     6.908591         NaN   \n",
              "2407  6.971577  185.906938  27959.98787     7.214510  349.743879   \n",
              "2408  4.709187  179.141018  22291.41858     6.774276  407.417977   \n",
              "2409  5.230003  176.714023  27971.89181     7.597981  413.914000   \n",
              "\n",
              "      Conductivity  Organic_carbon  Trihalomethanes  Turbidity  Unnamed  \\\n",
              "0       564.308654       10.379783        86.990970   2.963135      NaN   \n",
              "1       592.885359       15.180013        56.329076   4.500656      NaN   \n",
              "2       418.606213       16.868637        66.420093   3.055934      NaN   \n",
              "3       363.266516       18.436525       100.341674   4.628771      NaN   \n",
              "4       398.410813       11.558279        31.997993   4.075075      NaN   \n",
              "...            ...             ...              ...        ...      ...   \n",
              "2405    417.465080       13.432557        47.945936   3.622379      NaN   \n",
              "2406    395.114961       15.033557        92.697369   3.821456      NaN   \n",
              "2407    414.067354       19.882917        36.179003   3.226349      NaN   \n",
              "2408    371.264843       18.186801        86.528627   3.860084      NaN   \n",
              "2409    440.355374       14.423614        72.837370   3.045612      NaN   \n",
              "\n",
              "      Potability  \n",
              "0              2  \n",
              "1              2  \n",
              "2              2  \n",
              "3              2  \n",
              "4              2  \n",
              "...          ...  \n",
              "2405           2  \n",
              "2406           2  \n",
              "2407           2  \n",
              "2408           2  \n",
              "2409           2  \n",
              "\n",
              "[2375 rows x 11 columns]"
            ],
            "text/html": [
              "\n",
              "  <div id=\"df-dd54600e-5071-466f-afd5-81e899a50c1c\">\n",
              "    <div class=\"colab-df-container\">\n",
              "      <div>\n",
              "<style scoped>\n",
              "    .dataframe tbody tr th:only-of-type {\n",
              "        vertical-align: middle;\n",
              "    }\n",
              "\n",
              "    .dataframe tbody tr th {\n",
              "        vertical-align: top;\n",
              "    }\n",
              "\n",
              "    .dataframe thead th {\n",
              "        text-align: right;\n",
              "    }\n",
              "</style>\n",
              "<table border=\"1\" class=\"dataframe\">\n",
              "  <thead>\n",
              "    <tr style=\"text-align: right;\">\n",
              "      <th></th>\n",
              "      <th>ph</th>\n",
              "      <th>Hardness</th>\n",
              "      <th>Solids</th>\n",
              "      <th>Chloramines</th>\n",
              "      <th>Sulfate</th>\n",
              "      <th>Conductivity</th>\n",
              "      <th>Organic_carbon</th>\n",
              "      <th>Trihalomethanes</th>\n",
              "      <th>Turbidity</th>\n",
              "      <th>Unnamed</th>\n",
              "      <th>Potability</th>\n",
              "    </tr>\n",
              "  </thead>\n",
              "  <tbody>\n",
              "    <tr>\n",
              "      <th>0</th>\n",
              "      <td>NaN</td>\n",
              "      <td>204.890456</td>\n",
              "      <td>20791.31898</td>\n",
              "      <td>7.300212</td>\n",
              "      <td>368.516441</td>\n",
              "      <td>564.308654</td>\n",
              "      <td>10.379783</td>\n",
              "      <td>86.990970</td>\n",
              "      <td>2.963135</td>\n",
              "      <td>NaN</td>\n",
              "      <td>2</td>\n",
              "    </tr>\n",
              "    <tr>\n",
              "      <th>1</th>\n",
              "      <td>3.716080</td>\n",
              "      <td>129.422921</td>\n",
              "      <td>18630.05786</td>\n",
              "      <td>6.635246</td>\n",
              "      <td>NaN</td>\n",
              "      <td>592.885359</td>\n",
              "      <td>15.180013</td>\n",
              "      <td>56.329076</td>\n",
              "      <td>4.500656</td>\n",
              "      <td>NaN</td>\n",
              "      <td>2</td>\n",
              "    </tr>\n",
              "    <tr>\n",
              "      <th>2</th>\n",
              "      <td>8.099124</td>\n",
              "      <td>224.236259</td>\n",
              "      <td>19909.54173</td>\n",
              "      <td>9.275884</td>\n",
              "      <td>NaN</td>\n",
              "      <td>418.606213</td>\n",
              "      <td>16.868637</td>\n",
              "      <td>66.420093</td>\n",
              "      <td>3.055934</td>\n",
              "      <td>NaN</td>\n",
              "      <td>2</td>\n",
              "    </tr>\n",
              "    <tr>\n",
              "      <th>3</th>\n",
              "      <td>8.316766</td>\n",
              "      <td>214.373394</td>\n",
              "      <td>22018.41744</td>\n",
              "      <td>8.059332</td>\n",
              "      <td>356.886136</td>\n",
              "      <td>363.266516</td>\n",
              "      <td>18.436525</td>\n",
              "      <td>100.341674</td>\n",
              "      <td>4.628771</td>\n",
              "      <td>NaN</td>\n",
              "      <td>2</td>\n",
              "    </tr>\n",
              "    <tr>\n",
              "      <th>4</th>\n",
              "      <td>9.092223</td>\n",
              "      <td>181.101509</td>\n",
              "      <td>17978.98634</td>\n",
              "      <td>6.546600</td>\n",
              "      <td>310.135738</td>\n",
              "      <td>398.410813</td>\n",
              "      <td>11.558279</td>\n",
              "      <td>31.997993</td>\n",
              "      <td>4.075075</td>\n",
              "      <td>NaN</td>\n",
              "      <td>2</td>\n",
              "    </tr>\n",
              "    <tr>\n",
              "      <th>...</th>\n",
              "      <td>...</td>\n",
              "      <td>...</td>\n",
              "      <td>...</td>\n",
              "      <td>...</td>\n",
              "      <td>...</td>\n",
              "      <td>...</td>\n",
              "      <td>...</td>\n",
              "      <td>...</td>\n",
              "      <td>...</td>\n",
              "      <td>...</td>\n",
              "      <td>...</td>\n",
              "    </tr>\n",
              "    <tr>\n",
              "      <th>2405</th>\n",
              "      <td>6.616731</td>\n",
              "      <td>195.096968</td>\n",
              "      <td>34277.76040</td>\n",
              "      <td>7.632639</td>\n",
              "      <td>NaN</td>\n",
              "      <td>417.465080</td>\n",
              "      <td>13.432557</td>\n",
              "      <td>47.945936</td>\n",
              "      <td>3.622379</td>\n",
              "      <td>NaN</td>\n",
              "      <td>2</td>\n",
              "    </tr>\n",
              "    <tr>\n",
              "      <th>2406</th>\n",
              "      <td>7.734569</td>\n",
              "      <td>230.919506</td>\n",
              "      <td>21776.59446</td>\n",
              "      <td>6.908591</td>\n",
              "      <td>NaN</td>\n",
              "      <td>395.114961</td>\n",
              "      <td>15.033557</td>\n",
              "      <td>92.697369</td>\n",
              "      <td>3.821456</td>\n",
              "      <td>NaN</td>\n",
              "      <td>2</td>\n",
              "    </tr>\n",
              "    <tr>\n",
              "      <th>2407</th>\n",
              "      <td>6.971577</td>\n",
              "      <td>185.906938</td>\n",
              "      <td>27959.98787</td>\n",
              "      <td>7.214510</td>\n",
              "      <td>349.743879</td>\n",
              "      <td>414.067354</td>\n",
              "      <td>19.882917</td>\n",
              "      <td>36.179003</td>\n",
              "      <td>3.226349</td>\n",
              "      <td>NaN</td>\n",
              "      <td>2</td>\n",
              "    </tr>\n",
              "    <tr>\n",
              "      <th>2408</th>\n",
              "      <td>4.709187</td>\n",
              "      <td>179.141018</td>\n",
              "      <td>22291.41858</td>\n",
              "      <td>6.774276</td>\n",
              "      <td>407.417977</td>\n",
              "      <td>371.264843</td>\n",
              "      <td>18.186801</td>\n",
              "      <td>86.528627</td>\n",
              "      <td>3.860084</td>\n",
              "      <td>NaN</td>\n",
              "      <td>2</td>\n",
              "    </tr>\n",
              "    <tr>\n",
              "      <th>2409</th>\n",
              "      <td>5.230003</td>\n",
              "      <td>176.714023</td>\n",
              "      <td>27971.89181</td>\n",
              "      <td>7.597981</td>\n",
              "      <td>413.914000</td>\n",
              "      <td>440.355374</td>\n",
              "      <td>14.423614</td>\n",
              "      <td>72.837370</td>\n",
              "      <td>3.045612</td>\n",
              "      <td>NaN</td>\n",
              "      <td>2</td>\n",
              "    </tr>\n",
              "  </tbody>\n",
              "</table>\n",
              "<p>2375 rows × 11 columns</p>\n",
              "</div>\n",
              "      <button class=\"colab-df-convert\" onclick=\"convertToInteractive('df-dd54600e-5071-466f-afd5-81e899a50c1c')\"\n",
              "              title=\"Convert this dataframe to an interactive table.\"\n",
              "              style=\"display:none;\">\n",
              "        \n",
              "  <svg xmlns=\"http://www.w3.org/2000/svg\" height=\"24px\"viewBox=\"0 0 24 24\"\n",
              "       width=\"24px\">\n",
              "    <path d=\"M0 0h24v24H0V0z\" fill=\"none\"/>\n",
              "    <path d=\"M18.56 5.44l.94 2.06.94-2.06 2.06-.94-2.06-.94-.94-2.06-.94 2.06-2.06.94zm-11 1L8.5 8.5l.94-2.06 2.06-.94-2.06-.94L8.5 2.5l-.94 2.06-2.06.94zm10 10l.94 2.06.94-2.06 2.06-.94-2.06-.94-.94-2.06-.94 2.06-2.06.94z\"/><path d=\"M17.41 7.96l-1.37-1.37c-.4-.4-.92-.59-1.43-.59-.52 0-1.04.2-1.43.59L10.3 9.45l-7.72 7.72c-.78.78-.78 2.05 0 2.83L4 21.41c.39.39.9.59 1.41.59.51 0 1.02-.2 1.41-.59l7.78-7.78 2.81-2.81c.8-.78.8-2.07 0-2.86zM5.41 20L4 18.59l7.72-7.72 1.47 1.35L5.41 20z\"/>\n",
              "  </svg>\n",
              "      </button>\n",
              "      \n",
              "  <style>\n",
              "    .colab-df-container {\n",
              "      display:flex;\n",
              "      flex-wrap:wrap;\n",
              "      gap: 12px;\n",
              "    }\n",
              "\n",
              "    .colab-df-convert {\n",
              "      background-color: #E8F0FE;\n",
              "      border: none;\n",
              "      border-radius: 50%;\n",
              "      cursor: pointer;\n",
              "      display: none;\n",
              "      fill: #1967D2;\n",
              "      height: 32px;\n",
              "      padding: 0 0 0 0;\n",
              "      width: 32px;\n",
              "    }\n",
              "\n",
              "    .colab-df-convert:hover {\n",
              "      background-color: #E2EBFA;\n",
              "      box-shadow: 0px 1px 2px rgba(60, 64, 67, 0.3), 0px 1px 3px 1px rgba(60, 64, 67, 0.15);\n",
              "      fill: #174EA6;\n",
              "    }\n",
              "\n",
              "    [theme=dark] .colab-df-convert {\n",
              "      background-color: #3B4455;\n",
              "      fill: #D2E3FC;\n",
              "    }\n",
              "\n",
              "    [theme=dark] .colab-df-convert:hover {\n",
              "      background-color: #434B5C;\n",
              "      box-shadow: 0px 1px 3px 1px rgba(0, 0, 0, 0.15);\n",
              "      filter: drop-shadow(0px 1px 2px rgba(0, 0, 0, 0.3));\n",
              "      fill: #FFFFFF;\n",
              "    }\n",
              "  </style>\n",
              "\n",
              "      <script>\n",
              "        const buttonEl =\n",
              "          document.querySelector('#df-dd54600e-5071-466f-afd5-81e899a50c1c button.colab-df-convert');\n",
              "        buttonEl.style.display =\n",
              "          google.colab.kernel.accessAllowed ? 'block' : 'none';\n",
              "\n",
              "        async function convertToInteractive(key) {\n",
              "          const element = document.querySelector('#df-dd54600e-5071-466f-afd5-81e899a50c1c');\n",
              "          const dataTable =\n",
              "            await google.colab.kernel.invokeFunction('convertToInteractive',\n",
              "                                                     [key], {});\n",
              "          if (!dataTable) return;\n",
              "\n",
              "          const docLinkHtml = 'Like what you see? Visit the ' +\n",
              "            '<a target=\"_blank\" href=https://colab.research.google.com/notebooks/data_table.ipynb>data table notebook</a>'\n",
              "            + ' to learn more about interactive tables.';\n",
              "          element.innerHTML = '';\n",
              "          dataTable['output_type'] = 'display_data';\n",
              "          await google.colab.output.renderOutput(dataTable, element);\n",
              "          const docLink = document.createElement('div');\n",
              "          docLink.innerHTML = docLinkHtml;\n",
              "          element.appendChild(docLink);\n",
              "        }\n",
              "      </script>\n",
              "    </div>\n",
              "  </div>\n",
              "  "
            ]
          },
          "metadata": {},
          "execution_count": 86
        }
      ]
    },
    {
      "cell_type": "markdown",
      "source": [
        "### Bagaimana penanganan outlier pada atribut kategorikal?"
      ],
      "metadata": {
        "id": "POYrDhAbQfnX"
      }
    },
    {
      "cell_type": "markdown",
      "source": [
        "Jika Anda perhatikan, pada bagian sebelumnya kita hanya menangani outlier pada data numerikal saja. Berdasarkan pemahaman Anda mengenai outlier, cobalah jawab pertanyaan berikut ini:"
      ],
      "metadata": {
        "id": "QpP3awAOMTsW"
      }
    },
    {
      "cell_type": "markdown",
      "source": [
        "**Soal 5(a)**: Dari 11 atribut awal yang terdapat pada dataset water_df, atribut apa yang tergolong sebagai atribut kategorikal? Mengapa demikian?"
      ],
      "metadata": {
        "id": "WX4qzArW4tFx"
      }
    },
    {
      "cell_type": "markdown",
      "source": [
        "> yang termasuk atribut kategorikal adalah **Potability**. karena nilai angka pada kolom potability merepresentasikan dua hal yang berbeda (dan diskret), yaitu 1 untuk bisa diminum dan 2 untuk tidak bisa diminum."
      ],
      "metadata": {
        "id": "tspZnDWeg3Cr"
      }
    },
    {
      "cell_type": "markdown",
      "source": [
        "**Soal 5(b)**: Apakah terdapat outlier pada atribut tersebut? Jika ya, implementasikan dengan kode"
      ],
      "metadata": {
        "id": "2z-mpd77t52I"
      }
    },
    {
      "cell_type": "code",
      "source": [
        "# 5(b) Implementasi code di sini\n",
        "potability = water_df[\"Potability\"].unique()\n",
        "print(f'value yang ada pada atribut potability: {potability}')\n",
        "\n",
        "print('='*50)\n",
        "counts = water_df['Potability'].value_counts()\n",
        "print(counts)\n",
        "plt.bar(counts.index, counts.values)\n",
        "\n",
        "# karena value yang ada pada atribut Potability sudah sesuai dengan yang seharusnya,\n",
        "# yaitu cuma 1 dan 2, maka menurut saya atribut Potability tidak memiliki outlier.\n",
        "# kemudian untuk perbandingan jumlah antara data yg memiliki potability 1 dengan 2 juga\n",
        "# tidak terlalu jauh"
      ],
      "metadata": {
        "id": "I6TK6IGo48_m",
        "colab": {
          "base_uri": "https://localhost:8080/",
          "height": 369
        },
        "outputId": "30c9ab22-ca46-4672-cdf3-214d11a8c9c0"
      },
      "execution_count": null,
      "outputs": [
        {
          "output_type": "stream",
          "name": "stdout",
          "text": [
            "value yang ada pada atribut potability: [2 1]\n",
            "==================================================\n",
            "2    1998\n",
            "1     412\n",
            "Name: Potability, dtype: int64\n"
          ]
        },
        {
          "output_type": "execute_result",
          "data": {
            "text/plain": [
              "<BarContainer object of 2 artists>"
            ]
          },
          "metadata": {},
          "execution_count": 87
        },
        {
          "output_type": "display_data",
          "data": {
            "text/plain": [
              "<Figure size 432x288 with 1 Axes>"
            ],
            "image/png": "[encoded data removed]"
          },
          "metadata": {
            "needs_background": "light"
          }
        }
      ]
    },
    {
      "cell_type": "markdown",
      "source": [
        "**Soal 5(c)**: Bagaimana cara menangani outlier pada data kategorikal?"
      ],
      "metadata": {
        "id": "a5_EU2DG5Acv"
      }
    },
    {
      "cell_type": "markdown",
      "source": [
        "> cara menangani outlier pada data kategorikal adalah:\n",
        "1. Exclusion, yaitu mengeluarkan outlier dari data (outlier tidak dipakai)\n",
        "2. Replacement, yaitu mengubah value-nya menjadi value lain yang mirip berdasarkan perhitungan similarity (contoh cosine similarity, euclidian distance, dan manhattan distance)\n",
        "3. Group the outlier, yaitu mengelompokkan outlier menjadi satu kategori baru misalnya kategori other (jika memungkinkan)"
      ],
      "metadata": {
        "id": "mtvv9em7k5A_"
      }
    },
    {
      "cell_type": "markdown",
      "source": [
        "## Penanganan Missing Value "
      ],
      "metadata": {
        "id": "P4R3J6dD5o_D"
      }
    },
    {
      "cell_type": "markdown",
      "source": [
        "Tidak jarang kita menemukan dataset dengan banyak nilai yang hilang (missing values). Biasanya kita bisa mengidentifikasi nilai tersebut dalam format: 'NaN', '?', 'T/A', atau hanya sebuah sel kosong di dataset. Penyebab dari missing value sendiri beragam, bisa diakibatkan oleh *data corruption* atau kesalahan pada saat *data recording*.\n",
        "\n",
        "Untuk menangani missing values pada atribut tertentu, pertama-tama kita perlu melihat jenis data yang disimpan oleh atribut tersebut, apakah numerik atau kategorikal? \n",
        "\n",
        "*   Jika data numerik, maka dapat diisi dengan nilai mean, median, ataupun modus bergantung pada asumsi yang umumnya didasarkan pada bentuk distribusi data\n",
        "*   Jika data kategorikal (jenis datanya nominal atau ordinal), maka dapat diisi dengan nilai modus \n",
        "\n",
        "Selanjutnya, baik pada data numerik ataupun kategorikal, kita dapat melakukan imputasi (penggantian nilai) dengan nilai konstanta berdasarkan asumsi atau algoritma yang kita buat. Pilihan lainnya adalah untuk menghapus data (row) atau bahkan atribut tersebut (column), jika kita merasa missing value tersebut tidak memiliki efek yang besar terhadap pemodelan Machine Learning.\n",
        "\n"
      ],
      "metadata": {
        "id": "RzwoVtiA6UZQ"
      }
    },
    {
      "cell_type": "code",
      "source": [
        "# Fungsi untuk mengecek missing value \n",
        "def cek_null(df):\n",
        "    col_na = df.isnull().sum().sort_values(ascending=False)\n",
        "    percent = col_na / len(df) * 100\n",
        "    \n",
        "    missing_data = pd.concat([col_na, percent], axis=1, keys=['Total', 'Percent'])\n",
        "    print(missing_data[missing_data['Total'] > 0])\n",
        "  \n",
        "cek_null(water_df)"
      ],
      "metadata": {
        "colab": {
          "base_uri": "https://localhost:8080/"
        },
        "id": "gn2TLNaz9Otv",
        "outputId": "eb29014f-1a5e-48fa-b843-8ecfc4141809"
      },
      "execution_count": null,
      "outputs": [
        {
          "output_type": "stream",
          "name": "stdout",
          "text": [
            "                 Total     Percent\n",
            "Unnamed           2410  100.000000\n",
            "Sulfate            579   24.024896\n",
            "ph                 374   15.518672\n",
            "Trihalomethanes    121    5.020747\n"
          ]
        }
      ]
    },
    {
      "cell_type": "markdown",
      "source": [
        "Berdasarkan pengecekan pada dataset, dapat kita temukan bahwa terdapat atribut \"Unnamed\" yang memiliki persentase missing value 100%. Secara nalar, kita dapat mengetahui bahwa kemungkinan atribut ini dihasilkan karena kesalahan pada proses recording data yang menjadikan atribut ini sama sekali tidak memiliki nilai. Oleh karena itu, kita dapat melakukan drop pada atribut tersebut."
      ],
      "metadata": {
        "id": "1D2FNxceMowV"
      }
    },
    {
      "cell_type": "code",
      "source": [
        "water_df = water_df.drop(['Unnamed'], axis = 1)\n",
        "water_df.head()"
      ],
      "metadata": {
        "colab": {
          "base_uri": "https://localhost:8080/",
          "height": 206
        },
        "id": "Nq083z3zNKVO",
        "outputId": "d60ff8df-76eb-42c2-cdcf-53144196b866"
      },
      "execution_count": null,
      "outputs": [
        {
          "output_type": "execute_result",
          "data": {
            "text/plain": [
              "         ph    Hardness       Solids  Chloramines     Sulfate  Conductivity  \\\n",
              "0       NaN  204.890456  20791.31898     7.300212  368.516441    564.308654   \n",
              "1  3.716080  129.422921  18630.05786     6.635246         NaN    592.885359   \n",
              "2  8.099124  224.236259  19909.54173     9.275884         NaN    418.606213   \n",
              "3  8.316766  214.373394  22018.41744     8.059332  356.886136    363.266516   \n",
              "4  9.092223  181.101509  17978.98634     6.546600  310.135738    398.410813   \n",
              "\n",
              "   Organic_carbon  Trihalomethanes  Turbidity  Potability  \n",
              "0       10.379783        86.990970   2.963135           2  \n",
              "1       15.180013        56.329076   4.500656           2  \n",
              "2       16.868637        66.420093   3.055934           2  \n",
              "3       18.436525       100.341674   4.628771           2  \n",
              "4       11.558279        31.997993   4.075075           2  "
            ],
            "text/html": [
              "\n",
              "  <div id=\"df-7aa732cb-76bd-4016-bff8-aeee42eb80a3\">\n",
              "    <div class=\"colab-df-container\">\n",
              "      <div>\n",
              "<style scoped>\n",
              "    .dataframe tbody tr th:only-of-type {\n",
              "        vertical-align: middle;\n",
              "    }\n",
              "\n",
              "    .dataframe tbody tr th {\n",
              "        vertical-align: top;\n",
              "    }\n",
              "\n",
              "    .dataframe thead th {\n",
              "        text-align: right;\n",
              "    }\n",
              "</style>\n",
              "<table border=\"1\" class=\"dataframe\">\n",
              "  <thead>\n",
              "    <tr style=\"text-align: right;\">\n",
              "      <th></th>\n",
              "      <th>ph</th>\n",
              "      <th>Hardness</th>\n",
              "      <th>Solids</th>\n",
              "      <th>Chloramines</th>\n",
              "      <th>Sulfate</th>\n",
              "      <th>Conductivity</th>\n",
              "      <th>Organic_carbon</th>\n",
              "      <th>Trihalomethanes</th>\n",
              "      <th>Turbidity</th>\n",
              "      <th>Potability</th>\n",
              "    </tr>\n",
              "  </thead>\n",
              "  <tbody>\n",
              "    <tr>\n",
              "      <th>0</th>\n",
              "      <td>NaN</td>\n",
              "      <td>204.890456</td>\n",
              "      <td>20791.31898</td>\n",
              "      <td>7.300212</td>\n",
              "      <td>368.516441</td>\n",
              "      <td>564.308654</td>\n",
              "      <td>10.379783</td>\n",
              "      <td>86.990970</td>\n",
              "      <td>2.963135</td>\n",
              "      <td>2</td>\n",
              "    </tr>\n",
              "    <tr>\n",
              "      <th>1</th>\n",
              "      <td>3.716080</td>\n",
              "      <td>129.422921</td>\n",
              "      <td>18630.05786</td>\n",
              "      <td>6.635246</td>\n",
              "      <td>NaN</td>\n",
              "      <td>592.885359</td>\n",
              "      <td>15.180013</td>\n",
              "      <td>56.329076</td>\n",
              "      <td>4.500656</td>\n",
              "      <td>2</td>\n",
              "    </tr>\n",
              "    <tr>\n",
              "      <th>2</th>\n",
              "      <td>8.099124</td>\n",
              "      <td>224.236259</td>\n",
              "      <td>19909.54173</td>\n",
              "      <td>9.275884</td>\n",
              "      <td>NaN</td>\n",
              "      <td>418.606213</td>\n",
              "      <td>16.868637</td>\n",
              "      <td>66.420093</td>\n",
              "      <td>3.055934</td>\n",
              "      <td>2</td>\n",
              "    </tr>\n",
              "    <tr>\n",
              "      <th>3</th>\n",
              "      <td>8.316766</td>\n",
              "      <td>214.373394</td>\n",
              "      <td>22018.41744</td>\n",
              "      <td>8.059332</td>\n",
              "      <td>356.886136</td>\n",
              "      <td>363.266516</td>\n",
              "      <td>18.436525</td>\n",
              "      <td>100.341674</td>\n",
              "      <td>4.628771</td>\n",
              "      <td>2</td>\n",
              "    </tr>\n",
              "    <tr>\n",
              "      <th>4</th>\n",
              "      <td>9.092223</td>\n",
              "      <td>181.101509</td>\n",
              "      <td>17978.98634</td>\n",
              "      <td>6.546600</td>\n",
              "      <td>310.135738</td>\n",
              "      <td>398.410813</td>\n",
              "      <td>11.558279</td>\n",
              "      <td>31.997993</td>\n",
              "      <td>4.075075</td>\n",
              "      <td>2</td>\n",
              "    </tr>\n",
              "  </tbody>\n",
              "</table>\n",
              "</div>\n",
              "      <button class=\"colab-df-convert\" onclick=\"convertToInteractive('df-7aa732cb-76bd-4016-bff8-aeee42eb80a3')\"\n",
              "              title=\"Convert this dataframe to an interactive table.\"\n",
              "              style=\"display:none;\">\n",
              "        \n",
              "  <svg xmlns=\"http://www.w3.org/2000/svg\" height=\"24px\"viewBox=\"0 0 24 24\"\n",
              "       width=\"24px\">\n",
              "    <path d=\"M0 0h24v24H0V0z\" fill=\"none\"/>\n",
              "    <path d=\"M18.56 5.44l.94 2.06.94-2.06 2.06-.94-2.06-.94-.94-2.06-.94 2.06-2.06.94zm-11 1L8.5 8.5l.94-2.06 2.06-.94-2.06-.94L8.5 2.5l-.94 2.06-2.06.94zm10 10l.94 2.06.94-2.06 2.06-.94-2.06-.94-.94-2.06-.94 2.06-2.06.94z\"/><path d=\"M17.41 7.96l-1.37-1.37c-.4-.4-.92-.59-1.43-.59-.52 0-1.04.2-1.43.59L10.3 9.45l-7.72 7.72c-.78.78-.78 2.05 0 2.83L4 21.41c.39.39.9.59 1.41.59.51 0 1.02-.2 1.41-.59l7.78-7.78 2.81-2.81c.8-.78.8-2.07 0-2.86zM5.41 20L4 18.59l7.72-7.72 1.47 1.35L5.41 20z\"/>\n",
              "  </svg>\n",
              "      </button>\n",
              "      \n",
              "  <style>\n",
              "    .colab-df-container {\n",
              "      display:flex;\n",
              "      flex-wrap:wrap;\n",
              "      gap: 12px;\n",
              "    }\n",
              "\n",
              "    .colab-df-convert {\n",
              "      background-color: #E8F0FE;\n",
              "      border: none;\n",
              "      border-radius: 50%;\n",
              "      cursor: pointer;\n",
              "      display: none;\n",
              "      fill: #1967D2;\n",
              "      height: 32px;\n",
              "      padding: 0 0 0 0;\n",
              "      width: 32px;\n",
              "    }\n",
              "\n",
              "    .colab-df-convert:hover {\n",
              "      background-color: #E2EBFA;\n",
              "      box-shadow: 0px 1px 2px rgba(60, 64, 67, 0.3), 0px 1px 3px 1px rgba(60, 64, 67, 0.15);\n",
              "      fill: #174EA6;\n",
              "    }\n",
              "\n",
              "    [theme=dark] .colab-df-convert {\n",
              "      background-color: #3B4455;\n",
              "      fill: #D2E3FC;\n",
              "    }\n",
              "\n",
              "    [theme=dark] .colab-df-convert:hover {\n",
              "      background-color: #434B5C;\n",
              "      box-shadow: 0px 1px 3px 1px rgba(0, 0, 0, 0.15);\n",
              "      filter: drop-shadow(0px 1px 2px rgba(0, 0, 0, 0.3));\n",
              "      fill: #FFFFFF;\n",
              "    }\n",
              "  </style>\n",
              "\n",
              "      <script>\n",
              "        const buttonEl =\n",
              "          document.querySelector('#df-7aa732cb-76bd-4016-bff8-aeee42eb80a3 button.colab-df-convert');\n",
              "        buttonEl.style.display =\n",
              "          google.colab.kernel.accessAllowed ? 'block' : 'none';\n",
              "\n",
              "        async function convertToInteractive(key) {\n",
              "          const element = document.querySelector('#df-7aa732cb-76bd-4016-bff8-aeee42eb80a3');\n",
              "          const dataTable =\n",
              "            await google.colab.kernel.invokeFunction('convertToInteractive',\n",
              "                                                     [key], {});\n",
              "          if (!dataTable) return;\n",
              "\n",
              "          const docLinkHtml = 'Like what you see? Visit the ' +\n",
              "            '<a target=\"_blank\" href=https://colab.research.google.com/notebooks/data_table.ipynb>data table notebook</a>'\n",
              "            + ' to learn more about interactive tables.';\n",
              "          element.innerHTML = '';\n",
              "          dataTable['output_type'] = 'display_data';\n",
              "          await google.colab.output.renderOutput(dataTable, element);\n",
              "          const docLink = document.createElement('div');\n",
              "          docLink.innerHTML = docLinkHtml;\n",
              "          element.appendChild(docLink);\n",
              "        }\n",
              "      </script>\n",
              "    </div>\n",
              "  </div>\n",
              "  "
            ]
          },
          "metadata": {},
          "execution_count": 89
        }
      ]
    },
    {
      "cell_type": "markdown",
      "source": [
        "Selain itu, atribut dapat di-*drop* apabila:\n",
        "* Atribut tidak intuitif \n",
        "* Atribut mempunyai banyak missing values.\n",
        "* Atribut tidak informatif.\n",
        "* Atribut dapat membahayakan untuk model tertentu.\n",
        "* Atribut tersebut dapat dihasilkan dari atribut yang lain."
      ],
      "metadata": {
        "id": "gFMFXwyTNRtr"
      }
    },
    {
      "cell_type": "markdown",
      "source": [
        "**Soal 6** : Berdasarkan operasi di atas, kita melihat bahwa terdapat 3 atribut lainnya yang memiliki missing values. Apa yang dapat Anda lakukan pada ketiga atribut tersebut? "
      ],
      "metadata": {
        "id": "kcgkv1RJ9thv"
      }
    },
    {
      "cell_type": "code",
      "source": [
        "# 6 Implementasi code di sini\n",
        "# menurut saya, karena missing values pada ketiga atribut tersebut cukup besar (lebih dari 5%),\n",
        "# maka menurut saya akan lebih baik jika missing values tersebut nilainya diganti dengan\n",
        "# nilai mean/rata-rata dari setiap kolom karena ketiga kolom tsb memiliki bentuk distribusi \n",
        "# normal (dilihat dari visualisasi persebaran data)\n",
        "for col in ['Sulfate', 'ph', 'Trihalomethanes']:\n",
        "  mean = water_df[col].mean()\n",
        "  water_df.loc[water_df[col].isna(), col] = mean\n",
        "\n",
        "water_df.isna().sum()"
      ],
      "metadata": {
        "id": "k0steKVc-E1C",
        "colab": {
          "base_uri": "https://localhost:8080/"
        },
        "outputId": "11df6c03-10d2-4bbd-b019-109975a8a826"
      },
      "execution_count": null,
      "outputs": [
        {
          "output_type": "execute_result",
          "data": {
            "text/plain": [
              "ph                 0\n",
              "Hardness           0\n",
              "Solids             0\n",
              "Chloramines        0\n",
              "Sulfate            0\n",
              "Conductivity       0\n",
              "Organic_carbon     0\n",
              "Trihalomethanes    0\n",
              "Turbidity          0\n",
              "Potability         0\n",
              "dtype: int64"
            ]
          },
          "metadata": {},
          "execution_count": 90
        }
      ]
    },
    {
      "cell_type": "markdown",
      "source": [
        "# Dimensionality Reduction with Principal Component Analysis (PCA) "
      ],
      "metadata": {
        "id": "fvuHowkQGdcN"
      }
    },
    {
      "cell_type": "markdown",
      "source": [
        "**Data Transformation**\n",
        "\n",
        "Tahapan selanjutnya dari Data Pre-processing adalah transformasi data yang di antaranya menyangkut pemilihan fitur untuk pembuatan model. Beberapa pendekatan yang dapat dilakukan untuk data transformation di antaranya : aggregation, sampling, dimensionality reduction, feature subset selection, feature creation, discretization and binarization, dan variable transformation (referensi: [Pre-processing Technique in ML](https://towardsdatascience.com/data-preprocessing-in-data-mining-machine-learning-79a9662e2eb)). Pada Lab kali ini kita akan mempelajari dimensionality reduction menggunakan teknik PCA."
      ],
      "metadata": {
        "id": "4b5VNCNAP9se"
      }
    },
    {
      "cell_type": "markdown",
      "source": [
        "**Introduction to PCA**\n",
        "\n",
        "PCA atau Principal Component Analysis merupakan teknik reduksi dimensi yang dilakukan untuk mentransformasi data dengan dimensi tinggi ke dimensi yang lebih rendah (mengurangi kompleksitas fitur). Secara matematis, teknik ini akan mentransformasi data ke dalam sistem koordinat baru dimana principal component pertama akan memiliki nilai variansi data yang lebih besar dibandingkan principal component kedua, dan seterusnya. (Baca selengkapnya pada PPT PCA yang terdapat di scele). "
      ],
      "metadata": {
        "id": "-H013AujK3hG"
      }
    },
    {
      "cell_type": "markdown",
      "source": [
        "## Deskripsi Dataset"
      ],
      "metadata": {
        "id": "fdqlv_d65vsX"
      }
    },
    {
      "cell_type": "markdown",
      "source": [
        "Pada latihan PCA ini, kita akan menggunakan Wisconsin Breast Cancer dataset yang dapat diakses melalui link berikut: [Kaggle | Wisconsin Breast Cancer](https://www.kaggle.com/datasets/uciml/breast-cancer-wisconsin-data). Terdapat 569 baris dengan 32 atribut pada dataset ini. \n"
      ],
      "metadata": {
        "id": "pd8zw7-IIrc-"
      }
    },
    {
      "cell_type": "code",
      "source": [
        "# Import dataset \n",
        "breast_cancer = pd.read_csv('wisconsin_breast_cancer.csv')"
      ],
      "metadata": {
        "id": "mvw_i-jL7ho1"
      },
      "execution_count": null,
      "outputs": []
    },
    {
      "cell_type": "code",
      "source": [
        "# Melihat shape dari dataframe\n",
        "total_rows, total_attributes = breast_cancer.shape\n",
        "print('Jumlah data:', total_rows)\n",
        "print(\"Jumlah atribut:\", total_attributes)"
      ],
      "metadata": {
        "colab": {
          "base_uri": "https://localhost:8080/"
        },
        "id": "x3eKkR1dTXdO",
        "outputId": "bf00eb0b-d3db-435b-9788-a45dba4378a0"
      },
      "execution_count": null,
      "outputs": [
        {
          "output_type": "stream",
          "name": "stdout",
          "text": [
            "Jumlah data: 569\n",
            "Jumlah atribut: 32\n"
          ]
        }
      ]
    },
    {
      "cell_type": "code",
      "source": [
        "# Melihat nama atribut dalam dataframe\n",
        "print(\"-----Berikut adalah daftar kolom/attribut dalam dataset-----\")\n",
        "print()\n",
        "print(breast_cancer.columns)"
      ],
      "metadata": {
        "colab": {
          "base_uri": "https://localhost:8080/"
        },
        "id": "IncTnjVNYB5J",
        "outputId": "da835251-f3a5-4d03-979c-978572e5d967"
      },
      "execution_count": null,
      "outputs": [
        {
          "output_type": "stream",
          "name": "stdout",
          "text": [
            "-----Berikut adalah daftar kolom/attribut dalam dataset-----\n",
            "\n",
            "Index(['id', 'diagnosis', 'radius_mean', 'texture_mean', 'perimeter_mean',\n",
            "       'area_mean', 'smoothness_mean', 'compactness_mean', 'concavity_mean',\n",
            "       'concave points_mean', 'symmetry_mean', 'fractal_dimension_mean',\n",
            "       'radius_se', 'texture_se', 'perimeter_se', 'area_se', 'smoothness_se',\n",
            "       'compactness_se', 'concavity_se', 'concave points_se', 'symmetry_se',\n",
            "       'fractal_dimension_se', 'radius_worst', 'texture_worst',\n",
            "       'perimeter_worst', 'area_worst', 'smoothness_worst',\n",
            "       'compactness_worst', 'concavity_worst', 'concave points_worst',\n",
            "       'symmetry_worst', 'fractal_dimension_worst'],\n",
            "      dtype='object')\n"
          ]
        }
      ]
    },
    {
      "cell_type": "code",
      "source": [
        "print(\"-----Berikut adalah daftar kolom/attribut yang bertipe numerik-----\")\n",
        "print()\n",
        "print(breast_cancer.select_dtypes(np.number).columns)\n",
        "print()\n",
        "print(\"Jumlah data yang numerik\", len(breast_cancer.select_dtypes(np.number).columns))"
      ],
      "metadata": {
        "colab": {
          "base_uri": "https://localhost:8080/"
        },
        "id": "uqlLYO8BX-I-",
        "outputId": "aff61ddc-3bb2-4930-93bf-f334d21a6223"
      },
      "execution_count": null,
      "outputs": [
        {
          "output_type": "stream",
          "name": "stdout",
          "text": [
            "-----Berikut adalah daftar kolom/attribut yang bertipe numerik-----\n",
            "\n",
            "Index(['id', 'radius_mean', 'texture_mean', 'perimeter_mean', 'area_mean',\n",
            "       'smoothness_mean', 'compactness_mean', 'concavity_mean',\n",
            "       'concave points_mean', 'symmetry_mean', 'fractal_dimension_mean',\n",
            "       'radius_se', 'texture_se', 'perimeter_se', 'area_se', 'smoothness_se',\n",
            "       'compactness_se', 'concavity_se', 'concave points_se', 'symmetry_se',\n",
            "       'fractal_dimension_se', 'radius_worst', 'texture_worst',\n",
            "       'perimeter_worst', 'area_worst', 'smoothness_worst',\n",
            "       'compactness_worst', 'concavity_worst', 'concave points_worst',\n",
            "       'symmetry_worst', 'fractal_dimension_worst'],\n",
            "      dtype='object')\n",
            "\n",
            "Jumlah data yang numerik 31\n"
          ]
        }
      ]
    },
    {
      "cell_type": "code",
      "source": [
        "print(\"-----Berikut adalah daftar kolom/attribut yang bertipe kategorik-----\")\n",
        "print()\n",
        "print(breast_cancer.select_dtypes(object).columns)\n",
        "print()\n",
        "print(\"Jumlah data yang kategorik\", len(breast_cancer.select_dtypes(object).columns))"
      ],
      "metadata": {
        "colab": {
          "base_uri": "https://localhost:8080/"
        },
        "id": "KiGCdxEPYYuX",
        "outputId": "a9f8d592-f5d9-4044-d02e-223daceb310f"
      },
      "execution_count": null,
      "outputs": [
        {
          "output_type": "stream",
          "name": "stdout",
          "text": [
            "-----Berikut adalah daftar kolom/attribut yang bertipe kategorik-----\n",
            "\n",
            "Index(['diagnosis'], dtype='object')\n",
            "\n",
            "Jumlah data yang kategorik 1\n"
          ]
        }
      ]
    },
    {
      "cell_type": "code",
      "source": [
        "# Melihat 5 elemen teratas dalam dataframe\n",
        "breast_cancer.head()"
      ],
      "metadata": {
        "colab": {
          "base_uri": "https://localhost:8080/",
          "height": 317
        },
        "id": "ThbF09jP8qE6",
        "outputId": "44e76f02-8387-4aee-d833-714d7e88123e"
      },
      "execution_count": null,
      "outputs": [
        {
          "output_type": "execute_result",
          "data": {
            "text/plain": [
              "         id diagnosis  radius_mean  texture_mean  perimeter_mean  area_mean  \\\n",
              "0    842302         M        17.99         10.38          122.80     1001.0   \n",
              "1    842517         M        20.57         17.77          132.90     1326.0   \n",
              "2  84300903         M        19.69         21.25          130.00     1203.0   \n",
              "3  84348301         M        11.42         20.38           77.58      386.1   \n",
              "4  84358402         M        20.29         14.34          135.10     1297.0   \n",
              "\n",
              "   smoothness_mean  compactness_mean  concavity_mean  concave points_mean  \\\n",
              "0          0.11840           0.27760          0.3001              0.14710   \n",
              "1          0.08474           0.07864          0.0869              0.07017   \n",
              "2          0.10960           0.15990          0.1974              0.12790   \n",
              "3          0.14250           0.28390          0.2414              0.10520   \n",
              "4          0.10030           0.13280          0.1980              0.10430   \n",
              "\n",
              "   ...  radius_worst  texture_worst  perimeter_worst  area_worst  \\\n",
              "0  ...         25.38          17.33           184.60      2019.0   \n",
              "1  ...         24.99          23.41           158.80      1956.0   \n",
              "2  ...         23.57          25.53           152.50      1709.0   \n",
              "3  ...         14.91          26.50            98.87       567.7   \n",
              "4  ...         22.54          16.67           152.20      1575.0   \n",
              "\n",
              "   smoothness_worst  compactness_worst  concavity_worst  concave points_worst  \\\n",
              "0            0.1622             0.6656           0.7119                0.2654   \n",
              "1            0.1238             0.1866           0.2416                0.1860   \n",
              "2            0.1444             0.4245           0.4504                0.2430   \n",
              "3            0.2098             0.8663           0.6869                0.2575   \n",
              "4            0.1374             0.2050           0.4000                0.1625   \n",
              "\n",
              "   symmetry_worst  fractal_dimension_worst  \n",
              "0          0.4601                  0.11890  \n",
              "1          0.2750                  0.08902  \n",
              "2          0.3613                  0.08758  \n",
              "3          0.6638                  0.17300  \n",
              "4          0.2364                  0.07678  \n",
              "\n",
              "[5 rows x 32 columns]"
            ],
            "text/html": [
              "\n",
              "  <div id=\"df-5e285dd1-ffaa-4372-be47-f8fa5a59066a\">\n",
              "    <div class=\"colab-df-container\">\n",
              "      <div>\n",
              "<style scoped>\n",
              "    .dataframe tbody tr th:only-of-type {\n",
              "        vertical-align: middle;\n",
              "    }\n",
              "\n",
              "    .dataframe tbody tr th {\n",
              "        vertical-align: top;\n",
              "    }\n",
              "\n",
              "    .dataframe thead th {\n",
              "        text-align: right;\n",
              "    }\n",
              "</style>\n",
              "<table border=\"1\" class=\"dataframe\">\n",
              "  <thead>\n",
              "    <tr style=\"text-align: right;\">\n",
              "      <th></th>\n",
              "      <th>id</th>\n",
              "      <th>diagnosis</th>\n",
              "      <th>radius_mean</th>\n",
              "      <th>texture_mean</th>\n",
              "      <th>perimeter_mean</th>\n",
              "      <th>area_mean</th>\n",
              "      <th>smoothness_mean</th>\n",
              "      <th>compactness_mean</th>\n",
              "      <th>concavity_mean</th>\n",
              "      <th>concave points_mean</th>\n",
              "      <th>...</th>\n",
              "      <th>radius_worst</th>\n",
              "      <th>texture_worst</th>\n",
              "      <th>perimeter_worst</th>\n",
              "      <th>area_worst</th>\n",
              "      <th>smoothness_worst</th>\n",
              "      <th>compactness_worst</th>\n",
              "      <th>concavity_worst</th>\n",
              "      <th>concave points_worst</th>\n",
              "      <th>symmetry_worst</th>\n",
              "      <th>fractal_dimension_worst</th>\n",
              "    </tr>\n",
              "  </thead>\n",
              "  <tbody>\n",
              "    <tr>\n",
              "      <th>0</th>\n",
              "      <td>842302</td>\n",
              "      <td>M</td>\n",
              "      <td>17.99</td>\n",
              "      <td>10.38</td>\n",
              "      <td>122.80</td>\n",
              "      <td>1001.0</td>\n",
              "      <td>0.11840</td>\n",
              "      <td>0.27760</td>\n",
              "      <td>0.3001</td>\n",
              "      <td>0.14710</td>\n",
              "      <td>...</td>\n",
              "      <td>25.38</td>\n",
              "      <td>17.33</td>\n",
              "      <td>184.60</td>\n",
              "      <td>2019.0</td>\n",
              "      <td>0.1622</td>\n",
              "      <td>0.6656</td>\n",
              "      <td>0.7119</td>\n",
              "      <td>0.2654</td>\n",
              "      <td>0.4601</td>\n",
              "      <td>0.11890</td>\n",
              "    </tr>\n",
              "    <tr>\n",
              "      <th>1</th>\n",
              "      <td>842517</td>\n",
              "      <td>M</td>\n",
              "      <td>20.57</td>\n",
              "      <td>17.77</td>\n",
              "      <td>132.90</td>\n",
              "      <td>1326.0</td>\n",
              "      <td>0.08474</td>\n",
              "      <td>0.07864</td>\n",
              "      <td>0.0869</td>\n",
              "      <td>0.07017</td>\n",
              "      <td>...</td>\n",
              "      <td>24.99</td>\n",
              "      <td>23.41</td>\n",
              "      <td>158.80</td>\n",
              "      <td>1956.0</td>\n",
              "      <td>0.1238</td>\n",
              "      <td>0.1866</td>\n",
              "      <td>0.2416</td>\n",
              "      <td>0.1860</td>\n",
              "      <td>0.2750</td>\n",
              "      <td>0.08902</td>\n",
              "    </tr>\n",
              "    <tr>\n",
              "      <th>2</th>\n",
              "      <td>84300903</td>\n",
              "      <td>M</td>\n",
              "      <td>19.69</td>\n",
              "      <td>21.25</td>\n",
              "      <td>130.00</td>\n",
              "      <td>1203.0</td>\n",
              "      <td>0.10960</td>\n",
              "      <td>0.15990</td>\n",
              "      <td>0.1974</td>\n",
              "      <td>0.12790</td>\n",
              "      <td>...</td>\n",
              "      <td>23.57</td>\n",
              "      <td>25.53</td>\n",
              "      <td>152.50</td>\n",
              "      <td>1709.0</td>\n",
              "      <td>0.1444</td>\n",
              "      <td>0.4245</td>\n",
              "      <td>0.4504</td>\n",
              "      <td>0.2430</td>\n",
              "      <td>0.3613</td>\n",
              "      <td>0.08758</td>\n",
              "    </tr>\n",
              "    <tr>\n",
              "      <th>3</th>\n",
              "      <td>84348301</td>\n",
              "      <td>M</td>\n",
              "      <td>11.42</td>\n",
              "      <td>20.38</td>\n",
              "      <td>77.58</td>\n",
              "      <td>386.1</td>\n",
              "      <td>0.14250</td>\n",
              "      <td>0.28390</td>\n",
              "      <td>0.2414</td>\n",
              "      <td>0.10520</td>\n",
              "      <td>...</td>\n",
              "      <td>14.91</td>\n",
              "      <td>26.50</td>\n",
              "      <td>98.87</td>\n",
              "      <td>567.7</td>\n",
              "      <td>0.2098</td>\n",
              "      <td>0.8663</td>\n",
              "      <td>0.6869</td>\n",
              "      <td>0.2575</td>\n",
              "      <td>0.6638</td>\n",
              "      <td>0.17300</td>\n",
              "    </tr>\n",
              "    <tr>\n",
              "      <th>4</th>\n",
              "      <td>84358402</td>\n",
              "      <td>M</td>\n",
              "      <td>20.29</td>\n",
              "      <td>14.34</td>\n",
              "      <td>135.10</td>\n",
              "      <td>1297.0</td>\n",
              "      <td>0.10030</td>\n",
              "      <td>0.13280</td>\n",
              "      <td>0.1980</td>\n",
              "      <td>0.10430</td>\n",
              "      <td>...</td>\n",
              "      <td>22.54</td>\n",
              "      <td>16.67</td>\n",
              "      <td>152.20</td>\n",
              "      <td>1575.0</td>\n",
              "      <td>0.1374</td>\n",
              "      <td>0.2050</td>\n",
              "      <td>0.4000</td>\n",
              "      <td>0.1625</td>\n",
              "      <td>0.2364</td>\n",
              "      <td>0.07678</td>\n",
              "    </tr>\n",
              "  </tbody>\n",
              "</table>\n",
              "<p>5 rows × 32 columns</p>\n",
              "</div>\n",
              "      <button class=\"colab-df-convert\" onclick=\"convertToInteractive('df-5e285dd1-ffaa-4372-be47-f8fa5a59066a')\"\n",
              "              title=\"Convert this dataframe to an interactive table.\"\n",
              "              style=\"display:none;\">\n",
              "        \n",
              "  <svg xmlns=\"http://www.w3.org/2000/svg\" height=\"24px\"viewBox=\"0 0 24 24\"\n",
              "       width=\"24px\">\n",
              "    <path d=\"M0 0h24v24H0V0z\" fill=\"none\"/>\n",
              "    <path d=\"M18.56 5.44l.94 2.06.94-2.06 2.06-.94-2.06-.94-.94-2.06-.94 2.06-2.06.94zm-11 1L8.5 8.5l.94-2.06 2.06-.94-2.06-.94L8.5 2.5l-.94 2.06-2.06.94zm10 10l.94 2.06.94-2.06 2.06-.94-2.06-.94-.94-2.06-.94 2.06-2.06.94z\"/><path d=\"M17.41 7.96l-1.37-1.37c-.4-.4-.92-.59-1.43-.59-.52 0-1.04.2-1.43.59L10.3 9.45l-7.72 7.72c-.78.78-.78 2.05 0 2.83L4 21.41c.39.39.9.59 1.41.59.51 0 1.02-.2 1.41-.59l7.78-7.78 2.81-2.81c.8-.78.8-2.07 0-2.86zM5.41 20L4 18.59l7.72-7.72 1.47 1.35L5.41 20z\"/>\n",
              "  </svg>\n",
              "      </button>\n",
              "      \n",
              "  <style>\n",
              "    .colab-df-container {\n",
              "      display:flex;\n",
              "      flex-wrap:wrap;\n",
              "      gap: 12px;\n",
              "    }\n",
              "\n",
              "    .colab-df-convert {\n",
              "      background-color: #E8F0FE;\n",
              "      border: none;\n",
              "      border-radius: 50%;\n",
              "      cursor: pointer;\n",
              "      display: none;\n",
              "      fill: #1967D2;\n",
              "      height: 32px;\n",
              "      padding: 0 0 0 0;\n",
              "      width: 32px;\n",
              "    }\n",
              "\n",
              "    .colab-df-convert:hover {\n",
              "      background-color: #E2EBFA;\n",
              "      box-shadow: 0px 1px 2px rgba(60, 64, 67, 0.3), 0px 1px 3px 1px rgba(60, 64, 67, 0.15);\n",
              "      fill: #174EA6;\n",
              "    }\n",
              "\n",
              "    [theme=dark] .colab-df-convert {\n",
              "      background-color: #3B4455;\n",
              "      fill: #D2E3FC;\n",
              "    }\n",
              "\n",
              "    [theme=dark] .colab-df-convert:hover {\n",
              "      background-color: #434B5C;\n",
              "      box-shadow: 0px 1px 3px 1px rgba(0, 0, 0, 0.15);\n",
              "      filter: drop-shadow(0px 1px 2px rgba(0, 0, 0, 0.3));\n",
              "      fill: #FFFFFF;\n",
              "    }\n",
              "  </style>\n",
              "\n",
              "      <script>\n",
              "        const buttonEl =\n",
              "          document.querySelector('#df-5e285dd1-ffaa-4372-be47-f8fa5a59066a button.colab-df-convert');\n",
              "        buttonEl.style.display =\n",
              "          google.colab.kernel.accessAllowed ? 'block' : 'none';\n",
              "\n",
              "        async function convertToInteractive(key) {\n",
              "          const element = document.querySelector('#df-5e285dd1-ffaa-4372-be47-f8fa5a59066a');\n",
              "          const dataTable =\n",
              "            await google.colab.kernel.invokeFunction('convertToInteractive',\n",
              "                                                     [key], {});\n",
              "          if (!dataTable) return;\n",
              "\n",
              "          const docLinkHtml = 'Like what you see? Visit the ' +\n",
              "            '<a target=\"_blank\" href=https://colab.research.google.com/notebooks/data_table.ipynb>data table notebook</a>'\n",
              "            + ' to learn more about interactive tables.';\n",
              "          element.innerHTML = '';\n",
              "          dataTable['output_type'] = 'display_data';\n",
              "          await google.colab.output.renderOutput(dataTable, element);\n",
              "          const docLink = document.createElement('div');\n",
              "          docLink.innerHTML = docLinkHtml;\n",
              "          element.appendChild(docLink);\n",
              "        }\n",
              "      </script>\n",
              "    </div>\n",
              "  </div>\n",
              "  "
            ]
          },
          "metadata": {},
          "execution_count": 96
        }
      ]
    },
    {
      "cell_type": "code",
      "source": [
        "# Melihat deskripsi dataset\n",
        "breast_cancer.describe()"
      ],
      "metadata": {
        "colab": {
          "base_uri": "https://localhost:8080/",
          "height": 411
        },
        "id": "biBMxu807myF",
        "outputId": "6fb3a00c-f140-464c-e00b-4d518d007bc4"
      },
      "execution_count": null,
      "outputs": [
        {
          "output_type": "execute_result",
          "data": {
            "text/plain": [
              "                 id  radius_mean  texture_mean  perimeter_mean    area_mean  \\\n",
              "count  5.690000e+02   569.000000    569.000000      569.000000   569.000000   \n",
              "mean   3.037183e+07    14.127292     19.289649       91.969033   654.889104   \n",
              "std    1.250206e+08     3.524049      4.301036       24.298981   351.914129   \n",
              "min    8.670000e+03     6.981000      9.710000       43.790000   143.500000   \n",
              "25%    8.692180e+05    11.700000     16.170000       75.170000   420.300000   \n",
              "50%    9.060240e+05    13.370000     18.840000       86.240000   551.100000   \n",
              "75%    8.813129e+06    15.780000     21.800000      104.100000   782.700000   \n",
              "max    9.113205e+08    28.110000     39.280000      188.500000  2501.000000   \n",
              "\n",
              "       smoothness_mean  compactness_mean  concavity_mean  concave points_mean  \\\n",
              "count       569.000000        569.000000      569.000000           569.000000   \n",
              "mean          0.096360          0.104341        0.088799             0.048919   \n",
              "std           0.014064          0.052813        0.079720             0.038803   \n",
              "min           0.052630          0.019380        0.000000             0.000000   \n",
              "25%           0.086370          0.064920        0.029560             0.020310   \n",
              "50%           0.095870          0.092630        0.061540             0.033500   \n",
              "75%           0.105300          0.130400        0.130700             0.074000   \n",
              "max           0.163400          0.345400        0.426800             0.201200   \n",
              "\n",
              "       symmetry_mean  ...  radius_worst  texture_worst  perimeter_worst  \\\n",
              "count     569.000000  ...    569.000000     569.000000       569.000000   \n",
              "mean        0.181162  ...     16.269190      25.677223       107.261213   \n",
              "std         0.027414  ...      4.833242       6.146258        33.602542   \n",
              "min         0.106000  ...      7.930000      12.020000        50.410000   \n",
              "25%         0.161900  ...     13.010000      21.080000        84.110000   \n",
              "50%         0.179200  ...     14.970000      25.410000        97.660000   \n",
              "75%         0.195700  ...     18.790000      29.720000       125.400000   \n",
              "max         0.304000  ...     36.040000      49.540000       251.200000   \n",
              "\n",
              "        area_worst  smoothness_worst  compactness_worst  concavity_worst  \\\n",
              "count   569.000000        569.000000         569.000000       569.000000   \n",
              "mean    880.583128          0.132369           0.254265         0.272188   \n",
              "std     569.356993          0.022832           0.157336         0.208624   \n",
              "min     185.200000          0.071170           0.027290         0.000000   \n",
              "25%     515.300000          0.116600           0.147200         0.114500   \n",
              "50%     686.500000          0.131300           0.211900         0.226700   \n",
              "75%    1084.000000          0.146000           0.339100         0.382900   \n",
              "max    4254.000000          0.222600           1.058000         1.252000   \n",
              "\n",
              "       concave points_worst  symmetry_worst  fractal_dimension_worst  \n",
              "count            569.000000      569.000000               569.000000  \n",
              "mean               0.114606        0.290076                 0.083946  \n",
              "std                0.065732        0.061867                 0.018061  \n",
              "min                0.000000        0.156500                 0.055040  \n",
              "25%                0.064930        0.250400                 0.071460  \n",
              "50%                0.099930        0.282200                 0.080040  \n",
              "75%                0.161400        0.317900                 0.092080  \n",
              "max                0.291000        0.663800                 0.207500  \n",
              "\n",
              "[8 rows x 31 columns]"
            ],
            "text/html": [
              "\n",
              "  <div id=\"df-7c2ffea3-cce1-4d90-a61b-52be766c3193\">\n",
              "    <div class=\"colab-df-container\">\n",
              "      <div>\n",
              "<style scoped>\n",
              "    .dataframe tbody tr th:only-of-type {\n",
              "        vertical-align: middle;\n",
              "    }\n",
              "\n",
              "    .dataframe tbody tr th {\n",
              "        vertical-align: top;\n",
              "    }\n",
              "\n",
              "    .dataframe thead th {\n",
              "        text-align: right;\n",
              "    }\n",
              "</style>\n",
              "<table border=\"1\" class=\"dataframe\">\n",
              "  <thead>\n",
              "    <tr style=\"text-align: right;\">\n",
              "      <th></th>\n",
              "      <th>id</th>\n",
              "      <th>radius_mean</th>\n",
              "      <th>texture_mean</th>\n",
              "      <th>perimeter_mean</th>\n",
              "      <th>area_mean</th>\n",
              "      <th>smoothness_mean</th>\n",
              "      <th>compactness_mean</th>\n",
              "      <th>concavity_mean</th>\n",
              "      <th>concave points_mean</th>\n",
              "      <th>symmetry_mean</th>\n",
              "      <th>...</th>\n",
              "      <th>radius_worst</th>\n",
              "      <th>texture_worst</th>\n",
              "      <th>perimeter_worst</th>\n",
              "      <th>area_worst</th>\n",
              "      <th>smoothness_worst</th>\n",
              "      <th>compactness_worst</th>\n",
              "      <th>concavity_worst</th>\n",
              "      <th>concave points_worst</th>\n",
              "      <th>symmetry_worst</th>\n",
              "      <th>fractal_dimension_worst</th>\n",
              "    </tr>\n",
              "  </thead>\n",
              "  <tbody>\n",
              "    <tr>\n",
              "      <th>count</th>\n",
              "      <td>5.690000e+02</td>\n",
              "      <td>569.000000</td>\n",
              "      <td>569.000000</td>\n",
              "      <td>569.000000</td>\n",
              "      <td>569.000000</td>\n",
              "      <td>569.000000</td>\n",
              "      <td>569.000000</td>\n",
              "      <td>569.000000</td>\n",
              "      <td>569.000000</td>\n",
              "      <td>569.000000</td>\n",
              "      <td>...</td>\n",
              "      <td>569.000000</td>\n",
              "      <td>569.000000</td>\n",
              "      <td>569.000000</td>\n",
              "      <td>569.000000</td>\n",
              "      <td>569.000000</td>\n",
              "      <td>569.000000</td>\n",
              "      <td>569.000000</td>\n",
              "      <td>569.000000</td>\n",
              "      <td>569.000000</td>\n",
              "      <td>569.000000</td>\n",
              "    </tr>\n",
              "    <tr>\n",
              "      <th>mean</th>\n",
              "      <td>3.037183e+07</td>\n",
              "      <td>14.127292</td>\n",
              "      <td>19.289649</td>\n",
              "      <td>91.969033</td>\n",
              "      <td>654.889104</td>\n",
              "      <td>0.096360</td>\n",
              "      <td>0.104341</td>\n",
              "      <td>0.088799</td>\n",
              "      <td>0.048919</td>\n",
              "      <td>0.181162</td>\n",
              "      <td>...</td>\n",
              "      <td>16.269190</td>\n",
              "      <td>25.677223</td>\n",
              "      <td>107.261213</td>\n",
              "      <td>880.583128</td>\n",
              "      <td>0.132369</td>\n",
              "      <td>0.254265</td>\n",
              "      <td>0.272188</td>\n",
              "      <td>0.114606</td>\n",
              "      <td>0.290076</td>\n",
              "      <td>0.083946</td>\n",
              "    </tr>\n",
              "    <tr>\n",
              "      <th>std</th>\n",
              "      <td>1.250206e+08</td>\n",
              "      <td>3.524049</td>\n",
              "      <td>4.301036</td>\n",
              "      <td>24.298981</td>\n",
              "      <td>351.914129</td>\n",
              "      <td>0.014064</td>\n",
              "      <td>0.052813</td>\n",
              "      <td>0.079720</td>\n",
              "      <td>0.038803</td>\n",
              "      <td>0.027414</td>\n",
              "      <td>...</td>\n",
              "      <td>4.833242</td>\n",
              "      <td>6.146258</td>\n",
              "      <td>33.602542</td>\n",
              "      <td>569.356993</td>\n",
              "      <td>0.022832</td>\n",
              "      <td>0.157336</td>\n",
              "      <td>0.208624</td>\n",
              "      <td>0.065732</td>\n",
              "      <td>0.061867</td>\n",
              "      <td>0.018061</td>\n",
              "    </tr>\n",
              "    <tr>\n",
              "      <th>min</th>\n",
              "      <td>8.670000e+03</td>\n",
              "      <td>6.981000</td>\n",
              "      <td>9.710000</td>\n",
              "      <td>43.790000</td>\n",
              "      <td>143.500000</td>\n",
              "      <td>0.052630</td>\n",
              "      <td>0.019380</td>\n",
              "      <td>0.000000</td>\n",
              "      <td>0.000000</td>\n",
              "      <td>0.106000</td>\n",
              "      <td>...</td>\n",
              "      <td>7.930000</td>\n",
              "      <td>12.020000</td>\n",
              "      <td>50.410000</td>\n",
              "      <td>185.200000</td>\n",
              "      <td>0.071170</td>\n",
              "      <td>0.027290</td>\n",
              "      <td>0.000000</td>\n",
              "      <td>0.000000</td>\n",
              "      <td>0.156500</td>\n",
              "      <td>0.055040</td>\n",
              "    </tr>\n",
              "    <tr>\n",
              "      <th>25%</th>\n",
              "      <td>8.692180e+05</td>\n",
              "      <td>11.700000</td>\n",
              "      <td>16.170000</td>\n",
              "      <td>75.170000</td>\n",
              "      <td>420.300000</td>\n",
              "      <td>0.086370</td>\n",
              "      <td>0.064920</td>\n",
              "      <td>0.029560</td>\n",
              "      <td>0.020310</td>\n",
              "      <td>0.161900</td>\n",
              "      <td>...</td>\n",
              "      <td>13.010000</td>\n",
              "      <td>21.080000</td>\n",
              "      <td>84.110000</td>\n",
              "      <td>515.300000</td>\n",
              "      <td>0.116600</td>\n",
              "      <td>0.147200</td>\n",
              "      <td>0.114500</td>\n",
              "      <td>0.064930</td>\n",
              "      <td>0.250400</td>\n",
              "      <td>0.071460</td>\n",
              "    </tr>\n",
              "    <tr>\n",
              "      <th>50%</th>\n",
              "      <td>9.060240e+05</td>\n",
              "      <td>13.370000</td>\n",
              "      <td>18.840000</td>\n",
              "      <td>86.240000</td>\n",
              "      <td>551.100000</td>\n",
              "      <td>0.095870</td>\n",
              "      <td>0.092630</td>\n",
              "      <td>0.061540</td>\n",
              "      <td>0.033500</td>\n",
              "      <td>0.179200</td>\n",
              "      <td>...</td>\n",
              "      <td>14.970000</td>\n",
              "      <td>25.410000</td>\n",
              "      <td>97.660000</td>\n",
              "      <td>686.500000</td>\n",
              "      <td>0.131300</td>\n",
              "      <td>0.211900</td>\n",
              "      <td>0.226700</td>\n",
              "      <td>0.099930</td>\n",
              "      <td>0.282200</td>\n",
              "      <td>0.080040</td>\n",
              "    </tr>\n",
              "    <tr>\n",
              "      <th>75%</th>\n",
              "      <td>8.813129e+06</td>\n",
              "      <td>15.780000</td>\n",
              "      <td>21.800000</td>\n",
              "      <td>104.100000</td>\n",
              "      <td>782.700000</td>\n",
              "      <td>0.105300</td>\n",
              "      <td>0.130400</td>\n",
              "      <td>0.130700</td>\n",
              "      <td>0.074000</td>\n",
              "      <td>0.195700</td>\n",
              "      <td>...</td>\n",
              "      <td>18.790000</td>\n",
              "      <td>29.720000</td>\n",
              "      <td>125.400000</td>\n",
              "      <td>1084.000000</td>\n",
              "      <td>0.146000</td>\n",
              "      <td>0.339100</td>\n",
              "      <td>0.382900</td>\n",
              "      <td>0.161400</td>\n",
              "      <td>0.317900</td>\n",
              "      <td>0.092080</td>\n",
              "    </tr>\n",
              "    <tr>\n",
              "      <th>max</th>\n",
              "      <td>9.113205e+08</td>\n",
              "      <td>28.110000</td>\n",
              "      <td>39.280000</td>\n",
              "      <td>188.500000</td>\n",
              "      <td>2501.000000</td>\n",
              "      <td>0.163400</td>\n",
              "      <td>0.345400</td>\n",
              "      <td>0.426800</td>\n",
              "      <td>0.201200</td>\n",
              "      <td>0.304000</td>\n",
              "      <td>...</td>\n",
              "      <td>36.040000</td>\n",
              "      <td>49.540000</td>\n",
              "      <td>251.200000</td>\n",
              "      <td>4254.000000</td>\n",
              "      <td>0.222600</td>\n",
              "      <td>1.058000</td>\n",
              "      <td>1.252000</td>\n",
              "      <td>0.291000</td>\n",
              "      <td>0.663800</td>\n",
              "      <td>0.207500</td>\n",
              "    </tr>\n",
              "  </tbody>\n",
              "</table>\n",
              "<p>8 rows × 31 columns</p>\n",
              "</div>\n",
              "      <button class=\"colab-df-convert\" onclick=\"convertToInteractive('df-7c2ffea3-cce1-4d90-a61b-52be766c3193')\"\n",
              "              title=\"Convert this dataframe to an interactive table.\"\n",
              "              style=\"display:none;\">\n",
              "        \n",
              "  <svg xmlns=\"http://www.w3.org/2000/svg\" height=\"24px\"viewBox=\"0 0 24 24\"\n",
              "       width=\"24px\">\n",
              "    <path d=\"M0 0h24v24H0V0z\" fill=\"none\"/>\n",
              "    <path d=\"M18.56 5.44l.94 2.06.94-2.06 2.06-.94-2.06-.94-.94-2.06-.94 2.06-2.06.94zm-11 1L8.5 8.5l.94-2.06 2.06-.94-2.06-.94L8.5 2.5l-.94 2.06-2.06.94zm10 10l.94 2.06.94-2.06 2.06-.94-2.06-.94-.94-2.06-.94 2.06-2.06.94z\"/><path d=\"M17.41 7.96l-1.37-1.37c-.4-.4-.92-.59-1.43-.59-.52 0-1.04.2-1.43.59L10.3 9.45l-7.72 7.72c-.78.78-.78 2.05 0 2.83L4 21.41c.39.39.9.59 1.41.59.51 0 1.02-.2 1.41-.59l7.78-7.78 2.81-2.81c.8-.78.8-2.07 0-2.86zM5.41 20L4 18.59l7.72-7.72 1.47 1.35L5.41 20z\"/>\n",
              "  </svg>\n",
              "      </button>\n",
              "      \n",
              "  <style>\n",
              "    .colab-df-container {\n",
              "      display:flex;\n",
              "      flex-wrap:wrap;\n",
              "      gap: 12px;\n",
              "    }\n",
              "\n",
              "    .colab-df-convert {\n",
              "      background-color: #E8F0FE;\n",
              "      border: none;\n",
              "      border-radius: 50%;\n",
              "      cursor: pointer;\n",
              "      display: none;\n",
              "      fill: #1967D2;\n",
              "      height: 32px;\n",
              "      padding: 0 0 0 0;\n",
              "      width: 32px;\n",
              "    }\n",
              "\n",
              "    .colab-df-convert:hover {\n",
              "      background-color: #E2EBFA;\n",
              "      box-shadow: 0px 1px 2px rgba(60, 64, 67, 0.3), 0px 1px 3px 1px rgba(60, 64, 67, 0.15);\n",
              "      fill: #174EA6;\n",
              "    }\n",
              "\n",
              "    [theme=dark] .colab-df-convert {\n",
              "      background-color: #3B4455;\n",
              "      fill: #D2E3FC;\n",
              "    }\n",
              "\n",
              "    [theme=dark] .colab-df-convert:hover {\n",
              "      background-color: #434B5C;\n",
              "      box-shadow: 0px 1px 3px 1px rgba(0, 0, 0, 0.15);\n",
              "      filter: drop-shadow(0px 1px 2px rgba(0, 0, 0, 0.3));\n",
              "      fill: #FFFFFF;\n",
              "    }\n",
              "  </style>\n",
              "\n",
              "      <script>\n",
              "        const buttonEl =\n",
              "          document.querySelector('#df-7c2ffea3-cce1-4d90-a61b-52be766c3193 button.colab-df-convert');\n",
              "        buttonEl.style.display =\n",
              "          google.colab.kernel.accessAllowed ? 'block' : 'none';\n",
              "\n",
              "        async function convertToInteractive(key) {\n",
              "          const element = document.querySelector('#df-7c2ffea3-cce1-4d90-a61b-52be766c3193');\n",
              "          const dataTable =\n",
              "            await google.colab.kernel.invokeFunction('convertToInteractive',\n",
              "                                                     [key], {});\n",
              "          if (!dataTable) return;\n",
              "\n",
              "          const docLinkHtml = 'Like what you see? Visit the ' +\n",
              "            '<a target=\"_blank\" href=https://colab.research.google.com/notebooks/data_table.ipynb>data table notebook</a>'\n",
              "            + ' to learn more about interactive tables.';\n",
              "          element.innerHTML = '';\n",
              "          dataTable['output_type'] = 'display_data';\n",
              "          await google.colab.output.renderOutput(dataTable, element);\n",
              "          const docLink = document.createElement('div');\n",
              "          docLink.innerHTML = docLinkHtml;\n",
              "          element.appendChild(docLink);\n",
              "        }\n",
              "      </script>\n",
              "    </div>\n",
              "  </div>\n",
              "  "
            ]
          },
          "metadata": {},
          "execution_count": 97
        }
      ]
    },
    {
      "cell_type": "markdown",
      "source": [
        "## Tahapan PCA"
      ],
      "metadata": {
        "id": "2WvMMtLfKyAR"
      }
    },
    {
      "cell_type": "markdown",
      "source": [
        "### Manual"
      ],
      "metadata": {
        "id": "h573fLF0_HmS"
      }
    },
    {
      "cell_type": "code",
      "source": [
        "# Membagi dataframe menjadi X (atribut) dan Y (target)\n",
        "X_manual = breast_cancer.drop(['diagnosis'], axis=1)\n",
        "Y_manual = breast_cancer['diagnosis']"
      ],
      "metadata": {
        "id": "3r3ku1dh_GzC"
      },
      "execution_count": null,
      "outputs": []
    },
    {
      "cell_type": "code",
      "source": [
        "# Import label encoder\n",
        "from sklearn import preprocessing\n",
        "label_encoder = preprocessing.LabelEncoder()\n",
        "  \n",
        "# Encode labels dalam label target Y\n",
        "Y_manual = label_encoder.fit_transform(Y_manual)"
      ],
      "metadata": {
        "id": "TnZROxoN_-LU"
      },
      "execution_count": null,
      "outputs": []
    },
    {
      "cell_type": "code",
      "source": [
        "# Melakukan scaling\n",
        "scaler = StandardScaler()\n",
        "scaler.fit(X_manual)"
      ],
      "metadata": {
        "colab": {
          "base_uri": "https://localhost:8080/",
          "height": 74
        },
        "id": "89eKDbGc__vH",
        "outputId": "558a3788-4bc4-45ca-8f00-1be36d7029fb"
      },
      "execution_count": null,
      "outputs": [
        {
          "output_type": "execute_result",
          "data": {
            "text/plain": [
              "StandardScaler()"
            ],
            "text/html": [
              "<style>#sk-container-id-4 {color: black;background-color: white;}#sk-container-id-4 pre{padding: 0;}#sk-container-id-4 div.sk-toggleable {background-color: white;}#sk-container-id-4 label.sk-toggleable__label {cursor: pointer;display: block;width: 100%;margin-bottom: 0;padding: 0.3em;box-sizing: border-box;text-align: center;}#sk-container-id-4 label.sk-toggleable__label-arrow:before {content: \"▸\";float: left;margin-right: 0.25em;color: #696969;}#sk-container-id-4 label.sk-toggleable__label-arrow:hover:before {color: black;}#sk-container-id-4 div.sk-estimator:hover label.sk-toggleable__label-arrow:before {color: black;}#sk-container-id-4 div.sk-toggleable__content {max-height: 0;max-width: 0;overflow: hidden;text-align: left;background-color: #f0f8ff;}#sk-container-id-4 div.sk-toggleable__content pre {margin: 0.2em;color: black;border-radius: 0.25em;background-color: #f0f8ff;}#sk-container-id-4 input.sk-toggleable__control:checked~div.sk-toggleable__content {max-height: 200px;max-width: 100%;overflow: auto;}#sk-container-id-4 input.sk-toggleable__control:checked~label.sk-toggleable__label-arrow:before {content: \"▾\";}#sk-container-id-4 div.sk-estimator input.sk-toggleable__control:checked~label.sk-toggleable__label {background-color: #d4ebff;}#sk-container-id-4 div.sk-label input.sk-toggleable__control:checked~label.sk-toggleable__label {background-color: #d4ebff;}#sk-container-id-4 input.sk-hidden--visually {border: 0;clip: rect(1px 1px 1px 1px);clip: rect(1px, 1px, 1px, 1px);height: 1px;margin: -1px;overflow: hidden;padding: 0;position: absolute;width: 1px;}#sk-container-id-4 div.sk-estimator {font-family: monospace;background-color: #f0f8ff;border: 1px dotted black;border-radius: 0.25em;box-sizing: border-box;margin-bottom: 0.5em;}#sk-container-id-4 div.sk-estimator:hover {background-color: #d4ebff;}#sk-container-id-4 div.sk-parallel-item::after {content: \"\";width: 100%;border-bottom: 1px solid gray;flex-grow: 1;}#sk-container-id-4 div.sk-label:hover label.sk-toggleable__label {background-color: #d4ebff;}#sk-container-id-4 div.sk-serial::before {content: \"\";position: absolute;border-left: 1px solid gray;box-sizing: border-box;top: 0;bottom: 0;left: 50%;z-index: 0;}#sk-container-id-4 div.sk-serial {display: flex;flex-direction: column;align-items: center;background-color: white;padding-right: 0.2em;padding-left: 0.2em;position: relative;}#sk-container-id-4 div.sk-item {position: relative;z-index: 1;}#sk-container-id-4 div.sk-parallel {display: flex;align-items: stretch;justify-content: center;background-color: white;position: relative;}#sk-container-id-4 div.sk-item::before, #sk-container-id-4 div.sk-parallel-item::before {content: \"\";position: absolute;border-left: 1px solid gray;box-sizing: border-box;top: 0;bottom: 0;left: 50%;z-index: -1;}#sk-container-id-4 div.sk-parallel-item {display: flex;flex-direction: column;z-index: 1;position: relative;background-color: white;}#sk-container-id-4 div.sk-parallel-item:first-child::after {align-self: flex-end;width: 50%;}#sk-container-id-4 div.sk-parallel-item:last-child::after {align-self: flex-start;width: 50%;}#sk-container-id-4 div.sk-parallel-item:only-child::after {width: 0;}#sk-container-id-4 div.sk-dashed-wrapped {border: 1px dashed gray;margin: 0 0.4em 0.5em 0.4em;box-sizing: border-box;padding-bottom: 0.4em;background-color: white;}#sk-container-id-4 div.sk-label label {font-family: monospace;font-weight: bold;display: inline-block;line-height: 1.2em;}#sk-container-id-4 div.sk-label-container {text-align: center;}#sk-container-id-4 div.sk-container {/* jupyter's `normalize.less` sets `[hidden] { display: none; }` but bootstrap.min.css set `[hidden] { display: none !important; }` so we also need the `!important` here to be able to override the default hidden behavior on the sphinx rendered scikit-learn.org. See: https://github.com/scikit-learn/scikit-learn/issues/21755 */display: inline-block !important;position: relative;}#sk-container-id-4 div.sk-text-repr-fallback {display: none;}</style><div id=\"sk-container-id-4\" class=\"sk-top-container\"><div class=\"sk-text-repr-fallback\"><pre>StandardScaler()</pre><b>In a Jupyter environment, please rerun this cell to show the HTML representation or trust the notebook. <br />On GitHub, the HTML representation is unable to render, please try loading this page with nbviewer.org.</b></div><div class=\"sk-container\" hidden><div class=\"sk-item\"><div class=\"sk-estimator sk-toggleable\"><input class=\"sk-toggleable__control sk-hidden--visually\" id=\"sk-estimator-id-4\" type=\"checkbox\" checked><label for=\"sk-estimator-id-4\" class=\"sk-toggleable__label sk-toggleable__label-arrow\">StandardScaler</label><div class=\"sk-toggleable__content\"><pre>StandardScaler()</pre></div></div></div></div></div>"
            ]
          },
          "metadata": {},
          "execution_count": 100
        }
      ]
    },
    {
      "cell_type": "code",
      "source": [
        "scaled_data = scaler.transform(X_manual)"
      ],
      "metadata": {
        "id": "Cc-VXTgxABM3"
      },
      "execution_count": null,
      "outputs": []
    },
    {
      "cell_type": "code",
      "source": [
        "# Covariance Matrix\n",
        "features = scaled_data.T\n",
        "cov_matrix = np.cov(features)"
      ],
      "metadata": {
        "id": "nW-0j1hcAPxW"
      },
      "execution_count": null,
      "outputs": []
    },
    {
      "cell_type": "code",
      "source": [
        "#Eigen decomposition\n",
        "values, vectors = np.linalg.eig(cov_matrix)\n",
        "\n",
        "print(values[:5])"
      ],
      "metadata": {
        "colab": {
          "base_uri": "https://localhost:8080/"
        },
        "id": "RVNyUSRuAeU6",
        "outputId": "0aed6606-dfc2-40ec-d4d6-7d840b3ed04d"
      },
      "execution_count": null,
      "outputs": [
        {
          "output_type": "stream",
          "name": "stdout",
          "text": [
            "[13.31145188  5.70683496  2.84038694  1.98484548  1.65171815]\n"
          ]
        }
      ]
    },
    {
      "cell_type": "code",
      "source": [
        "# Menampilkan nilai explained variance\n",
        "explained_variances = []\n",
        "for i in range(len(values)):\n",
        "    explained_variances.append(values[i] / np.sum(values) * 100)\n",
        " \n",
        "print(np.sum(explained_variances))\n",
        "print(explained_variances)"
      ],
      "metadata": {
        "colab": {
          "base_uri": "https://localhost:8080/"
        },
        "id": "nnY15nwJAnBy",
        "outputId": "fce17c58-bb75-498d-b9ea-27a148785156"
      },
      "execution_count": null,
      "outputs": [
        {
          "output_type": "stream",
          "name": "stdout",
          "text": [
            "100.0\n",
            "[42.86470133597766, 18.37679151062453, 9.146435639067088, 6.391474762638856, 5.318759048637677, 3.982815186491568, 3.1557201259887306, 2.166945059863522, 1.4864271859401237, 1.300429342784264, 1.126306373905724, 0.9480336565112111, 0.8424094348287942, 0.7784845624482283, 0.5063666103868494, 0.30364040582510565, 0.2574514469942777, 0.19047184598312064, 0.169649014757307, 0.15845783116043247, 0.10022833622885716, 0.09658453428849542, 0.08848556065535446, 0.07822265231410921, 0.05819148668742819, 0.04993461188706784, 0.02636031883889048, 0.022251944714196975, 0.0004291619563332686, 0.0024141163043263887, 0.005126895309868562]\n"
          ]
        }
      ]
    },
    {
      "cell_type": "markdown",
      "source": [
        "Berdasarkan hasil PCA yang kita lakukan secara manual, kita mendapatkan nilai explained variance untuk Principal Component 1, 2, ..., 31 yaitu 42.86, 18.38, dan seterusnya. Bisa kita perhatikan juga  bahwa untuk masing-masing principal component, semakin tinggi nilai eigen value maka semakin tinggi juga nilai explained variance."
      ],
      "metadata": {
        "id": "7L1HAF9WE9Il"
      }
    },
    {
      "cell_type": "markdown",
      "source": [
        "### Menggunakan library sklearn"
      ],
      "metadata": {
        "id": "-7pV7w0M_MOK"
      }
    },
    {
      "cell_type": "markdown",
      "source": [
        "Selain dilakukan secara manual, kita juga dapat memanfaatkan library yang sudah disediakan oleh sklearn untuk melakukan PCA. Berikut adalah langkah yang dilakukan:"
      ],
      "metadata": {
        "id": "NleXkaZkFW74"
      }
    },
    {
      "cell_type": "code",
      "source": [
        "# Membagi dataframe menjadi X (atribut) dan Y (target)\n",
        "X = breast_cancer.drop(['diagnosis'], axis=1)\n",
        "Y = breast_cancer['diagnosis']"
      ],
      "metadata": {
        "id": "1rfk44gO8hyg"
      },
      "execution_count": null,
      "outputs": []
    },
    {
      "cell_type": "code",
      "source": [
        "# Import label encoder\n",
        "from sklearn import preprocessing\n",
        "label_encoder = preprocessing.LabelEncoder()\n",
        "  \n",
        "# Encode labels dalam label target Y\n",
        "Y = label_encoder.fit_transform(Y)"
      ],
      "metadata": {
        "id": "erN3uot3fpsF"
      },
      "execution_count": null,
      "outputs": []
    },
    {
      "cell_type": "code",
      "source": [
        "# Melakukan scaling\n",
        "scaler = StandardScaler()\n",
        "scaler.fit(X)"
      ],
      "metadata": {
        "colab": {
          "base_uri": "https://localhost:8080/",
          "height": 74
        },
        "id": "Ajh8Z6CvUq8Q",
        "outputId": "714636c2-7534-492f-8fe1-e882b54ac825"
      },
      "execution_count": null,
      "outputs": [
        {
          "output_type": "execute_result",
          "data": {
            "text/plain": [
              "StandardScaler()"
            ],
            "text/html": [
              "<style>#sk-container-id-5 {color: black;background-color: white;}#sk-container-id-5 pre{padding: 0;}#sk-container-id-5 div.sk-toggleable {background-color: white;}#sk-container-id-5 label.sk-toggleable__label {cursor: pointer;display: block;width: 100%;margin-bottom: 0;padding: 0.3em;box-sizing: border-box;text-align: center;}#sk-container-id-5 label.sk-toggleable__label-arrow:before {content: \"▸\";float: left;margin-right: 0.25em;color: #696969;}#sk-container-id-5 label.sk-toggleable__label-arrow:hover:before {color: black;}#sk-container-id-5 div.sk-estimator:hover label.sk-toggleable__label-arrow:before {color: black;}#sk-container-id-5 div.sk-toggleable__content {max-height: 0;max-width: 0;overflow: hidden;text-align: left;background-color: #f0f8ff;}#sk-container-id-5 div.sk-toggleable__content pre {margin: 0.2em;color: black;border-radius: 0.25em;background-color: #f0f8ff;}#sk-container-id-5 input.sk-toggleable__control:checked~div.sk-toggleable__content {max-height: 200px;max-width: 100%;overflow: auto;}#sk-container-id-5 input.sk-toggleable__control:checked~label.sk-toggleable__label-arrow:before {content: \"▾\";}#sk-container-id-5 div.sk-estimator input.sk-toggleable__control:checked~label.sk-toggleable__label {background-color: #d4ebff;}#sk-container-id-5 div.sk-label input.sk-toggleable__control:checked~label.sk-toggleable__label {background-color: #d4ebff;}#sk-container-id-5 input.sk-hidden--visually {border: 0;clip: rect(1px 1px 1px 1px);clip: rect(1px, 1px, 1px, 1px);height: 1px;margin: -1px;overflow: hidden;padding: 0;position: absolute;width: 1px;}#sk-container-id-5 div.sk-estimator {font-family: monospace;background-color: #f0f8ff;border: 1px dotted black;border-radius: 0.25em;box-sizing: border-box;margin-bottom: 0.5em;}#sk-container-id-5 div.sk-estimator:hover {background-color: #d4ebff;}#sk-container-id-5 div.sk-parallel-item::after {content: \"\";width: 100%;border-bottom: 1px solid gray;flex-grow: 1;}#sk-container-id-5 div.sk-label:hover label.sk-toggleable__label {background-color: #d4ebff;}#sk-container-id-5 div.sk-serial::before {content: \"\";position: absolute;border-left: 1px solid gray;box-sizing: border-box;top: 0;bottom: 0;left: 50%;z-index: 0;}#sk-container-id-5 div.sk-serial {display: flex;flex-direction: column;align-items: center;background-color: white;padding-right: 0.2em;padding-left: 0.2em;position: relative;}#sk-container-id-5 div.sk-item {position: relative;z-index: 1;}#sk-container-id-5 div.sk-parallel {display: flex;align-items: stretch;justify-content: center;background-color: white;position: relative;}#sk-container-id-5 div.sk-item::before, #sk-container-id-5 div.sk-parallel-item::before {content: \"\";position: absolute;border-left: 1px solid gray;box-sizing: border-box;top: 0;bottom: 0;left: 50%;z-index: -1;}#sk-container-id-5 div.sk-parallel-item {display: flex;flex-direction: column;z-index: 1;position: relative;background-color: white;}#sk-container-id-5 div.sk-parallel-item:first-child::after {align-self: flex-end;width: 50%;}#sk-container-id-5 div.sk-parallel-item:last-child::after {align-self: flex-start;width: 50%;}#sk-container-id-5 div.sk-parallel-item:only-child::after {width: 0;}#sk-container-id-5 div.sk-dashed-wrapped {border: 1px dashed gray;margin: 0 0.4em 0.5em 0.4em;box-sizing: border-box;padding-bottom: 0.4em;background-color: white;}#sk-container-id-5 div.sk-label label {font-family: monospace;font-weight: bold;display: inline-block;line-height: 1.2em;}#sk-container-id-5 div.sk-label-container {text-align: center;}#sk-container-id-5 div.sk-container {/* jupyter's `normalize.less` sets `[hidden] { display: none; }` but bootstrap.min.css set `[hidden] { display: none !important; }` so we also need the `!important` here to be able to override the default hidden behavior on the sphinx rendered scikit-learn.org. See: https://github.com/scikit-learn/scikit-learn/issues/21755 */display: inline-block !important;position: relative;}#sk-container-id-5 div.sk-text-repr-fallback {display: none;}</style><div id=\"sk-container-id-5\" class=\"sk-top-container\"><div class=\"sk-text-repr-fallback\"><pre>StandardScaler()</pre><b>In a Jupyter environment, please rerun this cell to show the HTML representation or trust the notebook. <br />On GitHub, the HTML representation is unable to render, please try loading this page with nbviewer.org.</b></div><div class=\"sk-container\" hidden><div class=\"sk-item\"><div class=\"sk-estimator sk-toggleable\"><input class=\"sk-toggleable__control sk-hidden--visually\" id=\"sk-estimator-id-5\" type=\"checkbox\" checked><label for=\"sk-estimator-id-5\" class=\"sk-toggleable__label sk-toggleable__label-arrow\">StandardScaler</label><div class=\"sk-toggleable__content\"><pre>StandardScaler()</pre></div></div></div></div></div>"
            ]
          },
          "metadata": {},
          "execution_count": 107
        }
      ]
    },
    {
      "cell_type": "code",
      "source": [
        "scaled_data = scaler.transform(X)"
      ],
      "metadata": {
        "id": "i5YHzwZ3UxhY"
      },
      "execution_count": null,
      "outputs": []
    },
    {
      "cell_type": "code",
      "source": [
        "# Import modul PCA\n",
        "from sklearn.decomposition import PCA \n",
        "\n",
        "# initialize PCA\n",
        "pca = PCA()  "
      ],
      "metadata": {
        "id": "P3zgjQEUKxMd"
      },
      "execution_count": null,
      "outputs": []
    },
    {
      "cell_type": "code",
      "source": [
        "# Fit the model with \"scaled_data\".\n",
        "pca.fit(scaled_data)"
      ],
      "metadata": {
        "colab": {
          "base_uri": "https://localhost:8080/",
          "height": 74
        },
        "id": "6XJNaIcfUzXx",
        "outputId": "adcae1e3-9387-4714-f2ff-b575b4fc6dec"
      },
      "execution_count": null,
      "outputs": [
        {
          "output_type": "execute_result",
          "data": {
            "text/plain": [
              "PCA()"
            ],
            "text/html": [
              "<style>#sk-container-id-6 {color: black;background-color: white;}#sk-container-id-6 pre{padding: 0;}#sk-container-id-6 div.sk-toggleable {background-color: white;}#sk-container-id-6 label.sk-toggleable__label {cursor: pointer;display: block;width: 100%;margin-bottom: 0;padding: 0.3em;box-sizing: border-box;text-align: center;}#sk-container-id-6 label.sk-toggleable__label-arrow:before {content: \"▸\";float: left;margin-right: 0.25em;color: #696969;}#sk-container-id-6 label.sk-toggleable__label-arrow:hover:before {color: black;}#sk-container-id-6 div.sk-estimator:hover label.sk-toggleable__label-arrow:before {color: black;}#sk-container-id-6 div.sk-toggleable__content {max-height: 0;max-width: 0;overflow: hidden;text-align: left;background-color: #f0f8ff;}#sk-container-id-6 div.sk-toggleable__content pre {margin: 0.2em;color: black;border-radius: 0.25em;background-color: #f0f8ff;}#sk-container-id-6 input.sk-toggleable__control:checked~div.sk-toggleable__content {max-height: 200px;max-width: 100%;overflow: auto;}#sk-container-id-6 input.sk-toggleable__control:checked~label.sk-toggleable__label-arrow:before {content: \"▾\";}#sk-container-id-6 div.sk-estimator input.sk-toggleable__control:checked~label.sk-toggleable__label {background-color: #d4ebff;}#sk-container-id-6 div.sk-label input.sk-toggleable__control:checked~label.sk-toggleable__label {background-color: #d4ebff;}#sk-container-id-6 input.sk-hidden--visually {border: 0;clip: rect(1px 1px 1px 1px);clip: rect(1px, 1px, 1px, 1px);height: 1px;margin: -1px;overflow: hidden;padding: 0;position: absolute;width: 1px;}#sk-container-id-6 div.sk-estimator {font-family: monospace;background-color: #f0f8ff;border: 1px dotted black;border-radius: 0.25em;box-sizing: border-box;margin-bottom: 0.5em;}#sk-container-id-6 div.sk-estimator:hover {background-color: #d4ebff;}#sk-container-id-6 div.sk-parallel-item::after {content: \"\";width: 100%;border-bottom: 1px solid gray;flex-grow: 1;}#sk-container-id-6 div.sk-label:hover label.sk-toggleable__label {background-color: #d4ebff;}#sk-container-id-6 div.sk-serial::before {content: \"\";position: absolute;border-left: 1px solid gray;box-sizing: border-box;top: 0;bottom: 0;left: 50%;z-index: 0;}#sk-container-id-6 div.sk-serial {display: flex;flex-direction: column;align-items: center;background-color: white;padding-right: 0.2em;padding-left: 0.2em;position: relative;}#sk-container-id-6 div.sk-item {position: relative;z-index: 1;}#sk-container-id-6 div.sk-parallel {display: flex;align-items: stretch;justify-content: center;background-color: white;position: relative;}#sk-container-id-6 div.sk-item::before, #sk-container-id-6 div.sk-parallel-item::before {content: \"\";position: absolute;border-left: 1px solid gray;box-sizing: border-box;top: 0;bottom: 0;left: 50%;z-index: -1;}#sk-container-id-6 div.sk-parallel-item {display: flex;flex-direction: column;z-index: 1;position: relative;background-color: white;}#sk-container-id-6 div.sk-parallel-item:first-child::after {align-self: flex-end;width: 50%;}#sk-container-id-6 div.sk-parallel-item:last-child::after {align-self: flex-start;width: 50%;}#sk-container-id-6 div.sk-parallel-item:only-child::after {width: 0;}#sk-container-id-6 div.sk-dashed-wrapped {border: 1px dashed gray;margin: 0 0.4em 0.5em 0.4em;box-sizing: border-box;padding-bottom: 0.4em;background-color: white;}#sk-container-id-6 div.sk-label label {font-family: monospace;font-weight: bold;display: inline-block;line-height: 1.2em;}#sk-container-id-6 div.sk-label-container {text-align: center;}#sk-container-id-6 div.sk-container {/* jupyter's `normalize.less` sets `[hidden] { display: none; }` but bootstrap.min.css set `[hidden] { display: none !important; }` so we also need the `!important` here to be able to override the default hidden behavior on the sphinx rendered scikit-learn.org. See: https://github.com/scikit-learn/scikit-learn/issues/21755 */display: inline-block !important;position: relative;}#sk-container-id-6 div.sk-text-repr-fallback {display: none;}</style><div id=\"sk-container-id-6\" class=\"sk-top-container\"><div class=\"sk-text-repr-fallback\"><pre>PCA()</pre><b>In a Jupyter environment, please rerun this cell to show the HTML representation or trust the notebook. <br />On GitHub, the HTML representation is unable to render, please try loading this page with nbviewer.org.</b></div><div class=\"sk-container\" hidden><div class=\"sk-item\"><div class=\"sk-estimator sk-toggleable\"><input class=\"sk-toggleable__control sk-hidden--visually\" id=\"sk-estimator-id-6\" type=\"checkbox\" checked><label for=\"sk-estimator-id-6\" class=\"sk-toggleable__label sk-toggleable__label-arrow\">PCA</label><div class=\"sk-toggleable__content\"><pre>PCA()</pre></div></div></div></div></div>"
            ]
          },
          "metadata": {},
          "execution_count": 110
        }
      ]
    },
    {
      "cell_type": "code",
      "source": [
        "# Transformasi PCA\n",
        "trans_pca = pca.transform(scaled_data)"
      ],
      "metadata": {
        "id": "AWYr1AyJU5Bx"
      },
      "execution_count": null,
      "outputs": []
    },
    {
      "cell_type": "code",
      "source": [
        "# Melakukan pengecekan shape\n",
        "trans_pca.shape"
      ],
      "metadata": {
        "colab": {
          "base_uri": "https://localhost:8080/"
        },
        "id": "_4gidKaJU5uQ",
        "outputId": "2caab9f7-1122-478f-a218-3d62676e888e"
      },
      "execution_count": null,
      "outputs": [
        {
          "output_type": "execute_result",
          "data": {
            "text/plain": [
              "(569, 31)"
            ]
          },
          "metadata": {},
          "execution_count": 112
        }
      ]
    },
    {
      "cell_type": "code",
      "source": [
        "# Menampilkan nilai explained variants\n",
        "explained_variants = pca.explained_variance_ratio_\n",
        "explained_variants"
      ],
      "metadata": {
        "colab": {
          "base_uri": "https://localhost:8080/"
        },
        "id": "vJbPAaF9lolp",
        "outputId": "eb6610a9-0e29-4f40-af04-e7c87c8321bb"
      },
      "execution_count": null,
      "outputs": [
        {
          "output_type": "execute_result",
          "data": {
            "text/plain": [
              "array([4.28647013e-01, 1.83767915e-01, 9.14643564e-02, 6.39147476e-02,\n",
              "       5.31875905e-02, 3.98281519e-02, 3.15572013e-02, 2.16694506e-02,\n",
              "       1.48642719e-02, 1.30042934e-02, 1.12630637e-02, 9.48033657e-03,\n",
              "       8.42409435e-03, 7.78484562e-03, 5.06366610e-03, 3.03640406e-03,\n",
              "       2.57451447e-03, 1.90471846e-03, 1.69649015e-03, 1.58457831e-03,\n",
              "       1.00228336e-03, 9.65845343e-04, 8.84855607e-04, 7.82226523e-04,\n",
              "       5.81914867e-04, 4.99346119e-04, 2.63603188e-04, 2.22519447e-04,\n",
              "       5.12689531e-05, 2.41411630e-05, 4.29161956e-06])"
            ]
          },
          "metadata": {},
          "execution_count": 113
        }
      ]
    },
    {
      "cell_type": "markdown",
      "source": [
        "Dapat kita perhatikan bahwa nilai explained variance menggunakan library sklearn ataupun menggunakan PCA secara manual sama saja."
      ],
      "metadata": {
        "id": "EJ5kRWm1Fklg"
      }
    },
    {
      "cell_type": "code",
      "source": [
        "# Menampilkan nilai cumulative explained variants\n",
        "np.cumsum(pca.explained_variance_ratio_ * 100)"
      ],
      "metadata": {
        "colab": {
          "base_uri": "https://localhost:8080/"
        },
        "id": "_oiMahshZ7Ss",
        "outputId": "9f4b4ee2-8d53-4238-fa84-a613f3ab216f"
      },
      "execution_count": null,
      "outputs": [
        {
          "output_type": "execute_result",
          "data": {
            "text/plain": [
              "array([ 42.86470134,  61.24149285,  70.38792849,  76.77940325,\n",
              "        82.0981623 ,  86.08097748,  89.23669761,  91.40364267,\n",
              "        92.89006986,  94.1904992 ,  95.31680557,  96.26483923,\n",
              "        97.10724866,  97.88573323,  98.39209984,  98.69574024,\n",
              "        98.95319169,  99.14366353,  99.31331255,  99.47177038,\n",
              "        99.57199872,  99.66858325,  99.75706881,  99.83529146,\n",
              "        99.89348295,  99.94341756,  99.96977788,  99.99202983,\n",
              "        99.99715672,  99.99957084, 100.        ])"
            ]
          },
          "metadata": {},
          "execution_count": 114
        }
      ]
    },
    {
      "cell_type": "code",
      "source": [
        "plt.plot(np.cumsum(pca.explained_variance_ratio_))\n",
        "plt.xlabel(\"Number of components\")\n",
        "plt.ylabel(\"Explained vairance\")"
      ],
      "metadata": {
        "colab": {
          "base_uri": "https://localhost:8080/",
          "height": 296
        },
        "id": "zm89oKq8aUfS",
        "outputId": "3279d5d7-8d76-4fd6-e356-7e82be999417"
      },
      "execution_count": null,
      "outputs": [
        {
          "output_type": "execute_result",
          "data": {
            "text/plain": [
              "Text(0, 0.5, 'Explained vairance')"
            ]
          },
          "metadata": {},
          "execution_count": 115
        },
        {
          "output_type": "display_data",
          "data": {
            "text/plain": [
              "<Figure size 432x288 with 1 Axes>"
            ],
            "image/png": "[encoded data removed]"
          },
          "metadata": {
            "needs_background": "light"
          }
        }
      ]
    },
    {
      "cell_type": "markdown",
      "source": [
        "Berdasarkan operasi di atas, kita dapat melihat bahwa nilai explained variance sebanyak 95% atau 95% dari variansi data sudah bisa kita dapatkan hanya dengan menggunakan 11 principal components (11 dari 31 atribut). Selanjutnya mari kita visualisasikan data sebelum dan sesudah dilakukan PCA"
      ],
      "metadata": {
        "id": "OymR09CwlkeP"
      }
    },
    {
      "cell_type": "code",
      "source": [
        "from numpy.random import rand\n",
        "\n",
        "# Melakukan invers PCA 2 atribut\n",
        "def inverse_pca(pca_data, pca, remove_n):\n",
        "    transformed = pca_data.copy()\n",
        "    transformed[:, -remove_n:] = 0 \n",
        "    return pca.inverse_transform(transformed)\n",
        "\n",
        "LL = inverse_pca(trans_pca, pca, 21)"
      ],
      "metadata": {
        "id": "RfyPscc5VGkw"
      },
      "execution_count": null,
      "outputs": []
    },
    {
      "cell_type": "code",
      "source": [
        "fig, axes = plt.subplots(1,2)\n",
        "axes[0].scatter(scaled_data[:,0],scaled_data[:,1],c=Y, cmap='plasma')\n",
        "axes[0].set_xlabel('x1')\n",
        "axes[0].set_ylabel('x2')\n",
        "axes[0].set_title('Before PCA')\n",
        "axes[1].scatter(LL[:,0],LL[:,1],c=Y, cmap='plasma')\n",
        "axes[1].set_xlabel('PC1')\n",
        "axes[1].set_ylabel('PC2')\n",
        "axes[1].set_title('After PCA')\n",
        "plt.show()"
      ],
      "metadata": {
        "colab": {
          "base_uri": "https://localhost:8080/",
          "height": 295
        },
        "id": "sZo34s08ogWL",
        "outputId": "0c33f4c0-4ac9-4942-a910-9838db450258"
      },
      "execution_count": null,
      "outputs": [
        {
          "output_type": "display_data",
          "data": {
            "text/plain": [
              "<Figure size 432x288 with 2 Axes>"
            ],
            "image/png": "[encoded data removed]"
          },
          "metadata": {
            "needs_background": "light"
          }
        }
      ]
    },
    {
      "cell_type": "markdown",
      "source": [
        "Kita dapat melihat bahwa perbandingan visualisasi data menggunakan atribut asli dengan visualisasi menggunakan PC1 (Principal Component 1) dan PC2 (Principal Component 2) menunjukkan visualisasi scatter plot yang cukup mirip. Hal ini karena PC1 dan PC2 \"menangkap\" variasi terbesar dari dataset "
      ],
      "metadata": {
        "id": "vBPxSEvsso2b"
      }
    },
    {
      "cell_type": "code",
      "source": [
        "fig, axes = plt.subplots(1,2)\n",
        "axes[0].scatter(scaled_data[:,2],scaled_data[:,3],c=Y, cmap='plasma')\n",
        "axes[0].set_xlabel('x3')\n",
        "axes[0].set_ylabel('x4')\n",
        "axes[0].set_title('Before PCA')\n",
        "axes[1].scatter(LL[:,2],LL[:,3],c=Y, cmap='plasma')\n",
        "axes[1].set_xlabel('PC3')\n",
        "axes[1].set_ylabel('PC4')\n",
        "axes[1].set_title('After PCA')\n",
        "plt.show()"
      ],
      "metadata": {
        "colab": {
          "base_uri": "https://localhost:8080/",
          "height": 295
        },
        "id": "hysJneZFr2Lg",
        "outputId": "a87e0cca-fe98-412d-b31a-cac33210eefe"
      },
      "execution_count": null,
      "outputs": [
        {
          "output_type": "display_data",
          "data": {
            "text/plain": [
              "<Figure size 432x288 with 2 Axes>"
            ],
            "image/png": "[encoded data removed]"
          },
          "metadata": {
            "needs_background": "light"
          }
        }
      ]
    },
    {
      "cell_type": "markdown",
      "source": [
        "Sementara itu, ketika kita membandingkan visualisasi data asli dengan PC3 dan PC4, kita dapat melihat bahwa ada perbedaan yang lebih besar, misalnya kita lihat bentuk scatter plot untuk kelompok berwarna biru lebih menyebar pada visualisasi \"After PCA\" dibandingkan \"Before PCA\". Hal ini karena variasi data pada PC3 dan PC4 lebih kecil dibandingkan PC1 dan PC2"
      ],
      "metadata": {
        "id": "Iemklbdrs94J"
      }
    },
    {
      "cell_type": "markdown",
      "source": [
        "Selain menggunakan grafik dua dimensi (2D), kita juga dapat melakukan visualisasi PCA menggunakan grafik tiga dimensi (3D). Contohnya adalah sebagai berikut:"
      ],
      "metadata": {
        "id": "ZlgBawgqtagb"
      }
    },
    {
      "cell_type": "code",
      "source": [
        "fig = plt.figure(figsize = (10, 7))\n",
        "ax = plt.axes(projection =\"3d\")\n",
        "ax.scatter(scaled_data[:,0],scaled_data[:,1], scaled_data[:,2], c=Y, cmap='plasma')\n",
        "plt.title(\"3D scatter plot Before PCA\")\n",
        "plt.show()"
      ],
      "metadata": {
        "colab": {
          "base_uri": "https://localhost:8080/",
          "height": 427
        },
        "id": "1FuJ-aF_tNlk",
        "outputId": "262525bf-0796-4345-e9f8-6b1aac6a075e"
      },
      "execution_count": null,
      "outputs": [
        {
          "output_type": "display_data",
          "data": {
            "text/plain": [
              "<Figure size 720x504 with 1 Axes>"
            ],
            "image/png": "[encoded data removed]"
          },
          "metadata": {
            "needs_background": "light"
          }
        }
      ]
    },
    {
      "cell_type": "code",
      "source": [
        "fig = plt.figure(figsize = (10, 7))\n",
        "ax = plt.axes(projection =\"3d\")\n",
        "ax.scatter(LL[:,0],LL[:,1], LL[:,2], c=Y, cmap='plasma')\n",
        "plt.title(\"3D scatter plot After PCA\")\n",
        "plt.show()"
      ],
      "metadata": {
        "colab": {
          "base_uri": "https://localhost:8080/",
          "height": 427
        },
        "id": "x8v4RAAzuVV3",
        "outputId": "6049c641-317a-466d-94e2-9d5d468a9e0d"
      },
      "execution_count": null,
      "outputs": [
        {
          "output_type": "display_data",
          "data": {
            "text/plain": [
              "<Figure size 720x504 with 1 Axes>"
            ],
            "image/png": "[encoded data removed]"
          },
          "metadata": {
            "needs_background": "light"
          }
        }
      ]
    },
    {
      "cell_type": "markdown",
      "source": [
        "Pada visualisasi di atas, kita melihat proyeksi tiga dimensi untuk scatter plot sebelum PCA (menggunakan data asli) dan setelah PCA (menggunakan PC1, PC2, PC3). Dapat kita lihat bahwa persebaran datanya mirip, namun masih terdapat beberapa perbedaan di antara keduanya, hal ini karena tiga principal component yang kita pilih tidak menangkap 100% variasi dataset. "
      ],
      "metadata": {
        "id": "WrygE0hKo89l"
      }
    },
    {
      "cell_type": "markdown",
      "source": [
        "## Refleksi"
      ],
      "metadata": {
        "id": "8bncuP_0qjaL"
      }
    },
    {
      "cell_type": "markdown",
      "source": [
        "**Soal 7** : Mengapa di dalam PCA dilakukan scaling? \n",
        "\n",
        "> karena agar tidak terjadi bias pada saat dilakukan perbandingan variance pada saat proses PCA. sehingga, semua fitur akan memiliki bobot yang sama dan menghindari bias/kecenderungan untuk memiliki tendensi pada fitur dengan range nilai yg besar"
      ],
      "metadata": {
        "id": "Lxo9y4GZi531"
      }
    },
    {
      "cell_type": "markdown",
      "source": [
        "**Soal 8** : Berdasarkan contoh implementasi PCA diatas, jelaskan secara ringkas tiap step yang dilakukan\n",
        "\n",
        "> step\n",
        "1. membagi atribut sebagai predictor dan target\n",
        "2. melakukan scaling pada predictor dan label encoder pada target\n",
        "3. menghitung matrix covariance dari predictor\n",
        "4. mendapatkan eigen value dan eigen vector dari matrix covariance di poin (3)\n",
        "5. mengurutkan eigen value dan eigen vector untuk menentukan komponen utama\n",
        "6. membuat vektor baru (hasil transformasi) berdasarkan komponen utama yang dipilih"
      ],
      "metadata": {
        "id": "uJNK6e9NqluA"
      }
    },
    {
      "cell_type": "markdown",
      "source": [
        "**Soal 9** : Menurut Anda, kapan PCA perlu dilakukan?\n",
        "> PCA dilakukan jika data training memiliki jumlah data yang banyak disertai dengan jumlah fitur yang sangat banyak. PCA dilakukan dengan tujuan untuk mengurangi dimensi fitur data training agar proses training model bisa menjadi lebih cepat dan efisien."
      ],
      "metadata": {
        "id": "0KaVUExJq5Dv"
      }
    }
  ]
}